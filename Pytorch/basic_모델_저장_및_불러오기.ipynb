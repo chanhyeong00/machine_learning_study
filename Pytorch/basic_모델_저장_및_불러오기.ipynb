{
  "nbformat": 4,
  "nbformat_minor": 0,
  "metadata": {
    "colab": {
      "provenance": [],
      "authorship_tag": "ABX9TyPWDPcBoPziNy8oQW810HXm",
      "include_colab_link": true
    },
    "kernelspec": {
      "name": "python3",
      "display_name": "Python 3"
    },
    "language_info": {
      "name": "python"
    }
  },
  "cells": [
    {
      "cell_type": "markdown",
      "metadata": {
        "id": "view-in-github",
        "colab_type": "text"
      },
      "source": [
        "<a href=\"https://colab.research.google.com/github/chanhyeong00/machine_learning_study/blob/main/Pytorch/basic_%EB%AA%A8%EB%8D%B8_%EC%A0%80%EC%9E%A5_%EB%B0%8F_%EB%B6%88%EB%9F%AC%EC%98%A4%EA%B8%B0.ipynb\" target=\"_parent\"><img src=\"https://colab.research.google.com/assets/colab-badge.svg\" alt=\"Open In Colab\"/></a>"
      ]
    },
    {
      "cell_type": "markdown",
      "source": [
        "파이토치의 모델은 직렬화(Serialize)와 역직렬화(Deserialize)를 통해 객체를 저장하고 불러올 수 있다.\n",
        "\n",
        "- 모델을 저장하려면 피클(Pickle)을 활용해 파이썬 객체 구조를 바이너리 프로토콜(Binary Protocols)로 직렬화한다. 모델에 사용된 텐서나 매개변수 저장\n",
        "\n",
        "- 모델을 불러오려면 저장된 객체 파일을 역직렬화해 현재 프로세스의 메모리에 업로드한다. 이를 통해 모델을 통해 계산된 텐서나 매개변수를 불러올 수 있다.\n",
        "\n",
        "모델 파일 확장자는 주로 .pt 나 .pth로 저장.(텐서플로는 .tflite)"
      ],
      "metadata": {
        "id": "13gOvJ4fJyep"
      }
    },
    {
      "cell_type": "markdown",
      "source": [
        "### 모델 전체 저장/불러오기\n",
        "\n",
        "이거도 데이터셋 없어서 코드만"
      ],
      "metadata": {
        "id": "GEttw2oKKcgv"
      }
    },
    {
      "cell_type": "code",
      "execution_count": 1,
      "metadata": {
        "id": "W3Y0ScRPJVF5"
      },
      "outputs": [],
      "source": [
        "import torch\n",
        "from torch import nn\n",
        "\n",
        "class CustomModel(nn.Module):\n",
        "  def __init__(self):\n",
        "    super.__init__()\n",
        "    self.layer = nn.Linear(2, 1)\n",
        "\n",
        "  def forward(self, x):\n",
        "    x = self.layer(x)\n",
        "    return x"
      ]
    },
    {
      "cell_type": "markdown",
      "source": [
        "앞의 장에서 모델을 만들어 훈련했다고 생각하고 코드를 본다."
      ],
      "metadata": {
        "id": "CqDQ3ZGfLmF-"
      }
    },
    {
      "cell_type": "code",
      "source": [
        "# 모델 저장\n",
        "torch.save(\n",
        "    model,\n",
        "    \"../models/model.pt\"\n",
        ")\n",
        "torch.save(\n",
        "    model.state_dict(),\n",
        "    \"../models/model_state_dict.pt\"\n",
        ") # 특정 시점 모델 상태"
      ],
      "metadata": {
        "id": "5AiJm_f3LZQk"
      },
      "execution_count": null,
      "outputs": []
    },
    {
      "cell_type": "code",
      "source": [
        "device = \"cuda\" if torch.cuda.is_available() else \"cpu\"\n",
        "model = torch.load(\"../models/model.pt\", map_location=device) # 모델을 불러온다.\n",
        "print(model)"
      ],
      "metadata": {
        "id": "2fBxeQ4LK83y"
      },
      "execution_count": null,
      "outputs": []
    },
    {
      "cell_type": "code",
      "source": [
        "with torch.no_grad(): # 불러온 모델 평가(no_grad는 기울기 계산을 하지 않음, 메모리 아낌)\n",
        "    model.eval()\n",
        "    inputs = torch.FloatTensor(\n",
        "        [\n",
        "            [1 ** 2, 1],\n",
        "            [5 ** 2, 5],\n",
        "            [11 ** 2, 11]\n",
        "        ]\n",
        "    ).to(device)\n",
        "    outputs = model(inputs)\n",
        "    print(outputs)"
      ],
      "metadata": {
        "id": "8D_2GPmbK9-x"
      },
      "execution_count": null,
      "outputs": []
    },
    {
      "cell_type": "markdown",
      "source": [
        "### 모델 구조 확인"
      ],
      "metadata": {
        "id": "UQ7YeJl_L6Lk"
      }
    },
    {
      "cell_type": "code",
      "source": [
        "import torch\n",
        "from torch import nn\n",
        "\n",
        "\n",
        "class CustomModel(nn.Module):\n",
        "    pass\n",
        "device = \"cuda\" if torch.cuda.is_available() else \"cpu\"\n",
        "model = torch.load(\"../models/model.pt\", map_location=device)\n",
        "print(model)"
      ],
      "metadata": {
        "id": "A_FvRoDmLB6L"
      },
      "execution_count": null,
      "outputs": []
    },
    {
      "cell_type": "markdown",
      "source": [
        "### 모델 상태 저장/불러오기"
      ],
      "metadata": {
        "id": "ToF1ZiWOMBWT"
      }
    },
    {
      "cell_type": "code",
      "source": [
        "torch.save(\n",
        "    model.state_dict(),\n",
        "    \"../models/model_state_dict.pt\"\n",
        ")"
      ],
      "metadata": {
        "id": "t3unA8QjMDHj"
      },
      "execution_count": null,
      "outputs": []
    },
    {
      "cell_type": "markdown",
      "source": [
        "모델상태(torch.stacte_dict)는 모델에서 학습이 가능한 매개변수를 순서가 있는 딕셔너리 형식으로 반환한다.\n",
        "\n",
        "OrderDict([\n",
        "\n",
        "- layer.weight, tensor([[..]]), device='cuda:0'\n",
        "- layer.bias, tensor([[..]]), device='cuda:0'\n",
        "\n",
        "])"
      ],
      "metadata": {
        "id": "td9FXiKCMYA9"
      }
    },
    {
      "cell_type": "markdown",
      "source": [
        "### 모델 상태 불러오기"
      ],
      "metadata": {
        "id": "EhhLHWpRM8Af"
      }
    },
    {
      "cell_type": "markdown",
      "source": [
        "모델 구조가 같아야 한다."
      ],
      "metadata": {
        "id": "imm-p2FONdtL"
      }
    },
    {
      "cell_type": "code",
      "source": [
        "device = \"cuda\" if torch.cuda.is_available() else \"cpu\"\n",
        "model = CustomModel().to(device)\n",
        "\n",
        "# torch.load로 상태 불러옴\n",
        "model_state_dict = torch.load(\"../models/model_state_dict.pt\", map_location=device)\n",
        "# 모델 상태만 불러온 상태이므로 model.load_state_dict로 모델에 모델 상태 반영\n",
        "model.load_state_dict(model_state_dict)"
      ],
      "metadata": {
        "id": "oMyS-avRMmRe"
      },
      "execution_count": null,
      "outputs": []
    },
    {
      "cell_type": "markdown",
      "source": [
        "### 체크포인트 저장"
      ],
      "metadata": {
        "id": "TnCKXZI_NkVa"
      }
    },
    {
      "cell_type": "markdown",
      "source": [
        "체크포인트(Checkpoint)는 학습 과정의 특정 지점마다 저장하는 것을 의미.\n",
        "\n",
        "학습과정에서 한 번에 전체 에폭을 반복하기 어렵거나 모종의 이유로 학습이 중단될 수 있다.\n",
        "\n",
        "이러한 현상을 방지하기 위해 일정 에폭마다 학습된 결과를 저장해 나중에 이어서 학습하게 할 수 있다."
      ],
      "metadata": {
        "id": "aF-hBDXuNoAB"
      }
    },
    {
      "cell_type": "code",
      "source": [
        "import torch\n",
        "import pandas as pd\n",
        "from torch import nn\n",
        "from torch import optim\n",
        "from torch.utils.data import Dataset, DataLoader\n",
        "\n",
        "\n",
        "class CustomDataset(Dataset):\n",
        "    def __init__(self, file_path):\n",
        "        df = pd.read_csv(file_path)\n",
        "        self.x = df.iloc[:, 0].values\n",
        "        self.y = df.iloc[:, 1].values\n",
        "        self.length = len(df)\n",
        "\n",
        "    def __getitem__(self, index):\n",
        "        x = torch.FloatTensor([self.x[index] ** 2, self.x[index]])\n",
        "        y = torch.FloatTensor([self.y[index]])\n",
        "        return x, y\n",
        "\n",
        "    def __len__(self):\n",
        "        return self.length\n",
        "\n",
        "class CustomModel(nn.Module):\n",
        "    def __init__(self):\n",
        "        super().__init__()\n",
        "        self.layer = nn.Linear(2, 1)\n",
        "\n",
        "    def forward(self, x):\n",
        "        x = self.layer(x)\n",
        "        return x\n",
        "train_dataset = CustomDataset(\"../datasets/non_linear.csv\")\n",
        "train_dataloader = DataLoader(train_dataset, batch_size=128, shuffle=True, drop_last=True)\n",
        "\n",
        "device = \"cuda\" if torch.cuda.is_available() else \"cpu\"\n",
        "model = CustomModel().to(device)\n",
        "criterion = nn.MSELoss().to(device)\n",
        "optimizer = optim.SGD(model.parameters(), lr=0.0001)"
      ],
      "metadata": {
        "id": "YN1zynu7ODyr"
      },
      "execution_count": null,
      "outputs": []
    },
    {
      "cell_type": "markdown",
      "source": [
        "**여기가 체크포인트 저장하는 코드**"
      ],
      "metadata": {
        "id": "AUT3xHQAOKOu"
      }
    },
    {
      "cell_type": "code",
      "source": [
        "checkpoint = 1\n",
        "for epoch in range(10000):\n",
        "    cost = 0.0\n",
        "\n",
        "    for x, y in train_dataloader:\n",
        "        x = x.to(device)\n",
        "        y = y.to(device)\n",
        "\n",
        "        output = model(x)\n",
        "        loss = criterion(output, y)\n",
        "\n",
        "        optimizer.zero_grad()\n",
        "        loss.backward()\n",
        "        optimizer.step()\n",
        "\n",
        "        cost += loss\n",
        "\n",
        "    cost = cost / len(train_dataloader)\n",
        "\n",
        "    # 1000에폭마다 저장\n",
        "    if (epoch + 1) % 1000 == 0:\n",
        "        torch.save(\n",
        "            {\n",
        "                \"model\": \"CustomModel\",\n",
        "                \"epoch\": epoch,\n",
        "                \"model_state_dict\": model.state_dict(),\n",
        "                \"optimizer_state_dict\": optimizer.state_dict(),\n",
        "                \"cost\": cost,\n",
        "                \"description\": f\"CustomModel 체크포인트-{checkpoint}\",\n",
        "            },\n",
        "            f\"../models/checkpoint-{checkpoint}.pt\",\n",
        "        )\n",
        "        checkpoint += 1"
      ],
      "metadata": {
        "id": "-MHmPfuVNlv0"
      },
      "execution_count": null,
      "outputs": []
    },
    {
      "cell_type": "markdown",
      "source": [
        "다양한 정보를 저장하기 위해서 딕셔너리 형식으로 값을 할당한다.\n",
        "\n",
        "- 학습을 이어서 진행하기 위한 목적이므로 epochs, 모델 상태(model.state_dict), 최적화상태(optimizer.state_dict) 등은 필수로 포함돼야 한다."
      ],
      "metadata": {
        "id": "kGSVnpmyOV-_"
      }
    },
    {
      "cell_type": "markdown",
      "source": [
        "### 체크포인트 불러오기\n"
      ],
      "metadata": {
        "id": "0_zKcXKNRSpd"
      }
    },
    {
      "cell_type": "code",
      "source": [
        "device = \"cuda\" if torch.cuda.is_available() else \"cpu\"\n",
        "model = CustomModel().to(device) # 모델 장치에 올리고\n",
        "criterion = nn.MSELoss().to(device) # 손실함수도 올리고\n",
        "optimizer = optim.SGD(model.parameters(), lr=0.0001) # 옵티마이저 생성\n",
        "checkpoint = torch.load(\"../models/checkpoint-6.pt\") # 체크포인트 불러오기\n",
        "model.load_state_dict(checkpoint[\"model_state_dict\"]) # 모델에 그 체크포인트 상태 반영\n",
        "optimizer.load_state_dict(checkpoint[\"optimizer_state_dict\"]) # 옵티마이저에 상태 반영\n",
        "checkpoint_epoch = checkpoint[\"epoch\"] # 몇 에폭인지 불러옴\n",
        "checkpoint_description = checkpoint[\"description\"] # 몇 번쨰 체크포인트인지\n",
        "\n",
        "\n",
        "print(checkpoint_description) # 몇 번쨰 체크포인트인지\n",
        "# 이 모델로 훈련\n",
        "for epoch in range(checkpoint_epoch + 1, 10000): # 체크포인트 에폭 이후부터 훈련\n",
        "    cost = 0.0\n",
        "\n",
        "    for x, y in train_dataloader:\n",
        "        x = x.to(device)\n",
        "        y = y.to(device)\n",
        "\n",
        "        output = model(x)\n",
        "        loss = criterion(output, y)\n",
        "\n",
        "        optimizer.zero_grad()\n",
        "        loss.backward()\n",
        "        optimizer.step()\n",
        "\n",
        "        cost += loss\n",
        "        if (epoch + 1) % 1000 == 0:\n",
        "            print(f\"Epoch : {epoch+1:4d}, Model : {list(model.parameters())}, Cost : {cost:.3f}\")"
      ],
      "metadata": {
        "id": "KtR1yV_RQHWa"
      },
      "execution_count": null,
      "outputs": []
    }
  ]
}