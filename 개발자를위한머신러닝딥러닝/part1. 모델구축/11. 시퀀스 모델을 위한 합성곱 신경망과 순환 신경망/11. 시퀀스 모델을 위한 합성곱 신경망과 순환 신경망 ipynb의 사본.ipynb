{
  "nbformat": 4,
  "nbformat_minor": 0,
  "metadata": {
    "colab": {
      "provenance": [],
      "toc_visible": true,
      "authorship_tag": "ABX9TyMx67/FLTbwHWAUYyw5Yker",
      "include_colab_link": true
    },
    "kernelspec": {
      "name": "python3",
      "display_name": "Python 3"
    },
    "language_info": {
      "name": "python"
    }
  },
  "cells": [
    {
      "cell_type": "markdown",
      "metadata": {
        "id": "view-in-github",
        "colab_type": "text"
      },
      "source": [
        "<a href=\"https://colab.research.google.com/github/chanhyeong00/machine_learning_study/blob/main/%EA%B0%9C%EB%B0%9C%EC%9E%90%EB%A5%BC%EC%9C%84%ED%95%9C%EB%A8%B8%EC%8B%A0%EB%9F%AC%EB%8B%9D%EB%94%A5%EB%9F%AC%EB%8B%9D/part1.%20%EB%AA%A8%EB%8D%B8%EA%B5%AC%EC%B6%95/11.%20%EC%8B%9C%ED%80%80%EC%8A%A4%20%EB%AA%A8%EB%8D%B8%EC%9D%84%20%EC%9C%84%ED%95%9C%20%ED%95%A9%EC%84%B1%EA%B3%B1%20%EC%8B%A0%EA%B2%BD%EB%A7%9D%EA%B3%BC%20%EC%88%9C%ED%99%98%20%EC%8B%A0%EA%B2%BD%EB%A7%9D/11.%20%EC%8B%9C%ED%80%80%EC%8A%A4%20%EB%AA%A8%EB%8D%B8%EC%9D%84%20%EC%9C%84%ED%95%9C%20%ED%95%A9%EC%84%B1%EA%B3%B1%20%EC%8B%A0%EA%B2%BD%EB%A7%9D%EA%B3%BC%20%EC%88%9C%ED%99%98%20%EC%8B%A0%EA%B2%BD%EB%A7%9D%20ipynb%EC%9D%98%20%EC%82%AC%EB%B3%B8.ipynb\" target=\"_parent\"><img src=\"https://colab.research.google.com/assets/colab-badge.svg\" alt=\"Open In Colab\"/></a>"
      ]
    },
    {
      "cell_type": "markdown",
      "source": [
        "### 11.1. 시퀀스 데이터를 위한 합성곱\n",
        "\n",
        "이미지 위를 지나가며 특징을 추출하는 2D 필터를 3장에서 보았다. 신경망은 훈련을 통해 픽셀을 레이블에 매핑할 때 효과적인 필터 값을 학습한다. 이 과정을 거치며 이지에서 특징 추출\n",
        "\n",
        "동일한 기법을 시계열 데이터에도 적용 가능하지만 하나 수정이 필요하다. 2차원이 아닌 1차원에서 수행하는 것이다."
      ],
      "metadata": {
        "id": "42kb77vcc2Md"
      }
    },
    {
      "cell_type": "code",
      "source": [
        "import tensorflow as tf\n",
        "import numpy as np\n",
        "import matplotlib.pyplot as plt"
      ],
      "metadata": {
        "id": "FHVY8xbTeAKF"
      },
      "execution_count": null,
      "outputs": []
    },
    {
      "cell_type": "code",
      "source": [
        "def plot_series(time, series, format=\"-\", start=0, end=None):\n",
        "    plt.plot(time[start:end], series[start:end], format)\n",
        "    plt.xlabel(\"Time\")\n",
        "    plt.ylabel(\"Value\")\n",
        "    plt.grid(True)\n",
        "\n",
        "def trend(time, slope=0):\n",
        "    return slope * time\n",
        "\n",
        "def seasonal_pattern(season_time):\n",
        "    \"\"\"임의로 정한 패턴이므로 바꿔도 좋습니다\"\"\"\n",
        "    return np.where(season_time < 0.4,\n",
        "                    np.cos(season_time * 2 * np.pi),\n",
        "                    1 / np.exp(3 * season_time))\n",
        "\n",
        "def seasonality(time, period, amplitude=1, phase=0):\n",
        "    \"\"\"기간마다 동일한 패턴을 반복합니다\"\"\"\n",
        "    season_time = ((time + phase) % period) / period\n",
        "    return amplitude * seasonal_pattern(season_time)\n",
        "\n",
        "def noise(time, noise_level=1, seed=None):\n",
        "    rnd = np.random.RandomState(seed)\n",
        "    return rnd.randn(len(time)) * noise_level\n",
        "\n",
        "time = np.arange(4 * 365 + 1, dtype=\"float32\")\n",
        "baseline = 10\n",
        "series = trend(time, 0.1)\n",
        "baseline = 10\n",
        "amplitude = 20\n",
        "slope = 0.09\n",
        "noise_level = 5\n",
        "\n",
        "# 시계열을 만듭니다.\n",
        "series = baseline + trend(time, slope) + seasonality(time, period=365, amplitude=amplitude)\n",
        "# 잡음을 추가합니다.\n",
        "series += noise(time, noise_level, seed=42)\n",
        "\n",
        "split_time = 1000\n",
        "time_train = time[:split_time]\n",
        "x_train = series[:split_time]\n",
        "time_valid = time[split_time:]\n",
        "x_valid = series[split_time:]\n",
        "\n",
        "window_size = 20\n",
        "batch_size = 32\n",
        "shuffle_buffer_size = 1000"
      ],
      "metadata": {
        "id": "b4i2Rmn4d8rr"
      },
      "execution_count": null,
      "outputs": []
    },
    {
      "cell_type": "markdown",
      "source": [
        "#### 11.1.1. 1D 합성곱 신경망 만들기"
      ],
      "metadata": {
        "id": "cIuqMJVCdezU"
      }
    },
    {
      "cell_type": "markdown",
      "source": [
        "합성곱을 만들기 전에 이전 장에서 사용했던 윈도 데이터셋 제너레이터를 수정해야 한다.\n",
        "\n",
        "합성곱 층을 사용하려면 샘플의 벡터 차원을 먼저 지정해야 하기 때문이다. 윈도 데이터셋은 샘플 차원이 하나였지만 명시적으로 정의하지 않았다.\n",
        "\n",
        "이를 위해 다음처럼 tf.expand_dims을 추가해 차원 정의"
      ],
      "metadata": {
        "id": "yMS0C_w1dkfA"
      }
    },
    {
      "cell_type": "code",
      "execution_count": null,
      "metadata": {
        "id": "rduYWsR6bHSc"
      },
      "outputs": [],
      "source": [
        "def windowed_dataset(series, window_size, batch_size, shuffle_buffer):\n",
        "    series = tf.expand_dims(series, axis=-1)\n",
        "    dataset = tf.data.Dataset.from_tensor_slices(series)\n",
        "    dataset = dataset.window(window_size + 1, shift=1, drop_remainder=True)\n",
        "    dataset = dataset.flat_map(lambda window: window.batch(window_size + 1)) # 데이터셋 원소에 매개변수로 전달된 함수를 적용하고 그 결과를 1차원 배열로 합친다\n",
        "    dataset = dataset.shuffle(shuffle_buffer).map(lambda window: (window[:-1], window[-1]))\n",
        "    dataset = dataset.batch(batch_size).prefetch(1) # 배치 크기를 2로 지정하겠다.\n",
        "    return dataset"
      ]
    },
    {
      "cell_type": "markdown",
      "source": [
        "데이터셋 준비되었으니 밀집층 전에 합성곱 층을 추가할 수 있다."
      ],
      "metadata": {
        "id": "sUYc7JLefoWz"
      }
    },
    {
      "cell_type": "code",
      "source": [
        "dataset = windowed_dataset(x_train, window_size, batch_size, shuffle_buffer_size)\n",
        "\n",
        "model = tf.keras.models.Sequential([\n",
        "    tf.keras.layers.Conv1D(filters=128, kernel_size=3,\n",
        "                           strides=1, padding='causal',\n",
        "                           activation='relu',\n",
        "                           input_shape=[None,1]),\n",
        "    tf.keras.layers.Dense(28, activation='relu'),\n",
        "    tf.keras.layers.Dense(10, activation='relu'),\n",
        "    tf.keras.layers.Dense(1)\n",
        "])\n",
        "\n",
        "\n",
        "optimizer = tf.keras.optimizers.SGD(learning_rate=1e-5, momentum=0.5) # 책 그대로 썼음\n",
        "model.compile(loss='mse', optimizer=optimizer)\n",
        "history = model.fit(dataset, epochs=100, verbose=1)"
      ],
      "metadata": {
        "colab": {
          "base_uri": "https://localhost:8080/"
        },
        "id": "I1VX1egefrMu",
        "outputId": "465a353c-e2f9-4650-8788-c26e0defb918"
      },
      "execution_count": null,
      "outputs": [
        {
          "output_type": "stream",
          "name": "stdout",
          "text": [
            "Epoch 1/100\n",
            "31/31 [==============================] - 2s 14ms/step - loss: 430.7080\n",
            "Epoch 2/100\n",
            "31/31 [==============================] - 1s 11ms/step - loss: 103.6266\n",
            "Epoch 3/100\n",
            "31/31 [==============================] - 1s 11ms/step - loss: 85.7530\n",
            "Epoch 4/100\n",
            "31/31 [==============================] - 1s 10ms/step - loss: 77.3243\n",
            "Epoch 5/100\n",
            "31/31 [==============================] - 0s 8ms/step - loss: 72.4964\n",
            "Epoch 6/100\n",
            "31/31 [==============================] - 1s 8ms/step - loss: 70.4977\n",
            "Epoch 7/100\n",
            "31/31 [==============================] - 0s 10ms/step - loss: 69.2809\n",
            "Epoch 8/100\n",
            "31/31 [==============================] - 1s 10ms/step - loss: 68.8681\n",
            "Epoch 9/100\n",
            "31/31 [==============================] - 1s 11ms/step - loss: 68.3273\n",
            "Epoch 10/100\n",
            "31/31 [==============================] - 0s 8ms/step - loss: 67.5497\n",
            "Epoch 11/100\n",
            "31/31 [==============================] - 0s 6ms/step - loss: 67.1968\n",
            "Epoch 12/100\n",
            "31/31 [==============================] - 0s 8ms/step - loss: 66.6930\n",
            "Epoch 13/100\n",
            "31/31 [==============================] - 1s 8ms/step - loss: 67.0528\n",
            "Epoch 14/100\n",
            "31/31 [==============================] - 1s 11ms/step - loss: 65.4575\n",
            "Epoch 15/100\n",
            "31/31 [==============================] - 1s 8ms/step - loss: 66.7872\n",
            "Epoch 16/100\n",
            "31/31 [==============================] - 0s 8ms/step - loss: 65.6369\n",
            "Epoch 17/100\n",
            "31/31 [==============================] - 1s 9ms/step - loss: 66.7889\n",
            "Epoch 18/100\n",
            "31/31 [==============================] - 1s 17ms/step - loss: 65.3847\n",
            "Epoch 19/100\n",
            "31/31 [==============================] - 1s 13ms/step - loss: 65.8787\n",
            "Epoch 20/100\n",
            "31/31 [==============================] - 0s 4ms/step - loss: 65.4306\n",
            "Epoch 21/100\n",
            "31/31 [==============================] - 0s 4ms/step - loss: 65.0682\n",
            "Epoch 22/100\n",
            "31/31 [==============================] - 0s 4ms/step - loss: 64.9402\n",
            "Epoch 23/100\n",
            "31/31 [==============================] - 0s 6ms/step - loss: 65.2543\n",
            "Epoch 24/100\n",
            "31/31 [==============================] - 0s 6ms/step - loss: 65.1827\n",
            "Epoch 25/100\n",
            "31/31 [==============================] - 0s 5ms/step - loss: 64.5821\n",
            "Epoch 26/100\n",
            "31/31 [==============================] - 0s 5ms/step - loss: 64.5954\n",
            "Epoch 27/100\n",
            "31/31 [==============================] - 0s 5ms/step - loss: 65.0967\n",
            "Epoch 28/100\n",
            "31/31 [==============================] - 0s 5ms/step - loss: 64.0175\n",
            "Epoch 29/100\n",
            "31/31 [==============================] - 0s 6ms/step - loss: 63.7859\n",
            "Epoch 30/100\n",
            "31/31 [==============================] - 0s 4ms/step - loss: 64.0730\n",
            "Epoch 31/100\n",
            "31/31 [==============================] - 0s 7ms/step - loss: 64.3901\n",
            "Epoch 32/100\n",
            "31/31 [==============================] - 0s 6ms/step - loss: 63.7148\n",
            "Epoch 33/100\n",
            "31/31 [==============================] - 0s 7ms/step - loss: 63.8428\n",
            "Epoch 34/100\n",
            "31/31 [==============================] - 0s 5ms/step - loss: 63.7016\n",
            "Epoch 35/100\n",
            "31/31 [==============================] - 0s 5ms/step - loss: 63.9914\n",
            "Epoch 36/100\n",
            "31/31 [==============================] - 0s 4ms/step - loss: 63.4157\n",
            "Epoch 37/100\n",
            "31/31 [==============================] - 0s 5ms/step - loss: 63.5896\n",
            "Epoch 38/100\n",
            "31/31 [==============================] - 0s 5ms/step - loss: 63.1295\n",
            "Epoch 39/100\n",
            "31/31 [==============================] - 0s 5ms/step - loss: 63.4239\n",
            "Epoch 40/100\n",
            "31/31 [==============================] - 0s 7ms/step - loss: 63.3299\n",
            "Epoch 41/100\n",
            "31/31 [==============================] - 0s 6ms/step - loss: 63.5767\n",
            "Epoch 42/100\n",
            "31/31 [==============================] - 0s 4ms/step - loss: 63.4986\n",
            "Epoch 43/100\n",
            "31/31 [==============================] - 0s 4ms/step - loss: 63.2626\n",
            "Epoch 44/100\n",
            "31/31 [==============================] - 0s 4ms/step - loss: 64.4137\n",
            "Epoch 45/100\n",
            "31/31 [==============================] - 0s 6ms/step - loss: 63.1958\n",
            "Epoch 46/100\n",
            "31/31 [==============================] - 0s 6ms/step - loss: 63.4150\n",
            "Epoch 47/100\n",
            "31/31 [==============================] - 0s 9ms/step - loss: 62.8013\n",
            "Epoch 48/100\n",
            "31/31 [==============================] - 0s 9ms/step - loss: 62.5085\n",
            "Epoch 49/100\n",
            "31/31 [==============================] - 0s 7ms/step - loss: 63.8055\n",
            "Epoch 50/100\n",
            "31/31 [==============================] - 0s 5ms/step - loss: 62.8612\n",
            "Epoch 51/100\n",
            "31/31 [==============================] - 0s 4ms/step - loss: 62.6616\n",
            "Epoch 52/100\n",
            "31/31 [==============================] - 0s 4ms/step - loss: 63.1525\n",
            "Epoch 53/100\n",
            "31/31 [==============================] - 0s 6ms/step - loss: 62.7906\n",
            "Epoch 54/100\n",
            "31/31 [==============================] - 0s 6ms/step - loss: 63.0089\n",
            "Epoch 55/100\n",
            "31/31 [==============================] - 0s 6ms/step - loss: 62.4707\n",
            "Epoch 56/100\n",
            "31/31 [==============================] - 0s 5ms/step - loss: 63.8997\n",
            "Epoch 57/100\n",
            "31/31 [==============================] - 0s 4ms/step - loss: 62.6314\n",
            "Epoch 58/100\n",
            "31/31 [==============================] - 0s 4ms/step - loss: 62.6396\n",
            "Epoch 59/100\n",
            "31/31 [==============================] - 0s 5ms/step - loss: 62.6693\n",
            "Epoch 60/100\n",
            "31/31 [==============================] - 0s 5ms/step - loss: 62.8831\n",
            "Epoch 61/100\n",
            "31/31 [==============================] - 0s 6ms/step - loss: 63.1784\n",
            "Epoch 62/100\n",
            "31/31 [==============================] - 0s 6ms/step - loss: 62.5376\n",
            "Epoch 63/100\n",
            "31/31 [==============================] - 0s 7ms/step - loss: 63.8514\n",
            "Epoch 64/100\n",
            "31/31 [==============================] - 0s 4ms/step - loss: 62.6012\n",
            "Epoch 65/100\n",
            "31/31 [==============================] - 0s 4ms/step - loss: 62.7331\n",
            "Epoch 66/100\n",
            "31/31 [==============================] - 0s 4ms/step - loss: 61.9773\n",
            "Epoch 67/100\n",
            "31/31 [==============================] - 0s 4ms/step - loss: 62.1386\n",
            "Epoch 68/100\n",
            "31/31 [==============================] - 0s 4ms/step - loss: 63.1373\n",
            "Epoch 69/100\n",
            "31/31 [==============================] - 0s 4ms/step - loss: 62.2900\n",
            "Epoch 70/100\n",
            "31/31 [==============================] - 0s 4ms/step - loss: 62.1264\n",
            "Epoch 71/100\n",
            "31/31 [==============================] - 0s 4ms/step - loss: 62.6252\n",
            "Epoch 72/100\n",
            "31/31 [==============================] - 0s 4ms/step - loss: 62.3716\n",
            "Epoch 73/100\n",
            "31/31 [==============================] - 0s 4ms/step - loss: 62.3271\n",
            "Epoch 74/100\n",
            "31/31 [==============================] - 0s 4ms/step - loss: 61.7057\n",
            "Epoch 75/100\n",
            "31/31 [==============================] - 0s 4ms/step - loss: 62.6276\n",
            "Epoch 76/100\n",
            "31/31 [==============================] - 0s 4ms/step - loss: 62.1699\n",
            "Epoch 77/100\n",
            "31/31 [==============================] - 0s 4ms/step - loss: 62.3690\n",
            "Epoch 78/100\n",
            "31/31 [==============================] - 0s 6ms/step - loss: 62.5547\n",
            "Epoch 79/100\n",
            "31/31 [==============================] - 0s 9ms/step - loss: 62.0347\n",
            "Epoch 80/100\n",
            "31/31 [==============================] - 0s 7ms/step - loss: 62.5298\n",
            "Epoch 81/100\n",
            "31/31 [==============================] - 0s 7ms/step - loss: 61.9474\n",
            "Epoch 82/100\n",
            "31/31 [==============================] - 0s 7ms/step - loss: 61.4992\n",
            "Epoch 83/100\n",
            "31/31 [==============================] - 0s 6ms/step - loss: 61.8413\n",
            "Epoch 84/100\n",
            "31/31 [==============================] - 0s 6ms/step - loss: 62.2671\n",
            "Epoch 85/100\n",
            "31/31 [==============================] - 0s 6ms/step - loss: 62.2801\n",
            "Epoch 86/100\n",
            "31/31 [==============================] - 0s 5ms/step - loss: 62.4953\n",
            "Epoch 87/100\n",
            "31/31 [==============================] - 0s 4ms/step - loss: 61.4215\n",
            "Epoch 88/100\n",
            "31/31 [==============================] - 0s 6ms/step - loss: 62.2846\n",
            "Epoch 89/100\n",
            "31/31 [==============================] - 0s 6ms/step - loss: 62.0776\n",
            "Epoch 90/100\n",
            "31/31 [==============================] - 0s 5ms/step - loss: 62.1060\n",
            "Epoch 91/100\n",
            "31/31 [==============================] - 0s 4ms/step - loss: 62.4653\n",
            "Epoch 92/100\n",
            "31/31 [==============================] - 0s 5ms/step - loss: 62.4856\n",
            "Epoch 93/100\n",
            "31/31 [==============================] - 0s 5ms/step - loss: 62.7275\n",
            "Epoch 94/100\n",
            "31/31 [==============================] - 0s 6ms/step - loss: 62.2336\n",
            "Epoch 95/100\n",
            "31/31 [==============================] - 0s 7ms/step - loss: 61.9324\n",
            "Epoch 96/100\n",
            "31/31 [==============================] - 0s 4ms/step - loss: 62.5953\n",
            "Epoch 97/100\n",
            "31/31 [==============================] - 0s 4ms/step - loss: 62.6756\n",
            "Epoch 98/100\n",
            "31/31 [==============================] - 0s 4ms/step - loss: 62.3832\n",
            "Epoch 99/100\n",
            "31/31 [==============================] - 0s 4ms/step - loss: 62.0607\n",
            "Epoch 100/100\n",
            "31/31 [==============================] - 0s 4ms/step - loss: 62.3314\n"
          ]
        }
      ]
    },
    {
      "cell_type": "markdown",
      "source": [
        "Conv1D 층 매개변수\n",
        "- filters: 학습할 필터 개수, 필터의 가중치 값은 랜덤하게 생성되고 학습하며 데이터 맞게 조정된다.\n",
        "- kernel_size: 필터 크기.\n",
        "- strides: 필터가 입력 위를 지나갈 때 수행할 **스텝 크기**, 일반적으로 1이다.\n",
        "- padding: 가장자리 데이터 어떻게 처리할지 결정한다. 3X1 필터 사용하면 첫 번쨰와 마지막 값이 단 한 번만 합성곱에 참여.\n",
        "**시퀀스 데이터의 경우 보통 causal을 사용한다.** 이때는 현재와 과거의 타임스텝만 사용한다. 따라서 3X1 필터의 경우 현재 타임스텝과 이전 두개의 타임스텝의 값을 사용.(그냥 필터 이동한다 생각하면 된다)"
      ],
      "metadata": {
        "id": "iwVjIRK0g3AU"
      }
    },
    {
      "cell_type": "markdown",
      "source": [
        "***\n",
        "\n",
        "모델 예측을 위해 입력 층의 크기가 바뀌었기 때문에 예측 코드를 조금 수정해야 한다.\n",
        "\n",
        "이전 윈도를 고려해 값을 하나씩 예측하는 대신 시계열을 데이터셋으로 올바르게 변환했다면 전체 시계열에 대해 한 번에 예측을 수행할 수 있다.\n",
        "\n",
        "이를 조금 쉽게 만들기 위해 특정 윈도 크기와 모델이 주어졌을 때 전체 시계열을 예측하는 헬퍼함수 만들어보겠다."
      ],
      "metadata": {
        "id": "SfubrOSFiAJy"
      }
    },
    {
      "cell_type": "code",
      "source": [
        "def model_forecast(model, series, window_szie):\n",
        "  ds = tf.data.Dataset.from_tensor_slices(series)\n",
        "  ds = ds.window(window_size, shift=1, drop_remainder=True)\n",
        "  ds = ds.flat_map(lambda w: w.batch(window_size))\n",
        "  ds = ds.batch(32).prefetch(1)\n",
        "  forecast = model.predict(ds)\n",
        "  return forecast"
      ],
      "metadata": {
        "id": "sYn7y2jPh9v2"
      },
      "execution_count": null,
      "outputs": []
    },
    {
      "cell_type": "code",
      "source": [
        "print(series[:5])\n",
        "print(series[..., np.newaxis][:5]) # 데이터셋 구조로 만들기 위해 값마다 차원 늘림\n",
        "print(series[:][np.newaxis][:5]) # 전체 값을 차원 늘림"
      ],
      "metadata": {
        "colab": {
          "base_uri": "https://localhost:8080/"
        },
        "id": "dfcDt9pcjpg0",
        "outputId": "21084268-5b8e-4771-de56-7e4f4b55ceed"
      },
      "execution_count": null,
      "outputs": [
        {
          "output_type": "stream",
          "name": "stdout",
          "text": [
            "[32.48357  29.395714 33.40659  37.858486 29.14184 ]\n",
            "[[32.48357 ]\n",
            " [29.395714]\n",
            " [33.40659 ]\n",
            " [37.858486]\n",
            " [29.14184 ]]\n",
            "[[ 32.48357   29.395714  33.40659  ... 148.681    145.67987  160.70773 ]]\n"
          ]
        }
      ]
    },
    {
      "cell_type": "markdown",
      "source": [
        "https://yeko90.tistory.com/entry/%EB%84%98%ED%8C%8C%EC%9D%B4-%EA%B8%B0%EC%B4%88-%EC%B0%A8%EC%9B%90-%EB%B3%80%EA%B2%BD%EC%B6%95%EC%86%8C%EB%A7%8C%EB%93%A4%EA%B8%B0\n",
        "\n",
        "newaixs 참고하기 좋음"
      ],
      "metadata": {
        "id": "0XVjKPuukqHu"
      }
    },
    {
      "cell_type": "markdown",
      "source": [
        "모델을 사용해 시계열 예측하려면 Conv1D 층을 위해 새로운 축을 추가한 시계열을 전달하면 된다."
      ],
      "metadata": {
        "id": "0NmyfHFziyJF"
      }
    },
    {
      "cell_type": "code",
      "source": [
        "forecast = model_forecast(model, series[..., np.newaxis], window_size) # (?, 1) 로 만들기 위해 차원 추가, ...은 : 과 같은 의미"
      ],
      "metadata": {
        "colab": {
          "base_uri": "https://localhost:8080/"
        },
        "id": "GlgsdZPzixDQ",
        "outputId": "6ac84521-d58d-48b5-86a4-166cc8a68350"
      },
      "execution_count": null,
      "outputs": [
        {
          "output_type": "stream",
          "name": "stdout",
          "text": [
            "46/46 [==============================] - 0s 5ms/step\n"
          ]
        }
      ]
    },
    {
      "cell_type": "code",
      "source": [
        "print(forecast[split_time - window_size:-1, -1, 0]) # 모든 데이터중 일부를 고르고 마지막 행의 첫번쨰"
      ],
      "metadata": {
        "colab": {
          "base_uri": "https://localhost:8080/"
        },
        "id": "tSD8xDvKmHAd",
        "outputId": "534a8af8-e7aa-421f-aeec-4acefa81a209"
      },
      "execution_count": null,
      "outputs": [
        {
          "output_type": "stream",
          "name": "stdout",
          "text": [
            "[103.860435 105.689316 107.83124  106.620636 103.21562  103.512024\n",
            " 104.190125 106.6652   106.6199   107.79169  105.08482  106.75891\n",
            " 105.4263   109.97127  106.139465 109.1411   106.19099  105.552795\n",
            " 102.3579   101.81147  103.84601  105.57057  104.73561  104.22128\n",
            " 107.89109  111.46653  111.443825 108.02827  105.76212  106.364914\n",
            " 104.17956  103.76543  100.00726  102.89102  104.82919  106.068474\n",
            " 108.65288  105.03483  103.08267  101.96138  106.07602  111.16221\n",
            " 109.28604  109.75133  107.11153  107.29227  107.61032  108.78092\n",
            " 105.64586  107.68231  109.540054 109.77814  108.414246 107.4927\n",
            " 108.739265 106.99434  105.17038  105.14905  108.4518   110.197754\n",
            " 109.17578  109.07959  102.67089  106.38258  102.088684 105.886375\n",
            " 102.53721  103.00242  106.49785  107.187386 109.69234  108.01326\n",
            " 109.63345  109.231636 106.753555 108.470215 107.445526 106.26753\n",
            " 104.669876 108.98268  112.440605 111.87566  109.05504  107.47371\n",
            " 112.27458  113.03227  113.854485 112.760086 112.35378  111.02338\n",
            " 109.27686  108.99249  109.43599  111.243774 111.31445  112.70757\n",
            " 119.00981  125.11266  125.61354  128.19142  128.97256  133.54543\n",
            " 126.27255  130.7105   128.97382  134.85518  129.56963  131.08067\n",
            " 127.50231  127.98871  131.2735   131.96532  132.9383   131.86821\n",
            " 132.78757  132.42041  131.71722  135.52519  134.35434  133.6966\n",
            " 132.21565  134.04233  135.4552   134.5417   130.22188  131.85423\n",
            " 128.37497  130.5544   126.78618  128.37958  128.67346  130.19334\n",
            " 130.83575  133.20502  132.93211  131.25307  130.67912  131.97784\n",
            " 129.2332   129.00528  128.6066   129.29604  130.91548  129.10748\n",
            " 129.37387  126.899185 127.00427  124.54932  122.14819  125.72978\n",
            " 125.28289  125.16558  118.96211  119.60605  118.90236  125.526024\n",
            " 127.98424  127.67284  129.50218  129.21584  128.5744   120.15374\n",
            " 123.84142  121.21594  121.43013  120.562614 127.40877  130.9697\n",
            " 129.43031  126.39658  125.53993  125.58528  124.627594 123.11951\n",
            " 121.57556  119.45468  118.75543  115.542404 116.75795  115.37117\n",
            " 115.71434  116.50105  120.554855 123.20562  119.05591  115.204865\n",
            " 116.06781  116.066284 116.890274 116.638306 115.780334 116.23189\n",
            " 112.76283  113.107895 113.79375  112.37361  114.26008  113.71551\n",
            " 116.733315 116.12456  118.37711  117.11774  115.386185 113.53282\n",
            " 114.222916 114.49838  114.03218  111.625336 110.23326  107.558685\n",
            " 112.31146  110.36689  110.90265  107.15199  110.82025  110.89462\n",
            " 114.03737  110.90945  111.60465  108.039215 113.17477  109.77765\n",
            " 111.40842  109.41194  111.464584 110.209015 108.83174  108.2214\n",
            " 108.035065 109.96012  113.7709   111.84541  107.4254   104.377884\n",
            " 110.74136  109.83745  112.82742  111.81626  110.88744  109.347336\n",
            " 109.91951  109.22882  116.36478  120.782455 125.38099  124.882225\n",
            " 123.78456  125.85773  125.5776   128.05608  125.10949  127.3268\n",
            " 128.88994  126.9487   127.71091  129.28273  129.32207  132.20314\n",
            " 131.05403  130.97392  128.64613  129.34901  130.39445  131.43074\n",
            " 128.70453  129.14233  125.808365 127.35536  125.7349   126.67448\n",
            " 129.71063  132.95944  134.65381  130.3892   128.46805  130.3419\n",
            " 131.92902  136.65462  134.99812  134.6104   130.60065  130.40602\n",
            " 129.91292  131.80836  133.35243  131.65027  128.13527  123.817314\n",
            " 126.832954 126.87715  125.59447  126.57541  133.86464  135.68837\n",
            " 136.2973   132.69215  132.36322  133.02638  132.14159  132.75713\n",
            " 132.10806  131.12526  132.87248  131.96901  131.35503  131.31047\n",
            " 129.86615  131.22469  130.68245  134.1429   134.75888  134.40923\n",
            " 134.41862  136.2665   136.85289  135.29999  130.69522  128.28374\n",
            " 128.34201  129.41408  130.88896  131.68684  133.67813  133.69852\n",
            " 134.53978  133.83846  130.0308   128.16046  128.55983  129.33757\n",
            " 132.3181   135.64725  139.22408  137.31813  137.9073   136.10896\n",
            " 135.46262  132.27304  131.79771  131.81392  133.27475  134.1188\n",
            " 134.66312  135.30446  137.3298   138.78784  134.79372  128.4484\n",
            " 130.06364  129.84908  133.35521  130.16628  129.08557  131.33305\n",
            " 134.77394  135.95158  130.21239  129.0482   131.42493  132.31645\n",
            " 133.89662  133.63531  136.91798  136.78638  134.8239   136.67229\n",
            " 136.10439  137.3105   133.89378  133.62086  132.34186  133.7781\n",
            " 138.06282  136.24026  133.53674  134.75029  136.27065  137.1009\n",
            " 137.34634  136.36287  140.91869  140.39584  139.79066  141.46342\n",
            " 138.83028  140.78181  138.2505   141.48064  143.0757   142.03078\n",
            " 138.434    137.39598  136.12384  141.31236  140.5235   140.38814\n",
            " 138.0265   135.3025   134.38116  137.11688  137.67906  137.05177\n",
            " 136.91724  140.3032   142.80267  143.58185  140.02983  136.32755\n",
            " 138.50255  138.87589  140.27931  140.94337  142.2137   143.08714\n",
            " 145.2275   142.49565  143.46997  140.41234  141.7209   143.35704\n",
            " 143.81898  144.08296  143.79298  141.9913   139.54861  136.39116\n",
            " 133.65775  139.78358  138.9814   141.39217  138.24474  140.63391\n",
            " 142.58504  144.4233   142.49023  141.07344  140.64821  141.02687\n",
            " 144.49577  144.6894   146.06682  144.8105   146.11717  144.99928\n",
            " 141.29933  140.83914  139.54422  140.56508  141.51747  144.87703\n",
            " 145.25244  144.82759  146.35631  146.28983  150.56602  148.46654\n",
            " 144.04634  142.29346  142.45207  147.29082  147.13127 ]\n"
          ]
        }
      ]
    },
    {
      "cell_type": "markdown",
      "source": [
        "분할 위치를 기준으로 검증 세트에 대한 예측을 따로 분리해보겠다."
      ],
      "metadata": {
        "id": "lzuSM0KXjClt"
      }
    },
    {
      "cell_type": "code",
      "source": [
        "results = forecast[split_time - window_size:-1,-1,0]"
      ],
      "metadata": {
        "id": "Vs6DwSUtjB9F"
      },
      "execution_count": null,
      "outputs": []
    },
    {
      "cell_type": "code",
      "source": [
        "plt.figure(figsize=(10, 6))\n",
        "\n",
        "plot_series(time_valid, x_valid)\n",
        "plot_series(time_valid, results)"
      ],
      "metadata": {
        "colab": {
          "base_uri": "https://localhost:8080/",
          "height": 542
        },
        "id": "THHX1Ge5mo8q",
        "outputId": "ca9fa958-cb37-4f2b-f404-fddcbe41f108"
      },
      "execution_count": null,
      "outputs": [
        {
          "output_type": "display_data",
          "data": {
            "text/plain": [
              "<Figure size 1000x600 with 1 Axes>"
            ],
            "image/png": "[encoded data removed]"
          },
          "metadata": {}
        }
      ]
    },
    {
      "cell_type": "code",
      "source": [
        "tf.keras.metrics.mean_absolute_error(x_valid, results).numpy()"
      ],
      "metadata": {
        "colab": {
          "base_uri": "https://localhost:8080/"
        },
        "id": "Q7cr0HJvmsWl",
        "outputId": "1982927a-d77f-45cf-a844-5081654d4760"
      },
      "execution_count": null,
      "outputs": [
        {
          "output_type": "execute_result",
          "data": {
            "text/plain": [
              "4.7038603"
            ]
          },
          "metadata": {},
          "execution_count": 11
        }
      ]
    },
    {
      "cell_type": "markdown",
      "source": [
        "이전 장보다 괜찮다?..\n",
        "\n",
        "우선 이 데이터는 잡음을 가지고 있기 때문에 실행할 때마다 값이 달라진다. 10장의 코드와 이 코드를 별도로 실행하면 랜덤한 변동이 데이터와 MAE에 영향을 미칠 것이기 떄문."
      ],
      "metadata": {
        "id": "Cn9NiZyHmxye"
      }
    },
    {
      "cell_type": "markdown",
      "source": [
        "합성곱을 사용할 떄는 항상 다음과 같은 질문이 따른다.\n",
        "\n",
        "필터가 128개인 이유가 있나여? 필터의 크기는 왜 3X1 인가요?\n",
        "\n",
        "이는 이전에 했던 것처럼 케라스튜너를 사용해 실험할 수 있다."
      ],
      "metadata": {
        "id": "c-3gX4kNA_Rd"
      }
    },
    {
      "cell_type": "markdown",
      "source": [
        "#### 11.1.2. Conv1D 하이퍼파라미터 튜닝하기"
      ],
      "metadata": {
        "id": "d26cqR6oCuYp"
      }
    },
    {
      "cell_type": "markdown",
      "source": [
        "생각보다 MAE가 크게 영향을 받지 않았다. 이 이유는 하이퍼파라미터 떄문일 수도 있다.\n",
        "\n",
        "이번 예제에서는 다른 매개변수는 고정하고 필터 개수, 커널 크기, 스트라이드 크기를 테스트 해보겠따."
      ],
      "metadata": {
        "id": "gsJGAwz_CyF2"
      }
    },
    {
      "cell_type": "code",
      "source": [
        "def build_model(hp):\n",
        "  model = tf.keras.models.Sequential()\n",
        "  model.add(tf.keras.layers.Conv1D(\n",
        "      filters=hp.Int('units', min_value=128, max_value=256, step=64),\n",
        "      kernel_size=hp.Int('kernels', min_value=3, max_value=9, step=3),\n",
        "      strides = hp.Int('strides', min_value=1, max_value=3, step=1),\n",
        "      padding='causal', activation='relu', input_shape=[None, 1]\n",
        "  ))\n",
        "\n",
        "  model.add(tf.keras.layers.Dense(28, input_shape=[window_size], activation='relu'))\n",
        "  model.add(tf.keras.layers.Dense(10, activation='relu'))\n",
        "  model.add(tf.keras.layers.Dense(1))\n",
        "\n",
        "  sgd = tf.keras.optimizers.SGD(momentum=0.5, learning_rate=1e-5)\n",
        "  model.compile(loss='mse', optimizer=sgd)\n",
        "  return model"
      ],
      "metadata": {
        "id": "Hnw7Pl7zm77f"
      },
      "execution_count": null,
      "outputs": []
    },
    {
      "cell_type": "markdown",
      "source": [
        "조합의 개수가 많기 때문에 실행하는 데 시간이 좀 걸린다.\n",
        "\n",
        "하이퍼파라미터를 탐색해보겠다."
      ],
      "metadata": {
        "id": "iLK5e1PzGSa7"
      }
    },
    {
      "cell_type": "code",
      "source": [
        "!pip install keras-tuner"
      ],
      "metadata": {
        "id": "I7Ov2xRGHUCC",
        "colab": {
          "base_uri": "https://localhost:8080/"
        },
        "outputId": "7aa447d8-2003-442b-fc2f-651188ac31f3"
      },
      "execution_count": null,
      "outputs": [
        {
          "output_type": "stream",
          "name": "stdout",
          "text": [
            "Collecting keras-tuner\n",
            "  Downloading keras_tuner-1.4.7-py3-none-any.whl (129 kB)\n",
            "\u001b[2K     \u001b[90m━━━━━━━━━━━━━━━━━━━━━━━━━━━━━━━━━━━━━━━━\u001b[0m \u001b[32m129.1/129.1 kB\u001b[0m \u001b[31m1.4 MB/s\u001b[0m eta \u001b[36m0:00:00\u001b[0m\n",
            "\u001b[?25hRequirement already satisfied: keras in /usr/local/lib/python3.10/dist-packages (from keras-tuner) (2.15.0)\n",
            "Requirement already satisfied: packaging in /usr/local/lib/python3.10/dist-packages (from keras-tuner) (24.0)\n",
            "Requirement already satisfied: requests in /usr/local/lib/python3.10/dist-packages (from keras-tuner) (2.31.0)\n",
            "Collecting kt-legacy (from keras-tuner)\n",
            "  Downloading kt_legacy-1.0.5-py3-none-any.whl (9.6 kB)\n",
            "Requirement already satisfied: charset-normalizer<4,>=2 in /usr/local/lib/python3.10/dist-packages (from requests->keras-tuner) (3.3.2)\n",
            "Requirement already satisfied: idna<4,>=2.5 in /usr/local/lib/python3.10/dist-packages (from requests->keras-tuner) (3.6)\n",
            "Requirement already satisfied: urllib3<3,>=1.21.1 in /usr/local/lib/python3.10/dist-packages (from requests->keras-tuner) (2.0.7)\n",
            "Requirement already satisfied: certifi>=2017.4.17 in /usr/local/lib/python3.10/dist-packages (from requests->keras-tuner) (2024.2.2)\n",
            "Installing collected packages: kt-legacy, keras-tuner\n",
            "Successfully installed keras-tuner-1.4.7 kt-legacy-1.0.5\n"
          ]
        }
      ]
    },
    {
      "cell_type": "code",
      "source": [
        "from keras_tuner.tuners import RandomSearch"
      ],
      "metadata": {
        "id": "_Za3lMOAHSkL"
      },
      "execution_count": null,
      "outputs": []
    },
    {
      "cell_type": "code",
      "source": [
        "tuner = RandomSearch(build_model, objective='loss',\n",
        "                     max_trials=500, executions_per_trial=3,\n",
        "                     directory='my_dir', project_name='cnn-tune')\n",
        "\n",
        "tuner.search_space_summary()\n",
        "tuner.search(dataset, epochs=100, verbose=2)"
      ],
      "metadata": {
        "colab": {
          "base_uri": "https://localhost:8080/"
        },
        "id": "LaNlqZtdGZEL",
        "outputId": "c9ceb992-14aa-4588-ddca-31faaf3f8189"
      },
      "execution_count": null,
      "outputs": [
        {
          "output_type": "stream",
          "name": "stdout",
          "text": [
            "Trial 25 Complete [00h 01m 42s]\n",
            "loss: 62.32232793172201\n",
            "\n",
            "Best loss So Far: 59.680739084879555\n",
            "Total elapsed time: 00h 44m 41s\n",
            "\n",
            "Search: Running Trial #26\n",
            "\n",
            "Value             |Best Value So Far |Hyperparameter\n",
            "192               |192               |units\n",
            "3                 |9                 |kernels\n",
            "1                 |1                 |strides\n",
            "\n",
            "Epoch 1/100\n",
            "31/31 - 1s - loss: 374.9189 - 1s/epoch - 40ms/step\n",
            "Epoch 2/100\n",
            "31/31 - 0s - loss: 93.4190 - 302ms/epoch - 10ms/step\n",
            "Epoch 3/100\n",
            "31/31 - 0s - loss: 74.5126 - 296ms/epoch - 10ms/step\n",
            "Epoch 4/100\n",
            "31/31 - 0s - loss: 67.6623 - 288ms/epoch - 9ms/step\n",
            "Epoch 5/100\n",
            "31/31 - 0s - loss: 66.4221 - 251ms/epoch - 8ms/step\n",
            "Epoch 6/100\n",
            "31/31 - 0s - loss: 64.8260 - 269ms/epoch - 9ms/step\n",
            "Epoch 7/100\n",
            "31/31 - 0s - loss: 64.9297 - 247ms/epoch - 8ms/step\n",
            "Epoch 8/100\n",
            "31/31 - 0s - loss: 64.4079 - 295ms/epoch - 10ms/step\n",
            "Epoch 9/100\n",
            "31/31 - 0s - loss: 64.6055 - 306ms/epoch - 10ms/step\n",
            "Epoch 10/100\n",
            "31/31 - 0s - loss: 63.6736 - 336ms/epoch - 11ms/step\n",
            "Epoch 11/100\n",
            "31/31 - 0s - loss: 64.6476 - 271ms/epoch - 9ms/step\n",
            "Epoch 12/100\n",
            "31/31 - 0s - loss: 63.9972 - 232ms/epoch - 7ms/step\n",
            "Epoch 13/100\n",
            "31/31 - 0s - loss: 63.5743 - 257ms/epoch - 8ms/step\n",
            "Epoch 14/100\n",
            "31/31 - 0s - loss: 63.6518 - 250ms/epoch - 8ms/step\n",
            "Epoch 15/100\n",
            "31/31 - 0s - loss: 63.7211 - 289ms/epoch - 9ms/step\n",
            "Epoch 16/100\n",
            "31/31 - 0s - loss: 63.8172 - 315ms/epoch - 10ms/step\n",
            "Epoch 17/100\n",
            "31/31 - 0s - loss: 63.6725 - 309ms/epoch - 10ms/step\n",
            "Epoch 18/100\n",
            "31/31 - 0s - loss: 63.6185 - 289ms/epoch - 9ms/step\n",
            "Epoch 19/100\n",
            "31/31 - 0s - loss: 63.3303 - 336ms/epoch - 11ms/step\n",
            "Epoch 20/100\n",
            "31/31 - 0s - loss: 63.8757 - 328ms/epoch - 11ms/step\n",
            "Epoch 21/100\n",
            "31/31 - 0s - loss: 63.7422 - 316ms/epoch - 10ms/step\n",
            "Epoch 22/100\n",
            "31/31 - 0s - loss: 64.1287 - 303ms/epoch - 10ms/step\n",
            "Epoch 23/100\n",
            "31/31 - 0s - loss: 63.5140 - 428ms/epoch - 14ms/step\n",
            "Epoch 24/100\n",
            "31/31 - 0s - loss: 63.2630 - 498ms/epoch - 16ms/step\n",
            "Epoch 25/100\n",
            "31/31 - 1s - loss: 63.0305 - 541ms/epoch - 17ms/step\n",
            "Epoch 26/100\n",
            "31/31 - 0s - loss: 63.4537 - 311ms/epoch - 10ms/step\n",
            "Epoch 27/100\n",
            "31/31 - 0s - loss: 63.0930 - 257ms/epoch - 8ms/step\n",
            "Epoch 28/100\n",
            "31/31 - 0s - loss: 63.3079 - 242ms/epoch - 8ms/step\n",
            "Epoch 29/100\n",
            "31/31 - 0s - loss: 63.1488 - 278ms/epoch - 9ms/step\n",
            "Epoch 30/100\n",
            "31/31 - 0s - loss: 63.5196 - 306ms/epoch - 10ms/step\n",
            "Epoch 31/100\n",
            "31/31 - 0s - loss: 62.7917 - 299ms/epoch - 10ms/step\n",
            "Epoch 32/100\n",
            "31/31 - 0s - loss: 63.3216 - 277ms/epoch - 9ms/step\n",
            "Epoch 33/100\n",
            "31/31 - 0s - loss: 62.5778 - 258ms/epoch - 8ms/step\n",
            "Epoch 34/100\n",
            "31/31 - 0s - loss: 62.7977 - 247ms/epoch - 8ms/step\n",
            "Epoch 35/100\n",
            "31/31 - 0s - loss: 62.2859 - 282ms/epoch - 9ms/step\n",
            "Epoch 36/100\n",
            "31/31 - 0s - loss: 62.6622 - 234ms/epoch - 8ms/step\n",
            "Epoch 37/100\n",
            "31/31 - 0s - loss: 62.5781 - 225ms/epoch - 7ms/step\n",
            "Epoch 38/100\n",
            "31/31 - 0s - loss: 62.3839 - 248ms/epoch - 8ms/step\n",
            "Epoch 39/100\n",
            "31/31 - 0s - loss: 62.7795 - 234ms/epoch - 8ms/step\n",
            "Epoch 40/100\n",
            "31/31 - 0s - loss: 62.4681 - 305ms/epoch - 10ms/step\n",
            "Epoch 41/100\n",
            "31/31 - 0s - loss: 62.6744 - 308ms/epoch - 10ms/step\n",
            "Epoch 42/100\n",
            "31/31 - 0s - loss: 62.9786 - 270ms/epoch - 9ms/step\n",
            "Epoch 43/100\n",
            "31/31 - 0s - loss: 62.0515 - 267ms/epoch - 9ms/step\n",
            "Epoch 44/100\n",
            "31/31 - 0s - loss: 62.5385 - 227ms/epoch - 7ms/step\n",
            "Epoch 45/100\n",
            "31/31 - 0s - loss: 62.5556 - 252ms/epoch - 8ms/step\n",
            "Epoch 46/100\n",
            "31/31 - 0s - loss: 62.0241 - 293ms/epoch - 9ms/step\n",
            "Epoch 47/100\n",
            "31/31 - 0s - loss: 62.4562 - 311ms/epoch - 10ms/step\n",
            "Epoch 48/100\n",
            "31/31 - 0s - loss: 62.5510 - 309ms/epoch - 10ms/step\n",
            "Epoch 49/100\n",
            "31/31 - 0s - loss: 62.1765 - 294ms/epoch - 9ms/step\n",
            "Epoch 50/100\n",
            "31/31 - 0s - loss: 62.3417 - 427ms/epoch - 14ms/step\n",
            "Epoch 51/100\n",
            "31/31 - 0s - loss: 62.4281 - 435ms/epoch - 14ms/step\n",
            "Epoch 52/100\n",
            "31/31 - 0s - loss: 62.9206 - 438ms/epoch - 14ms/step\n",
            "Epoch 53/100\n",
            "31/31 - 0s - loss: 62.4041 - 300ms/epoch - 10ms/step\n",
            "Epoch 54/100\n",
            "31/31 - 0s - loss: 62.2047 - 252ms/epoch - 8ms/step\n",
            "Epoch 55/100\n",
            "31/31 - 0s - loss: 62.2766 - 252ms/epoch - 8ms/step\n",
            "Epoch 56/100\n",
            "31/31 - 0s - loss: 62.4473 - 250ms/epoch - 8ms/step\n",
            "Epoch 57/100\n",
            "31/31 - 0s - loss: 62.3054 - 246ms/epoch - 8ms/step\n",
            "Epoch 58/100\n",
            "31/31 - 0s - loss: 62.4836 - 288ms/epoch - 9ms/step\n",
            "Epoch 59/100\n",
            "31/31 - 0s - loss: 61.9153 - 328ms/epoch - 11ms/step\n",
            "Epoch 60/100\n",
            "31/31 - 0s - loss: 61.6237 - 308ms/epoch - 10ms/step\n",
            "Epoch 61/100\n",
            "31/31 - 0s - loss: 62.1208 - 309ms/epoch - 10ms/step\n",
            "Epoch 62/100\n",
            "31/31 - 0s - loss: 62.4500 - 297ms/epoch - 10ms/step\n",
            "Epoch 63/100\n",
            "31/31 - 0s - loss: 63.0253 - 260ms/epoch - 8ms/step\n",
            "Epoch 64/100\n",
            "31/31 - 0s - loss: 62.2921 - 283ms/epoch - 9ms/step\n",
            "Epoch 65/100\n",
            "31/31 - 0s - loss: 62.0144 - 243ms/epoch - 8ms/step\n",
            "Epoch 66/100\n",
            "31/31 - 0s - loss: 62.2835 - 308ms/epoch - 10ms/step\n",
            "Epoch 67/100\n",
            "31/31 - 0s - loss: 62.0048 - 316ms/epoch - 10ms/step\n",
            "Epoch 68/100\n",
            "31/31 - 0s - loss: 62.2663 - 303ms/epoch - 10ms/step\n",
            "Epoch 69/100\n",
            "31/31 - 0s - loss: 62.3150 - 264ms/epoch - 9ms/step\n",
            "Epoch 70/100\n",
            "31/31 - 0s - loss: 62.6536 - 267ms/epoch - 9ms/step\n",
            "Epoch 71/100\n",
            "31/31 - 0s - loss: 62.3909 - 276ms/epoch - 9ms/step\n",
            "Epoch 72/100\n",
            "31/31 - 0s - loss: 62.3551 - 246ms/epoch - 8ms/step\n",
            "Epoch 73/100\n",
            "31/31 - 0s - loss: 62.1966 - 241ms/epoch - 8ms/step\n",
            "Epoch 74/100\n",
            "31/31 - 0s - loss: 62.3730 - 253ms/epoch - 8ms/step\n",
            "Epoch 75/100\n",
            "31/31 - 0s - loss: 62.1189 - 246ms/epoch - 8ms/step\n",
            "Epoch 76/100\n",
            "31/31 - 0s - loss: 62.0785 - 327ms/epoch - 11ms/step\n",
            "Epoch 77/100\n",
            "31/31 - 0s - loss: 62.3554 - 319ms/epoch - 10ms/step\n",
            "Epoch 78/100\n",
            "31/31 - 0s - loss: 62.1748 - 284ms/epoch - 9ms/step\n",
            "Epoch 79/100\n",
            "31/31 - 0s - loss: 63.1391 - 408ms/epoch - 13ms/step\n",
            "Epoch 80/100\n",
            "31/31 - 0s - loss: 61.9216 - 427ms/epoch - 14ms/step\n",
            "Epoch 81/100\n",
            "31/31 - 0s - loss: 62.1142 - 333ms/epoch - 11ms/step\n",
            "Epoch 82/100\n",
            "31/31 - 0s - loss: 62.6173 - 317ms/epoch - 10ms/step\n",
            "Epoch 83/100\n",
            "31/31 - 0s - loss: 62.4170 - 242ms/epoch - 8ms/step\n",
            "Epoch 84/100\n",
            "31/31 - 0s - loss: 63.2475 - 288ms/epoch - 9ms/step\n",
            "Epoch 85/100\n",
            "31/31 - 0s - loss: 62.2638 - 283ms/epoch - 9ms/step\n",
            "Epoch 86/100\n",
            "31/31 - 0s - loss: 62.1985 - 318ms/epoch - 10ms/step\n",
            "Epoch 87/100\n",
            "31/31 - 0s - loss: 61.8164 - 337ms/epoch - 11ms/step\n",
            "Epoch 88/100\n",
            "31/31 - 0s - loss: 61.8555 - 309ms/epoch - 10ms/step\n",
            "Epoch 89/100\n",
            "31/31 - 0s - loss: 62.1773 - 255ms/epoch - 8ms/step\n",
            "Epoch 90/100\n",
            "31/31 - 0s - loss: 62.1165 - 284ms/epoch - 9ms/step\n",
            "Epoch 91/100\n",
            "31/31 - 0s - loss: 62.0210 - 291ms/epoch - 9ms/step\n",
            "Epoch 92/100\n",
            "31/31 - 0s - loss: 62.1932 - 408ms/epoch - 13ms/step\n",
            "Epoch 93/100\n",
            "31/31 - 0s - loss: 63.2932 - 369ms/epoch - 12ms/step\n",
            "Epoch 94/100\n",
            "31/31 - 0s - loss: 61.7627 - 276ms/epoch - 9ms/step\n",
            "Epoch 95/100\n",
            "31/31 - 0s - loss: 62.2457 - 254ms/epoch - 8ms/step\n",
            "Epoch 96/100\n"
          ]
        }
      ]
    },
    {
      "cell_type": "code",
      "source": [
        "tuner.results_summary()"
      ],
      "metadata": {
        "id": "QpxAEfPfH14C"
      },
      "execution_count": null,
      "outputs": []
    },
    {
      "cell_type": "code",
      "source": [
        "best_model = tuner.get_best_models(num_models=1)[0]"
      ],
      "metadata": {
        "id": "sSGpO53eH57p"
      },
      "execution_count": null,
      "outputs": []
    },
    {
      "cell_type": "code",
      "source": [
        "forecast = model_forecast(best_model, series[..., np.newaxis], window_size)\n",
        "results = forecast[split_time - window_size:-1, -1, 0]"
      ],
      "metadata": {
        "id": "Rj0ZuGpiH9hq"
      },
      "execution_count": null,
      "outputs": []
    },
    {
      "cell_type": "code",
      "source": [
        "plt.figure(figsize=(10, 6))\n",
        "\n",
        "plot_series(time_valid, x_valid)\n",
        "plot_series(time_valid, results)"
      ],
      "metadata": {
        "id": "pVAVlIc1IDcE"
      },
      "execution_count": null,
      "outputs": []
    },
    {
      "cell_type": "code",
      "source": [
        "tf.keras.metrics.mean_absolute_error(x_valid, results).numpy()"
      ],
      "metadata": {
        "id": "9EdK7ZsGIFeY"
      },
      "execution_count": null,
      "outputs": []
    },
    {
      "cell_type": "markdown",
      "source": [
        "MAE 결과는 4.6이다. 합성곱층을 사용하지 않았을 때 얻은 것보다 증가했을 것이다.\n",
        "\n",
        "CNN 하이퍼 파라미터를 더 튜닝하면 더 좋은 성능을 얻을 수 있다"
      ],
      "metadata": {
        "id": "Zq29zoORIdTw"
      }
    },
    {
      "cell_type": "markdown",
      "source": [
        "***\n",
        "합성곱 외에도 LSTM을 포함해 RNN으로 자연어 처리를 다룬 장에서 살펴본 기술은 시퀀스 데이터를 다룰 때 유용할 수 있다.\n",
        "\n",
        "**RNN은 문맥을 유지하도록 고안되었고, 이전 스텝의 값이 다음 스텝의 값에 영향을 미칠 수 있다.**"
      ],
      "metadata": {
        "id": "Z1GiXWonIqI4"
      }
    },
    {
      "cell_type": "markdown",
      "source": [
        "***\n",
        "***"
      ],
      "metadata": {
        "id": "JgcpgtJkTX_k"
      }
    },
    {
      "cell_type": "markdown",
      "source": [
        "### 11.2. NASA 날씨 데이터 사용하기\n",
        "\n",
        "시계열 날씨 데이터에 대한 훌륭한 자료는 NASA의 고다드 우주 연구소(GISS)에서 공개한 표면 온도 분석 자료이다."
      ],
      "metadata": {
        "id": "lRYG-nokI9FP"
      }
    },
    {
      "cell_type": "code",
      "source": [
        "!wget https://storage.googleapis.com/learning-datasets/station.csv"
      ],
      "metadata": {
        "id": "ZtVXcRCpI7R7"
      },
      "execution_count": null,
      "outputs": []
    },
    {
      "cell_type": "markdown",
      "source": [
        "https://data.giss.nasa.gov/gistemp/\n",
        "자료"
      ],
      "metadata": {
        "id": "0bamuEKfKK3o"
      }
    },
    {
      "cell_type": "markdown",
      "source": [
        "csv 파일은 줄 단위로 읽는다. 종종 한 줄은 하나의 데이터 포인트를 나타낸다.\n",
        "\n",
        "이 파일은 한 줄에 12개의 데이터 포인터가 있으므로 이를 고려하며 데이터를 읽어야 한다."
      ],
      "metadata": {
        "id": "F-dYZ7y6TaGo"
      }
    },
    {
      "cell_type": "markdown",
      "source": [
        "#### 11.2.1. 파이썬으로 GISS 데이터 읽기\n",
        "\n",
        "GISS 데이터를 읽는 코드는 다음과 같다."
      ],
      "metadata": {
        "id": "ofOn3fheTlVO"
      }
    },
    {
      "cell_type": "code",
      "source": [
        "def get_station_data():\n",
        "  data_file = 'station.csv'\n",
        "  f = open(data_file)\n",
        "  data = f.read()\n",
        "  f.close()\n",
        "\n",
        "  lines = data.split('\\n')\n",
        "  header = lines[0].split(',')\n",
        "  lines = lines[1:]\n",
        "  temperatures = []\n",
        "  for line in lines:\n",
        "    if line:\n",
        "      linedata = line.split(',') # 하나의 변수에 저장하면 리스트로 저장됨\n",
        "      linedata = linedata[1:13] # 첫번째는 년도, 그 뒤는 다른값,(월-일 날씨 데이터)\n",
        "      for item in linedata:\n",
        "        if item:\n",
        "          temperatures.append(float(item))\n",
        "  series = np.asarray(temperatures) # 카피가 안 되는 배열\n",
        "  time = np.arange(len(temperatures), dtype='float32')\n",
        "  return time, series"
      ],
      "metadata": {
        "id": "A-s0ANbkIVu_"
      },
      "execution_count": null,
      "outputs": []
    },
    {
      "cell_type": "markdown",
      "source": [
        "- 지정한 경로에서 파일을 열고 전체 데이터를 한 줄로 읽는다. 그리고 줄바꿈 문자로 행을 구분한다.\n",
        "\n",
        "- 첫 번째 줄은 건너뛰고(헤더) 각 줄을 순회하면서 콤마(,)로 줄을 구분해 linedata 리스트에 추가한다.\n",
        "- 문자열로 저장되어 있으므로 실수로 변환해 temperatures 리스트에 추가한다.\n",
        "\n",
        "- time 배열은 np.arange 함수로 만들었기 때문에 첫 번째 원소가 0, 두 번쨰 원소가 1이 된다.\n",
        "- 따라서 이 함수는 0에서부터 데이터 포인트 개수 -1까지 스텝을 나타내는 time과 이 타임스텝의 데이터 series를 반환한다."
      ],
      "metadata": {
        "id": "7bNcIh6fIYz1"
      }
    },
    {
      "cell_type": "code",
      "source": [
        "data_file = 'station.csv'\n",
        "f2 = open(data_file)\n",
        "data2 = f2.read()\n",
        "f2.close()\n",
        "print(data2)"
      ],
      "metadata": {
        "id": "fe9tne6fZ7X-"
      },
      "execution_count": null,
      "outputs": []
    },
    {
      "cell_type": "markdown",
      "source": [
        "**시계열 데이터 정규화 하기 위해 다음 코드 실행**"
      ],
      "metadata": {
        "id": "ZyHHORK1VwgX"
      }
    },
    {
      "cell_type": "code",
      "source": [
        "time, series = get_station_data()\n",
        "mean = series.mean(axis=0)\n",
        "series -= mean\n",
        "std = series.std(axis=0) # 표준편차로 나눠줌\n",
        "series /= std"
      ],
      "metadata": {
        "id": "UbpwX6SXVqcM"
      },
      "execution_count": null,
      "outputs": []
    },
    {
      "cell_type": "markdown",
      "source": [
        "이전처럼 훈련 세트, 검증 세트로 나눈다.\n",
        "\n",
        "분할 위치는 데이터 크기에 따라 선택하면 된다.\n",
        "\n",
        "이 데이터는 840개이므로 792에서 나누겠다.(검증을 위해 4년치 데이터를 보관한다.)"
      ],
      "metadata": {
        "id": "UZJUV-EUXpvz"
      }
    },
    {
      "cell_type": "code",
      "source": [
        "split_time = 792\n",
        "time_train = time[:split_time]\n",
        "x_train = series[:split_time]\n",
        "time_valid = time[split_time:]\n",
        "x_valid = series[split_time:]"
      ],
      "metadata": {
        "id": "JYnSfj76Yn4i"
      },
      "execution_count": null,
      "outputs": []
    },
    {
      "cell_type": "markdown",
      "source": [
        "데이터가 넘파이 배열이기 때문에 이전 코드를 사용 가능"
      ],
      "metadata": {
        "id": "7uFbw5ctYS9z"
      }
    },
    {
      "cell_type": "code",
      "source": [
        "def windowed_dataset(series, window_size, batch_size, shuffle_buffer):\n",
        "    series = tf.expand_dims(series, axis=-1)\n",
        "    dataset = tf.data.Dataset.from_tensor_slices(series)\n",
        "    dataset = dataset.window(window_size + 1, shift=1, drop_remainder=True)\n",
        "    dataset = dataset.flat_map(lambda window: window.batch(window_size + 1)) # 데이터셋 원소에 매개변수로 전달된 함수를 적용하고 그 결과를 1차원 배열로 합친다\n",
        "    dataset = dataset.shuffle(shuffle_buffer).map(lambda window: (window[:-1], window[-1]))\n",
        "    dataset = dataset.batch(batch_size).prefetch(1) # 배치 크기를 2로 지정하겠다.\n",
        "    return dataset"
      ],
      "metadata": {
        "id": "pv3dEsTaYdrA"
      },
      "execution_count": null,
      "outputs": []
    },
    {
      "cell_type": "code",
      "source": [
        "window_size = 24\n",
        "batch_size = 12\n",
        "shuffle_buffer_size = 48\n",
        "dataset = windowed_dataset(x_train, window_size,\n",
        "                           batch_size, shuffle_buffer_size)\n",
        "valid_dataset = windowed_dataset(x_valid, window_size,\n",
        "                           batch_size, shuffle_buffer_size)"
      ],
      "metadata": {
        "id": "9XzrYHxbYU9c"
      },
      "execution_count": null,
      "outputs": []
    },
    {
      "cell_type": "markdown",
      "source": [
        "### 11.3. RNN으로 시퀀스 모델링하기\n",
        "\n",
        "RNN을 사용한 간단한 모델로 시작해보겠다"
      ],
      "metadata": {
        "id": "S7Gp7sjLZA89"
      }
    },
    {
      "cell_type": "code",
      "source": [
        "model = tf.keras.models.Sequential([\n",
        "    tf.keras.layers.SimpleRNN(100, return_sequences=True,\n",
        "                              input_shape=[None,1]),\n",
        "    tf.keras.layers.SimpleRNN(100),\n",
        "    tf.keras.layers.Dense(1)\n",
        "])"
      ],
      "metadata": {
        "id": "9_LLsMUJY9Vn"
      },
      "execution_count": null,
      "outputs": []
    },
    {
      "cell_type": "markdown",
      "source": [
        "RNN은 지금까지 본 타임 스텝의 상태를 유지하면서 스퀀스의 타임 스텝을 처리하는 내부 순환 루프를 가지고 있다.\n",
        "\n",
        "SimpleRNN에서는 현재 스텝의 출력이 다음 타임 스텝에 입력으로 전달된다."
      ],
      "metadata": {
        "id": "sDtJkFCcayUn"
      }
    },
    {
      "cell_type": "markdown",
      "source": [
        "하이퍼 파라미터는 간단하게 이전 설정 사용"
      ],
      "metadata": {
        "id": "Z4DiLy0ea9fj"
      }
    },
    {
      "cell_type": "code",
      "source": [
        "optimizer = tf.keras.optimizers.SGD(lr=1.5e-6, momentum=0.9)\n",
        "model.compile(loss=tf.keras.losses.Huber(),\n",
        "              optimizer=optimizer, metrics=['mae'])\n",
        "history = model.fit(dataset, epochs=100, verbose=1,\n",
        "                    validation_data=valid_dataset)"
      ],
      "metadata": {
        "id": "ZG_cJiZga_3E"
      },
      "execution_count": null,
      "outputs": []
    },
    {
      "cell_type": "code",
      "source": [
        "import matplotlib.pyplot as plt\n",
        "\n",
        "def plot_series(time, series, format=\"-\", start=0, end=None):\n",
        "    plt.plot(time[start:end], series[start:end], format)\n",
        "    plt.xlabel(\"Time\")\n",
        "    plt.ylabel(\"Value\")\n",
        "    plt.grid(True)"
      ],
      "metadata": {
        "id": "cBjMY4IMcLMk"
      },
      "execution_count": null,
      "outputs": []
    },
    {
      "cell_type": "code",
      "source": [
        "def model_forecast(model, series, window_size):\n",
        "    series = tf.expand_dims(series, axis=-1)\n",
        "    ds = tf.data.Dataset.from_tensor_slices(series) # 데이터셋 변환\n",
        "    ds = ds.window(window_size, shift=1, drop_remainder=True) # 1 칸씩 이동하며 찍음\n",
        "    # 원래 같은 경우 5 -> 4 -> 3 -> 처럼 iter 형식으로 받을 수 있었는데, flat_map을 사용하면 [5, 4, 3, 2, 1]로 바로 받을 수 있다,\n",
        "    ds = ds.flat_map(lambda w: w.batch(window_size)) # 데이터셋 원소에 매개변수로 전달된 함수를 적용하고 그 결과를 1차원 배열로 합친다\n",
        "    ds = ds.batch(32).prefetch(1)\n",
        "    forecast = model.predict(ds)\n",
        "    return forecast"
      ],
      "metadata": {
        "id": "x3tmM2NRdAov"
      },
      "execution_count": null,
      "outputs": []
    },
    {
      "cell_type": "markdown",
      "source": [],
      "metadata": {
        "id": "qGNAKL_3gJj3"
      }
    },
    {
      "cell_type": "code",
      "source": [
        "forecast = model_forecast(model, series[split_time - window_size:-1], window_size)[:,0]\n",
        "# 사이즈 맞추기 위해 끝에서 자름(time_valid.shape =(48, ) 이고, series[split_time-window_size:].shape=(49,) 이다."
      ],
      "metadata": {
        "id": "jjq-6KxwdBT3"
      },
      "execution_count": null,
      "outputs": []
    },
    {
      "cell_type": "code",
      "source": [
        "plt.figure(figsize=(10, 6))\n",
        "plot_series(time_valid, x_valid)\n",
        "plot_series(time_valid, forecast)"
      ],
      "metadata": {
        "id": "PODyF-ZHbroP"
      },
      "execution_count": null,
      "outputs": []
    },
    {
      "cell_type": "markdown",
      "source": [
        "결과가 매우 좋다. 간격이 좀 벌어진 부분도 있지만 전체적으로 나쁘지 않다."
      ],
      "metadata": {
        "id": "vculjFazf6a5"
      }
    },
    {
      "cell_type": "code",
      "source": [
        "plt.figure(figsize=(10, 6))\n",
        "plt.plot(history.history['loss'])"
      ],
      "metadata": {
        "id": "yeOpn2yPcdIZ"
      },
      "execution_count": null,
      "outputs": []
    },
    {
      "cell_type": "markdown",
      "source": [
        "에폭을 늘리면 일정 에폭에서부터 손실이 크게 줄지 않고 늘어나는 경우도 생긴다."
      ],
      "metadata": {
        "id": "JTrBygsohZvq"
      }
    },
    {
      "cell_type": "markdown",
      "source": [
        "#### 11.3.1. 대용량 데이터셋 사용하기\n",
        "\n",
        "KNMI Climate Explorer(https://oreil.ly/J8CP0) 는 전 세계 여러 지역의 상세한 날씨 데이터를 제공한다.\n",
        "\n"
      ],
      "metadata": {
        "id": "GdpUhBUThg8K"
      }
    },
    {
      "cell_type": "markdown",
      "source": [
        "여기선 1772년부터 2020년까지 영국 중심부의 일일 온도로 구성된 데이터셋(https://oreil.ly/OCqrj)를 다운로드해 사용한다.\n",
        "\n",
        "이 데이터는 GISS(바로 이전에 쓴 데이터) 데이터와 구조가 다르다.\n",
        "\n",
        " 날짜는 문자열이고, 여러개의 공백 뒤에 온도가 기록되어있다."
      ],
      "metadata": {
        "id": "JkDwOqkwhypI"
      }
    },
    {
      "cell_type": "markdown",
      "source": [
        "헤더 제외하고 공백 삭제하여 데이터 준비"
      ],
      "metadata": {
        "id": "6qMId9EAPt5-"
      }
    },
    {
      "cell_type": "code",
      "source": [
        "!wget https://storage.googleapis.com/learning-datasets/tdaily_cet.dat.txt"
      ],
      "metadata": {
        "id": "HAdSwdIxP1pk"
      },
      "execution_count": null,
      "outputs": []
    },
    {
      "cell_type": "code",
      "source": [
        "def get_tdaily_data():\n",
        "  data_file = 'tdaily_cet.dat.txt'\n",
        "  f = open(data_file)\n",
        "  data = f.read()\n",
        "  f.close()\n",
        "\n",
        "  lines = data.split('\\n')\n",
        "  temperatures = []\n",
        "  for line in lines:\n",
        "    if line:\n",
        "      linedata = line.split(' ') # 하나의 변수에 저장하면 리스트로 저장됨\n",
        "      temperatures.append(float(linedata[1])) # 0번쨰는 연도, 1번째는 온도\n",
        "\n",
        "  series = np.asarray(temperatures) # 카피가 안 되는 배열\n",
        "  time = np.arange(len(temperatures), dtype='float32')\n",
        "  return time, series"
      ],
      "metadata": {
        "id": "EqdUzcGShfIn"
      },
      "execution_count": null,
      "outputs": []
    },
    {
      "cell_type": "markdown",
      "source": [
        "데이터 포인트 90,663개로 구성.\n",
        "\n",
        "80,000 번 타임 스텝 기준으로 나누어 10,663 개 데이터를 검증세트로 쓰겠다.\n",
        "\n",
        "윈도우 사이즈, 배치 크기, 셔플 버퍼 크기를 적절히 바꾸고 나머지는 동일하게"
      ],
      "metadata": {
        "id": "CwWq7SjPQX8u"
      }
    },
    {
      "cell_type": "code",
      "source": [
        "time, series = get_tdaily_data()\n",
        "mean = series.mean(axis=0)\n",
        "series -= mean\n",
        "std = series.std(axis=0)\n",
        "series /= std\n",
        "\n",
        "split_time = 80000\n",
        "time_train = time[:split_time]\n",
        "x_train = series[:split_time]\n",
        "time_valid = time[split_time:]\n",
        "x_valid = series[split_time:]"
      ],
      "metadata": {
        "id": "repVZYTAQy1P"
      },
      "execution_count": null,
      "outputs": []
    },
    {
      "cell_type": "code",
      "source": [
        "print(series.shape)"
      ],
      "metadata": {
        "id": "Kie-Tdg7RQ0q"
      },
      "execution_count": null,
      "outputs": []
    },
    {
      "cell_type": "code",
      "source": [
        "window_size = 60\n",
        "batch_size = 120\n",
        "shuffle_buffer_size = 240\n",
        "# 임의로 정한 것(책)\n",
        "\n",
        "dataset = windowed_dataset(x_train, window_size, batch_size, shuffle_buffer_size)\n",
        "valid_dataset = windowed_dataset(x_valid, window_size, batch_size, shuffle_buffer_size)\n",
        "# it just denotes that you are free to select the length (number of samples)\n",
        "# of your input during testing. -> [None, 1]로 할 떄\n",
        "model = tf.keras.models.Sequential([\n",
        "    tf.keras.layers.SimpleRNN(100, input_shape=[None, 1], return_sequences=True),\n",
        "    tf.keras.layers.SimpleRNN(100),\n",
        "    tf.keras.layers.Dense(1),\n",
        "])\n",
        "\n",
        "optimizer = tf.keras.optimizers.SGD(learning_rate=1e-4, momentum=0.7)\n",
        "model.compile(loss=tf.keras.losses.Huber(), optimizer=optimizer, metrics=[\"mae\"])\n",
        "history = model.fit(dataset, epochs=100, verbose=1, validation_data=valid_dataset)\n"
      ],
      "metadata": {
        "colab": {
          "base_uri": "https://localhost:8080/"
        },
        "id": "vUngSxeiQghC",
        "outputId": "31e91126-15bf-4e14-8e79-7d0b762129ba"
      },
      "execution_count": null,
      "outputs": [
        {
          "output_type": "stream",
          "name": "stdout",
          "text": [
            "Epoch 1/100\n",
            "667/667 [==============================] - 69s 100ms/step - loss: 0.1576 - mae: 0.4468 - val_loss: 0.1082 - val_mae: 0.3689\n",
            "Epoch 2/100\n",
            "667/667 [==============================] - 65s 97ms/step - loss: 0.1024 - mae: 0.3581 - val_loss: 0.0855 - val_mae: 0.3273\n",
            "Epoch 3/100\n",
            "667/667 [==============================] - 66s 99ms/step - loss: 0.0867 - mae: 0.3290 - val_loss: 0.0749 - val_mae: 0.3064\n",
            "Epoch 4/100\n",
            "667/667 [==============================] - 64s 96ms/step - loss: 0.0782 - mae: 0.3122 - val_loss: 0.0683 - val_mae: 0.2927\n",
            "Epoch 5/100\n",
            "667/667 [==============================] - 62s 93ms/step - loss: 0.0727 - mae: 0.3006 - val_loss: 0.0638 - val_mae: 0.2828\n",
            "Epoch 6/100\n",
            "667/667 [==============================] - 66s 100ms/step - loss: 0.0688 - mae: 0.2922 - val_loss: 0.0605 - val_mae: 0.2754\n",
            "Epoch 7/100\n",
            "667/667 [==============================] - 65s 97ms/step - loss: 0.0659 - mae: 0.2858 - val_loss: 0.0580 - val_mae: 0.2698\n",
            "Epoch 8/100\n",
            "667/667 [==============================] - 65s 98ms/step - loss: 0.0637 - mae: 0.2809 - val_loss: 0.0561 - val_mae: 0.2654\n",
            "Epoch 9/100\n",
            "667/667 [==============================] - 63s 94ms/step - loss: 0.0621 - mae: 0.2771 - val_loss: 0.0547 - val_mae: 0.2619\n",
            "Epoch 10/100\n",
            "667/667 [==============================] - 67s 101ms/step - loss: 0.0608 - mae: 0.2740 - val_loss: 0.0535 - val_mae: 0.2592\n",
            "Epoch 11/100\n",
            "667/667 [==============================] - 68s 102ms/step - loss: 0.0598 - mae: 0.2716 - val_loss: 0.0526 - val_mae: 0.2569\n",
            "Epoch 12/100\n",
            "667/667 [==============================] - 68s 102ms/step - loss: 0.0590 - mae: 0.2696 - val_loss: 0.0518 - val_mae: 0.2550\n",
            "Epoch 13/100\n",
            "667/667 [==============================] - 67s 101ms/step - loss: 0.0583 - mae: 0.2680 - val_loss: 0.0512 - val_mae: 0.2535\n",
            "Epoch 14/100\n",
            "667/667 [==============================] - 68s 101ms/step - loss: 0.0578 - mae: 0.2667 - val_loss: 0.0507 - val_mae: 0.2523\n",
            "Epoch 15/100\n",
            "667/667 [==============================] - 67s 100ms/step - loss: 0.0574 - mae: 0.2655 - val_loss: 0.0503 - val_mae: 0.2512\n",
            "Epoch 16/100\n",
            "667/667 [==============================] - 66s 99ms/step - loss: 0.0570 - mae: 0.2646 - val_loss: 0.0499 - val_mae: 0.2503\n",
            "Epoch 17/100\n",
            "667/667 [==============================] - 68s 101ms/step - loss: 0.0567 - mae: 0.2638 - val_loss: 0.0496 - val_mae: 0.2496\n",
            "Epoch 18/100\n",
            "667/667 [==============================] - 71s 106ms/step - loss: 0.0565 - mae: 0.2631 - val_loss: 0.0494 - val_mae: 0.2489\n",
            "Epoch 19/100\n",
            "667/667 [==============================] - 67s 101ms/step - loss: 0.0563 - mae: 0.2626 - val_loss: 0.0491 - val_mae: 0.2484\n",
            "Epoch 20/100\n",
            "667/667 [==============================] - 67s 100ms/step - loss: 0.0561 - mae: 0.2621 - val_loss: 0.0489 - val_mae: 0.2479\n",
            "Epoch 21/100\n",
            "667/667 [==============================] - 67s 100ms/step - loss: 0.0559 - mae: 0.2616 - val_loss: 0.0488 - val_mae: 0.2475\n",
            "Epoch 22/100\n",
            "667/667 [==============================] - 67s 100ms/step - loss: 0.0558 - mae: 0.2613 - val_loss: 0.0486 - val_mae: 0.2471\n",
            "Epoch 23/100\n",
            "667/667 [==============================] - 68s 102ms/step - loss: 0.0557 - mae: 0.2609 - val_loss: 0.0485 - val_mae: 0.2467\n",
            "Epoch 24/100\n",
            "667/667 [==============================] - 67s 100ms/step - loss: 0.0556 - mae: 0.2606 - val_loss: 0.0484 - val_mae: 0.2464\n",
            "Epoch 25/100\n",
            "667/667 [==============================] - 68s 101ms/step - loss: 0.0555 - mae: 0.2604 - val_loss: 0.0483 - val_mae: 0.2462\n",
            "Epoch 26/100\n",
            "667/667 [==============================] - 65s 98ms/step - loss: 0.0554 - mae: 0.2602 - val_loss: 0.0482 - val_mae: 0.2459\n",
            "Epoch 27/100\n",
            "667/667 [==============================] - 68s 102ms/step - loss: 0.0553 - mae: 0.2600 - val_loss: 0.0481 - val_mae: 0.2457\n",
            "Epoch 28/100\n",
            "667/667 [==============================] - 65s 97ms/step - loss: 0.0553 - mae: 0.2598 - val_loss: 0.0480 - val_mae: 0.2455\n",
            "Epoch 29/100\n",
            "667/667 [==============================] - 67s 100ms/step - loss: 0.0552 - mae: 0.2596 - val_loss: 0.0479 - val_mae: 0.2454\n",
            "Epoch 30/100\n",
            "667/667 [==============================] - 67s 100ms/step - loss: 0.0552 - mae: 0.2595 - val_loss: 0.0479 - val_mae: 0.2452\n",
            "Epoch 31/100\n",
            "667/667 [==============================] - 67s 100ms/step - loss: 0.0551 - mae: 0.2593 - val_loss: 0.0478 - val_mae: 0.2451\n",
            "Epoch 32/100\n",
            "667/667 [==============================] - 67s 101ms/step - loss: 0.0551 - mae: 0.2592 - val_loss: 0.0477 - val_mae: 0.2449\n",
            "Epoch 33/100\n",
            "667/667 [==============================] - 67s 100ms/step - loss: 0.0550 - mae: 0.2591 - val_loss: 0.0477 - val_mae: 0.2448\n",
            "Epoch 34/100\n",
            "667/667 [==============================] - 67s 100ms/step - loss: 0.0550 - mae: 0.2590 - val_loss: 0.0476 - val_mae: 0.2447\n",
            "Epoch 35/100\n",
            "667/667 [==============================] - 68s 102ms/step - loss: 0.0550 - mae: 0.2589 - val_loss: 0.0476 - val_mae: 0.2446\n",
            "Epoch 36/100\n",
            "667/667 [==============================] - 66s 99ms/step - loss: 0.0549 - mae: 0.2588 - val_loss: 0.0476 - val_mae: 0.2444\n",
            "Epoch 37/100\n",
            "667/667 [==============================] - 68s 102ms/step - loss: 0.0549 - mae: 0.2587 - val_loss: 0.0475 - val_mae: 0.2444\n",
            "Epoch 38/100\n",
            "667/667 [==============================] - 66s 99ms/step - loss: 0.0549 - mae: 0.2586 - val_loss: 0.0475 - val_mae: 0.2443\n",
            "Epoch 39/100\n",
            "667/667 [==============================] - 66s 99ms/step - loss: 0.0548 - mae: 0.2586 - val_loss: 0.0474 - val_mae: 0.2442\n",
            "Epoch 40/100\n",
            "667/667 [==============================] - 67s 100ms/step - loss: 0.0548 - mae: 0.2585 - val_loss: 0.0474 - val_mae: 0.2441\n",
            "Epoch 41/100\n",
            "667/667 [==============================] - 66s 98ms/step - loss: 0.0548 - mae: 0.2584 - val_loss: 0.0474 - val_mae: 0.2440\n",
            "Epoch 42/100\n",
            "667/667 [==============================] - 66s 99ms/step - loss: 0.0548 - mae: 0.2584 - val_loss: 0.0473 - val_mae: 0.2439\n",
            "Epoch 43/100\n",
            "667/667 [==============================] - 67s 101ms/step - loss: 0.0547 - mae: 0.2583 - val_loss: 0.0473 - val_mae: 0.2438\n",
            "Epoch 44/100\n",
            "667/667 [==============================] - 69s 103ms/step - loss: 0.0547 - mae: 0.2583 - val_loss: 0.0473 - val_mae: 0.2438\n",
            "Epoch 45/100\n",
            "667/667 [==============================] - 66s 99ms/step - loss: 0.0547 - mae: 0.2582 - val_loss: 0.0473 - val_mae: 0.2437\n",
            "Epoch 46/100\n",
            "667/667 [==============================] - 68s 102ms/step - loss: 0.0547 - mae: 0.2582 - val_loss: 0.0472 - val_mae: 0.2436\n",
            "Epoch 47/100\n",
            "667/667 [==============================] - 66s 99ms/step - loss: 0.0547 - mae: 0.2581 - val_loss: 0.0472 - val_mae: 0.2436\n",
            "Epoch 48/100\n",
            "667/667 [==============================] - 68s 102ms/step - loss: 0.0546 - mae: 0.2581 - val_loss: 0.0472 - val_mae: 0.2435\n",
            "Epoch 49/100\n",
            "667/667 [==============================] - 66s 100ms/step - loss: 0.0546 - mae: 0.2580 - val_loss: 0.0472 - val_mae: 0.2435\n",
            "Epoch 50/100\n",
            "667/667 [==============================] - 68s 102ms/step - loss: 0.0546 - mae: 0.2580 - val_loss: 0.0471 - val_mae: 0.2434\n",
            "Epoch 51/100\n",
            "667/667 [==============================] - 67s 101ms/step - loss: 0.0546 - mae: 0.2579 - val_loss: 0.0471 - val_mae: 0.2434\n",
            "Epoch 52/100\n",
            "667/667 [==============================] - 68s 102ms/step - loss: 0.0546 - mae: 0.2579 - val_loss: 0.0471 - val_mae: 0.2433\n",
            "Epoch 53/100\n",
            "667/667 [==============================] - 67s 100ms/step - loss: 0.0546 - mae: 0.2578 - val_loss: 0.0471 - val_mae: 0.2433\n",
            "Epoch 54/100\n",
            "667/667 [==============================] - 67s 100ms/step - loss: 0.0546 - mae: 0.2578 - val_loss: 0.0471 - val_mae: 0.2432\n",
            "Epoch 55/100\n",
            "667/667 [==============================] - 65s 97ms/step - loss: 0.0545 - mae: 0.2578 - val_loss: 0.0470 - val_mae: 0.2431\n",
            "Epoch 56/100\n",
            "667/667 [==============================] - 68s 101ms/step - loss: 0.0545 - mae: 0.2577 - val_loss: 0.0470 - val_mae: 0.2431\n",
            "Epoch 57/100\n",
            "667/667 [==============================] - 66s 99ms/step - loss: 0.0545 - mae: 0.2577 - val_loss: 0.0470 - val_mae: 0.2430\n",
            "Epoch 58/100\n",
            "667/667 [==============================] - 68s 101ms/step - loss: 0.0545 - mae: 0.2577 - val_loss: 0.0470 - val_mae: 0.2430\n",
            "Epoch 59/100\n",
            "667/667 [==============================] - 67s 100ms/step - loss: 0.0545 - mae: 0.2576 - val_loss: 0.0470 - val_mae: 0.2430\n",
            "Epoch 60/100\n",
            "667/667 [==============================] - 65s 97ms/step - loss: 0.0545 - mae: 0.2576 - val_loss: 0.0470 - val_mae: 0.2429\n",
            "Epoch 61/100\n",
            "667/667 [==============================] - 66s 99ms/step - loss: 0.0545 - mae: 0.2576 - val_loss: 0.0470 - val_mae: 0.2429\n",
            "Epoch 62/100\n",
            "667/667 [==============================] - 68s 101ms/step - loss: 0.0544 - mae: 0.2575 - val_loss: 0.0469 - val_mae: 0.2428\n",
            "Epoch 63/100\n",
            "667/667 [==============================] - 68s 102ms/step - loss: 0.0544 - mae: 0.2575 - val_loss: 0.0469 - val_mae: 0.2428\n",
            "Epoch 64/100\n",
            "667/667 [==============================] - 67s 100ms/step - loss: 0.0544 - mae: 0.2575 - val_loss: 0.0469 - val_mae: 0.2428\n",
            "Epoch 65/100\n",
            "667/667 [==============================] - 67s 100ms/step - loss: 0.0544 - mae: 0.2574 - val_loss: 0.0469 - val_mae: 0.2427\n",
            "Epoch 66/100\n",
            "667/667 [==============================] - 65s 98ms/step - loss: 0.0544 - mae: 0.2574 - val_loss: 0.0469 - val_mae: 0.2427\n",
            "Epoch 67/100\n",
            "667/667 [==============================] - 67s 100ms/step - loss: 0.0544 - mae: 0.2574 - val_loss: 0.0469 - val_mae: 0.2426\n",
            "Epoch 68/100\n",
            "667/667 [==============================] - 66s 99ms/step - loss: 0.0544 - mae: 0.2574 - val_loss: 0.0469 - val_mae: 0.2426\n",
            "Epoch 69/100\n",
            "667/667 [==============================] - 67s 101ms/step - loss: 0.0544 - mae: 0.2573 - val_loss: 0.0468 - val_mae: 0.2426\n",
            "Epoch 70/100\n",
            "667/667 [==============================] - 67s 100ms/step - loss: 0.0544 - mae: 0.2573 - val_loss: 0.0468 - val_mae: 0.2425\n",
            "Epoch 71/100\n",
            "667/667 [==============================] - 68s 102ms/step - loss: 0.0543 - mae: 0.2573 - val_loss: 0.0468 - val_mae: 0.2425\n",
            "Epoch 72/100\n",
            "667/667 [==============================] - 65s 98ms/step - loss: 0.0543 - mae: 0.2573 - val_loss: 0.0468 - val_mae: 0.2425\n",
            "Epoch 73/100\n",
            "667/667 [==============================] - 67s 100ms/step - loss: 0.0543 - mae: 0.2572 - val_loss: 0.0468 - val_mae: 0.2424\n",
            "Epoch 74/100\n",
            "667/667 [==============================] - 66s 98ms/step - loss: 0.0543 - mae: 0.2572 - val_loss: 0.0468 - val_mae: 0.2424\n",
            "Epoch 75/100\n",
            "667/667 [==============================] - 65s 98ms/step - loss: 0.0543 - mae: 0.2572 - val_loss: 0.0468 - val_mae: 0.2424\n",
            "Epoch 76/100\n",
            "667/667 [==============================] - 67s 100ms/step - loss: 0.0543 - mae: 0.2572 - val_loss: 0.0468 - val_mae: 0.2424\n",
            "Epoch 77/100\n",
            "667/667 [==============================] - 66s 99ms/step - loss: 0.0543 - mae: 0.2572 - val_loss: 0.0468 - val_mae: 0.2423\n",
            "Epoch 78/100\n",
            "667/667 [==============================] - 65s 98ms/step - loss: 0.0543 - mae: 0.2571 - val_loss: 0.0467 - val_mae: 0.2423\n",
            "Epoch 79/100\n",
            "667/667 [==============================] - 64s 96ms/step - loss: 0.0543 - mae: 0.2571 - val_loss: 0.0467 - val_mae: 0.2423\n",
            "Epoch 80/100\n",
            "667/667 [==============================] - 64s 95ms/step - loss: 0.0543 - mae: 0.2571 - val_loss: 0.0467 - val_mae: 0.2422\n",
            "Epoch 81/100\n",
            "667/667 [==============================] - 62s 93ms/step - loss: 0.0543 - mae: 0.2571 - val_loss: 0.0467 - val_mae: 0.2422\n",
            "Epoch 82/100\n",
            "667/667 [==============================] - 65s 97ms/step - loss: 0.0543 - mae: 0.2571 - val_loss: 0.0467 - val_mae: 0.2422\n",
            "Epoch 83/100\n",
            "667/667 [==============================] - 62s 93ms/step - loss: 0.0542 - mae: 0.2570 - val_loss: 0.0467 - val_mae: 0.2422\n",
            "Epoch 84/100\n",
            "667/667 [==============================] - 65s 97ms/step - loss: 0.0542 - mae: 0.2570 - val_loss: 0.0467 - val_mae: 0.2421\n",
            "Epoch 85/100\n",
            "667/667 [==============================] - 63s 94ms/step - loss: 0.0542 - mae: 0.2570 - val_loss: 0.0467 - val_mae: 0.2421\n",
            "Epoch 86/100\n",
            "667/667 [==============================] - 64s 95ms/step - loss: 0.0542 - mae: 0.2570 - val_loss: 0.0467 - val_mae: 0.2421\n",
            "Epoch 87/100\n",
            "667/667 [==============================] - 63s 95ms/step - loss: 0.0542 - mae: 0.2570 - val_loss: 0.0467 - val_mae: 0.2421\n",
            "Epoch 88/100\n",
            "667/667 [==============================] - 63s 94ms/step - loss: 0.0542 - mae: 0.2569 - val_loss: 0.0467 - val_mae: 0.2421\n",
            "Epoch 89/100\n",
            "667/667 [==============================] - 64s 96ms/step - loss: 0.0542 - mae: 0.2569 - val_loss: 0.0466 - val_mae: 0.2420\n",
            "Epoch 90/100\n",
            "667/667 [==============================] - 64s 96ms/step - loss: 0.0542 - mae: 0.2569 - val_loss: 0.0466 - val_mae: 0.2420\n",
            "Epoch 91/100\n",
            "667/667 [==============================] - 64s 96ms/step - loss: 0.0542 - mae: 0.2569 - val_loss: 0.0466 - val_mae: 0.2420\n",
            "Epoch 92/100\n",
            "667/667 [==============================] - 62s 93ms/step - loss: 0.0542 - mae: 0.2569 - val_loss: 0.0466 - val_mae: 0.2420\n",
            "Epoch 93/100\n",
            "667/667 [==============================] - 66s 99ms/step - loss: 0.0542 - mae: 0.2569 - val_loss: 0.0466 - val_mae: 0.2420\n",
            "Epoch 94/100\n",
            "667/667 [==============================] - 65s 97ms/step - loss: 0.0542 - mae: 0.2569 - val_loss: 0.0466 - val_mae: 0.2420\n",
            "Epoch 95/100\n",
            "522/667 [======================>.......] - ETA: 12s - loss: 0.0569 - mae: 0.2629"
          ]
        }
      ]
    },
    {
      "cell_type": "markdown",
      "source": [
        "cpu로 돌리는 게 더 빠르네?"
      ],
      "metadata": {
        "id": "IhJaQ2XozBHb"
      }
    },
    {
      "cell_type": "code",
      "source": [
        "import matplotlib.pyplot as plt\n",
        "\n",
        "def plot_series(time, series, format=\"-\", start=0, end=None):\n",
        "    plt.plot(time[start:end], series[start:end], format)\n",
        "    plt.xlabel(\"Time\")\n",
        "    plt.ylabel(\"Value\")\n",
        "    plt.grid(True)"
      ],
      "metadata": {
        "id": "hIiCxvG2TEIV"
      },
      "execution_count": 47,
      "outputs": []
    },
    {
      "cell_type": "code",
      "source": [
        "def model_forecast(model, series, window_size):\n",
        "    series = tf.expand_dims(series, axis=-1)\n",
        "    ds = tf.data.Dataset.from_tensor_slices(series) # 데이터셋 변환\n",
        "    ds = ds.window(window_size, shift=1, drop_remainder=True) # 1 칸씩 이동하며 찍음\n",
        "    # 원래 같은 경우 5 -> 4 -> 3 -> 처럼 iter 형식으로 받을 수 있었는데, flat_map을 사용하면 [5, 4, 3, 2, 1]로 바로 받을 수 있다,\n",
        "    ds = ds.flat_map(lambda w: w.batch(window_size)) # 데이터셋 원소에 매개변수로 전달된 함수를 적용하고 그 결과를 1차원 배열로 합친다\n",
        "    ds = ds.batch(32).prefetch(1)\n",
        "    forecast = model.predict(ds)\n",
        "    return forecast"
      ],
      "metadata": {
        "id": "RyplyGZcTE2W"
      },
      "execution_count": 48,
      "outputs": []
    },
    {
      "cell_type": "code",
      "source": [
        "forecast = model_forecast(model, series[split_time - window_size:-1], window_size)[:,0]\n",
        "# 사이즈 맞추기 위해 끝에서 자름(time_valid.shape =(48, ) 이고, series[split_time-window_size:].shape=(49,) 이다."
      ],
      "metadata": {
        "id": "ETYu2T1VQlMs",
        "colab": {
          "base_uri": "https://localhost:8080/"
        },
        "outputId": "2f8b8b1b-1309-442d-83cc-a720a5d2ef2e"
      },
      "execution_count": 49,
      "outputs": [
        {
          "output_type": "stream",
          "name": "stdout",
          "text": [
            "334/334 [==============================] - 6s 19ms/step\n"
          ]
        }
      ]
    },
    {
      "cell_type": "code",
      "source": [
        "plt.figure(figsize=(10, 6))\n",
        "plot_series(time_valid, x_valid)\n",
        "plot_series(time_valid, forecast)"
      ],
      "metadata": {
        "id": "MeYibkpBTLEm",
        "colab": {
          "base_uri": "https://localhost:8080/",
          "height": 542
        },
        "outputId": "b1baea11-07f0-4f6c-cc5f-ea4a0e9074c2"
      },
      "execution_count": 50,
      "outputs": [
        {
          "output_type": "display_data",
          "data": {
            "text/plain": [
              "<Figure size 1000x600 with 1 Axes>"
            ],
            "image/png": "[encoded data removed]"
          },
          "metadata": {}
        }
      ]
    },
    {
      "cell_type": "markdown",
      "source": [
        "그래프 결과가 상당하 좋아 보인다."
      ],
      "metadata": {
        "id": "sT_2VRP1TbZk"
      }
    },
    {
      "cell_type": "markdown",
      "source": [
        "데이터가 너무 많아 구분하기 어려우니 마지막 100일치만 확대해서 보겠다."
      ],
      "metadata": {
        "id": "82Zb1O76TVU5"
      }
    },
    {
      "cell_type": "code",
      "source": [
        "plt.figure(figsize=(10,6))\n",
        "plot_series(time_valid[-100:], x_valid[-100:])\n",
        "plot_series(time_valid[-100:], forecast[-100:])\n",
        "plt.show()"
      ],
      "metadata": {
        "id": "Z1kh-BOcTNq8",
        "colab": {
          "base_uri": "https://localhost:8080/",
          "height": 542
        },
        "outputId": "791e816e-cef1-4359-dc29-7a176d335205"
      },
      "execution_count": 51,
      "outputs": [
        {
          "output_type": "display_data",
          "data": {
            "text/plain": [
              "<Figure size 1000x600 with 1 Axes>"
            ],
            "image/png": "[encoded data removed]"
          },
          "metadata": {}
        }
      ]
    },
    {
      "cell_type": "markdown",
      "source": [
        "예측 곡선이 대체적으로 데이터를 따라가고 트렌드를 정확하게 예측하고 있지만, 특히 양극단에서 상당히 간격이 벌어져 있으므로 개선할 여지가 있다."
      ],
      "metadata": {
        "id": "-5-6Iev2Tfs0"
      }
    },
    {
      "cell_type": "code",
      "source": [
        "plt.plot(history.history['mae'])"
      ],
      "metadata": {
        "id": "t3Nz3hEITdE_",
        "colab": {
          "base_uri": "https://localhost:8080/",
          "height": 448
        },
        "outputId": "dd74ddfd-7eee-490e-c69c-ca48e62043f1"
      },
      "execution_count": 52,
      "outputs": [
        {
          "output_type": "execute_result",
          "data": {
            "text/plain": [
              "[<matplotlib.lines.Line2D at 0x7ea594ce7340>]"
            ]
          },
          "metadata": {},
          "execution_count": 52
        },
        {
          "output_type": "display_data",
          "data": {
            "text/plain": [
              "<Figure size 640x480 with 1 Axes>"
            ],
            "image/png": "[encoded data removed]"
          },
          "metadata": {}
        }
      ]
    },
    {
      "cell_type": "markdown",
      "source": [
        "데이터를 정규화 했기 떄문에 MAE가 낮아보인다. 오해를 일으킬 수 있다."
      ],
      "metadata": {
        "id": "-e477K9nUIMZ"
      }
    },
    {
      "cell_type": "markdown",
      "source": [
        "### 11.4. 다른 순환 층\n",
        "\n",
        "SimpleRNN 이외에도 **GRU** 와 **LSTM** 같은 다른 종류의 순환 층을 제공한다.\n",
        "\n",
        "\n",
        "이 장에서처럼 데이터를 TFRecord 기반으로 구성하면 이런 RNN 층을 바꾸어 실험하는 작업이 비교적 간단하다.\n",
        "\n",
        "**GRU** 로 바꾸는 작업을 보겠다.\n"
      ],
      "metadata": {
        "id": "2OPtucfzUPpp"
      }
    },
    {
      "cell_type": "code",
      "source": [
        "import tensorflow as tf\n",
        "model = tf.keras.models.Seuquential([\n",
        "    tf.keras.layers.GRU(100, input_shape=[None, 1],\n",
        "                        return_sequences=True),\n",
        "    tf.keras.layers.GRU(100),\n",
        "    tf.keras.layers.Dense(1)\n",
        "])"
      ],
      "metadata": {
        "id": "XMqLxW_IT_mo",
        "colab": {
          "base_uri": "https://localhost:8080/",
          "height": 216
        },
        "outputId": "a39fc636-d5fd-4f52-8fc2-9cd696d8a55c"
      },
      "execution_count": 58,
      "outputs": [
        {
          "output_type": "error",
          "ename": "AttributeError",
          "evalue": "module 'keras.api._v2.keras.models' has no attribute 'Seuquential'",
          "traceback": [
            "\u001b[0;31m---------------------------------------------------------------------------\u001b[0m",
            "\u001b[0;31mAttributeError\u001b[0m                            Traceback (most recent call last)",
            "\u001b[0;32m<ipython-input-58-d80bc762b2fe>\u001b[0m in \u001b[0;36m<cell line: 2>\u001b[0;34m()\u001b[0m\n\u001b[1;32m      1\u001b[0m \u001b[0;32mimport\u001b[0m \u001b[0mtensorflow\u001b[0m \u001b[0;32mas\u001b[0m \u001b[0mtf\u001b[0m\u001b[0;34m\u001b[0m\u001b[0;34m\u001b[0m\u001b[0m\n\u001b[0;32m----> 2\u001b[0;31m model = tf.keras.models.Seuquential([\n\u001b[0m\u001b[1;32m      3\u001b[0m     tf.keras.layers.GRU(100, input_shape=[None, 1],\n\u001b[1;32m      4\u001b[0m                         return_sequences=True),\n\u001b[1;32m      5\u001b[0m     \u001b[0mtf\u001b[0m\u001b[0;34m.\u001b[0m\u001b[0mkeras\u001b[0m\u001b[0;34m.\u001b[0m\u001b[0mlayers\u001b[0m\u001b[0;34m.\u001b[0m\u001b[0mGRU\u001b[0m\u001b[0;34m(\u001b[0m\u001b[0;36m100\u001b[0m\u001b[0;34m)\u001b[0m\u001b[0;34m,\u001b[0m\u001b[0;34m\u001b[0m\u001b[0;34m\u001b[0m\u001b[0m\n",
            "\u001b[0;31mAttributeError\u001b[0m: module 'keras.api._v2.keras.models' has no attribute 'Seuquential'"
          ]
        }
      ]
    },
    {
      "cell_type": "markdown",
      "source": [
        "LSTM도 비슷하다"
      ],
      "metadata": {
        "id": "gp84LlulVGVP"
      }
    },
    {
      "cell_type": "code",
      "source": [
        "model = tf.keras.models.Sequential([\n",
        "    tf.keras.layers.LSTM(100, input_shape=[None, 1],\n",
        "                         return_sequences=True),\n",
        "    tf.keras.layers.LSTM(100),\n",
        "    tf.keras.layers.Dense(1)\n",
        "])"
      ],
      "metadata": {
        "id": "k3bwQoZjVGiv",
        "colab": {
          "base_uri": "https://localhost:8080/",
          "height": 216
        },
        "outputId": "29b26f86-9f31-47b3-d962-86cbe3d5c801"
      },
      "execution_count": 56,
      "outputs": [
        {
          "output_type": "error",
          "ename": "AttributeError",
          "evalue": "module 'keras.api._v2.keras.models' has no attribute 'Seuquential'",
          "traceback": [
            "\u001b[0;31m---------------------------------------------------------------------------\u001b[0m",
            "\u001b[0;31mAttributeError\u001b[0m                            Traceback (most recent call last)",
            "\u001b[0;32m<ipython-input-56-78ba3dced9da>\u001b[0m in \u001b[0;36m<cell line: 1>\u001b[0;34m()\u001b[0m\n\u001b[0;32m----> 1\u001b[0;31m model = tf.keras.models.Seuquential([\n\u001b[0m\u001b[1;32m      2\u001b[0m     tf.keras.layers.LSTM(100, input_shape=[None, 1],\n\u001b[1;32m      3\u001b[0m                          return_sequences=True),\n\u001b[1;32m      4\u001b[0m     \u001b[0mtf\u001b[0m\u001b[0;34m.\u001b[0m\u001b[0mkeras\u001b[0m\u001b[0;34m.\u001b[0m\u001b[0mlayers\u001b[0m\u001b[0;34m.\u001b[0m\u001b[0mLSTM\u001b[0m\u001b[0;34m(\u001b[0m\u001b[0;36m100\u001b[0m\u001b[0;34m)\u001b[0m\u001b[0;34m,\u001b[0m\u001b[0;34m\u001b[0m\u001b[0;34m\u001b[0m\u001b[0m\n\u001b[1;32m      5\u001b[0m     \u001b[0mtf\u001b[0m\u001b[0;34m.\u001b[0m\u001b[0mkeras\u001b[0m\u001b[0;34m.\u001b[0m\u001b[0mlayers\u001b[0m\u001b[0;34m.\u001b[0m\u001b[0mDense\u001b[0m\u001b[0;34m(\u001b[0m\u001b[0;36m1\u001b[0m\u001b[0;34m)\u001b[0m\u001b[0;34m\u001b[0m\u001b[0;34m\u001b[0m\u001b[0m\n",
            "\u001b[0;31mAttributeError\u001b[0m: module 'keras.api._v2.keras.models' has no attribute 'Seuquential'"
          ]
        }
      ]
    },
    {
      "cell_type": "markdown",
      "source": [
        "### 11.5. 드롭아웃 사용하기\n",
        "\n",
        "과대적합이 되었다면 드롭아웃을 사용할 수 있다. 드롭아웃은 훈련하는 동안 이웃한 뉴런을 랜덤하게 제외시킨다.\n",
        "\n",
        "RNN에서는 순환 드롭아웃 매개변수도 제공한다.\n",
        "\n",
        "**(RNN 드롭아웃에 대한 자세한 설명은 책 279p)**\n",
        "\n",
        "https://arxiv.org/pdf/1512.05287.pdf 에서 수학적 관점으로 살펴본 순환드롭아웃의 작동 방식 자세히 확인 가능(야린 갈과 주빈 가라마니의 논문)"
      ],
      "metadata": {
        "id": "NYmS6RuzVNKT"
      }
    },
    {
      "cell_type": "markdown",
      "source": [
        "---\n",
        "야린 갈은 딥러닝의 불확실성 연구에서 순환 드롭아웃을 사용할 때 고려해야할 한 가지 사항을 제시했다.\n",
        "\n",
        "- 모든 타임 스텝에 동일 패턴의 드롭아웃이 적용되어야 하고 따라서 일정한 드롭아웃 마스크가 모든 타임 스텝에 적용되어야 한다는 것을 입증\n",
        "\n",
        "- 일반적으로 드롭아웃은 랜덤하지만 tf.keras에서 제공하는 드롭아웃은 야린 갈의 연구에서 권장하는 방식을 따른다.\n",
        "\n",
        "드롭아웃과 순환 드롭아웃을 추가하려면 층에 해당 매개변수를 지정하면 된다."
      ],
      "metadata": {
        "id": "3QNzBxS0XSey"
      }
    },
    {
      "cell_type": "code",
      "source": [
        "model = tf.keras.models.Sequential([ tf.keras.models.Sequential\n",
        "    tf.keras.layers.GRU(100, input_shape=[None, 1],return_sequences=True,\n",
        "                        dropout=0.1, recurrent_dropout=0.1),\n",
        "    tf.keras.layers.GRU(100, dropout=0.1, recurrent_dropout=0.1),\n",
        "    tf.keras.layers.Dense(1)\n",
        "])"
      ],
      "metadata": {
        "id": "dwRjc-oBXxYx",
        "colab": {
          "base_uri": "https://localhost:8080/",
          "height": 216
        },
        "outputId": "7a694174-fadb-46a5-c07d-f421ebeb3cef"
      },
      "execution_count": 55,
      "outputs": [
        {
          "output_type": "error",
          "ename": "AttributeError",
          "evalue": "module 'keras.api._v2.keras.models' has no attribute 'Seuquential'",
          "traceback": [
            "\u001b[0;31m---------------------------------------------------------------------------\u001b[0m",
            "\u001b[0;31mAttributeError\u001b[0m                            Traceback (most recent call last)",
            "\u001b[0;32m<ipython-input-55-055f98b1af77>\u001b[0m in \u001b[0;36m<cell line: 1>\u001b[0;34m()\u001b[0m\n\u001b[0;32m----> 1\u001b[0;31m model = tf.keras.models.Seuquential([\n\u001b[0m\u001b[1;32m      2\u001b[0m     tf.keras.layers.GRU(100, input_shape=[None, 1],return_sequences=True,\n\u001b[1;32m      3\u001b[0m                         dropout=0.1, recurrent_dropout=0.1),\n\u001b[1;32m      4\u001b[0m     \u001b[0mtf\u001b[0m\u001b[0;34m.\u001b[0m\u001b[0mkeras\u001b[0m\u001b[0;34m.\u001b[0m\u001b[0mlayers\u001b[0m\u001b[0;34m.\u001b[0m\u001b[0mGRU\u001b[0m\u001b[0;34m(\u001b[0m\u001b[0;36m100\u001b[0m\u001b[0;34m,\u001b[0m \u001b[0mdropout\u001b[0m\u001b[0;34m=\u001b[0m\u001b[0;36m0.1\u001b[0m\u001b[0;34m,\u001b[0m \u001b[0mrecurrent_dropout\u001b[0m\u001b[0;34m=\u001b[0m\u001b[0;36m0.1\u001b[0m\u001b[0;34m)\u001b[0m\u001b[0;34m,\u001b[0m\u001b[0;34m\u001b[0m\u001b[0;34m\u001b[0m\u001b[0m\n\u001b[1;32m      5\u001b[0m     \u001b[0mtf\u001b[0m\u001b[0;34m.\u001b[0m\u001b[0mkeras\u001b[0m\u001b[0;34m.\u001b[0m\u001b[0mlayers\u001b[0m\u001b[0;34m.\u001b[0m\u001b[0mDense\u001b[0m\u001b[0;34m(\u001b[0m\u001b[0;36m1\u001b[0m\u001b[0;34m)\u001b[0m\u001b[0;34m\u001b[0m\u001b[0;34m\u001b[0m\u001b[0m\n",
            "\u001b[0;31mAttributeError\u001b[0m: module 'keras.api._v2.keras.models' has no attribute 'Seuquential'"
          ]
        }
      ]
    },
    {
      "cell_type": "markdown",
      "source": [
        "드롭아웃을 사용한 RNN은 종종 수렴에 더 오랜 시간이 걸린다. 따라서 더 많은 에폭 동안 훈련해야 한다.\n",
        "\n",
        "데이터 너무 많으니까 오래 걸려서 이전 데이터 쓰겠다."
      ],
      "metadata": {
        "id": "bCghgij7YGVR"
      }
    },
    {
      "cell_type": "code",
      "source": [
        "time, series = get_station_data()\n",
        "mean = series.mean(axis=0)\n",
        "series -= mean\n",
        "std = series.std(axis=0)\n",
        "series /= std"
      ],
      "metadata": {
        "id": "c2EFWS4GWXLI"
      },
      "execution_count": 59,
      "outputs": []
    },
    {
      "cell_type": "code",
      "source": [
        "split_time = 792\n",
        "time_train = time[:split_time]\n",
        "x_train = series[:split_time]\n",
        "time_valid = time[split_time:]\n",
        "x_valid = series[split_time:]"
      ],
      "metadata": {
        "id": "AfOS_aSvah-Q"
      },
      "execution_count": 60,
      "outputs": []
    },
    {
      "cell_type": "code",
      "source": [
        "window_size = 24\n",
        "batch_size = 12\n",
        "shuffle_buffer_size = 48\n",
        "dataset = windowed_dataset(x_train, window_size,\n",
        "                           batch_size, shuffle_buffer_size)\n",
        "valid_dataset = windowed_dataset(x_valid, window_size,\n",
        "                                 batch_size, shuffle_buffer_size)"
      ],
      "metadata": {
        "id": "Ef5Vqyulajwp"
      },
      "execution_count": 61,
      "outputs": []
    },
    {
      "cell_type": "code",
      "source": [
        "model = tf.keras.models.Sequential([\n",
        "    tf.keras.layers.GRU(100, input_shape=[None, 1], return_sequences=True,\n",
        "                        dropout=0.1, recurrent_dropout=0.1),\n",
        "    tf.keras.layers.GRU(100, dropout=0.1, recurrent_dropout=0.1),\n",
        "    tf.keras.layers.Dense(1),\n",
        "])\n",
        "\n",
        "optimizer = tf.keras.optimizers.SGD(learning_rate=1e-4, momentum=0.7)\n",
        "model.compile(loss=tf.keras.losses.Huber(), optimizer=optimizer,\n",
        "              metrics=[\"mae\"])\n",
        "history = model.fit(dataset, epochs=500, verbose=1,\n",
        "                    validation_data=valid_dataset)"
      ],
      "metadata": {
        "id": "tPP8ftUiaqC5",
        "colab": {
          "base_uri": "https://localhost:8080/"
        },
        "outputId": "b16a3456-d4c2-4084-d753-37ce7ed9f95c"
      },
      "execution_count": 62,
      "outputs": [
        {
          "output_type": "stream",
          "name": "stdout",
          "text": [
            "Epoch 1/500\n",
            "64/64 [==============================] - 11s 79ms/step - loss: 0.4680 - mae: 0.8805 - val_loss: 0.5213 - val_mae: 0.9462\n",
            "Epoch 2/500\n",
            "64/64 [==============================] - 6s 87ms/step - loss: 0.4658 - mae: 0.8780 - val_loss: 0.5195 - val_mae: 0.9437\n",
            "Epoch 3/500\n",
            "64/64 [==============================] - 4s 70ms/step - loss: 0.4644 - mae: 0.8766 - val_loss: 0.5178 - val_mae: 0.9413\n",
            "Epoch 4/500\n",
            "64/64 [==============================] - 6s 93ms/step - loss: 0.4619 - mae: 0.8735 - val_loss: 0.5160 - val_mae: 0.9389\n",
            "Epoch 5/500\n",
            "64/64 [==============================] - 6s 88ms/step - loss: 0.4609 - mae: 0.8721 - val_loss: 0.5143 - val_mae: 0.9365\n",
            "Epoch 6/500\n",
            "64/64 [==============================] - 5s 80ms/step - loss: 0.4587 - mae: 0.8697 - val_loss: 0.5125 - val_mae: 0.9341\n",
            "Epoch 7/500\n",
            "64/64 [==============================] - 5s 82ms/step - loss: 0.4575 - mae: 0.8681 - val_loss: 0.5108 - val_mae: 0.9318\n",
            "Epoch 8/500\n",
            "64/64 [==============================] - 4s 68ms/step - loss: 0.4559 - mae: 0.8668 - val_loss: 0.5090 - val_mae: 0.9295\n",
            "Epoch 9/500\n",
            "64/64 [==============================] - 10s 160ms/step - loss: 0.4535 - mae: 0.8637 - val_loss: 0.5073 - val_mae: 0.9271\n",
            "Epoch 10/500\n",
            "64/64 [==============================] - 5s 81ms/step - loss: 0.4519 - mae: 0.8616 - val_loss: 0.5055 - val_mae: 0.9248\n",
            "Epoch 11/500\n",
            "64/64 [==============================] - 6s 85ms/step - loss: 0.4501 - mae: 0.8592 - val_loss: 0.5039 - val_mae: 0.9225\n",
            "Epoch 12/500\n",
            "64/64 [==============================] - 4s 69ms/step - loss: 0.4493 - mae: 0.8584 - val_loss: 0.5021 - val_mae: 0.9202\n",
            "Epoch 13/500\n",
            "64/64 [==============================] - 6s 89ms/step - loss: 0.4471 - mae: 0.8556 - val_loss: 0.5004 - val_mae: 0.9179\n",
            "Epoch 14/500\n",
            "64/64 [==============================] - 5s 74ms/step - loss: 0.4460 - mae: 0.8542 - val_loss: 0.4987 - val_mae: 0.9157\n",
            "Epoch 15/500\n",
            "64/64 [==============================] - 5s 80ms/step - loss: 0.4444 - mae: 0.8524 - val_loss: 0.4969 - val_mae: 0.9135\n",
            "Epoch 16/500\n",
            "64/64 [==============================] - 4s 68ms/step - loss: 0.4431 - mae: 0.8509 - val_loss: 0.4952 - val_mae: 0.9112\n",
            "Epoch 17/500\n",
            "64/64 [==============================] - 6s 89ms/step - loss: 0.4408 - mae: 0.8481 - val_loss: 0.4935 - val_mae: 0.9089\n",
            "Epoch 18/500\n",
            "64/64 [==============================] - 4s 69ms/step - loss: 0.4393 - mae: 0.8466 - val_loss: 0.4917 - val_mae: 0.9066\n",
            "Epoch 19/500\n",
            "64/64 [==============================] - 4s 70ms/step - loss: 0.4376 - mae: 0.8449 - val_loss: 0.4900 - val_mae: 0.9044\n",
            "Epoch 20/500\n",
            "64/64 [==============================] - 5s 85ms/step - loss: 0.4363 - mae: 0.8430 - val_loss: 0.4882 - val_mae: 0.9022\n",
            "Epoch 21/500\n",
            "64/64 [==============================] - 4s 67ms/step - loss: 0.4345 - mae: 0.8410 - val_loss: 0.4865 - val_mae: 0.9000\n",
            "Epoch 22/500\n",
            "64/64 [==============================] - 6s 87ms/step - loss: 0.4323 - mae: 0.8385 - val_loss: 0.4847 - val_mae: 0.8977\n",
            "Epoch 23/500\n",
            "64/64 [==============================] - 4s 68ms/step - loss: 0.4323 - mae: 0.8385 - val_loss: 0.4830 - val_mae: 0.8954\n",
            "Epoch 24/500\n",
            "64/64 [==============================] - 5s 76ms/step - loss: 0.4302 - mae: 0.8357 - val_loss: 0.4812 - val_mae: 0.8933\n",
            "Epoch 25/500\n",
            "64/64 [==============================] - 5s 76ms/step - loss: 0.4287 - mae: 0.8337 - val_loss: 0.4794 - val_mae: 0.8913\n",
            "Epoch 26/500\n",
            "64/64 [==============================] - 5s 78ms/step - loss: 0.4261 - mae: 0.8309 - val_loss: 0.4776 - val_mae: 0.8892\n",
            "Epoch 27/500\n",
            "64/64 [==============================] - 6s 95ms/step - loss: 0.4255 - mae: 0.8297 - val_loss: 0.4758 - val_mae: 0.8872\n",
            "Epoch 28/500\n",
            "64/64 [==============================] - 5s 75ms/step - loss: 0.4239 - mae: 0.8283 - val_loss: 0.4741 - val_mae: 0.8851\n",
            "Epoch 29/500\n",
            "64/64 [==============================] - 5s 77ms/step - loss: 0.4221 - mae: 0.8260 - val_loss: 0.4723 - val_mae: 0.8830\n",
            "Epoch 30/500\n",
            "64/64 [==============================] - 4s 69ms/step - loss: 0.4199 - mae: 0.8238 - val_loss: 0.4705 - val_mae: 0.8809\n",
            "Epoch 31/500\n",
            "64/64 [==============================] - 6s 88ms/step - loss: 0.4183 - mae: 0.8219 - val_loss: 0.4687 - val_mae: 0.8788\n",
            "Epoch 32/500\n",
            "64/64 [==============================] - 5s 76ms/step - loss: 0.4163 - mae: 0.8196 - val_loss: 0.4667 - val_mae: 0.8766\n",
            "Epoch 33/500\n",
            "64/64 [==============================] - 5s 74ms/step - loss: 0.4147 - mae: 0.8177 - val_loss: 0.4649 - val_mae: 0.8745\n",
            "Epoch 34/500\n",
            "64/64 [==============================] - 4s 68ms/step - loss: 0.4140 - mae: 0.8165 - val_loss: 0.4631 - val_mae: 0.8723\n",
            "Epoch 35/500\n",
            "64/64 [==============================] - 6s 88ms/step - loss: 0.4116 - mae: 0.8140 - val_loss: 0.4612 - val_mae: 0.8701\n",
            "Epoch 36/500\n",
            "64/64 [==============================] - 6s 98ms/step - loss: 0.4104 - mae: 0.8120 - val_loss: 0.4593 - val_mae: 0.8679\n",
            "Epoch 37/500\n",
            "64/64 [==============================] - 5s 74ms/step - loss: 0.4082 - mae: 0.8099 - val_loss: 0.4574 - val_mae: 0.8657\n",
            "Epoch 38/500\n",
            "64/64 [==============================] - 5s 76ms/step - loss: 0.4070 - mae: 0.8087 - val_loss: 0.4556 - val_mae: 0.8635\n",
            "Epoch 39/500\n",
            "64/64 [==============================] - 7s 112ms/step - loss: 0.4059 - mae: 0.8073 - val_loss: 0.4537 - val_mae: 0.8613\n",
            "Epoch 40/500\n",
            "64/64 [==============================] - 6s 88ms/step - loss: 0.4036 - mae: 0.8047 - val_loss: 0.4518 - val_mae: 0.8590\n",
            "Epoch 41/500\n",
            "64/64 [==============================] - 5s 73ms/step - loss: 0.4020 - mae: 0.8032 - val_loss: 0.4498 - val_mae: 0.8568\n",
            "Epoch 42/500\n",
            "64/64 [==============================] - 6s 91ms/step - loss: 0.4001 - mae: 0.8004 - val_loss: 0.4479 - val_mae: 0.8545\n",
            "Epoch 43/500\n",
            "64/64 [==============================] - 5s 70ms/step - loss: 0.3982 - mae: 0.7981 - val_loss: 0.4459 - val_mae: 0.8522\n",
            "Epoch 44/500\n",
            "64/64 [==============================] - 6s 87ms/step - loss: 0.3963 - mae: 0.7957 - val_loss: 0.4439 - val_mae: 0.8499\n",
            "Epoch 45/500\n",
            "64/64 [==============================] - 5s 71ms/step - loss: 0.3950 - mae: 0.7945 - val_loss: 0.4419 - val_mae: 0.8476\n",
            "Epoch 46/500\n",
            "64/64 [==============================] - 5s 70ms/step - loss: 0.3938 - mae: 0.7929 - val_loss: 0.4399 - val_mae: 0.8453\n",
            "Epoch 47/500\n",
            "64/64 [==============================] - 6s 91ms/step - loss: 0.3903 - mae: 0.7881 - val_loss: 0.4379 - val_mae: 0.8430\n",
            "Epoch 48/500\n",
            "64/64 [==============================] - 6s 94ms/step - loss: 0.3890 - mae: 0.7860 - val_loss: 0.4358 - val_mae: 0.8408\n",
            "Epoch 49/500\n",
            "64/64 [==============================] - 5s 78ms/step - loss: 0.3880 - mae: 0.7854 - val_loss: 0.4337 - val_mae: 0.8384\n",
            "Epoch 50/500\n",
            "64/64 [==============================] - 4s 68ms/step - loss: 0.3844 - mae: 0.7816 - val_loss: 0.4316 - val_mae: 0.8360\n",
            "Epoch 51/500\n",
            "64/64 [==============================] - 6s 89ms/step - loss: 0.3828 - mae: 0.7789 - val_loss: 0.4295 - val_mae: 0.8335\n",
            "Epoch 52/500\n",
            "64/64 [==============================] - 5s 70ms/step - loss: 0.3833 - mae: 0.7800 - val_loss: 0.4274 - val_mae: 0.8312\n",
            "Epoch 53/500\n",
            "64/64 [==============================] - 6s 89ms/step - loss: 0.3792 - mae: 0.7754 - val_loss: 0.4253 - val_mae: 0.8287\n",
            "Epoch 54/500\n",
            "64/64 [==============================] - 5s 78ms/step - loss: 0.3791 - mae: 0.7754 - val_loss: 0.4231 - val_mae: 0.8262\n",
            "Epoch 55/500\n",
            "64/64 [==============================] - 5s 80ms/step - loss: 0.3757 - mae: 0.7717 - val_loss: 0.4209 - val_mae: 0.8236\n",
            "Epoch 56/500\n",
            "64/64 [==============================] - 5s 72ms/step - loss: 0.3732 - mae: 0.7683 - val_loss: 0.4187 - val_mae: 0.8210\n",
            "Epoch 57/500\n",
            "64/64 [==============================] - 6s 91ms/step - loss: 0.3728 - mae: 0.7682 - val_loss: 0.4165 - val_mae: 0.8185\n",
            "Epoch 58/500\n",
            "64/64 [==============================] - 5s 78ms/step - loss: 0.3691 - mae: 0.7631 - val_loss: 0.4142 - val_mae: 0.8158\n",
            "Epoch 59/500\n",
            "64/64 [==============================] - 5s 83ms/step - loss: 0.3687 - mae: 0.7625 - val_loss: 0.4119 - val_mae: 0.8132\n",
            "Epoch 60/500\n",
            "64/64 [==============================] - 6s 89ms/step - loss: 0.3661 - mae: 0.7598 - val_loss: 0.4096 - val_mae: 0.8105\n",
            "Epoch 61/500\n",
            "64/64 [==============================] - 5s 72ms/step - loss: 0.3642 - mae: 0.7570 - val_loss: 0.4073 - val_mae: 0.8078\n",
            "Epoch 62/500\n",
            "64/64 [==============================] - 6s 87ms/step - loss: 0.3626 - mae: 0.7546 - val_loss: 0.4049 - val_mae: 0.8050\n",
            "Epoch 63/500\n",
            "64/64 [==============================] - 4s 69ms/step - loss: 0.3601 - mae: 0.7525 - val_loss: 0.4026 - val_mae: 0.8022\n",
            "Epoch 64/500\n",
            "64/64 [==============================] - 6s 88ms/step - loss: 0.3581 - mae: 0.7499 - val_loss: 0.4002 - val_mae: 0.7994\n",
            "Epoch 65/500\n",
            "64/64 [==============================] - 5s 71ms/step - loss: 0.3563 - mae: 0.7466 - val_loss: 0.3978 - val_mae: 0.7964\n",
            "Epoch 66/500\n",
            "64/64 [==============================] - 6s 100ms/step - loss: 0.3532 - mae: 0.7432 - val_loss: 0.3953 - val_mae: 0.7934\n",
            "Epoch 67/500\n",
            "64/64 [==============================] - 5s 85ms/step - loss: 0.3497 - mae: 0.7391 - val_loss: 0.3928 - val_mae: 0.7906\n",
            "Epoch 68/500\n",
            "64/64 [==============================] - 5s 77ms/step - loss: 0.3496 - mae: 0.7395 - val_loss: 0.3902 - val_mae: 0.7875\n",
            "Epoch 69/500\n",
            "64/64 [==============================] - 6s 90ms/step - loss: 0.3481 - mae: 0.7370 - val_loss: 0.3878 - val_mae: 0.7843\n",
            "Epoch 70/500\n",
            "64/64 [==============================] - 5s 75ms/step - loss: 0.3438 - mae: 0.7323 - val_loss: 0.3852 - val_mae: 0.7812\n",
            "Epoch 71/500\n",
            "64/64 [==============================] - 5s 72ms/step - loss: 0.3440 - mae: 0.7316 - val_loss: 0.3827 - val_mae: 0.7780\n",
            "Epoch 72/500\n",
            "64/64 [==============================] - 6s 97ms/step - loss: 0.3403 - mae: 0.7274 - val_loss: 0.3801 - val_mae: 0.7748\n",
            "Epoch 73/500\n",
            "64/64 [==============================] - 6s 96ms/step - loss: 0.3381 - mae: 0.7255 - val_loss: 0.3774 - val_mae: 0.7716\n",
            "Epoch 74/500\n",
            "64/64 [==============================] - 5s 71ms/step - loss: 0.3357 - mae: 0.7227 - val_loss: 0.3748 - val_mae: 0.7682\n",
            "Epoch 75/500\n",
            "64/64 [==============================] - 5s 76ms/step - loss: 0.3334 - mae: 0.7183 - val_loss: 0.3721 - val_mae: 0.7648\n",
            "Epoch 76/500\n",
            "64/64 [==============================] - 6s 95ms/step - loss: 0.3302 - mae: 0.7170 - val_loss: 0.3694 - val_mae: 0.7613\n",
            "Epoch 77/500\n",
            "64/64 [==============================] - 6s 89ms/step - loss: 0.3257 - mae: 0.7089 - val_loss: 0.3666 - val_mae: 0.7578\n",
            "Epoch 78/500\n",
            "64/64 [==============================] - 5s 73ms/step - loss: 0.3255 - mae: 0.7093 - val_loss: 0.3638 - val_mae: 0.7542\n",
            "Epoch 79/500\n",
            "64/64 [==============================] - 5s 82ms/step - loss: 0.3246 - mae: 0.7077 - val_loss: 0.3610 - val_mae: 0.7506\n",
            "Epoch 80/500\n",
            "64/64 [==============================] - 6s 87ms/step - loss: 0.3225 - mae: 0.7060 - val_loss: 0.3582 - val_mae: 0.7470\n",
            "Epoch 81/500\n",
            "64/64 [==============================] - 5s 74ms/step - loss: 0.3182 - mae: 0.6997 - val_loss: 0.3553 - val_mae: 0.7434\n",
            "Epoch 82/500\n",
            "64/64 [==============================] - 6s 90ms/step - loss: 0.3156 - mae: 0.6962 - val_loss: 0.3524 - val_mae: 0.7395\n",
            "Epoch 83/500\n",
            "64/64 [==============================] - 5s 73ms/step - loss: 0.3124 - mae: 0.6929 - val_loss: 0.3495 - val_mae: 0.7357\n",
            "Epoch 84/500\n",
            "64/64 [==============================] - 6s 91ms/step - loss: 0.3098 - mae: 0.6889 - val_loss: 0.3465 - val_mae: 0.7318\n",
            "Epoch 85/500\n",
            "64/64 [==============================] - 5s 73ms/step - loss: 0.3096 - mae: 0.6892 - val_loss: 0.3435 - val_mae: 0.7278\n",
            "Epoch 86/500\n",
            "64/64 [==============================] - 6s 99ms/step - loss: 0.3047 - mae: 0.6834 - val_loss: 0.3405 - val_mae: 0.7238\n",
            "Epoch 87/500\n",
            "64/64 [==============================] - 5s 71ms/step - loss: 0.3028 - mae: 0.6798 - val_loss: 0.3374 - val_mae: 0.7197\n",
            "Epoch 88/500\n",
            "64/64 [==============================] - 6s 92ms/step - loss: 0.3010 - mae: 0.6769 - val_loss: 0.3344 - val_mae: 0.7156\n",
            "Epoch 89/500\n",
            "64/64 [==============================] - 4s 69ms/step - loss: 0.2968 - mae: 0.6720 - val_loss: 0.3312 - val_mae: 0.7114\n",
            "Epoch 90/500\n",
            "64/64 [==============================] - 5s 80ms/step - loss: 0.2948 - mae: 0.6701 - val_loss: 0.3280 - val_mae: 0.7073\n",
            "Epoch 91/500\n",
            "64/64 [==============================] - 6s 85ms/step - loss: 0.2917 - mae: 0.6656 - val_loss: 0.3250 - val_mae: 0.7030\n",
            "Epoch 92/500\n",
            "64/64 [==============================] - 5s 72ms/step - loss: 0.2895 - mae: 0.6622 - val_loss: 0.3217 - val_mae: 0.6986\n",
            "Epoch 93/500\n",
            "64/64 [==============================] - 6s 89ms/step - loss: 0.2830 - mae: 0.6563 - val_loss: 0.3184 - val_mae: 0.6941\n",
            "Epoch 94/500\n",
            "64/64 [==============================] - 6s 92ms/step - loss: 0.2830 - mae: 0.6538 - val_loss: 0.3151 - val_mae: 0.6896\n",
            "Epoch 95/500\n",
            "64/64 [==============================] - 5s 76ms/step - loss: 0.2819 - mae: 0.6526 - val_loss: 0.3120 - val_mae: 0.6851\n",
            "Epoch 96/500\n",
            "64/64 [==============================] - 5s 71ms/step - loss: 0.2791 - mae: 0.6510 - val_loss: 0.3087 - val_mae: 0.6804\n",
            "Epoch 97/500\n",
            "64/64 [==============================] - 6s 92ms/step - loss: 0.2768 - mae: 0.6471 - val_loss: 0.3053 - val_mae: 0.6756\n",
            "Epoch 98/500\n",
            "64/64 [==============================] - 5s 76ms/step - loss: 0.2706 - mae: 0.6366 - val_loss: 0.3019 - val_mae: 0.6708\n",
            "Epoch 99/500\n",
            "64/64 [==============================] - 6s 93ms/step - loss: 0.2686 - mae: 0.6365 - val_loss: 0.2985 - val_mae: 0.6659\n",
            "Epoch 100/500\n",
            "64/64 [==============================] - 5s 70ms/step - loss: 0.2681 - mae: 0.6344 - val_loss: 0.2952 - val_mae: 0.6610\n",
            "Epoch 101/500\n",
            "64/64 [==============================] - 5s 84ms/step - loss: 0.2631 - mae: 0.6279 - val_loss: 0.2918 - val_mae: 0.6559\n",
            "Epoch 102/500\n",
            "64/64 [==============================] - 6s 95ms/step - loss: 0.2578 - mae: 0.6207 - val_loss: 0.2883 - val_mae: 0.6509\n",
            "Epoch 103/500\n",
            "64/64 [==============================] - 6s 88ms/step - loss: 0.2529 - mae: 0.6131 - val_loss: 0.2847 - val_mae: 0.6456\n",
            "Epoch 104/500\n",
            "64/64 [==============================] - 5s 78ms/step - loss: 0.2517 - mae: 0.6124 - val_loss: 0.2812 - val_mae: 0.6404\n",
            "Epoch 105/500\n",
            "64/64 [==============================] - 6s 91ms/step - loss: 0.2477 - mae: 0.6057 - val_loss: 0.2777 - val_mae: 0.6351\n",
            "Epoch 106/500\n",
            "64/64 [==============================] - 5s 74ms/step - loss: 0.2485 - mae: 0.6068 - val_loss: 0.2742 - val_mae: 0.6298\n",
            "Epoch 107/500\n",
            "64/64 [==============================] - 6s 87ms/step - loss: 0.2466 - mae: 0.6026 - val_loss: 0.2708 - val_mae: 0.6245\n",
            "Epoch 108/500\n",
            "64/64 [==============================] - 5s 79ms/step - loss: 0.2431 - mae: 0.5986 - val_loss: 0.2672 - val_mae: 0.6190\n",
            "Epoch 109/500\n",
            "64/64 [==============================] - 4s 70ms/step - loss: 0.2355 - mae: 0.5885 - val_loss: 0.2635 - val_mae: 0.6135\n",
            "Epoch 110/500\n",
            "64/64 [==============================] - 6s 87ms/step - loss: 0.2350 - mae: 0.5876 - val_loss: 0.2598 - val_mae: 0.6079\n",
            "Epoch 111/500\n",
            "64/64 [==============================] - 5s 71ms/step - loss: 0.2303 - mae: 0.5808 - val_loss: 0.2561 - val_mae: 0.6023\n",
            "Epoch 112/500\n",
            "64/64 [==============================] - 6s 91ms/step - loss: 0.2284 - mae: 0.5784 - val_loss: 0.2524 - val_mae: 0.5964\n",
            "Epoch 113/500\n",
            "64/64 [==============================] - 5s 70ms/step - loss: 0.2268 - mae: 0.5744 - val_loss: 0.2490 - val_mae: 0.5906\n",
            "Epoch 114/500\n",
            "64/64 [==============================] - 5s 75ms/step - loss: 0.2227 - mae: 0.5691 - val_loss: 0.2454 - val_mae: 0.5846\n",
            "Epoch 115/500\n",
            "64/64 [==============================] - 6s 87ms/step - loss: 0.2171 - mae: 0.5611 - val_loss: 0.2417 - val_mae: 0.5786\n",
            "Epoch 116/500\n",
            "64/64 [==============================] - 6s 93ms/step - loss: 0.2150 - mae: 0.5585 - val_loss: 0.2379 - val_mae: 0.5728\n",
            "Epoch 117/500\n",
            "64/64 [==============================] - 5s 80ms/step - loss: 0.2143 - mae: 0.5560 - val_loss: 0.2345 - val_mae: 0.5667\n",
            "Epoch 118/500\n",
            "64/64 [==============================] - 5s 79ms/step - loss: 0.2067 - mae: 0.5485 - val_loss: 0.2309 - val_mae: 0.5609\n",
            "Epoch 119/500\n",
            "64/64 [==============================] - 7s 109ms/step - loss: 0.2041 - mae: 0.5419 - val_loss: 0.2272 - val_mae: 0.5553\n",
            "Epoch 120/500\n",
            "64/64 [==============================] - 5s 73ms/step - loss: 0.2054 - mae: 0.5413 - val_loss: 0.2236 - val_mae: 0.5498\n",
            "Epoch 121/500\n",
            "64/64 [==============================] - 6s 92ms/step - loss: 0.2026 - mae: 0.5372 - val_loss: 0.2199 - val_mae: 0.5442\n",
            "Epoch 122/500\n",
            "64/64 [==============================] - 5s 73ms/step - loss: 0.1967 - mae: 0.5288 - val_loss: 0.2163 - val_mae: 0.5386\n",
            "Epoch 123/500\n",
            "64/64 [==============================] - 6s 87ms/step - loss: 0.1967 - mae: 0.5317 - val_loss: 0.2130 - val_mae: 0.5330\n",
            "Epoch 124/500\n",
            "64/64 [==============================] - 4s 69ms/step - loss: 0.1889 - mae: 0.5191 - val_loss: 0.2096 - val_mae: 0.5272\n",
            "Epoch 125/500\n",
            "64/64 [==============================] - 6s 92ms/step - loss: 0.1878 - mae: 0.5146 - val_loss: 0.2062 - val_mae: 0.5214\n",
            "Epoch 126/500\n",
            "64/64 [==============================] - 5s 77ms/step - loss: 0.1866 - mae: 0.5111 - val_loss: 0.2025 - val_mae: 0.5156\n",
            "Epoch 127/500\n",
            "64/64 [==============================] - 6s 100ms/step - loss: 0.1832 - mae: 0.5092 - val_loss: 0.1993 - val_mae: 0.5097\n",
            "Epoch 128/500\n",
            "64/64 [==============================] - 7s 107ms/step - loss: 0.1807 - mae: 0.5026 - val_loss: 0.1960 - val_mae: 0.5040\n",
            "Epoch 129/500\n",
            "64/64 [==============================] - 5s 81ms/step - loss: 0.1744 - mae: 0.4914 - val_loss: 0.1924 - val_mae: 0.4982\n",
            "Epoch 130/500\n",
            "64/64 [==============================] - 5s 80ms/step - loss: 0.1790 - mae: 0.5024 - val_loss: 0.1891 - val_mae: 0.4923\n",
            "Epoch 131/500\n",
            "64/64 [==============================] - 7s 102ms/step - loss: 0.1692 - mae: 0.4875 - val_loss: 0.1858 - val_mae: 0.4871\n",
            "Epoch 132/500\n",
            "64/64 [==============================] - 5s 82ms/step - loss: 0.1674 - mae: 0.4839 - val_loss: 0.1825 - val_mae: 0.4821\n",
            "Epoch 133/500\n",
            "64/64 [==============================] - 6s 91ms/step - loss: 0.1642 - mae: 0.4781 - val_loss: 0.1790 - val_mae: 0.4771\n",
            "Epoch 134/500\n",
            "64/64 [==============================] - 5s 75ms/step - loss: 0.1607 - mae: 0.4722 - val_loss: 0.1761 - val_mae: 0.4724\n",
            "Epoch 135/500\n",
            "64/64 [==============================] - 6s 94ms/step - loss: 0.1595 - mae: 0.4697 - val_loss: 0.1729 - val_mae: 0.4676\n",
            "Epoch 136/500\n",
            "64/64 [==============================] - 5s 77ms/step - loss: 0.1536 - mae: 0.4572 - val_loss: 0.1694 - val_mae: 0.4625\n",
            "Epoch 137/500\n",
            "64/64 [==============================] - 6s 90ms/step - loss: 0.1555 - mae: 0.4574 - val_loss: 0.1664 - val_mae: 0.4578\n",
            "Epoch 138/500\n",
            "64/64 [==============================] - 5s 78ms/step - loss: 0.1558 - mae: 0.4613 - val_loss: 0.1636 - val_mae: 0.4533\n",
            "Epoch 139/500\n",
            "64/64 [==============================] - 6s 89ms/step - loss: 0.1508 - mae: 0.4499 - val_loss: 0.1607 - val_mae: 0.4486\n",
            "Epoch 140/500\n",
            "64/64 [==============================] - 5s 84ms/step - loss: 0.1478 - mae: 0.4471 - val_loss: 0.1579 - val_mae: 0.4445\n",
            "Epoch 141/500\n",
            "64/64 [==============================] - 6s 95ms/step - loss: 0.1420 - mae: 0.4365 - val_loss: 0.1551 - val_mae: 0.4405\n",
            "Epoch 142/500\n",
            "64/64 [==============================] - 5s 76ms/step - loss: 0.1420 - mae: 0.4375 - val_loss: 0.1521 - val_mae: 0.4367\n",
            "Epoch 143/500\n",
            "64/64 [==============================] - 6s 89ms/step - loss: 0.1434 - mae: 0.4359 - val_loss: 0.1495 - val_mae: 0.4331\n",
            "Epoch 144/500\n",
            "64/64 [==============================] - 7s 115ms/step - loss: 0.1424 - mae: 0.4364 - val_loss: 0.1468 - val_mae: 0.4293\n",
            "Epoch 145/500\n",
            "64/64 [==============================] - 5s 81ms/step - loss: 0.1364 - mae: 0.4250 - val_loss: 0.1442 - val_mae: 0.4256\n",
            "Epoch 146/500\n",
            "64/64 [==============================] - 5s 78ms/step - loss: 0.1395 - mae: 0.4285 - val_loss: 0.1422 - val_mae: 0.4229\n",
            "Epoch 147/500\n",
            "64/64 [==============================] - 5s 81ms/step - loss: 0.1357 - mae: 0.4221 - val_loss: 0.1398 - val_mae: 0.4196\n",
            "Epoch 148/500\n",
            "64/64 [==============================] - 6s 95ms/step - loss: 0.1301 - mae: 0.4166 - val_loss: 0.1373 - val_mae: 0.4159\n",
            "Epoch 149/500\n",
            "64/64 [==============================] - 5s 76ms/step - loss: 0.1249 - mae: 0.4078 - val_loss: 0.1349 - val_mae: 0.4121\n",
            "Epoch 150/500\n",
            "64/64 [==============================] - 6s 92ms/step - loss: 0.1258 - mae: 0.4063 - val_loss: 0.1329 - val_mae: 0.4089\n",
            "Epoch 151/500\n",
            "64/64 [==============================] - 5s 79ms/step - loss: 0.1238 - mae: 0.4049 - val_loss: 0.1309 - val_mae: 0.4054\n",
            "Epoch 152/500\n",
            "64/64 [==============================] - 6s 99ms/step - loss: 0.1212 - mae: 0.3989 - val_loss: 0.1283 - val_mae: 0.4011\n",
            "Epoch 153/500\n",
            "64/64 [==============================] - 5s 76ms/step - loss: 0.1229 - mae: 0.4016 - val_loss: 0.1261 - val_mae: 0.3975\n",
            "Epoch 154/500\n",
            "64/64 [==============================] - 6s 92ms/step - loss: 0.1172 - mae: 0.3915 - val_loss: 0.1242 - val_mae: 0.3944\n",
            "Epoch 155/500\n",
            "64/64 [==============================] - 5s 74ms/step - loss: 0.1162 - mae: 0.3879 - val_loss: 0.1221 - val_mae: 0.3907\n",
            "Epoch 156/500\n",
            "64/64 [==============================] - 6s 96ms/step - loss: 0.1208 - mae: 0.3934 - val_loss: 0.1204 - val_mae: 0.3876\n",
            "Epoch 157/500\n",
            "64/64 [==============================] - 5s 81ms/step - loss: 0.1111 - mae: 0.3823 - val_loss: 0.1184 - val_mae: 0.3840\n",
            "Epoch 158/500\n",
            "64/64 [==============================] - 5s 74ms/step - loss: 0.1159 - mae: 0.3904 - val_loss: 0.1169 - val_mae: 0.3815\n",
            "Epoch 159/500\n",
            "64/64 [==============================] - 6s 96ms/step - loss: 0.1109 - mae: 0.3765 - val_loss: 0.1157 - val_mae: 0.3800\n",
            "Epoch 160/500\n",
            "64/64 [==============================] - 5s 75ms/step - loss: 0.1112 - mae: 0.3770 - val_loss: 0.1140 - val_mae: 0.3779\n",
            "Epoch 161/500\n",
            "64/64 [==============================] - 6s 87ms/step - loss: 0.1078 - mae: 0.3740 - val_loss: 0.1123 - val_mae: 0.3756\n",
            "Epoch 162/500\n",
            "64/64 [==============================] - 5s 79ms/step - loss: 0.1091 - mae: 0.3723 - val_loss: 0.1106 - val_mae: 0.3732\n",
            "Epoch 163/500\n",
            "64/64 [==============================] - 6s 92ms/step - loss: 0.1083 - mae: 0.3729 - val_loss: 0.1091 - val_mae: 0.3713\n",
            "Epoch 164/500\n",
            "64/64 [==============================] - 5s 76ms/step - loss: 0.1077 - mae: 0.3699 - val_loss: 0.1082 - val_mae: 0.3703\n",
            "Epoch 165/500\n",
            "64/64 [==============================] - 7s 104ms/step - loss: 0.1045 - mae: 0.3656 - val_loss: 0.1065 - val_mae: 0.3679\n",
            "Epoch 166/500\n",
            "64/64 [==============================] - 5s 82ms/step - loss: 0.1019 - mae: 0.3615 - val_loss: 0.1049 - val_mae: 0.3655\n",
            "Epoch 167/500\n",
            "64/64 [==============================] - 5s 73ms/step - loss: 0.1098 - mae: 0.3711 - val_loss: 0.1037 - val_mae: 0.3645\n",
            "Epoch 168/500\n",
            "64/64 [==============================] - 6s 92ms/step - loss: 0.1034 - mae: 0.3624 - val_loss: 0.1026 - val_mae: 0.3635\n",
            "Epoch 169/500\n",
            "64/64 [==============================] - 6s 97ms/step - loss: 0.1039 - mae: 0.3629 - val_loss: 0.1015 - val_mae: 0.3622\n",
            "Epoch 170/500\n",
            "64/64 [==============================] - 4s 70ms/step - loss: 0.1037 - mae: 0.3653 - val_loss: 0.1004 - val_mae: 0.3612\n",
            "Epoch 171/500\n",
            "64/64 [==============================] - 6s 92ms/step - loss: 0.1005 - mae: 0.3595 - val_loss: 0.0995 - val_mae: 0.3602\n",
            "Epoch 172/500\n",
            "64/64 [==============================] - 5s 80ms/step - loss: 0.0953 - mae: 0.3504 - val_loss: 0.0988 - val_mae: 0.3598\n",
            "Epoch 173/500\n",
            "64/64 [==============================] - 5s 73ms/step - loss: 0.0979 - mae: 0.3516 - val_loss: 0.0979 - val_mae: 0.3594\n",
            "Epoch 174/500\n",
            "64/64 [==============================] - 6s 92ms/step - loss: 0.0983 - mae: 0.3535 - val_loss: 0.0966 - val_mae: 0.3575\n",
            "Epoch 175/500\n",
            "64/64 [==============================] - 5s 74ms/step - loss: 0.0971 - mae: 0.3507 - val_loss: 0.0956 - val_mae: 0.3566\n",
            "Epoch 176/500\n",
            "64/64 [==============================] - 5s 86ms/step - loss: 0.0968 - mae: 0.3529 - val_loss: 0.0950 - val_mae: 0.3563\n",
            "Epoch 177/500\n",
            "64/64 [==============================] - 5s 77ms/step - loss: 0.0960 - mae: 0.3472 - val_loss: 0.0946 - val_mae: 0.3566\n",
            "Epoch 178/500\n",
            "64/64 [==============================] - 5s 72ms/step - loss: 0.0973 - mae: 0.3517 - val_loss: 0.0942 - val_mae: 0.3566\n",
            "Epoch 179/500\n",
            "64/64 [==============================] - 6s 93ms/step - loss: 0.0912 - mae: 0.3388 - val_loss: 0.0932 - val_mae: 0.3553\n",
            "Epoch 180/500\n",
            "64/64 [==============================] - 6s 91ms/step - loss: 0.0922 - mae: 0.3402 - val_loss: 0.0924 - val_mae: 0.3543\n",
            "Epoch 181/500\n",
            "64/64 [==============================] - 5s 81ms/step - loss: 0.0938 - mae: 0.3452 - val_loss: 0.0920 - val_mae: 0.3542\n",
            "Epoch 182/500\n",
            "64/64 [==============================] - 5s 77ms/step - loss: 0.0949 - mae: 0.3569 - val_loss: 0.0914 - val_mae: 0.3535\n",
            "Epoch 183/500\n",
            "64/64 [==============================] - 6s 100ms/step - loss: 0.0882 - mae: 0.3380 - val_loss: 0.0911 - val_mae: 0.3536\n",
            "Epoch 184/500\n",
            "64/64 [==============================] - 5s 71ms/step - loss: 0.0890 - mae: 0.3300 - val_loss: 0.0904 - val_mae: 0.3526\n",
            "Epoch 185/500\n",
            "64/64 [==============================] - 6s 96ms/step - loss: 0.0957 - mae: 0.3516 - val_loss: 0.0900 - val_mae: 0.3525\n",
            "Epoch 186/500\n",
            "64/64 [==============================] - 5s 76ms/step - loss: 0.0910 - mae: 0.3405 - val_loss: 0.0898 - val_mae: 0.3524\n",
            "Epoch 187/500\n",
            "64/64 [==============================] - 6s 89ms/step - loss: 0.0898 - mae: 0.3355 - val_loss: 0.0896 - val_mae: 0.3524\n",
            "Epoch 188/500\n",
            "64/64 [==============================] - 6s 92ms/step - loss: 0.0870 - mae: 0.3299 - val_loss: 0.0894 - val_mae: 0.3525\n",
            "Epoch 189/500\n",
            "64/64 [==============================] - 5s 71ms/step - loss: 0.0890 - mae: 0.3373 - val_loss: 0.0886 - val_mae: 0.3513\n",
            "Epoch 190/500\n",
            "64/64 [==============================] - 6s 94ms/step - loss: 0.0919 - mae: 0.3401 - val_loss: 0.0882 - val_mae: 0.3508\n",
            "Epoch 191/500\n",
            "64/64 [==============================] - 5s 72ms/step - loss: 0.0843 - mae: 0.3261 - val_loss: 0.0880 - val_mae: 0.3507\n",
            "Epoch 192/500\n",
            "64/64 [==============================] - 6s 99ms/step - loss: 0.0911 - mae: 0.3339 - val_loss: 0.0873 - val_mae: 0.3495\n",
            "Epoch 193/500\n",
            "64/64 [==============================] - 5s 76ms/step - loss: 0.0871 - mae: 0.3345 - val_loss: 0.0871 - val_mae: 0.3492\n",
            "Epoch 194/500\n",
            "64/64 [==============================] - 6s 94ms/step - loss: 0.0926 - mae: 0.3451 - val_loss: 0.0870 - val_mae: 0.3493\n",
            "Epoch 195/500\n",
            "64/64 [==============================] - 6s 95ms/step - loss: 0.0883 - mae: 0.3341 - val_loss: 0.0860 - val_mae: 0.3473\n",
            "Epoch 196/500\n",
            "64/64 [==============================] - 5s 73ms/step - loss: 0.0891 - mae: 0.3328 - val_loss: 0.0863 - val_mae: 0.3484\n",
            "Epoch 197/500\n",
            "64/64 [==============================] - 6s 86ms/step - loss: 0.0895 - mae: 0.3356 - val_loss: 0.0862 - val_mae: 0.3483\n",
            "Epoch 198/500\n",
            "64/64 [==============================] - 5s 79ms/step - loss: 0.0851 - mae: 0.3257 - val_loss: 0.0854 - val_mae: 0.3467\n",
            "Epoch 199/500\n",
            "64/64 [==============================] - 6s 94ms/step - loss: 0.0864 - mae: 0.3299 - val_loss: 0.0857 - val_mae: 0.3474\n",
            "Epoch 200/500\n",
            "64/64 [==============================] - 6s 94ms/step - loss: 0.0855 - mae: 0.3260 - val_loss: 0.0854 - val_mae: 0.3468\n",
            "Epoch 201/500\n",
            "64/64 [==============================] - 5s 77ms/step - loss: 0.0855 - mae: 0.3244 - val_loss: 0.0856 - val_mae: 0.3474\n",
            "Epoch 202/500\n",
            "64/64 [==============================] - 6s 92ms/step - loss: 0.0902 - mae: 0.3376 - val_loss: 0.0856 - val_mae: 0.3475\n",
            "Epoch 203/500\n",
            "64/64 [==============================] - 5s 72ms/step - loss: 0.0864 - mae: 0.3283 - val_loss: 0.0859 - val_mae: 0.3483\n",
            "Epoch 204/500\n",
            "64/64 [==============================] - 6s 97ms/step - loss: 0.0903 - mae: 0.3348 - val_loss: 0.0861 - val_mae: 0.3489\n",
            "Epoch 205/500\n",
            "64/64 [==============================] - 5s 72ms/step - loss: 0.0875 - mae: 0.3339 - val_loss: 0.0857 - val_mae: 0.3481\n",
            "Epoch 206/500\n",
            "64/64 [==============================] - 6s 93ms/step - loss: 0.0842 - mae: 0.3223 - val_loss: 0.0854 - val_mae: 0.3474\n",
            "Epoch 207/500\n",
            "64/64 [==============================] - 7s 102ms/step - loss: 0.0892 - mae: 0.3348 - val_loss: 0.0848 - val_mae: 0.3461\n",
            "Epoch 208/500\n",
            "64/64 [==============================] - 5s 78ms/step - loss: 0.0860 - mae: 0.3283 - val_loss: 0.0845 - val_mae: 0.3455\n",
            "Epoch 209/500\n",
            "64/64 [==============================] - 5s 72ms/step - loss: 0.0840 - mae: 0.3273 - val_loss: 0.0840 - val_mae: 0.3446\n",
            "Epoch 210/500\n",
            "64/64 [==============================] - 5s 84ms/step - loss: 0.0861 - mae: 0.3328 - val_loss: 0.0842 - val_mae: 0.3450\n",
            "Epoch 211/500\n",
            "64/64 [==============================] - 6s 93ms/step - loss: 0.0897 - mae: 0.3343 - val_loss: 0.0838 - val_mae: 0.3441\n",
            "Epoch 212/500\n",
            "64/64 [==============================] - 5s 77ms/step - loss: 0.0873 - mae: 0.3320 - val_loss: 0.0830 - val_mae: 0.3424\n",
            "Epoch 213/500\n",
            "64/64 [==============================] - 5s 84ms/step - loss: 0.0873 - mae: 0.3348 - val_loss: 0.0828 - val_mae: 0.3418\n",
            "Epoch 214/500\n",
            "64/64 [==============================] - 6s 96ms/step - loss: 0.0891 - mae: 0.3374 - val_loss: 0.0826 - val_mae: 0.3416\n",
            "Epoch 215/500\n",
            "64/64 [==============================] - 5s 75ms/step - loss: 0.0862 - mae: 0.3281 - val_loss: 0.0829 - val_mae: 0.3422\n",
            "Epoch 216/500\n",
            "64/64 [==============================] - 6s 89ms/step - loss: 0.0841 - mae: 0.3263 - val_loss: 0.0835 - val_mae: 0.3435\n",
            "Epoch 217/500\n",
            "64/64 [==============================] - 5s 75ms/step - loss: 0.0851 - mae: 0.3275 - val_loss: 0.0835 - val_mae: 0.3435\n",
            "Epoch 218/500\n",
            "64/64 [==============================] - 6s 93ms/step - loss: 0.0830 - mae: 0.3185 - val_loss: 0.0834 - val_mae: 0.3433\n",
            "Epoch 219/500\n",
            "64/64 [==============================] - 6s 99ms/step - loss: 0.0889 - mae: 0.3374 - val_loss: 0.0836 - val_mae: 0.3438\n",
            "Epoch 220/500\n",
            "64/64 [==============================] - 5s 77ms/step - loss: 0.0824 - mae: 0.3242 - val_loss: 0.0836 - val_mae: 0.3435\n",
            "Epoch 221/500\n",
            "64/64 [==============================] - 5s 73ms/step - loss: 0.0850 - mae: 0.3307 - val_loss: 0.0834 - val_mae: 0.3430\n",
            "Epoch 222/500\n",
            "64/64 [==============================] - 6s 93ms/step - loss: 0.0844 - mae: 0.3286 - val_loss: 0.0831 - val_mae: 0.3423\n",
            "Epoch 223/500\n",
            "64/64 [==============================] - 6s 94ms/step - loss: 0.0868 - mae: 0.3288 - val_loss: 0.0832 - val_mae: 0.3425\n",
            "Epoch 224/500\n",
            "64/64 [==============================] - 5s 75ms/step - loss: 0.0869 - mae: 0.3284 - val_loss: 0.0829 - val_mae: 0.3419\n",
            "Epoch 225/500\n",
            "64/64 [==============================] - 6s 96ms/step - loss: 0.0848 - mae: 0.3223 - val_loss: 0.0831 - val_mae: 0.3423\n",
            "Epoch 226/500\n",
            "64/64 [==============================] - 6s 89ms/step - loss: 0.0851 - mae: 0.3264 - val_loss: 0.0839 - val_mae: 0.3442\n",
            "Epoch 227/500\n",
            "64/64 [==============================] - 5s 71ms/step - loss: 0.0822 - mae: 0.3197 - val_loss: 0.0833 - val_mae: 0.3425\n",
            "Epoch 228/500\n",
            "64/64 [==============================] - 7s 105ms/step - loss: 0.0817 - mae: 0.3178 - val_loss: 0.0829 - val_mae: 0.3413\n",
            "Epoch 229/500\n",
            "64/64 [==============================] - 5s 86ms/step - loss: 0.0821 - mae: 0.3206 - val_loss: 0.0828 - val_mae: 0.3411\n",
            "Epoch 230/500\n",
            "64/64 [==============================] - 6s 86ms/step - loss: 0.0813 - mae: 0.3179 - val_loss: 0.0825 - val_mae: 0.3403\n",
            "Epoch 231/500\n",
            "64/64 [==============================] - 6s 101ms/step - loss: 0.0824 - mae: 0.3229 - val_loss: 0.0821 - val_mae: 0.3396\n",
            "Epoch 232/500\n",
            "64/64 [==============================] - 5s 78ms/step - loss: 0.0852 - mae: 0.3314 - val_loss: 0.0819 - val_mae: 0.3392\n",
            "Epoch 233/500\n",
            "64/64 [==============================] - 6s 91ms/step - loss: 0.0826 - mae: 0.3207 - val_loss: 0.0829 - val_mae: 0.3419\n",
            "Epoch 234/500\n",
            "64/64 [==============================] - 5s 75ms/step - loss: 0.0873 - mae: 0.3268 - val_loss: 0.0817 - val_mae: 0.3391\n",
            "Epoch 235/500\n",
            "64/64 [==============================] - 5s 75ms/step - loss: 0.0894 - mae: 0.3330 - val_loss: 0.0822 - val_mae: 0.3405\n",
            "Epoch 236/500\n",
            "64/64 [==============================] - 6s 97ms/step - loss: 0.0833 - mae: 0.3247 - val_loss: 0.0821 - val_mae: 0.3402\n",
            "Epoch 237/500\n",
            "64/64 [==============================] - 5s 78ms/step - loss: 0.0841 - mae: 0.3276 - val_loss: 0.0816 - val_mae: 0.3390\n",
            "Epoch 238/500\n",
            "64/64 [==============================] - 6s 98ms/step - loss: 0.0862 - mae: 0.3315 - val_loss: 0.0824 - val_mae: 0.3413\n",
            "Epoch 239/500\n",
            "64/64 [==============================] - 5s 84ms/step - loss: 0.0857 - mae: 0.3259 - val_loss: 0.0821 - val_mae: 0.3402\n",
            "Epoch 240/500\n",
            "64/64 [==============================] - 6s 90ms/step - loss: 0.0806 - mae: 0.3190 - val_loss: 0.0816 - val_mae: 0.3391\n",
            "Epoch 241/500\n",
            "64/64 [==============================] - 5s 74ms/step - loss: 0.0869 - mae: 0.3253 - val_loss: 0.0815 - val_mae: 0.3387\n",
            "Epoch 242/500\n",
            "64/64 [==============================] - 6s 99ms/step - loss: 0.0885 - mae: 0.3333 - val_loss: 0.0814 - val_mae: 0.3386\n",
            "Epoch 243/500\n",
            "64/64 [==============================] - 5s 74ms/step - loss: 0.0860 - mae: 0.3277 - val_loss: 0.0816 - val_mae: 0.3390\n",
            "Epoch 244/500\n",
            "64/64 [==============================] - 6s 98ms/step - loss: 0.0842 - mae: 0.3285 - val_loss: 0.0812 - val_mae: 0.3379\n",
            "Epoch 245/500\n",
            "64/64 [==============================] - 6s 95ms/step - loss: 0.0831 - mae: 0.3215 - val_loss: 0.0813 - val_mae: 0.3383\n",
            "Epoch 246/500\n",
            "64/64 [==============================] - 6s 92ms/step - loss: 0.0832 - mae: 0.3247 - val_loss: 0.0810 - val_mae: 0.3376\n",
            "Epoch 247/500\n",
            "64/64 [==============================] - 5s 78ms/step - loss: 0.0827 - mae: 0.3186 - val_loss: 0.0813 - val_mae: 0.3385\n",
            "Epoch 248/500\n",
            "64/64 [==============================] - 5s 77ms/step - loss: 0.0852 - mae: 0.3224 - val_loss: 0.0815 - val_mae: 0.3390\n",
            "Epoch 249/500\n",
            "64/64 [==============================] - 6s 97ms/step - loss: 0.0831 - mae: 0.3219 - val_loss: 0.0812 - val_mae: 0.3385\n",
            "Epoch 250/500\n",
            "64/64 [==============================] - 6s 95ms/step - loss: 0.0809 - mae: 0.3198 - val_loss: 0.0808 - val_mae: 0.3371\n",
            "Epoch 251/500\n",
            "64/64 [==============================] - 5s 74ms/step - loss: 0.0857 - mae: 0.3297 - val_loss: 0.0811 - val_mae: 0.3381\n",
            "Epoch 252/500\n",
            "64/64 [==============================] - 5s 85ms/step - loss: 0.0838 - mae: 0.3246 - val_loss: 0.0807 - val_mae: 0.3372\n",
            "Epoch 253/500\n",
            "64/64 [==============================] - 5s 74ms/step - loss: 0.0841 - mae: 0.3247 - val_loss: 0.0810 - val_mae: 0.3380\n",
            "Epoch 254/500\n",
            "64/64 [==============================] - 6s 99ms/step - loss: 0.0828 - mae: 0.3220 - val_loss: 0.0809 - val_mae: 0.3377\n",
            "Epoch 255/500\n",
            "64/64 [==============================] - 5s 75ms/step - loss: 0.0839 - mae: 0.3225 - val_loss: 0.0812 - val_mae: 0.3387\n",
            "Epoch 256/500\n",
            "64/64 [==============================] - 6s 99ms/step - loss: 0.0842 - mae: 0.3256 - val_loss: 0.0806 - val_mae: 0.3370\n",
            "Epoch 257/500\n",
            "64/64 [==============================] - 5s 79ms/step - loss: 0.0803 - mae: 0.3179 - val_loss: 0.0811 - val_mae: 0.3384\n",
            "Epoch 258/500\n",
            "64/64 [==============================] - 6s 92ms/step - loss: 0.0840 - mae: 0.3227 - val_loss: 0.0812 - val_mae: 0.3387\n",
            "Epoch 259/500\n",
            "64/64 [==============================] - 6s 96ms/step - loss: 0.0888 - mae: 0.3336 - val_loss: 0.0810 - val_mae: 0.3381\n",
            "Epoch 260/500\n",
            "64/64 [==============================] - 5s 81ms/step - loss: 0.0842 - mae: 0.3241 - val_loss: 0.0808 - val_mae: 0.3377\n",
            "Epoch 261/500\n",
            "64/64 [==============================] - 6s 97ms/step - loss: 0.0809 - mae: 0.3180 - val_loss: 0.0812 - val_mae: 0.3388\n",
            "Epoch 262/500\n",
            "64/64 [==============================] - 6s 97ms/step - loss: 0.0835 - mae: 0.3209 - val_loss: 0.0807 - val_mae: 0.3373\n",
            "Epoch 263/500\n",
            "64/64 [==============================] - 5s 78ms/step - loss: 0.0857 - mae: 0.3287 - val_loss: 0.0807 - val_mae: 0.3374\n",
            "Epoch 264/500\n",
            "64/64 [==============================] - 6s 100ms/step - loss: 0.0809 - mae: 0.3162 - val_loss: 0.0805 - val_mae: 0.3369\n",
            "Epoch 265/500\n",
            "64/64 [==============================] - 6s 95ms/step - loss: 0.0891 - mae: 0.3310 - val_loss: 0.0800 - val_mae: 0.3352\n",
            "Epoch 266/500\n",
            "64/64 [==============================] - 5s 83ms/step - loss: 0.0808 - mae: 0.3174 - val_loss: 0.0796 - val_mae: 0.3342\n",
            "Epoch 267/500\n",
            "64/64 [==============================] - 6s 90ms/step - loss: 0.0845 - mae: 0.3313 - val_loss: 0.0798 - val_mae: 0.3349\n",
            "Epoch 268/500\n",
            "64/64 [==============================] - 7s 111ms/step - loss: 0.0802 - mae: 0.3155 - val_loss: 0.0792 - val_mae: 0.3331\n",
            "Epoch 269/500\n",
            "64/64 [==============================] - 5s 81ms/step - loss: 0.0860 - mae: 0.3299 - val_loss: 0.0795 - val_mae: 0.3340\n",
            "Epoch 270/500\n",
            "64/64 [==============================] - 5s 76ms/step - loss: 0.0839 - mae: 0.3267 - val_loss: 0.0797 - val_mae: 0.3345\n",
            "Epoch 271/500\n",
            "64/64 [==============================] - 6s 96ms/step - loss: 0.0846 - mae: 0.3226 - val_loss: 0.0793 - val_mae: 0.3336\n",
            "Epoch 272/500\n",
            "64/64 [==============================] - 6s 88ms/step - loss: 0.0821 - mae: 0.3171 - val_loss: 0.0797 - val_mae: 0.3348\n",
            "Epoch 273/500\n",
            "64/64 [==============================] - 6s 92ms/step - loss: 0.0887 - mae: 0.3338 - val_loss: 0.0800 - val_mae: 0.3356\n",
            "Epoch 274/500\n",
            "64/64 [==============================] - 6s 96ms/step - loss: 0.0816 - mae: 0.3142 - val_loss: 0.0793 - val_mae: 0.3337\n",
            "Epoch 275/500\n",
            "64/64 [==============================] - 5s 78ms/step - loss: 0.0863 - mae: 0.3321 - val_loss: 0.0795 - val_mae: 0.3341\n",
            "Epoch 276/500\n",
            "64/64 [==============================] - 6s 90ms/step - loss: 0.0844 - mae: 0.3277 - val_loss: 0.0793 - val_mae: 0.3336\n",
            "Epoch 277/500\n",
            "64/64 [==============================] - 5s 79ms/step - loss: 0.0873 - mae: 0.3361 - val_loss: 0.0798 - val_mae: 0.3353\n",
            "Epoch 278/500\n",
            "64/64 [==============================] - 6s 98ms/step - loss: 0.0840 - mae: 0.3264 - val_loss: 0.0806 - val_mae: 0.3373\n",
            "Epoch 279/500\n",
            "64/64 [==============================] - 6s 100ms/step - loss: 0.0851 - mae: 0.3259 - val_loss: 0.0801 - val_mae: 0.3361\n",
            "Epoch 280/500\n",
            "64/64 [==============================] - 5s 78ms/step - loss: 0.0825 - mae: 0.3212 - val_loss: 0.0801 - val_mae: 0.3359\n",
            "Epoch 281/500\n",
            "64/64 [==============================] - 5s 81ms/step - loss: 0.0845 - mae: 0.3295 - val_loss: 0.0797 - val_mae: 0.3350\n",
            "Epoch 282/500\n",
            "64/64 [==============================] - 7s 104ms/step - loss: 0.0780 - mae: 0.3100 - val_loss: 0.0801 - val_mae: 0.3362\n",
            "Epoch 283/500\n",
            "64/64 [==============================] - 5s 78ms/step - loss: 0.0892 - mae: 0.3313 - val_loss: 0.0796 - val_mae: 0.3344\n",
            "Epoch 284/500\n",
            "64/64 [==============================] - 6s 99ms/step - loss: 0.0837 - mae: 0.3271 - val_loss: 0.0799 - val_mae: 0.3355\n",
            "Epoch 285/500\n",
            "64/64 [==============================] - 5s 77ms/step - loss: 0.0759 - mae: 0.3102 - val_loss: 0.0797 - val_mae: 0.3349\n",
            "Epoch 286/500\n",
            "64/64 [==============================] - 7s 103ms/step - loss: 0.0843 - mae: 0.3261 - val_loss: 0.0797 - val_mae: 0.3349\n",
            "Epoch 287/500\n",
            "64/64 [==============================] - 5s 80ms/step - loss: 0.0847 - mae: 0.3267 - val_loss: 0.0797 - val_mae: 0.3349\n",
            "Epoch 288/500\n",
            "64/64 [==============================] - 5s 77ms/step - loss: 0.0763 - mae: 0.3118 - val_loss: 0.0795 - val_mae: 0.3342\n",
            "Epoch 289/500\n",
            "64/64 [==============================] - 6s 100ms/step - loss: 0.0820 - mae: 0.3204 - val_loss: 0.0793 - val_mae: 0.3336\n",
            "Epoch 290/500\n",
            "64/64 [==============================] - 5s 78ms/step - loss: 0.0819 - mae: 0.3203 - val_loss: 0.0793 - val_mae: 0.3336\n",
            "Epoch 291/500\n",
            "64/64 [==============================] - 7s 104ms/step - loss: 0.0838 - mae: 0.3254 - val_loss: 0.0798 - val_mae: 0.3351\n",
            "Epoch 292/500\n",
            "64/64 [==============================] - 5s 78ms/step - loss: 0.0829 - mae: 0.3222 - val_loss: 0.0801 - val_mae: 0.3360\n",
            "Epoch 293/500\n",
            "64/64 [==============================] - 8s 122ms/step - loss: 0.0860 - mae: 0.3274 - val_loss: 0.0795 - val_mae: 0.3345\n",
            "Epoch 294/500\n",
            "64/64 [==============================] - 6s 88ms/step - loss: 0.0856 - mae: 0.3302 - val_loss: 0.0797 - val_mae: 0.3351\n",
            "Epoch 295/500\n",
            "64/64 [==============================] - 6s 95ms/step - loss: 0.0797 - mae: 0.3182 - val_loss: 0.0792 - val_mae: 0.3336\n",
            "Epoch 296/500\n",
            "64/64 [==============================] - 5s 76ms/step - loss: 0.0852 - mae: 0.3310 - val_loss: 0.0795 - val_mae: 0.3344\n",
            "Epoch 297/500\n",
            "64/64 [==============================] - 6s 101ms/step - loss: 0.0814 - mae: 0.3191 - val_loss: 0.0792 - val_mae: 0.3337\n",
            "Epoch 298/500\n",
            "64/64 [==============================] - 5s 79ms/step - loss: 0.0809 - mae: 0.3160 - val_loss: 0.0795 - val_mae: 0.3344\n",
            "Epoch 299/500\n",
            "64/64 [==============================] - 6s 99ms/step - loss: 0.0794 - mae: 0.3200 - val_loss: 0.0795 - val_mae: 0.3345\n",
            "Epoch 300/500\n",
            "64/64 [==============================] - 5s 81ms/step - loss: 0.0816 - mae: 0.3182 - val_loss: 0.0789 - val_mae: 0.3327\n",
            "Epoch 301/500\n",
            "64/64 [==============================] - 6s 90ms/step - loss: 0.0778 - mae: 0.3113 - val_loss: 0.0785 - val_mae: 0.3315\n",
            "Epoch 302/500\n",
            "64/64 [==============================] - 5s 80ms/step - loss: 0.0811 - mae: 0.3172 - val_loss: 0.0784 - val_mae: 0.3313\n",
            "Epoch 303/500\n",
            "64/64 [==============================] - 5s 78ms/step - loss: 0.0789 - mae: 0.3125 - val_loss: 0.0780 - val_mae: 0.3300\n",
            "Epoch 304/500\n",
            "64/64 [==============================] - 6s 100ms/step - loss: 0.0840 - mae: 0.3215 - val_loss: 0.0786 - val_mae: 0.3319\n",
            "Epoch 305/500\n",
            "64/64 [==============================] - 5s 77ms/step - loss: 0.0818 - mae: 0.3207 - val_loss: 0.0784 - val_mae: 0.3312\n",
            "Epoch 306/500\n",
            "64/64 [==============================] - 5s 81ms/step - loss: 0.0800 - mae: 0.3199 - val_loss: 0.0791 - val_mae: 0.3334\n",
            "Epoch 307/500\n",
            "64/64 [==============================] - 6s 93ms/step - loss: 0.0808 - mae: 0.3167 - val_loss: 0.0784 - val_mae: 0.3315\n",
            "Epoch 308/500\n",
            "64/64 [==============================] - 5s 81ms/step - loss: 0.0867 - mae: 0.3280 - val_loss: 0.0778 - val_mae: 0.3295\n",
            "Epoch 309/500\n",
            "64/64 [==============================] - 5s 77ms/step - loss: 0.0798 - mae: 0.3172 - val_loss: 0.0777 - val_mae: 0.3293\n",
            "Epoch 310/500\n",
            "64/64 [==============================] - 6s 98ms/step - loss: 0.0831 - mae: 0.3234 - val_loss: 0.0773 - val_mae: 0.3281\n",
            "Epoch 311/500\n",
            "64/64 [==============================] - 5s 78ms/step - loss: 0.0816 - mae: 0.3176 - val_loss: 0.0769 - val_mae: 0.3267\n",
            "Epoch 312/500\n",
            "64/64 [==============================] - 6s 87ms/step - loss: 0.0777 - mae: 0.3085 - val_loss: 0.0770 - val_mae: 0.3272\n",
            "Epoch 313/500\n",
            "64/64 [==============================] - 5s 76ms/step - loss: 0.0805 - mae: 0.3203 - val_loss: 0.0777 - val_mae: 0.3292\n",
            "Epoch 314/500\n",
            "64/64 [==============================] - 6s 97ms/step - loss: 0.0768 - mae: 0.3090 - val_loss: 0.0779 - val_mae: 0.3298\n",
            "Epoch 315/500\n",
            "64/64 [==============================] - 5s 80ms/step - loss: 0.0789 - mae: 0.3149 - val_loss: 0.0780 - val_mae: 0.3302\n",
            "Epoch 316/500\n",
            "64/64 [==============================] - 5s 80ms/step - loss: 0.0759 - mae: 0.3100 - val_loss: 0.0781 - val_mae: 0.3307\n",
            "Epoch 317/500\n",
            "64/64 [==============================] - 6s 87ms/step - loss: 0.0764 - mae: 0.3112 - val_loss: 0.0787 - val_mae: 0.3324\n",
            "Epoch 318/500\n",
            "64/64 [==============================] - 5s 76ms/step - loss: 0.0850 - mae: 0.3271 - val_loss: 0.0787 - val_mae: 0.3325\n",
            "Epoch 319/500\n",
            "64/64 [==============================] - 6s 97ms/step - loss: 0.0775 - mae: 0.3096 - val_loss: 0.0785 - val_mae: 0.3318\n",
            "Epoch 320/500\n",
            "64/64 [==============================] - 6s 100ms/step - loss: 0.0815 - mae: 0.3164 - val_loss: 0.0784 - val_mae: 0.3314\n",
            "Epoch 321/500\n",
            "64/64 [==============================] - 5s 81ms/step - loss: 0.0803 - mae: 0.3127 - val_loss: 0.0782 - val_mae: 0.3309\n",
            "Epoch 322/500\n",
            "64/64 [==============================] - 5s 80ms/step - loss: 0.0805 - mae: 0.3141 - val_loss: 0.0782 - val_mae: 0.3309\n",
            "Epoch 323/500\n",
            "64/64 [==============================] - 6s 99ms/step - loss: 0.0833 - mae: 0.3223 - val_loss: 0.0781 - val_mae: 0.3304\n",
            "Epoch 324/500\n",
            "64/64 [==============================] - 7s 103ms/step - loss: 0.0819 - mae: 0.3216 - val_loss: 0.0779 - val_mae: 0.3297\n",
            "Epoch 325/500\n",
            "64/64 [==============================] - 5s 81ms/step - loss: 0.0829 - mae: 0.3226 - val_loss: 0.0776 - val_mae: 0.3290\n",
            "Epoch 326/500\n",
            "64/64 [==============================] - 5s 80ms/step - loss: 0.0800 - mae: 0.3167 - val_loss: 0.0777 - val_mae: 0.3291\n",
            "Epoch 327/500\n",
            "64/64 [==============================] - 5s 79ms/step - loss: 0.0784 - mae: 0.3128 - val_loss: 0.0779 - val_mae: 0.3298\n",
            "Epoch 328/500\n",
            "64/64 [==============================] - 6s 95ms/step - loss: 0.0772 - mae: 0.3169 - val_loss: 0.0780 - val_mae: 0.3301\n",
            "Epoch 329/500\n",
            "64/64 [==============================] - 5s 83ms/step - loss: 0.0810 - mae: 0.3158 - val_loss: 0.0784 - val_mae: 0.3313\n",
            "Epoch 330/500\n",
            "64/64 [==============================] - 6s 94ms/step - loss: 0.0869 - mae: 0.3281 - val_loss: 0.0784 - val_mae: 0.3312\n",
            "Epoch 331/500\n",
            "64/64 [==============================] - 5s 82ms/step - loss: 0.0845 - mae: 0.3256 - val_loss: 0.0786 - val_mae: 0.3319\n",
            "Epoch 332/500\n",
            "64/64 [==============================] - 5s 75ms/step - loss: 0.0759 - mae: 0.3080 - val_loss: 0.0778 - val_mae: 0.3295\n",
            "Epoch 333/500\n",
            "64/64 [==============================] - 6s 97ms/step - loss: 0.0789 - mae: 0.3105 - val_loss: 0.0775 - val_mae: 0.3285\n",
            "Epoch 334/500\n",
            "64/64 [==============================] - 5s 84ms/step - loss: 0.0809 - mae: 0.3188 - val_loss: 0.0773 - val_mae: 0.3279\n",
            "Epoch 335/500\n",
            "64/64 [==============================] - 6s 94ms/step - loss: 0.0772 - mae: 0.3108 - val_loss: 0.0773 - val_mae: 0.3280\n",
            "Epoch 336/500\n",
            "64/64 [==============================] - 6s 95ms/step - loss: 0.0787 - mae: 0.3158 - val_loss: 0.0774 - val_mae: 0.3284\n",
            "Epoch 337/500\n",
            "64/64 [==============================] - 5s 79ms/step - loss: 0.0786 - mae: 0.3153 - val_loss: 0.0776 - val_mae: 0.3288\n",
            "Epoch 338/500\n",
            "64/64 [==============================] - 5s 85ms/step - loss: 0.0823 - mae: 0.3214 - val_loss: 0.0774 - val_mae: 0.3281\n",
            "Epoch 339/500\n",
            "64/64 [==============================] - 6s 91ms/step - loss: 0.0790 - mae: 0.3119 - val_loss: 0.0773 - val_mae: 0.3280\n",
            "Epoch 340/500\n",
            "64/64 [==============================] - 6s 96ms/step - loss: 0.0817 - mae: 0.3175 - val_loss: 0.0773 - val_mae: 0.3279\n",
            "Epoch 341/500\n",
            "64/64 [==============================] - 6s 102ms/step - loss: 0.0819 - mae: 0.3190 - val_loss: 0.0774 - val_mae: 0.3281\n",
            "Epoch 342/500\n",
            "64/64 [==============================] - 5s 77ms/step - loss: 0.0808 - mae: 0.3182 - val_loss: 0.0771 - val_mae: 0.3272\n",
            "Epoch 343/500\n",
            "64/64 [==============================] - 6s 102ms/step - loss: 0.0874 - mae: 0.3288 - val_loss: 0.0775 - val_mae: 0.3283\n",
            "Epoch 344/500\n",
            "64/64 [==============================] - 5s 79ms/step - loss: 0.0826 - mae: 0.3197 - val_loss: 0.0775 - val_mae: 0.3287\n",
            "Epoch 345/500\n",
            "64/64 [==============================] - 6s 97ms/step - loss: 0.0867 - mae: 0.3242 - val_loss: 0.0771 - val_mae: 0.3272\n",
            "Epoch 346/500\n",
            "64/64 [==============================] - 5s 82ms/step - loss: 0.0792 - mae: 0.3164 - val_loss: 0.0767 - val_mae: 0.3260\n",
            "Epoch 347/500\n",
            "64/64 [==============================] - 5s 83ms/step - loss: 0.0869 - mae: 0.3306 - val_loss: 0.0764 - val_mae: 0.3252\n",
            "Epoch 348/500\n",
            "64/64 [==============================] - 5s 78ms/step - loss: 0.0814 - mae: 0.3200 - val_loss: 0.0762 - val_mae: 0.3246\n",
            "Epoch 349/500\n",
            "64/64 [==============================] - 5s 83ms/step - loss: 0.0825 - mae: 0.3219 - val_loss: 0.0767 - val_mae: 0.3262\n",
            "Epoch 350/500\n",
            "64/64 [==============================] - 5s 82ms/step - loss: 0.0800 - mae: 0.3192 - val_loss: 0.0776 - val_mae: 0.3290\n",
            "Epoch 351/500\n",
            "64/64 [==============================] - 6s 101ms/step - loss: 0.0752 - mae: 0.3075 - val_loss: 0.0777 - val_mae: 0.3293\n",
            "Epoch 352/500\n",
            "64/64 [==============================] - 5s 83ms/step - loss: 0.0787 - mae: 0.3109 - val_loss: 0.0777 - val_mae: 0.3292\n",
            "Epoch 353/500\n",
            "64/64 [==============================] - 6s 98ms/step - loss: 0.0840 - mae: 0.3253 - val_loss: 0.0780 - val_mae: 0.3300\n",
            "Epoch 354/500\n",
            "64/64 [==============================] - 5s 79ms/step - loss: 0.0810 - mae: 0.3212 - val_loss: 0.0781 - val_mae: 0.3303\n",
            "Epoch 355/500\n",
            "64/64 [==============================] - 6s 100ms/step - loss: 0.0761 - mae: 0.3098 - val_loss: 0.0775 - val_mae: 0.3284\n",
            "Epoch 356/500\n",
            "64/64 [==============================] - 6s 100ms/step - loss: 0.0770 - mae: 0.3075 - val_loss: 0.0770 - val_mae: 0.3270\n",
            "Epoch 357/500\n",
            "64/64 [==============================] - 5s 76ms/step - loss: 0.0838 - mae: 0.3253 - val_loss: 0.0766 - val_mae: 0.3257\n",
            "Epoch 358/500\n",
            "64/64 [==============================] - 6s 88ms/step - loss: 0.0775 - mae: 0.3148 - val_loss: 0.0766 - val_mae: 0.3258\n",
            "Epoch 359/500\n",
            "64/64 [==============================] - 6s 86ms/step - loss: 0.0813 - mae: 0.3187 - val_loss: 0.0765 - val_mae: 0.3256\n",
            "Epoch 360/500\n",
            "64/64 [==============================] - 6s 98ms/step - loss: 0.0796 - mae: 0.3145 - val_loss: 0.0764 - val_mae: 0.3253\n",
            "Epoch 361/500\n",
            "64/64 [==============================] - 5s 76ms/step - loss: 0.0775 - mae: 0.3120 - val_loss: 0.0760 - val_mae: 0.3240\n",
            "Epoch 362/500\n",
            "64/64 [==============================] - 6s 95ms/step - loss: 0.0757 - mae: 0.3086 - val_loss: 0.0760 - val_mae: 0.3238\n",
            "Epoch 363/500\n",
            "64/64 [==============================] - 5s 80ms/step - loss: 0.0745 - mae: 0.3018 - val_loss: 0.0760 - val_mae: 0.3238\n",
            "Epoch 364/500\n",
            "64/64 [==============================] - 5s 80ms/step - loss: 0.0785 - mae: 0.3146 - val_loss: 0.0762 - val_mae: 0.3245\n",
            "Epoch 365/500\n",
            "64/64 [==============================] - 6s 94ms/step - loss: 0.0811 - mae: 0.3129 - val_loss: 0.0762 - val_mae: 0.3244\n",
            "Epoch 366/500\n",
            "64/64 [==============================] - 6s 99ms/step - loss: 0.0762 - mae: 0.3058 - val_loss: 0.0765 - val_mae: 0.3256\n",
            "Epoch 367/500\n",
            "64/64 [==============================] - 5s 79ms/step - loss: 0.0795 - mae: 0.3174 - val_loss: 0.0767 - val_mae: 0.3261\n",
            "Epoch 368/500\n",
            "64/64 [==============================] - 6s 97ms/step - loss: 0.0788 - mae: 0.3152 - val_loss: 0.0763 - val_mae: 0.3247\n",
            "Epoch 369/500\n",
            "64/64 [==============================] - 5s 78ms/step - loss: 0.0790 - mae: 0.3153 - val_loss: 0.0766 - val_mae: 0.3259\n",
            "Epoch 370/500\n",
            "64/64 [==============================] - 6s 98ms/step - loss: 0.0822 - mae: 0.3242 - val_loss: 0.0767 - val_mae: 0.3261\n",
            "Epoch 371/500\n",
            "64/64 [==============================] - 5s 83ms/step - loss: 0.0817 - mae: 0.3213 - val_loss: 0.0761 - val_mae: 0.3241\n",
            "Epoch 372/500\n",
            "64/64 [==============================] - 6s 100ms/step - loss: 0.0771 - mae: 0.3095 - val_loss: 0.0759 - val_mae: 0.3235\n",
            "Epoch 373/500\n",
            "64/64 [==============================] - 5s 81ms/step - loss: 0.0813 - mae: 0.3165 - val_loss: 0.0755 - val_mae: 0.3224\n",
            "Epoch 374/500\n",
            "64/64 [==============================] - 5s 81ms/step - loss: 0.0778 - mae: 0.3085 - val_loss: 0.0753 - val_mae: 0.3218\n",
            "Epoch 375/500\n",
            "64/64 [==============================] - 5s 79ms/step - loss: 0.0804 - mae: 0.3169 - val_loss: 0.0751 - val_mae: 0.3210\n",
            "Epoch 376/500\n",
            "64/64 [==============================] - 7s 102ms/step - loss: 0.0784 - mae: 0.3176 - val_loss: 0.0752 - val_mae: 0.3215\n",
            "Epoch 377/500\n",
            "64/64 [==============================] - 5s 80ms/step - loss: 0.0794 - mae: 0.3112 - val_loss: 0.0754 - val_mae: 0.3220\n",
            "Epoch 378/500\n",
            "64/64 [==============================] - 6s 101ms/step - loss: 0.0806 - mae: 0.3179 - val_loss: 0.0758 - val_mae: 0.3233\n",
            "Epoch 379/500\n",
            "64/64 [==============================] - 5s 82ms/step - loss: 0.0791 - mae: 0.3169 - val_loss: 0.0759 - val_mae: 0.3235\n",
            "Epoch 380/500\n",
            "64/64 [==============================] - 5s 84ms/step - loss: 0.0794 - mae: 0.3164 - val_loss: 0.0758 - val_mae: 0.3232\n",
            "Epoch 381/500\n",
            "64/64 [==============================] - 6s 101ms/step - loss: 0.0826 - mae: 0.3202 - val_loss: 0.0757 - val_mae: 0.3229\n",
            "Epoch 382/500\n",
            "64/64 [==============================] - 5s 78ms/step - loss: 0.0776 - mae: 0.3128 - val_loss: 0.0756 - val_mae: 0.3225\n",
            "Epoch 383/500\n",
            "64/64 [==============================] - 6s 101ms/step - loss: 0.0770 - mae: 0.3104 - val_loss: 0.0754 - val_mae: 0.3221\n",
            "Epoch 384/500\n",
            "64/64 [==============================] - 5s 81ms/step - loss: 0.0791 - mae: 0.3169 - val_loss: 0.0750 - val_mae: 0.3208\n",
            "Epoch 385/500\n",
            "64/64 [==============================] - 6s 99ms/step - loss: 0.0781 - mae: 0.3112 - val_loss: 0.0751 - val_mae: 0.3212\n",
            "Epoch 386/500\n",
            "64/64 [==============================] - 5s 77ms/step - loss: 0.0783 - mae: 0.3177 - val_loss: 0.0756 - val_mae: 0.3227\n",
            "Epoch 387/500\n",
            "64/64 [==============================] - 6s 99ms/step - loss: 0.0803 - mae: 0.3126 - val_loss: 0.0764 - val_mae: 0.3250\n",
            "Epoch 388/500\n",
            "64/64 [==============================] - 6s 93ms/step - loss: 0.0776 - mae: 0.3105 - val_loss: 0.0760 - val_mae: 0.3239\n",
            "Epoch 389/500\n",
            "64/64 [==============================] - 5s 82ms/step - loss: 0.0858 - mae: 0.3253 - val_loss: 0.0758 - val_mae: 0.3233\n",
            "Epoch 390/500\n",
            "64/64 [==============================] - 8s 121ms/step - loss: 0.0784 - mae: 0.3100 - val_loss: 0.0761 - val_mae: 0.3243\n",
            "Epoch 391/500\n",
            "64/64 [==============================] - 6s 96ms/step - loss: 0.0748 - mae: 0.3050 - val_loss: 0.0761 - val_mae: 0.3243\n",
            "Epoch 392/500\n",
            "64/64 [==============================] - 5s 80ms/step - loss: 0.0783 - mae: 0.3115 - val_loss: 0.0759 - val_mae: 0.3234\n",
            "Epoch 393/500\n",
            "64/64 [==============================] - 6s 96ms/step - loss: 0.0768 - mae: 0.3081 - val_loss: 0.0760 - val_mae: 0.3239\n",
            "Epoch 394/500\n",
            "64/64 [==============================] - 6s 99ms/step - loss: 0.0788 - mae: 0.3170 - val_loss: 0.0761 - val_mae: 0.3241\n",
            "Epoch 395/500\n",
            "64/64 [==============================] - 5s 80ms/step - loss: 0.0792 - mae: 0.3154 - val_loss: 0.0759 - val_mae: 0.3235\n",
            "Epoch 396/500\n",
            "64/64 [==============================] - 6s 99ms/step - loss: 0.0784 - mae: 0.3075 - val_loss: 0.0758 - val_mae: 0.3234\n",
            "Epoch 397/500\n",
            "64/64 [==============================] - 5s 81ms/step - loss: 0.0753 - mae: 0.3060 - val_loss: 0.0761 - val_mae: 0.3241\n",
            "Epoch 398/500\n",
            "64/64 [==============================] - 6s 88ms/step - loss: 0.0769 - mae: 0.3110 - val_loss: 0.0761 - val_mae: 0.3244\n",
            "Epoch 399/500\n",
            "64/64 [==============================] - 6s 89ms/step - loss: 0.0770 - mae: 0.3104 - val_loss: 0.0760 - val_mae: 0.3238\n",
            "Epoch 400/500\n",
            "64/64 [==============================] - 6s 100ms/step - loss: 0.0822 - mae: 0.3186 - val_loss: 0.0759 - val_mae: 0.3235\n",
            "Epoch 401/500\n",
            "64/64 [==============================] - 6s 94ms/step - loss: 0.0797 - mae: 0.3141 - val_loss: 0.0756 - val_mae: 0.3226\n",
            "Epoch 402/500\n",
            "64/64 [==============================] - 5s 81ms/step - loss: 0.0788 - mae: 0.3107 - val_loss: 0.0757 - val_mae: 0.3229\n",
            "Epoch 403/500\n",
            "64/64 [==============================] - 5s 82ms/step - loss: 0.0742 - mae: 0.3042 - val_loss: 0.0758 - val_mae: 0.3230\n",
            "Epoch 404/500\n",
            "64/64 [==============================] - 6s 102ms/step - loss: 0.0770 - mae: 0.3101 - val_loss: 0.0761 - val_mae: 0.3239\n",
            "Epoch 405/500\n",
            "64/64 [==============================] - 5s 75ms/step - loss: 0.0775 - mae: 0.3131 - val_loss: 0.0760 - val_mae: 0.3237\n",
            "Epoch 406/500\n",
            "64/64 [==============================] - 6s 94ms/step - loss: 0.0737 - mae: 0.3073 - val_loss: 0.0762 - val_mae: 0.3242\n",
            "Epoch 407/500\n",
            "64/64 [==============================] - 6s 97ms/step - loss: 0.0814 - mae: 0.3189 - val_loss: 0.0763 - val_mae: 0.3245\n",
            "Epoch 408/500\n",
            "64/64 [==============================] - 5s 81ms/step - loss: 0.0765 - mae: 0.3076 - val_loss: 0.0760 - val_mae: 0.3237\n",
            "Epoch 409/500\n",
            "64/64 [==============================] - 7s 102ms/step - loss: 0.0799 - mae: 0.3211 - val_loss: 0.0758 - val_mae: 0.3229\n",
            "Epoch 410/500\n",
            "64/64 [==============================] - 6s 101ms/step - loss: 0.0781 - mae: 0.3153 - val_loss: 0.0755 - val_mae: 0.3222\n",
            "Epoch 411/500\n",
            "64/64 [==============================] - 5s 82ms/step - loss: 0.0791 - mae: 0.3125 - val_loss: 0.0754 - val_mae: 0.3218\n",
            "Epoch 412/500\n",
            "64/64 [==============================] - 6s 91ms/step - loss: 0.0776 - mae: 0.3134 - val_loss: 0.0757 - val_mae: 0.3227\n",
            "Epoch 413/500\n",
            "64/64 [==============================] - 6s 97ms/step - loss: 0.0790 - mae: 0.3109 - val_loss: 0.0752 - val_mae: 0.3212\n",
            "Epoch 414/500\n",
            "64/64 [==============================] - 5s 84ms/step - loss: 0.0774 - mae: 0.3089 - val_loss: 0.0752 - val_mae: 0.3212\n",
            "Epoch 415/500\n",
            "64/64 [==============================] - 6s 91ms/step - loss: 0.0765 - mae: 0.3048 - val_loss: 0.0747 - val_mae: 0.3199\n",
            "Epoch 416/500\n",
            "64/64 [==============================] - 6s 97ms/step - loss: 0.0777 - mae: 0.3133 - val_loss: 0.0748 - val_mae: 0.3201\n",
            "Epoch 417/500\n",
            "64/64 [==============================] - 5s 85ms/step - loss: 0.0775 - mae: 0.3071 - val_loss: 0.0744 - val_mae: 0.3186\n",
            "Epoch 418/500\n",
            "64/64 [==============================] - 6s 88ms/step - loss: 0.0800 - mae: 0.3123 - val_loss: 0.0744 - val_mae: 0.3188\n",
            "Epoch 419/500\n",
            "64/64 [==============================] - 5s 75ms/step - loss: 0.0809 - mae: 0.3157 - val_loss: 0.0752 - val_mae: 0.3211\n",
            "Epoch 420/500\n",
            "64/64 [==============================] - 6s 98ms/step - loss: 0.0759 - mae: 0.3067 - val_loss: 0.0751 - val_mae: 0.3209\n",
            "Epoch 421/500\n",
            "64/64 [==============================] - 6s 87ms/step - loss: 0.0815 - mae: 0.3172 - val_loss: 0.0756 - val_mae: 0.3225\n",
            "Epoch 422/500\n",
            "64/64 [==============================] - 5s 82ms/step - loss: 0.0821 - mae: 0.3188 - val_loss: 0.0755 - val_mae: 0.3220\n",
            "Epoch 423/500\n",
            "64/64 [==============================] - 6s 99ms/step - loss: 0.0752 - mae: 0.3092 - val_loss: 0.0755 - val_mae: 0.3221\n",
            "Epoch 424/500\n",
            "64/64 [==============================] - 6s 94ms/step - loss: 0.0771 - mae: 0.3108 - val_loss: 0.0755 - val_mae: 0.3220\n",
            "Epoch 425/500\n",
            "64/64 [==============================] - 5s 74ms/step - loss: 0.0777 - mae: 0.3102 - val_loss: 0.0752 - val_mae: 0.3210\n",
            "Epoch 426/500\n",
            "64/64 [==============================] - 7s 103ms/step - loss: 0.0796 - mae: 0.3181 - val_loss: 0.0749 - val_mae: 0.3200\n",
            "Epoch 427/500\n",
            "64/64 [==============================] - 5s 74ms/step - loss: 0.0766 - mae: 0.3112 - val_loss: 0.0748 - val_mae: 0.3200\n",
            "Epoch 428/500\n",
            "64/64 [==============================] - 6s 94ms/step - loss: 0.0794 - mae: 0.3159 - val_loss: 0.0745 - val_mae: 0.3189\n",
            "Epoch 429/500\n",
            "64/64 [==============================] - 5s 75ms/step - loss: 0.0767 - mae: 0.3071 - val_loss: 0.0743 - val_mae: 0.3181\n",
            "Epoch 430/500\n",
            "64/64 [==============================] - 6s 97ms/step - loss: 0.0765 - mae: 0.3094 - val_loss: 0.0748 - val_mae: 0.3199\n",
            "Epoch 431/500\n",
            "64/64 [==============================] - 5s 76ms/step - loss: 0.0794 - mae: 0.3084 - val_loss: 0.0743 - val_mae: 0.3181\n",
            "Epoch 432/500\n",
            "64/64 [==============================] - 6s 99ms/step - loss: 0.0776 - mae: 0.3142 - val_loss: 0.0743 - val_mae: 0.3183\n",
            "Epoch 433/500\n",
            "64/64 [==============================] - 5s 76ms/step - loss: 0.0732 - mae: 0.3033 - val_loss: 0.0744 - val_mae: 0.3186\n",
            "Epoch 434/500\n",
            "64/64 [==============================] - 6s 95ms/step - loss: 0.0773 - mae: 0.3096 - val_loss: 0.0743 - val_mae: 0.3184\n",
            "Epoch 435/500\n",
            "64/64 [==============================] - 7s 117ms/step - loss: 0.0794 - mae: 0.3131 - val_loss: 0.0742 - val_mae: 0.3180\n",
            "Epoch 436/500\n",
            "64/64 [==============================] - 5s 83ms/step - loss: 0.0761 - mae: 0.3040 - val_loss: 0.0740 - val_mae: 0.3174\n",
            "Epoch 437/500\n",
            "64/64 [==============================] - 6s 89ms/step - loss: 0.0766 - mae: 0.3086 - val_loss: 0.0742 - val_mae: 0.3180\n",
            "Epoch 438/500\n",
            "64/64 [==============================] - 5s 76ms/step - loss: 0.0788 - mae: 0.3127 - val_loss: 0.0741 - val_mae: 0.3178\n",
            "Epoch 439/500\n",
            "64/64 [==============================] - 6s 100ms/step - loss: 0.0798 - mae: 0.3151 - val_loss: 0.0744 - val_mae: 0.3185\n",
            "Epoch 440/500\n",
            "64/64 [==============================] - 5s 84ms/step - loss: 0.0795 - mae: 0.3141 - val_loss: 0.0738 - val_mae: 0.3166\n",
            "Epoch 441/500\n",
            "64/64 [==============================] - 5s 78ms/step - loss: 0.0788 - mae: 0.3170 - val_loss: 0.0742 - val_mae: 0.3179\n",
            "Epoch 442/500\n",
            "64/64 [==============================] - 6s 89ms/step - loss: 0.0816 - mae: 0.3161 - val_loss: 0.0743 - val_mae: 0.3181\n",
            "Epoch 443/500\n",
            "64/64 [==============================] - 5s 79ms/step - loss: 0.0810 - mae: 0.3163 - val_loss: 0.0749 - val_mae: 0.3202\n",
            "Epoch 444/500\n",
            "64/64 [==============================] - 7s 103ms/step - loss: 0.0757 - mae: 0.3039 - val_loss: 0.0748 - val_mae: 0.3199\n",
            "Epoch 445/500\n",
            "64/64 [==============================] - 6s 94ms/step - loss: 0.0747 - mae: 0.3072 - val_loss: 0.0747 - val_mae: 0.3195\n",
            "Epoch 446/500\n",
            "64/64 [==============================] - 5s 82ms/step - loss: 0.0772 - mae: 0.3105 - val_loss: 0.0750 - val_mae: 0.3204\n",
            "Epoch 447/500\n",
            "64/64 [==============================] - 6s 100ms/step - loss: 0.0756 - mae: 0.3047 - val_loss: 0.0747 - val_mae: 0.3194\n",
            "Epoch 448/500\n",
            "64/64 [==============================] - 6s 98ms/step - loss: 0.0813 - mae: 0.3192 - val_loss: 0.0750 - val_mae: 0.3204\n",
            "Epoch 449/500\n",
            "64/64 [==============================] - 5s 78ms/step - loss: 0.0820 - mae: 0.3178 - val_loss: 0.0742 - val_mae: 0.3178\n",
            "Epoch 450/500\n",
            "64/64 [==============================] - 5s 77ms/step - loss: 0.0771 - mae: 0.3131 - val_loss: 0.0740 - val_mae: 0.3170\n",
            "Epoch 451/500\n",
            "64/64 [==============================] - 6s 95ms/step - loss: 0.0744 - mae: 0.3076 - val_loss: 0.0737 - val_mae: 0.3161\n",
            "Epoch 452/500\n",
            "64/64 [==============================] - 5s 80ms/step - loss: 0.0750 - mae: 0.3072 - val_loss: 0.0740 - val_mae: 0.3170\n",
            "Epoch 453/500\n",
            "64/64 [==============================] - 5s 80ms/step - loss: 0.0773 - mae: 0.3088 - val_loss: 0.0737 - val_mae: 0.3160\n",
            "Epoch 454/500\n",
            "64/64 [==============================] - 6s 99ms/step - loss: 0.0753 - mae: 0.3032 - val_loss: 0.0736 - val_mae: 0.3158\n",
            "Epoch 455/500\n",
            "64/64 [==============================] - 5s 80ms/step - loss: 0.0782 - mae: 0.3144 - val_loss: 0.0733 - val_mae: 0.3150\n",
            "Epoch 456/500\n",
            "64/64 [==============================] - 6s 99ms/step - loss: 0.0730 - mae: 0.2991 - val_loss: 0.0735 - val_mae: 0.3155\n",
            "Epoch 457/500\n",
            "64/64 [==============================] - 6s 99ms/step - loss: 0.0752 - mae: 0.3098 - val_loss: 0.0736 - val_mae: 0.3157\n",
            "Epoch 458/500\n",
            "64/64 [==============================] - 5s 82ms/step - loss: 0.0769 - mae: 0.3117 - val_loss: 0.0737 - val_mae: 0.3163\n",
            "Epoch 459/500\n",
            "64/64 [==============================] - 5s 84ms/step - loss: 0.0763 - mae: 0.3074 - val_loss: 0.0743 - val_mae: 0.3180\n",
            "Epoch 460/500\n",
            "64/64 [==============================] - 5s 82ms/step - loss: 0.0752 - mae: 0.3054 - val_loss: 0.0740 - val_mae: 0.3172\n",
            "Epoch 461/500\n",
            "64/64 [==============================] - 5s 84ms/step - loss: 0.0788 - mae: 0.3149 - val_loss: 0.0743 - val_mae: 0.3180\n",
            "Epoch 462/500\n",
            "64/64 [==============================] - 6s 86ms/step - loss: 0.0789 - mae: 0.3133 - val_loss: 0.0742 - val_mae: 0.3177\n",
            "Epoch 463/500\n",
            "64/64 [==============================] - 5s 77ms/step - loss: 0.0779 - mae: 0.3089 - val_loss: 0.0741 - val_mae: 0.3173\n",
            "Epoch 464/500\n",
            "64/64 [==============================] - 6s 98ms/step - loss: 0.0733 - mae: 0.3031 - val_loss: 0.0738 - val_mae: 0.3162\n",
            "Epoch 465/500\n",
            "64/64 [==============================] - 5s 81ms/step - loss: 0.0799 - mae: 0.3115 - val_loss: 0.0741 - val_mae: 0.3173\n",
            "Epoch 466/500\n",
            "64/64 [==============================] - 5s 78ms/step - loss: 0.0752 - mae: 0.3011 - val_loss: 0.0742 - val_mae: 0.3177\n",
            "Epoch 467/500\n",
            "64/64 [==============================] - 6s 90ms/step - loss: 0.0785 - mae: 0.3137 - val_loss: 0.0742 - val_mae: 0.3176\n",
            "Epoch 468/500\n",
            "64/64 [==============================] - 6s 96ms/step - loss: 0.0745 - mae: 0.3056 - val_loss: 0.0740 - val_mae: 0.3171\n",
            "Epoch 469/500\n",
            "64/64 [==============================] - 5s 83ms/step - loss: 0.0734 - mae: 0.3031 - val_loss: 0.0739 - val_mae: 0.3168\n",
            "Epoch 470/500\n",
            "64/64 [==============================] - 6s 99ms/step - loss: 0.0782 - mae: 0.3065 - val_loss: 0.0736 - val_mae: 0.3156\n",
            "Epoch 471/500\n",
            "64/64 [==============================] - 5s 78ms/step - loss: 0.0795 - mae: 0.3103 - val_loss: 0.0734 - val_mae: 0.3150\n",
            "Epoch 472/500\n",
            "64/64 [==============================] - 6s 94ms/step - loss: 0.0759 - mae: 0.3057 - val_loss: 0.0741 - val_mae: 0.3172\n",
            "Epoch 473/500\n",
            "64/64 [==============================] - 5s 75ms/step - loss: 0.0813 - mae: 0.3187 - val_loss: 0.0747 - val_mae: 0.3192\n",
            "Epoch 474/500\n",
            "64/64 [==============================] - 6s 88ms/step - loss: 0.0756 - mae: 0.3080 - val_loss: 0.0744 - val_mae: 0.3182\n",
            "Epoch 475/500\n",
            "64/64 [==============================] - 5s 81ms/step - loss: 0.0773 - mae: 0.3100 - val_loss: 0.0740 - val_mae: 0.3169\n",
            "Epoch 476/500\n",
            "64/64 [==============================] - 6s 96ms/step - loss: 0.0752 - mae: 0.3062 - val_loss: 0.0739 - val_mae: 0.3168\n",
            "Epoch 477/500\n",
            "64/64 [==============================] - 5s 75ms/step - loss: 0.0784 - mae: 0.3179 - val_loss: 0.0738 - val_mae: 0.3163\n",
            "Epoch 478/500\n",
            "64/64 [==============================] - 6s 94ms/step - loss: 0.0728 - mae: 0.3036 - val_loss: 0.0734 - val_mae: 0.3152\n",
            "Epoch 479/500\n",
            "64/64 [==============================] - 5s 76ms/step - loss: 0.0708 - mae: 0.2979 - val_loss: 0.0738 - val_mae: 0.3163\n",
            "Epoch 480/500\n",
            "64/64 [==============================] - 6s 92ms/step - loss: 0.0786 - mae: 0.3146 - val_loss: 0.0734 - val_mae: 0.3152\n",
            "Epoch 481/500\n",
            "64/64 [==============================] - 6s 92ms/step - loss: 0.0749 - mae: 0.3057 - val_loss: 0.0732 - val_mae: 0.3146\n",
            "Epoch 482/500\n",
            "64/64 [==============================] - 5s 74ms/step - loss: 0.0789 - mae: 0.3138 - val_loss: 0.0734 - val_mae: 0.3150\n",
            "Epoch 483/500\n",
            "64/64 [==============================] - 5s 73ms/step - loss: 0.0735 - mae: 0.3013 - val_loss: 0.0731 - val_mae: 0.3142\n",
            "Epoch 484/500\n",
            "64/64 [==============================] - 6s 92ms/step - loss: 0.0799 - mae: 0.3188 - val_loss: 0.0732 - val_mae: 0.3146\n",
            "Epoch 485/500\n",
            "64/64 [==============================] - 5s 75ms/step - loss: 0.0823 - mae: 0.3229 - val_loss: 0.0733 - val_mae: 0.3147\n",
            "Epoch 486/500\n",
            "64/64 [==============================] - 7s 116ms/step - loss: 0.0718 - mae: 0.3004 - val_loss: 0.0735 - val_mae: 0.3154\n",
            "Epoch 487/500\n",
            "64/64 [==============================] - 5s 74ms/step - loss: 0.0764 - mae: 0.3077 - val_loss: 0.0734 - val_mae: 0.3149\n",
            "Epoch 488/500\n",
            "64/64 [==============================] - 6s 87ms/step - loss: 0.0735 - mae: 0.3000 - val_loss: 0.0731 - val_mae: 0.3143\n",
            "Epoch 489/500\n",
            "64/64 [==============================] - 5s 80ms/step - loss: 0.0754 - mae: 0.3050 - val_loss: 0.0731 - val_mae: 0.3142\n",
            "Epoch 490/500\n",
            "64/64 [==============================] - 6s 95ms/step - loss: 0.0768 - mae: 0.3081 - val_loss: 0.0732 - val_mae: 0.3144\n",
            "Epoch 491/500\n",
            "64/64 [==============================] - 5s 74ms/step - loss: 0.0798 - mae: 0.3188 - val_loss: 0.0733 - val_mae: 0.3149\n",
            "Epoch 492/500\n",
            "64/64 [==============================] - 6s 94ms/step - loss: 0.0780 - mae: 0.3081 - val_loss: 0.0733 - val_mae: 0.3148\n",
            "Epoch 493/500\n",
            "64/64 [==============================] - 5s 75ms/step - loss: 0.0777 - mae: 0.3102 - val_loss: 0.0736 - val_mae: 0.3155\n",
            "Epoch 494/500\n",
            "64/64 [==============================] - 5s 79ms/step - loss: 0.0741 - mae: 0.3065 - val_loss: 0.0731 - val_mae: 0.3143\n",
            "Epoch 495/500\n",
            "64/64 [==============================] - 6s 93ms/step - loss: 0.0763 - mae: 0.3122 - val_loss: 0.0733 - val_mae: 0.3148\n",
            "Epoch 496/500\n",
            "64/64 [==============================] - 6s 93ms/step - loss: 0.0762 - mae: 0.3073 - val_loss: 0.0736 - val_mae: 0.3156\n",
            "Epoch 497/500\n",
            "64/64 [==============================] - 5s 75ms/step - loss: 0.0788 - mae: 0.3130 - val_loss: 0.0738 - val_mae: 0.3162\n",
            "Epoch 498/500\n",
            "64/64 [==============================] - 5s 75ms/step - loss: 0.0751 - mae: 0.3079 - val_loss: 0.0741 - val_mae: 0.3174\n",
            "Epoch 499/500\n",
            "64/64 [==============================] - 6s 89ms/step - loss: 0.0801 - mae: 0.3105 - val_loss: 0.0743 - val_mae: 0.3178\n",
            "Epoch 500/500\n",
            "64/64 [==============================] - 5s 78ms/step - loss: 0.0779 - mae: 0.3095 - val_loss: 0.0744 - val_mae: 0.3183\n"
          ]
        }
      ]
    },
    {
      "cell_type": "code",
      "source": [
        "forecast = model_forecast(model, series[split_time - window_size: -1], window_size)[:,0]"
      ],
      "metadata": {
        "id": "_wyy43iaa2b0",
        "colab": {
          "base_uri": "https://localhost:8080/"
        },
        "outputId": "4c5e3430-5908-4921-bf24-b7b8011d75fa"
      },
      "execution_count": 63,
      "outputs": [
        {
          "output_type": "stream",
          "name": "stdout",
          "text": [
            "2/2 [==============================] - 1s 48ms/step\n"
          ]
        }
      ]
    },
    {
      "cell_type": "code",
      "source": [
        "tf.keras.metrics.mean_absolute_error(x_valid, forecast).numpy()"
      ],
      "metadata": {
        "id": "tQk8Gtnya6t9",
        "colab": {
          "base_uri": "https://localhost:8080/"
        },
        "outputId": "7453d831-04e2-4ec0-9dbc-a342bbe9d84a"
      },
      "execution_count": 64,
      "outputs": [
        {
          "output_type": "execute_result",
          "data": {
            "text/plain": [
              "0.33465782"
            ]
          },
          "metadata": {},
          "execution_count": 64
        }
      ]
    },
    {
      "cell_type": "code",
      "source": [
        "loss = history.history['loss']\n",
        "val_mae = history.history['val_mae']\n",
        "val_loss = history.history['val_loss']\n",
        "epochs = range(len(loss))\n",
        "\n",
        "plt.plot(epochs, loss, 'b')\n",
        "plt.plot(epochs, val_loss, 'k')\n",
        "plt.title('Training and Validation Loss')\n",
        "plt.xlabel(\"Epochs\")\n",
        "plt.ylabel(\"Loss\")\n",
        "plt.legend([\"Loss\", \"Validation Loss\"])\n",
        "\n",
        "plt.show()"
      ],
      "metadata": {
        "id": "Q_0u1yXwbRxd",
        "colab": {
          "base_uri": "https://localhost:8080/",
          "height": 472
        },
        "outputId": "b04998ea-10de-4042-e01a-3dcaf3797ddf"
      },
      "execution_count": 65,
      "outputs": [
        {
          "output_type": "display_data",
          "data": {
            "text/plain": [
              "<Figure size 640x480 with 1 Axes>"
            ],
            "image/png": "[encoded data removed]"
          },
          "metadata": {}
        }
      ]
    },
    {
      "cell_type": "markdown",
      "source": [
        "300번 에폭까지 손실과 MAE가 빠르게 감소. 그 이후에도 감소하긴 하지만 요동이 상당하 많다.\n",
        "\n",
        "드롭아웃을 사용할 떄 이런 요동이 종종 관찰된다.\n",
        "\n",
        "이는 학습률 같은 손실 함수의 파라미터는 물론 드롭아웃의 양을 조절할 수 있다는 의미이다.\n"
      ],
      "metadata": {
        "id": "E9mDcQXvbzD1"
      }
    },
    {
      "cell_type": "code",
      "source": [
        "plt.figure(figsize=(10,6))\n",
        "plot_series(time_valid, x_valid)\n",
        "plot_series(time_valid, forecast)\n",
        "plt.show()"
      ],
      "metadata": {
        "id": "SBJnFSh6cI7t",
        "colab": {
          "base_uri": "https://localhost:8080/",
          "height": 542
        },
        "outputId": "1da1dee5-65d9-496c-d5ae-7d6d7068932a"
      },
      "execution_count": 66,
      "outputs": [
        {
          "output_type": "display_data",
          "data": {
            "text/plain": [
              "<Figure size 1000x600 with 1 Axes>"
            ],
            "image/png": "[encoded data removed]"
          },
          "metadata": {}
        }
      ]
    },
    {
      "cell_type": "markdown",
      "source": [
        "꽤 준수하지만 밑의 그래프에서 최고점을 보면 실제값보다 많이 낮아 개선될 여지가 있다.\n",
        "\n",
        "\n",
        "케라스튜너 같은 도구로 하이퍼파라미터 튜닝하면 모델과 예측 결과 향상 가능"
      ],
      "metadata": {
        "id": "Y2KY3PhocYMl"
      }
    },
    {
      "cell_type": "markdown",
      "source": [
        "### 11.6. 양방향 RNN 사용하기\n",
        "\n",
        "각 스텝에서 시퀀스의 원래 순서와, 역순으로 한 번씩 훈련한다."
      ],
      "metadata": {
        "id": "Yhd8fFFnbTe1"
      }
    },
    {
      "cell_type": "code",
      "source": [
        "model = tf.keras.models.Sequential([\n",
        "    tf.keras.layers.Bidirectional(\n",
        "        tf.keras.layers.GRU(100, input_shape=[None, 1], return_sequences=True,\n",
        "                        dropout=0.1, recurrent_dropout=0.1)),\n",
        "    tf.keras.layers.Bidirectional(\n",
        "        tf.keras.layers.GRU(100, dropout=0.1, recurrent_dropout=0.1)),\n",
        "    tf.keras.layers.Dense(1),\n",
        "])\n",
        "\n",
        "optimizer = tf.keras.optimizers.SGD(learning_rate=1e-4, momentum=0.7)\n",
        "model.compile(loss=tf.keras.losses.Huber(), optimizer=optimizer,\n",
        "              metrics=[\"mae\"])\n",
        "history = model.fit(dataset, epochs=500, verbose=1,\n",
        "                    validation_data=valid_dataset)\n",
        "\n",
        "optimizer = tf.keras.optimizers.SGD(learning_rate=1e-4, momentum=0.7)\n",
        "model.compile(loss=tf.keras.losses.Huber(), optimizer=optimizer, metrics=[\"mae\"])\n",
        "history = model.fit(dataset, epochs=500, verbose=1, validation_data=valid_dataset)"
      ],
      "metadata": {
        "id": "_glcWMNfbXBb",
        "colab": {
          "base_uri": "https://localhost:8080/"
        },
        "outputId": "1f953a5f-336b-4b18-e9e5-4a1b031a1f05"
      },
      "execution_count": null,
      "outputs": [
        {
          "output_type": "stream",
          "name": "stdout",
          "text": [
            "Epoch 1/500\n",
            "64/64 [==============================] - 27s 194ms/step - loss: 0.4487 - mae: 0.8586 - val_loss: 0.4970 - val_mae: 0.9178\n",
            "Epoch 2/500\n",
            "64/64 [==============================] - 11s 172ms/step - loss: 0.4386 - mae: 0.8467 - val_loss: 0.4851 - val_mae: 0.9045\n",
            "Epoch 3/500\n",
            "64/64 [==============================] - 11s 170ms/step - loss: 0.4281 - mae: 0.8342 - val_loss: 0.4732 - val_mae: 0.8915\n",
            "Epoch 4/500\n",
            "64/64 [==============================] - 11s 172ms/step - loss: 0.4195 - mae: 0.8236 - val_loss: 0.4617 - val_mae: 0.8788\n",
            "Epoch 5/500\n",
            "64/64 [==============================] - 11s 171ms/step - loss: 0.4088 - mae: 0.8115 - val_loss: 0.4505 - val_mae: 0.8664\n",
            "Epoch 6/500\n",
            "64/64 [==============================] - 11s 174ms/step - loss: 0.3997 - mae: 0.8002 - val_loss: 0.4393 - val_mae: 0.8538\n",
            "Epoch 7/500\n",
            "64/64 [==============================] - 11s 167ms/step - loss: 0.3878 - mae: 0.7863 - val_loss: 0.4282 - val_mae: 0.8413\n",
            "Epoch 8/500\n",
            "64/64 [==============================] - 11s 170ms/step - loss: 0.3789 - mae: 0.7759 - val_loss: 0.4174 - val_mae: 0.8289\n",
            "Epoch 9/500\n",
            "64/64 [==============================] - 12s 192ms/step - loss: 0.3698 - mae: 0.7647 - val_loss: 0.4066 - val_mae: 0.8165\n",
            "Epoch 10/500\n",
            "64/64 [==============================] - 11s 174ms/step - loss: 0.3609 - mae: 0.7526 - val_loss: 0.3961 - val_mae: 0.8043\n",
            "Epoch 11/500\n",
            "64/64 [==============================] - 10s 161ms/step - loss: 0.3516 - mae: 0.7415 - val_loss: 0.3858 - val_mae: 0.7920\n",
            "Epoch 12/500\n",
            "64/64 [==============================] - 11s 172ms/step - loss: 0.3437 - mae: 0.7327 - val_loss: 0.3757 - val_mae: 0.7799\n",
            "Epoch 13/500\n",
            "64/64 [==============================] - 11s 172ms/step - loss: 0.3325 - mae: 0.7185 - val_loss: 0.3656 - val_mae: 0.7678\n",
            "Epoch 14/500\n",
            "64/64 [==============================] - 11s 165ms/step - loss: 0.3252 - mae: 0.7089 - val_loss: 0.3558 - val_mae: 0.7556\n",
            "Epoch 15/500\n",
            "64/64 [==============================] - 11s 171ms/step - loss: 0.3167 - mae: 0.6980 - val_loss: 0.3459 - val_mae: 0.7436\n",
            "Epoch 16/500\n",
            "64/64 [==============================] - 11s 173ms/step - loss: 0.3079 - mae: 0.6871 - val_loss: 0.3364 - val_mae: 0.7316\n",
            "Epoch 17/500\n",
            "64/64 [==============================] - 11s 174ms/step - loss: 0.2999 - mae: 0.6768 - val_loss: 0.3270 - val_mae: 0.7197\n",
            "Epoch 18/500\n",
            "64/64 [==============================] - 12s 180ms/step - loss: 0.2913 - mae: 0.6661 - val_loss: 0.3177 - val_mae: 0.7077\n",
            "Epoch 19/500\n",
            "64/64 [==============================] - 11s 172ms/step - loss: 0.2836 - mae: 0.6554 - val_loss: 0.3085 - val_mae: 0.6958\n",
            "Epoch 20/500\n",
            "64/64 [==============================] - 10s 161ms/step - loss: 0.2779 - mae: 0.6477 - val_loss: 0.2996 - val_mae: 0.6841\n",
            "Epoch 21/500\n",
            "64/64 [==============================] - 11s 171ms/step - loss: 0.2686 - mae: 0.6359 - val_loss: 0.2908 - val_mae: 0.6723\n",
            "Epoch 22/500\n",
            "64/64 [==============================] - 11s 173ms/step - loss: 0.2609 - mae: 0.6249 - val_loss: 0.2822 - val_mae: 0.6606\n",
            "Epoch 23/500\n",
            "64/64 [==============================] - 11s 171ms/step - loss: 0.2518 - mae: 0.6116 - val_loss: 0.2735 - val_mae: 0.6488\n",
            "Epoch 24/500\n",
            "64/64 [==============================] - 10s 159ms/step - loss: 0.2448 - mae: 0.6018 - val_loss: 0.2652 - val_mae: 0.6373\n",
            "Epoch 25/500\n",
            "64/64 [==============================] - 11s 165ms/step - loss: 0.2368 - mae: 0.5904 - val_loss: 0.2570 - val_mae: 0.6257\n",
            "Epoch 26/500\n",
            "64/64 [==============================] - 11s 169ms/step - loss: 0.2332 - mae: 0.5862 - val_loss: 0.2491 - val_mae: 0.6143\n",
            "Epoch 27/500\n",
            "64/64 [==============================] - 11s 173ms/step - loss: 0.2268 - mae: 0.5763 - val_loss: 0.2413 - val_mae: 0.6029\n",
            "Epoch 28/500\n",
            "64/64 [==============================] - 11s 171ms/step - loss: 0.2134 - mae: 0.5567 - val_loss: 0.2335 - val_mae: 0.5913\n",
            "Epoch 29/500\n",
            "64/64 [==============================] - 12s 187ms/step - loss: 0.2098 - mae: 0.5531 - val_loss: 0.2260 - val_mae: 0.5799\n",
            "Epoch 30/500\n",
            "64/64 [==============================] - 12s 181ms/step - loss: 0.2028 - mae: 0.5401 - val_loss: 0.2186 - val_mae: 0.5685\n",
            "Epoch 31/500\n",
            "64/64 [==============================] - 11s 177ms/step - loss: 0.1983 - mae: 0.5322 - val_loss: 0.2115 - val_mae: 0.5574\n",
            "Epoch 32/500\n",
            "64/64 [==============================] - 10s 161ms/step - loss: 0.1907 - mae: 0.5211 - val_loss: 0.2045 - val_mae: 0.5464\n",
            "Epoch 33/500\n",
            "64/64 [==============================] - 11s 179ms/step - loss: 0.1910 - mae: 0.5208 - val_loss: 0.1978 - val_mae: 0.5359\n",
            "Epoch 34/500\n",
            "64/64 [==============================] - 11s 173ms/step - loss: 0.1837 - mae: 0.5106 - val_loss: 0.1913 - val_mae: 0.5252\n",
            "Epoch 35/500\n",
            "64/64 [==============================] - 12s 182ms/step - loss: 0.1781 - mae: 0.4990 - val_loss: 0.1850 - val_mae: 0.5150\n",
            "Epoch 36/500\n",
            "64/64 [==============================] - 11s 173ms/step - loss: 0.1678 - mae: 0.4872 - val_loss: 0.1788 - val_mae: 0.5043\n",
            "Epoch 37/500\n",
            "64/64 [==============================] - 11s 174ms/step - loss: 0.1643 - mae: 0.4794 - val_loss: 0.1728 - val_mae: 0.4941\n",
            "Epoch 38/500\n",
            "64/64 [==============================] - 11s 178ms/step - loss: 0.1586 - mae: 0.4699 - val_loss: 0.1671 - val_mae: 0.4838\n",
            "Epoch 39/500\n",
            "64/64 [==============================] - 12s 192ms/step - loss: 0.1564 - mae: 0.4651 - val_loss: 0.1615 - val_mae: 0.4739\n",
            "Epoch 40/500\n",
            "64/64 [==============================] - 11s 174ms/step - loss: 0.1500 - mae: 0.4548 - val_loss: 0.1562 - val_mae: 0.4638\n",
            "Epoch 41/500\n",
            "64/64 [==============================] - 10s 153ms/step - loss: 0.1491 - mae: 0.4529 - val_loss: 0.1510 - val_mae: 0.4542\n",
            "Epoch 42/500\n",
            "64/64 [==============================] - 11s 168ms/step - loss: 0.1413 - mae: 0.4385 - val_loss: 0.1460 - val_mae: 0.4447\n",
            "Epoch 43/500\n",
            "64/64 [==============================] - 12s 191ms/step - loss: 0.1403 - mae: 0.4376 - val_loss: 0.1412 - val_mae: 0.4352\n",
            "Epoch 44/500\n",
            "64/64 [==============================] - 12s 194ms/step - loss: 0.1322 - mae: 0.4240 - val_loss: 0.1367 - val_mae: 0.4258\n",
            "Epoch 45/500\n",
            "64/64 [==============================] - 12s 193ms/step - loss: 0.1351 - mae: 0.4265 - val_loss: 0.1323 - val_mae: 0.4166\n",
            "Epoch 46/500\n",
            "64/64 [==============================] - 13s 196ms/step - loss: 0.1280 - mae: 0.4152 - val_loss: 0.1282 - val_mae: 0.4076\n",
            "Epoch 47/500\n",
            "64/64 [==============================] - 12s 194ms/step - loss: 0.1246 - mae: 0.4091 - val_loss: 0.1242 - val_mae: 0.3988\n",
            "Epoch 48/500\n",
            "64/64 [==============================] - 13s 196ms/step - loss: 0.1202 - mae: 0.4003 - val_loss: 0.1203 - val_mae: 0.3901\n",
            "Epoch 49/500\n",
            "64/64 [==============================] - 12s 191ms/step - loss: 0.1151 - mae: 0.3876 - val_loss: 0.1166 - val_mae: 0.3816\n",
            "Epoch 50/500\n",
            "64/64 [==============================] - 12s 195ms/step - loss: 0.1167 - mae: 0.3935 - val_loss: 0.1131 - val_mae: 0.3737\n",
            "Epoch 51/500\n",
            "64/64 [==============================] - 13s 200ms/step - loss: 0.1136 - mae: 0.3878 - val_loss: 0.1098 - val_mae: 0.3667\n",
            "Epoch 52/500\n",
            "64/64 [==============================] - 12s 193ms/step - loss: 0.1089 - mae: 0.3807 - val_loss: 0.1066 - val_mae: 0.3597\n",
            "Epoch 53/500\n",
            "64/64 [==============================] - 12s 191ms/step - loss: 0.1040 - mae: 0.3724 - val_loss: 0.1035 - val_mae: 0.3529\n",
            "Epoch 54/500\n",
            "64/64 [==============================] - 12s 188ms/step - loss: 0.1011 - mae: 0.3662 - val_loss: 0.1006 - val_mae: 0.3462\n",
            "Epoch 55/500\n",
            "64/64 [==============================] - 12s 188ms/step - loss: 0.1017 - mae: 0.3646 - val_loss: 0.0978 - val_mae: 0.3396\n",
            "Epoch 56/500\n",
            "64/64 [==============================] - 13s 198ms/step - loss: 0.0989 - mae: 0.3603 - val_loss: 0.0952 - val_mae: 0.3334\n",
            "Epoch 57/500\n",
            "64/64 [==============================] - 12s 195ms/step - loss: 0.0943 - mae: 0.3531 - val_loss: 0.0927 - val_mae: 0.3272\n",
            "Epoch 58/500\n",
            "64/64 [==============================] - 12s 195ms/step - loss: 0.0940 - mae: 0.3517 - val_loss: 0.0903 - val_mae: 0.3218\n",
            "Epoch 59/500\n",
            "64/64 [==============================] - 12s 194ms/step - loss: 0.0915 - mae: 0.3474 - val_loss: 0.0880 - val_mae: 0.3166\n",
            "Epoch 60/500\n",
            "64/64 [==============================] - 13s 205ms/step - loss: 0.0901 - mae: 0.3449 - val_loss: 0.0859 - val_mae: 0.3116\n",
            "Epoch 61/500\n",
            "64/64 [==============================] - 10s 163ms/step - loss: 0.0891 - mae: 0.3399 - val_loss: 0.0838 - val_mae: 0.3068\n",
            "Epoch 62/500\n",
            "64/64 [==============================] - 11s 164ms/step - loss: 0.0827 - mae: 0.3239 - val_loss: 0.0819 - val_mae: 0.3022\n",
            "Epoch 63/500\n",
            "64/64 [==============================] - 12s 192ms/step - loss: 0.0845 - mae: 0.3323 - val_loss: 0.0801 - val_mae: 0.2984\n",
            "Epoch 64/500\n",
            "64/64 [==============================] - 11s 175ms/step - loss: 0.0838 - mae: 0.3287 - val_loss: 0.0782 - val_mae: 0.2951\n",
            "Epoch 65/500\n",
            "64/64 [==============================] - 11s 168ms/step - loss: 0.0871 - mae: 0.3353 - val_loss: 0.0766 - val_mae: 0.2919\n",
            "Epoch 66/500\n",
            "64/64 [==============================] - 12s 183ms/step - loss: 0.0805 - mae: 0.3218 - val_loss: 0.0750 - val_mae: 0.2888\n",
            "Epoch 67/500\n",
            "64/64 [==============================] - 11s 171ms/step - loss: 0.0791 - mae: 0.3210 - val_loss: 0.0735 - val_mae: 0.2857\n",
            "Epoch 68/500\n",
            "64/64 [==============================] - 11s 174ms/step - loss: 0.0786 - mae: 0.3157 - val_loss: 0.0721 - val_mae: 0.2828\n",
            "Epoch 69/500\n",
            "64/64 [==============================] - 12s 185ms/step - loss: 0.0765 - mae: 0.3148 - val_loss: 0.0707 - val_mae: 0.2799\n",
            "Epoch 70/500\n",
            "64/64 [==============================] - 12s 195ms/step - loss: 0.0740 - mae: 0.3091 - val_loss: 0.0694 - val_mae: 0.2771\n",
            "Epoch 71/500\n",
            "64/64 [==============================] - 11s 175ms/step - loss: 0.0762 - mae: 0.3139 - val_loss: 0.0683 - val_mae: 0.2744\n",
            "Epoch 72/500\n",
            "64/64 [==============================] - 11s 174ms/step - loss: 0.0697 - mae: 0.2983 - val_loss: 0.0671 - val_mae: 0.2718\n",
            "Epoch 73/500\n",
            "64/64 [==============================] - 11s 166ms/step - loss: 0.0718 - mae: 0.3034 - val_loss: 0.0661 - val_mae: 0.2696\n",
            "Epoch 74/500\n",
            "64/64 [==============================] - 11s 174ms/step - loss: 0.0721 - mae: 0.3052 - val_loss: 0.0651 - val_mae: 0.2677\n",
            "Epoch 75/500\n",
            "64/64 [==============================] - 11s 180ms/step - loss: 0.0701 - mae: 0.3015 - val_loss: 0.0640 - val_mae: 0.2662\n",
            "Epoch 76/500\n",
            "64/64 [==============================] - 12s 180ms/step - loss: 0.0701 - mae: 0.3002 - val_loss: 0.0631 - val_mae: 0.2648\n",
            "Epoch 77/500\n",
            "64/64 [==============================] - 12s 183ms/step - loss: 0.0692 - mae: 0.2951 - val_loss: 0.0623 - val_mae: 0.2633\n",
            "Epoch 78/500\n",
            "64/64 [==============================] - 12s 180ms/step - loss: 0.0685 - mae: 0.2952 - val_loss: 0.0615 - val_mae: 0.2619\n",
            "Epoch 79/500\n",
            "64/64 [==============================] - 12s 180ms/step - loss: 0.0683 - mae: 0.2970 - val_loss: 0.0608 - val_mae: 0.2606\n",
            "Epoch 80/500\n",
            "64/64 [==============================] - 11s 170ms/step - loss: 0.0721 - mae: 0.3024 - val_loss: 0.0601 - val_mae: 0.2593\n",
            "Epoch 81/500\n",
            "64/64 [==============================] - 11s 179ms/step - loss: 0.0670 - mae: 0.2926 - val_loss: 0.0594 - val_mae: 0.2580\n",
            "Epoch 82/500\n",
            "64/64 [==============================] - 12s 181ms/step - loss: 0.0658 - mae: 0.2902 - val_loss: 0.0588 - val_mae: 0.2568\n",
            "Epoch 83/500\n",
            "64/64 [==============================] - 11s 172ms/step - loss: 0.0654 - mae: 0.2910 - val_loss: 0.0582 - val_mae: 0.2556\n",
            "Epoch 84/500\n",
            "64/64 [==============================] - 10s 162ms/step - loss: 0.0698 - mae: 0.2954 - val_loss: 0.0577 - val_mae: 0.2545\n",
            "Epoch 85/500\n",
            "64/64 [==============================] - 11s 178ms/step - loss: 0.0675 - mae: 0.2900 - val_loss: 0.0572 - val_mae: 0.2534\n",
            "Epoch 86/500\n",
            "64/64 [==============================] - 12s 180ms/step - loss: 0.0612 - mae: 0.2762 - val_loss: 0.0567 - val_mae: 0.2523\n",
            "Epoch 87/500\n",
            "64/64 [==============================] - 11s 177ms/step - loss: 0.0673 - mae: 0.2915 - val_loss: 0.0562 - val_mae: 0.2512\n",
            "Epoch 88/500\n",
            "64/64 [==============================] - 11s 177ms/step - loss: 0.0651 - mae: 0.2890 - val_loss: 0.0557 - val_mae: 0.2502\n",
            "Epoch 89/500\n",
            "64/64 [==============================] - 11s 177ms/step - loss: 0.0631 - mae: 0.2844 - val_loss: 0.0553 - val_mae: 0.2492\n",
            "Epoch 90/500\n",
            "64/64 [==============================] - 12s 183ms/step - loss: 0.0641 - mae: 0.2798 - val_loss: 0.0549 - val_mae: 0.2483\n",
            "Epoch 91/500\n",
            "64/64 [==============================] - 11s 178ms/step - loss: 0.0645 - mae: 0.2866 - val_loss: 0.0546 - val_mae: 0.2473\n",
            "Epoch 92/500\n",
            "64/64 [==============================] - 11s 179ms/step - loss: 0.0652 - mae: 0.2835 - val_loss: 0.0542 - val_mae: 0.2465\n",
            "Epoch 93/500\n",
            "64/64 [==============================] - 11s 178ms/step - loss: 0.0614 - mae: 0.2771 - val_loss: 0.0539 - val_mae: 0.2457\n",
            "Epoch 94/500\n",
            "64/64 [==============================] - 12s 181ms/step - loss: 0.0640 - mae: 0.2784 - val_loss: 0.0535 - val_mae: 0.2448\n",
            "Epoch 95/500\n",
            "64/64 [==============================] - 12s 186ms/step - loss: 0.0641 - mae: 0.2816 - val_loss: 0.0532 - val_mae: 0.2441\n",
            "Epoch 96/500\n",
            "64/64 [==============================] - 11s 179ms/step - loss: 0.0634 - mae: 0.2850 - val_loss: 0.0529 - val_mae: 0.2433\n",
            "Epoch 97/500\n",
            "64/64 [==============================] - 11s 177ms/step - loss: 0.0615 - mae: 0.2777 - val_loss: 0.0526 - val_mae: 0.2424\n",
            "Epoch 98/500\n",
            "64/64 [==============================] - 11s 173ms/step - loss: 0.0608 - mae: 0.2725 - val_loss: 0.0524 - val_mae: 0.2417\n",
            "Epoch 99/500\n",
            "64/64 [==============================] - 11s 173ms/step - loss: 0.0619 - mae: 0.2770 - val_loss: 0.0523 - val_mae: 0.2413\n",
            "Epoch 100/500\n",
            "64/64 [==============================] - 12s 193ms/step - loss: 0.0582 - mae: 0.2699 - val_loss: 0.0521 - val_mae: 0.2410\n",
            "Epoch 101/500\n",
            "64/64 [==============================] - 12s 181ms/step - loss: 0.0611 - mae: 0.2761 - val_loss: 0.0519 - val_mae: 0.2406\n",
            "Epoch 102/500\n",
            "64/64 [==============================] - 12s 190ms/step - loss: 0.0645 - mae: 0.2828 - val_loss: 0.0517 - val_mae: 0.2401\n",
            "Epoch 103/500\n",
            "64/64 [==============================] - 12s 195ms/step - loss: 0.0591 - mae: 0.2679 - val_loss: 0.0515 - val_mae: 0.2398\n",
            "Epoch 104/500\n",
            "64/64 [==============================] - 12s 190ms/step - loss: 0.0609 - mae: 0.2770 - val_loss: 0.0513 - val_mae: 0.2396\n",
            "Epoch 105/500\n",
            "64/64 [==============================] - 12s 195ms/step - loss: 0.0582 - mae: 0.2665 - val_loss: 0.0511 - val_mae: 0.2395\n",
            "Epoch 106/500\n",
            "64/64 [==============================] - 12s 193ms/step - loss: 0.0608 - mae: 0.2786 - val_loss: 0.0510 - val_mae: 0.2393\n",
            "Epoch 107/500\n",
            "64/64 [==============================] - 12s 194ms/step - loss: 0.0652 - mae: 0.2814 - val_loss: 0.0509 - val_mae: 0.2391\n",
            "Epoch 108/500\n",
            "64/64 [==============================] - 12s 195ms/step - loss: 0.0652 - mae: 0.2867 - val_loss: 0.0507 - val_mae: 0.2389\n",
            "Epoch 109/500\n",
            "64/64 [==============================] - 13s 195ms/step - loss: 0.0579 - mae: 0.2643 - val_loss: 0.0506 - val_mae: 0.2388\n",
            "Epoch 110/500\n",
            "64/64 [==============================] - 14s 214ms/step - loss: 0.0582 - mae: 0.2689 - val_loss: 0.0505 - val_mae: 0.2386\n",
            "Epoch 111/500\n",
            "64/64 [==============================] - 12s 195ms/step - loss: 0.0604 - mae: 0.2716 - val_loss: 0.0504 - val_mae: 0.2385\n",
            "Epoch 112/500\n",
            "64/64 [==============================] - 13s 196ms/step - loss: 0.0609 - mae: 0.2717 - val_loss: 0.0502 - val_mae: 0.2383\n",
            "Epoch 113/500\n",
            "64/64 [==============================] - 12s 191ms/step - loss: 0.0580 - mae: 0.2677 - val_loss: 0.0501 - val_mae: 0.2381\n",
            "Epoch 114/500\n",
            "64/64 [==============================] - 12s 194ms/step - loss: 0.0629 - mae: 0.2799 - val_loss: 0.0500 - val_mae: 0.2379\n",
            "Epoch 115/500\n",
            "64/64 [==============================] - 13s 198ms/step - loss: 0.0624 - mae: 0.2780 - val_loss: 0.0498 - val_mae: 0.2378\n",
            "Epoch 116/500\n",
            "64/64 [==============================] - 12s 195ms/step - loss: 0.0597 - mae: 0.2728 - val_loss: 0.0497 - val_mae: 0.2377\n",
            "Epoch 117/500\n",
            "64/64 [==============================] - 12s 194ms/step - loss: 0.0579 - mae: 0.2673 - val_loss: 0.0496 - val_mae: 0.2376\n",
            "Epoch 118/500\n",
            "64/64 [==============================] - 13s 196ms/step - loss: 0.0614 - mae: 0.2748 - val_loss: 0.0495 - val_mae: 0.2375\n",
            "Epoch 119/500\n",
            "64/64 [==============================] - 12s 194ms/step - loss: 0.0589 - mae: 0.2664 - val_loss: 0.0495 - val_mae: 0.2373\n",
            "Epoch 120/500\n",
            "64/64 [==============================] - 14s 216ms/step - loss: 0.0574 - mae: 0.2698 - val_loss: 0.0494 - val_mae: 0.2372\n",
            "Epoch 121/500\n",
            "64/64 [==============================] - 12s 193ms/step - loss: 0.0604 - mae: 0.2739 - val_loss: 0.0493 - val_mae: 0.2373\n",
            "Epoch 122/500\n",
            "64/64 [==============================] - 12s 192ms/step - loss: 0.0602 - mae: 0.2764 - val_loss: 0.0492 - val_mae: 0.2373\n",
            "Epoch 123/500\n",
            "64/64 [==============================] - 12s 196ms/step - loss: 0.0592 - mae: 0.2716 - val_loss: 0.0491 - val_mae: 0.2372\n",
            "Epoch 124/500\n",
            "64/64 [==============================] - 13s 201ms/step - loss: 0.0583 - mae: 0.2707 - val_loss: 0.0490 - val_mae: 0.2372\n",
            "Epoch 125/500\n",
            "64/64 [==============================] - 13s 196ms/step - loss: 0.0578 - mae: 0.2668 - val_loss: 0.0490 - val_mae: 0.2376\n",
            "Epoch 126/500\n",
            "64/64 [==============================] - 13s 198ms/step - loss: 0.0589 - mae: 0.2683 - val_loss: 0.0489 - val_mae: 0.2375\n",
            "Epoch 127/500\n",
            "64/64 [==============================] - 13s 196ms/step - loss: 0.0582 - mae: 0.2694 - val_loss: 0.0489 - val_mae: 0.2378\n",
            "Epoch 128/500\n",
            "64/64 [==============================] - 12s 194ms/step - loss: 0.0610 - mae: 0.2799 - val_loss: 0.0489 - val_mae: 0.2380\n",
            "Epoch 129/500\n",
            "64/64 [==============================] - 13s 196ms/step - loss: 0.0608 - mae: 0.2740 - val_loss: 0.0489 - val_mae: 0.2385\n",
            "Epoch 130/500\n",
            "64/64 [==============================] - 12s 194ms/step - loss: 0.0578 - mae: 0.2701 - val_loss: 0.0489 - val_mae: 0.2387\n",
            "Epoch 131/500\n",
            "64/64 [==============================] - 14s 213ms/step - loss: 0.0566 - mae: 0.2665 - val_loss: 0.0489 - val_mae: 0.2388\n",
            "Epoch 132/500\n",
            "64/64 [==============================] - 13s 198ms/step - loss: 0.0573 - mae: 0.2693 - val_loss: 0.0488 - val_mae: 0.2387\n",
            "Epoch 133/500\n",
            "64/64 [==============================] - 13s 198ms/step - loss: 0.0576 - mae: 0.2685 - val_loss: 0.0487 - val_mae: 0.2388\n",
            "Epoch 134/500\n",
            "64/64 [==============================] - 13s 196ms/step - loss: 0.0559 - mae: 0.2633 - val_loss: 0.0486 - val_mae: 0.2388\n",
            "Epoch 135/500\n",
            "64/64 [==============================] - 13s 201ms/step - loss: 0.0560 - mae: 0.2668 - val_loss: 0.0485 - val_mae: 0.2389\n",
            "Epoch 136/500\n",
            "64/64 [==============================] - 13s 196ms/step - loss: 0.0581 - mae: 0.2670 - val_loss: 0.0485 - val_mae: 0.2391\n",
            "Epoch 137/500\n",
            "64/64 [==============================] - 12s 195ms/step - loss: 0.0599 - mae: 0.2717 - val_loss: 0.0485 - val_mae: 0.2393\n",
            "Epoch 138/500\n",
            "64/64 [==============================] - 12s 194ms/step - loss: 0.0615 - mae: 0.2796 - val_loss: 0.0484 - val_mae: 0.2395\n",
            "Epoch 139/500\n",
            "64/64 [==============================] - 13s 203ms/step - loss: 0.0578 - mae: 0.2697 - val_loss: 0.0483 - val_mae: 0.2395\n",
            "Epoch 140/500\n",
            "64/64 [==============================] - 12s 192ms/step - loss: 0.0580 - mae: 0.2699 - val_loss: 0.0483 - val_mae: 0.2397\n",
            "Epoch 141/500\n",
            "64/64 [==============================] - 13s 196ms/step - loss: 0.0567 - mae: 0.2646 - val_loss: 0.0482 - val_mae: 0.2398\n",
            "Epoch 142/500\n",
            "64/64 [==============================] - 13s 196ms/step - loss: 0.0569 - mae: 0.2665 - val_loss: 0.0482 - val_mae: 0.2398\n",
            "Epoch 143/500\n",
            "64/64 [==============================] - 12s 194ms/step - loss: 0.0580 - mae: 0.2689 - val_loss: 0.0481 - val_mae: 0.2398\n",
            "Epoch 144/500\n",
            "64/64 [==============================] - 13s 197ms/step - loss: 0.0600 - mae: 0.2719 - val_loss: 0.0481 - val_mae: 0.2398\n",
            "Epoch 145/500\n",
            "64/64 [==============================] - 12s 195ms/step - loss: 0.0587 - mae: 0.2662 - val_loss: 0.0481 - val_mae: 0.2399\n",
            "Epoch 146/500\n",
            "64/64 [==============================] - 12s 192ms/step - loss: 0.0571 - mae: 0.2634 - val_loss: 0.0480 - val_mae: 0.2398\n",
            "Epoch 147/500\n",
            "64/64 [==============================] - 13s 198ms/step - loss: 0.0578 - mae: 0.2672 - val_loss: 0.0480 - val_mae: 0.2400\n",
            "Epoch 148/500\n",
            "64/64 [==============================] - 12s 195ms/step - loss: 0.0597 - mae: 0.2739 - val_loss: 0.0481 - val_mae: 0.2403\n",
            "Epoch 149/500\n",
            "64/64 [==============================] - 12s 194ms/step - loss: 0.0561 - mae: 0.2629 - val_loss: 0.0481 - val_mae: 0.2405\n",
            "Epoch 150/500\n",
            "64/64 [==============================] - 13s 196ms/step - loss: 0.0577 - mae: 0.2675 - val_loss: 0.0480 - val_mae: 0.2406\n",
            "Epoch 151/500\n",
            "64/64 [==============================] - 12s 193ms/step - loss: 0.0602 - mae: 0.2742 - val_loss: 0.0480 - val_mae: 0.2406\n",
            "Epoch 152/500\n",
            "64/64 [==============================] - 14s 219ms/step - loss: 0.0597 - mae: 0.2700 - val_loss: 0.0479 - val_mae: 0.2406\n",
            "Epoch 153/500\n",
            "64/64 [==============================] - 13s 197ms/step - loss: 0.0567 - mae: 0.2646 - val_loss: 0.0480 - val_mae: 0.2408\n",
            "Epoch 154/500\n",
            "64/64 [==============================] - 12s 194ms/step - loss: 0.0605 - mae: 0.2740 - val_loss: 0.0479 - val_mae: 0.2408\n",
            "Epoch 155/500\n",
            "64/64 [==============================] - 13s 195ms/step - loss: 0.0579 - mae: 0.2677 - val_loss: 0.0479 - val_mae: 0.2408\n",
            "Epoch 156/500\n",
            "64/64 [==============================] - 12s 196ms/step - loss: 0.0582 - mae: 0.2674 - val_loss: 0.0478 - val_mae: 0.2408\n",
            "Epoch 157/500\n",
            "64/64 [==============================] - 12s 194ms/step - loss: 0.0549 - mae: 0.2615 - val_loss: 0.0478 - val_mae: 0.2406\n",
            "Epoch 158/500\n",
            "64/64 [==============================] - 12s 195ms/step - loss: 0.0562 - mae: 0.2670 - val_loss: 0.0478 - val_mae: 0.2407\n",
            "Epoch 159/500\n",
            "64/64 [==============================] - 12s 195ms/step - loss: 0.0568 - mae: 0.2704 - val_loss: 0.0478 - val_mae: 0.2407\n",
            "Epoch 160/500\n",
            "64/64 [==============================] - 13s 198ms/step - loss: 0.0560 - mae: 0.2653 - val_loss: 0.0478 - val_mae: 0.2408\n",
            "Epoch 161/500\n",
            "64/64 [==============================] - 13s 196ms/step - loss: 0.0604 - mae: 0.2740 - val_loss: 0.0478 - val_mae: 0.2408\n",
            "Epoch 162/500\n",
            "64/64 [==============================] - 12s 195ms/step - loss: 0.0548 - mae: 0.2576 - val_loss: 0.0477 - val_mae: 0.2409\n",
            "Epoch 163/500\n",
            "64/64 [==============================] - 13s 199ms/step - loss: 0.0571 - mae: 0.2640 - val_loss: 0.0477 - val_mae: 0.2409\n",
            "Epoch 164/500\n",
            "64/64 [==============================] - 13s 196ms/step - loss: 0.0591 - mae: 0.2727 - val_loss: 0.0477 - val_mae: 0.2409\n",
            "Epoch 165/500\n",
            "64/64 [==============================] - 12s 194ms/step - loss: 0.0567 - mae: 0.2677 - val_loss: 0.0476 - val_mae: 0.2409\n",
            "Epoch 166/500\n",
            "64/64 [==============================] - 13s 198ms/step - loss: 0.0565 - mae: 0.2668 - val_loss: 0.0477 - val_mae: 0.2410\n",
            "Epoch 167/500\n",
            "64/64 [==============================] - 12s 187ms/step - loss: 0.0588 - mae: 0.2732 - val_loss: 0.0477 - val_mae: 0.2411\n",
            "Epoch 168/500\n",
            "64/64 [==============================] - 12s 184ms/step - loss: 0.0573 - mae: 0.2653 - val_loss: 0.0476 - val_mae: 0.2410\n",
            "Epoch 169/500\n",
            "64/64 [==============================] - 12s 183ms/step - loss: 0.0583 - mae: 0.2678 - val_loss: 0.0475 - val_mae: 0.2409\n",
            "Epoch 170/500\n",
            "64/64 [==============================] - 11s 165ms/step - loss: 0.0560 - mae: 0.2605 - val_loss: 0.0476 - val_mae: 0.2410\n",
            "Epoch 171/500\n",
            "64/64 [==============================] - 11s 172ms/step - loss: 0.0531 - mae: 0.2587 - val_loss: 0.0475 - val_mae: 0.2410\n",
            "Epoch 172/500\n",
            "64/64 [==============================] - 12s 186ms/step - loss: 0.0576 - mae: 0.2664 - val_loss: 0.0475 - val_mae: 0.2410\n",
            "Epoch 173/500\n",
            "64/64 [==============================] - 12s 184ms/step - loss: 0.0574 - mae: 0.2661 - val_loss: 0.0474 - val_mae: 0.2409\n",
            "Epoch 174/500\n",
            "64/64 [==============================] - 11s 176ms/step - loss: 0.0572 - mae: 0.2675 - val_loss: 0.0474 - val_mae: 0.2410\n",
            "Epoch 175/500\n",
            "64/64 [==============================] - 12s 189ms/step - loss: 0.0566 - mae: 0.2628 - val_loss: 0.0474 - val_mae: 0.2409\n",
            "Epoch 176/500\n",
            "64/64 [==============================] - 12s 184ms/step - loss: 0.0550 - mae: 0.2595 - val_loss: 0.0473 - val_mae: 0.2410\n",
            "Epoch 177/500\n",
            "64/64 [==============================] - 11s 163ms/step - loss: 0.0586 - mae: 0.2693 - val_loss: 0.0474 - val_mae: 0.2411\n",
            "Epoch 178/500\n",
            "64/64 [==============================] - 11s 176ms/step - loss: 0.0592 - mae: 0.2697 - val_loss: 0.0473 - val_mae: 0.2408\n",
            "Epoch 179/500\n",
            "64/64 [==============================] - 12s 196ms/step - loss: 0.0582 - mae: 0.2680 - val_loss: 0.0473 - val_mae: 0.2409\n",
            "Epoch 180/500\n",
            "64/64 [==============================] - 13s 199ms/step - loss: 0.0574 - mae: 0.2675 - val_loss: 0.0473 - val_mae: 0.2410\n",
            "Epoch 181/500\n",
            "64/64 [==============================] - 12s 195ms/step - loss: 0.0587 - mae: 0.2697 - val_loss: 0.0473 - val_mae: 0.2412\n",
            "Epoch 182/500\n",
            "64/64 [==============================] - 13s 196ms/step - loss: 0.0571 - mae: 0.2649 - val_loss: 0.0472 - val_mae: 0.2412\n",
            "Epoch 183/500\n",
            "64/64 [==============================] - 14s 216ms/step - loss: 0.0572 - mae: 0.2672 - val_loss: 0.0471 - val_mae: 0.2413\n",
            "Epoch 184/500\n",
            "64/64 [==============================] - 12s 194ms/step - loss: 0.0534 - mae: 0.2532 - val_loss: 0.0471 - val_mae: 0.2413\n",
            "Epoch 185/500\n",
            "64/64 [==============================] - 13s 200ms/step - loss: 0.0576 - mae: 0.2660 - val_loss: 0.0470 - val_mae: 0.2412\n",
            "Epoch 186/500\n",
            "64/64 [==============================] - 13s 200ms/step - loss: 0.0584 - mae: 0.2712 - val_loss: 0.0470 - val_mae: 0.2412\n",
            "Epoch 187/500\n",
            "64/64 [==============================] - 12s 196ms/step - loss: 0.0555 - mae: 0.2619 - val_loss: 0.0470 - val_mae: 0.2413\n",
            "Epoch 188/500\n",
            "64/64 [==============================] - 13s 197ms/step - loss: 0.0577 - mae: 0.2687 - val_loss: 0.0471 - val_mae: 0.2415\n",
            "Epoch 189/500\n",
            "64/64 [==============================] - 13s 196ms/step - loss: 0.0587 - mae: 0.2675 - val_loss: 0.0471 - val_mae: 0.2415\n",
            "Epoch 190/500\n",
            "64/64 [==============================] - 13s 199ms/step - loss: 0.0575 - mae: 0.2673 - val_loss: 0.0470 - val_mae: 0.2416\n",
            "Epoch 191/500\n",
            "64/64 [==============================] - 13s 197ms/step - loss: 0.0609 - mae: 0.2760 - val_loss: 0.0470 - val_mae: 0.2416\n",
            "Epoch 192/500\n",
            "64/64 [==============================] - 13s 199ms/step - loss: 0.0558 - mae: 0.2637 - val_loss: 0.0470 - val_mae: 0.2417\n",
            "Epoch 193/500\n",
            "64/64 [==============================] - 13s 197ms/step - loss: 0.0581 - mae: 0.2632 - val_loss: 0.0470 - val_mae: 0.2418\n",
            "Epoch 194/500\n",
            "64/64 [==============================] - 14s 214ms/step - loss: 0.0576 - mae: 0.2640 - val_loss: 0.0470 - val_mae: 0.2419\n",
            "Epoch 195/500\n",
            "64/64 [==============================] - 13s 197ms/step - loss: 0.0555 - mae: 0.2623 - val_loss: 0.0470 - val_mae: 0.2419\n",
            "Epoch 196/500\n",
            "64/64 [==============================] - 13s 198ms/step - loss: 0.0564 - mae: 0.2646 - val_loss: 0.0469 - val_mae: 0.2419\n",
            "Epoch 197/500\n",
            "64/64 [==============================] - 13s 198ms/step - loss: 0.0561 - mae: 0.2633 - val_loss: 0.0469 - val_mae: 0.2419\n",
            "Epoch 198/500\n",
            "64/64 [==============================] - 13s 198ms/step - loss: 0.0565 - mae: 0.2623 - val_loss: 0.0469 - val_mae: 0.2419\n",
            "Epoch 199/500\n",
            "64/64 [==============================] - 12s 195ms/step - loss: 0.0560 - mae: 0.2655 - val_loss: 0.0468 - val_mae: 0.2418\n",
            "Epoch 200/500\n",
            "64/64 [==============================] - 13s 197ms/step - loss: 0.0583 - mae: 0.2630 - val_loss: 0.0468 - val_mae: 0.2416\n",
            "Epoch 201/500\n",
            "64/64 [==============================] - 13s 196ms/step - loss: 0.0575 - mae: 0.2675 - val_loss: 0.0468 - val_mae: 0.2416\n",
            "Epoch 202/500\n",
            "64/64 [==============================] - 12s 194ms/step - loss: 0.0557 - mae: 0.2628 - val_loss: 0.0468 - val_mae: 0.2417\n",
            "Epoch 203/500\n",
            "64/64 [==============================] - 13s 200ms/step - loss: 0.0583 - mae: 0.2668 - val_loss: 0.0467 - val_mae: 0.2416\n",
            "Epoch 204/500\n",
            "64/64 [==============================] - 13s 196ms/step - loss: 0.0559 - mae: 0.2658 - val_loss: 0.0467 - val_mae: 0.2416\n",
            "Epoch 205/500\n",
            "64/64 [==============================] - 13s 203ms/step - loss: 0.0560 - mae: 0.2687 - val_loss: 0.0467 - val_mae: 0.2416\n",
            "Epoch 206/500\n",
            "64/64 [==============================] - 13s 196ms/step - loss: 0.0582 - mae: 0.2675 - val_loss: 0.0467 - val_mae: 0.2418\n",
            "Epoch 207/500\n",
            "64/64 [==============================] - 13s 198ms/step - loss: 0.0559 - mae: 0.2655 - val_loss: 0.0466 - val_mae: 0.2418\n",
            "Epoch 208/500\n",
            "64/64 [==============================] - 13s 196ms/step - loss: 0.0566 - mae: 0.2682 - val_loss: 0.0467 - val_mae: 0.2419\n",
            "Epoch 209/500\n",
            "64/64 [==============================] - 13s 198ms/step - loss: 0.0569 - mae: 0.2653 - val_loss: 0.0466 - val_mae: 0.2419\n",
            "Epoch 210/500\n",
            "64/64 [==============================] - 13s 196ms/step - loss: 0.0568 - mae: 0.2655 - val_loss: 0.0467 - val_mae: 0.2419\n",
            "Epoch 211/500\n",
            "64/64 [==============================] - 13s 195ms/step - loss: 0.0555 - mae: 0.2593 - val_loss: 0.0466 - val_mae: 0.2420\n",
            "Epoch 212/500\n",
            "64/64 [==============================] - 13s 196ms/step - loss: 0.0544 - mae: 0.2597 - val_loss: 0.0466 - val_mae: 0.2419\n",
            "Epoch 213/500\n",
            "64/64 [==============================] - 13s 196ms/step - loss: 0.0592 - mae: 0.2693 - val_loss: 0.0465 - val_mae: 0.2419\n",
            "Epoch 214/500\n",
            "64/64 [==============================] - 13s 198ms/step - loss: 0.0553 - mae: 0.2642 - val_loss: 0.0466 - val_mae: 0.2419\n",
            "Epoch 215/500\n",
            "64/64 [==============================] - 13s 199ms/step - loss: 0.0546 - mae: 0.2608 - val_loss: 0.0465 - val_mae: 0.2419\n",
            "Epoch 216/500\n",
            "64/64 [==============================] - 13s 197ms/step - loss: 0.0563 - mae: 0.2625 - val_loss: 0.0465 - val_mae: 0.2418\n",
            "Epoch 217/500\n",
            "64/64 [==============================] - 12s 195ms/step - loss: 0.0580 - mae: 0.2699 - val_loss: 0.0464 - val_mae: 0.2417\n",
            "Epoch 218/500\n",
            "64/64 [==============================] - 14s 217ms/step - loss: 0.0573 - mae: 0.2646 - val_loss: 0.0464 - val_mae: 0.2416\n",
            "Epoch 219/500\n",
            "64/64 [==============================] - 12s 195ms/step - loss: 0.0534 - mae: 0.2571 - val_loss: 0.0464 - val_mae: 0.2418\n",
            "Epoch 220/500\n",
            "64/64 [==============================] - 13s 198ms/step - loss: 0.0567 - mae: 0.2631 - val_loss: 0.0463 - val_mae: 0.2417\n",
            "Epoch 221/500\n",
            "64/64 [==============================] - 13s 197ms/step - loss: 0.0566 - mae: 0.2706 - val_loss: 0.0463 - val_mae: 0.2416\n",
            "Epoch 222/500\n",
            "64/64 [==============================] - 13s 202ms/step - loss: 0.0550 - mae: 0.2631 - val_loss: 0.0463 - val_mae: 0.2416\n",
            "Epoch 223/500\n",
            "64/64 [==============================] - 13s 200ms/step - loss: 0.0553 - mae: 0.2637 - val_loss: 0.0462 - val_mae: 0.2414\n",
            "Epoch 224/500\n",
            "64/64 [==============================] - 13s 198ms/step - loss: 0.0558 - mae: 0.2647 - val_loss: 0.0462 - val_mae: 0.2415\n",
            "Epoch 225/500\n",
            "64/64 [==============================] - 13s 199ms/step - loss: 0.0536 - mae: 0.2606 - val_loss: 0.0461 - val_mae: 0.2415\n",
            "Epoch 226/500\n",
            "64/64 [==============================] - 13s 198ms/step - loss: 0.0569 - mae: 0.2667 - val_loss: 0.0461 - val_mae: 0.2413\n",
            "Epoch 227/500\n",
            "64/64 [==============================] - 13s 198ms/step - loss: 0.0554 - mae: 0.2621 - val_loss: 0.0461 - val_mae: 0.2414\n",
            "Epoch 228/500\n",
            "64/64 [==============================] - 13s 198ms/step - loss: 0.0546 - mae: 0.2599 - val_loss: 0.0461 - val_mae: 0.2412\n",
            "Epoch 229/500\n",
            "64/64 [==============================] - 14s 218ms/step - loss: 0.0576 - mae: 0.2655 - val_loss: 0.0461 - val_mae: 0.2413\n",
            "Epoch 230/500\n",
            "64/64 [==============================] - 13s 197ms/step - loss: 0.0571 - mae: 0.2653 - val_loss: 0.0461 - val_mae: 0.2413\n",
            "Epoch 231/500\n",
            "64/64 [==============================] - 13s 197ms/step - loss: 0.0548 - mae: 0.2571 - val_loss: 0.0461 - val_mae: 0.2412\n",
            "Epoch 232/500\n",
            "64/64 [==============================] - 13s 197ms/step - loss: 0.0571 - mae: 0.2632 - val_loss: 0.0460 - val_mae: 0.2411\n",
            "Epoch 233/500\n",
            "64/64 [==============================] - 13s 198ms/step - loss: 0.0565 - mae: 0.2629 - val_loss: 0.0461 - val_mae: 0.2412\n",
            "Epoch 234/500\n",
            "64/64 [==============================] - 13s 196ms/step - loss: 0.0553 - mae: 0.2633 - val_loss: 0.0460 - val_mae: 0.2412\n",
            "Epoch 235/500\n",
            "64/64 [==============================] - 13s 200ms/step - loss: 0.0602 - mae: 0.2682 - val_loss: 0.0461 - val_mae: 0.2413\n",
            "Epoch 236/500\n",
            "64/64 [==============================] - 12s 192ms/step - loss: 0.0555 - mae: 0.2604 - val_loss: 0.0460 - val_mae: 0.2413\n",
            "Epoch 237/500\n",
            "64/64 [==============================] - 13s 196ms/step - loss: 0.0575 - mae: 0.2683 - val_loss: 0.0460 - val_mae: 0.2413\n",
            "Epoch 238/500\n",
            "64/64 [==============================] - 13s 197ms/step - loss: 0.0559 - mae: 0.2628 - val_loss: 0.0460 - val_mae: 0.2413\n",
            "Epoch 239/500\n",
            "64/64 [==============================] - 13s 196ms/step - loss: 0.0547 - mae: 0.2595 - val_loss: 0.0460 - val_mae: 0.2414\n",
            "Epoch 240/500\n",
            "64/64 [==============================] - 13s 199ms/step - loss: 0.0568 - mae: 0.2649 - val_loss: 0.0461 - val_mae: 0.2415\n",
            "Epoch 241/500\n",
            "64/64 [==============================] - 14s 214ms/step - loss: 0.0547 - mae: 0.2610 - val_loss: 0.0460 - val_mae: 0.2415\n",
            "Epoch 242/500\n",
            "64/64 [==============================] - 13s 198ms/step - loss: 0.0572 - mae: 0.2628 - val_loss: 0.0459 - val_mae: 0.2413\n",
            "Epoch 243/500\n",
            "64/64 [==============================] - 13s 196ms/step - loss: 0.0563 - mae: 0.2656 - val_loss: 0.0459 - val_mae: 0.2413\n",
            "Epoch 244/500\n",
            "64/64 [==============================] - 12s 192ms/step - loss: 0.0524 - mae: 0.2566 - val_loss: 0.0459 - val_mae: 0.2413\n",
            "Epoch 245/500\n",
            "64/64 [==============================] - 13s 198ms/step - loss: 0.0603 - mae: 0.2764 - val_loss: 0.0458 - val_mae: 0.2410\n",
            "Epoch 246/500\n",
            "64/64 [==============================] - 12s 192ms/step - loss: 0.0570 - mae: 0.2685 - val_loss: 0.0458 - val_mae: 0.2410\n",
            "Epoch 247/500\n",
            "64/64 [==============================] - 13s 196ms/step - loss: 0.0580 - mae: 0.2664 - val_loss: 0.0458 - val_mae: 0.2411\n",
            "Epoch 248/500\n",
            "64/64 [==============================] - 13s 197ms/step - loss: 0.0550 - mae: 0.2635 - val_loss: 0.0458 - val_mae: 0.2409\n",
            "Epoch 249/500\n",
            "64/64 [==============================] - 13s 197ms/step - loss: 0.0556 - mae: 0.2597 - val_loss: 0.0459 - val_mae: 0.2410\n",
            "Epoch 250/500\n",
            "64/64 [==============================] - 13s 196ms/step - loss: 0.0565 - mae: 0.2657 - val_loss: 0.0459 - val_mae: 0.2409\n",
            "Epoch 251/500\n",
            "64/64 [==============================] - 13s 197ms/step - loss: 0.0580 - mae: 0.2695 - val_loss: 0.0459 - val_mae: 0.2408\n",
            "Epoch 252/500\n",
            "64/64 [==============================] - 13s 196ms/step - loss: 0.0567 - mae: 0.2643 - val_loss: 0.0459 - val_mae: 0.2409\n",
            "Epoch 253/500\n",
            "64/64 [==============================] - 13s 200ms/step - loss: 0.0541 - mae: 0.2586 - val_loss: 0.0459 - val_mae: 0.2408\n",
            "Epoch 254/500\n",
            "64/64 [==============================] - 12s 194ms/step - loss: 0.0565 - mae: 0.2580 - val_loss: 0.0458 - val_mae: 0.2407\n",
            "Epoch 255/500\n",
            "64/64 [==============================] - 13s 203ms/step - loss: 0.0558 - mae: 0.2619 - val_loss: 0.0458 - val_mae: 0.2408\n",
            "Epoch 256/500\n",
            "64/64 [==============================] - 13s 196ms/step - loss: 0.0531 - mae: 0.2574 - val_loss: 0.0458 - val_mae: 0.2408\n",
            "Epoch 257/500\n",
            "64/64 [==============================] - 13s 196ms/step - loss: 0.0556 - mae: 0.2634 - val_loss: 0.0458 - val_mae: 0.2407\n",
            "Epoch 258/500\n",
            "64/64 [==============================] - 13s 196ms/step - loss: 0.0548 - mae: 0.2608 - val_loss: 0.0458 - val_mae: 0.2407\n",
            "Epoch 259/500\n",
            "64/64 [==============================] - 13s 197ms/step - loss: 0.0556 - mae: 0.2623 - val_loss: 0.0458 - val_mae: 0.2407\n",
            "Epoch 260/500\n",
            "64/64 [==============================] - 13s 198ms/step - loss: 0.0568 - mae: 0.2640 - val_loss: 0.0458 - val_mae: 0.2406\n",
            "Epoch 261/500\n",
            "64/64 [==============================] - 12s 194ms/step - loss: 0.0562 - mae: 0.2630 - val_loss: 0.0458 - val_mae: 0.2406\n",
            "Epoch 262/500\n",
            "64/64 [==============================] - 13s 197ms/step - loss: 0.0551 - mae: 0.2619 - val_loss: 0.0457 - val_mae: 0.2405\n",
            "Epoch 263/500\n",
            "64/64 [==============================] - 12s 196ms/step - loss: 0.0537 - mae: 0.2588 - val_loss: 0.0457 - val_mae: 0.2405\n",
            "Epoch 264/500\n",
            "64/64 [==============================] - 12s 194ms/step - loss: 0.0559 - mae: 0.2646 - val_loss: 0.0457 - val_mae: 0.2405\n",
            "Epoch 265/500\n",
            "64/64 [==============================] - 14s 218ms/step - loss: 0.0586 - mae: 0.2672 - val_loss: 0.0457 - val_mae: 0.2408\n",
            "Epoch 266/500\n",
            "64/64 [==============================] - 13s 197ms/step - loss: 0.0560 - mae: 0.2638 - val_loss: 0.0456 - val_mae: 0.2406\n",
            "Epoch 267/500\n",
            "64/64 [==============================] - 13s 198ms/step - loss: 0.0566 - mae: 0.2659 - val_loss: 0.0456 - val_mae: 0.2404\n",
            "Epoch 268/500\n",
            "64/64 [==============================] - 13s 199ms/step - loss: 0.0523 - mae: 0.2546 - val_loss: 0.0456 - val_mae: 0.2405\n",
            "Epoch 269/500\n",
            "64/64 [==============================] - 13s 199ms/step - loss: 0.0545 - mae: 0.2601 - val_loss: 0.0456 - val_mae: 0.2405\n",
            "Epoch 270/500\n",
            "64/64 [==============================] - 13s 201ms/step - loss: 0.0523 - mae: 0.2545 - val_loss: 0.0456 - val_mae: 0.2405\n",
            "Epoch 271/500\n",
            "64/64 [==============================] - 12s 195ms/step - loss: 0.0557 - mae: 0.2615 - val_loss: 0.0456 - val_mae: 0.2406\n",
            "Epoch 272/500\n",
            "64/64 [==============================] - 13s 200ms/step - loss: 0.0537 - mae: 0.2555 - val_loss: 0.0455 - val_mae: 0.2406\n",
            "Epoch 273/500\n",
            "64/64 [==============================] - 13s 202ms/step - loss: 0.0570 - mae: 0.2661 - val_loss: 0.0455 - val_mae: 0.2405\n",
            "Epoch 274/500\n",
            "64/64 [==============================] - 13s 197ms/step - loss: 0.0531 - mae: 0.2557 - val_loss: 0.0455 - val_mae: 0.2405\n",
            "Epoch 275/500\n",
            "64/64 [==============================] - 13s 199ms/step - loss: 0.0559 - mae: 0.2619 - val_loss: 0.0455 - val_mae: 0.2405\n",
            "Epoch 276/500\n",
            "64/64 [==============================] - 13s 197ms/step - loss: 0.0568 - mae: 0.2625 - val_loss: 0.0455 - val_mae: 0.2406\n",
            "Epoch 277/500\n",
            "64/64 [==============================] - 14s 221ms/step - loss: 0.0525 - mae: 0.2536 - val_loss: 0.0455 - val_mae: 0.2406\n",
            "Epoch 278/500\n",
            "64/64 [==============================] - 13s 200ms/step - loss: 0.0530 - mae: 0.2563 - val_loss: 0.0454 - val_mae: 0.2406\n",
            "Epoch 279/500\n",
            "64/64 [==============================] - 13s 197ms/step - loss: 0.0557 - mae: 0.2621 - val_loss: 0.0455 - val_mae: 0.2407\n",
            "Epoch 280/500\n",
            "64/64 [==============================] - 13s 200ms/step - loss: 0.0565 - mae: 0.2690 - val_loss: 0.0455 - val_mae: 0.2407\n",
            "Epoch 281/500\n",
            "64/64 [==============================] - 13s 202ms/step - loss: 0.0531 - mae: 0.2572 - val_loss: 0.0454 - val_mae: 0.2406\n",
            "Epoch 282/500\n",
            "64/64 [==============================] - 13s 198ms/step - loss: 0.0596 - mae: 0.2729 - val_loss: 0.0454 - val_mae: 0.2408\n",
            "Epoch 283/500\n",
            "64/64 [==============================] - 13s 200ms/step - loss: 0.0543 - mae: 0.2606 - val_loss: 0.0454 - val_mae: 0.2406\n",
            "Epoch 284/500\n",
            "64/64 [==============================] - 13s 199ms/step - loss: 0.0565 - mae: 0.2647 - val_loss: 0.0454 - val_mae: 0.2407\n",
            "Epoch 285/500\n",
            "64/64 [==============================] - 13s 199ms/step - loss: 0.0548 - mae: 0.2611 - val_loss: 0.0454 - val_mae: 0.2407\n",
            "Epoch 286/500\n",
            "64/64 [==============================] - 13s 200ms/step - loss: 0.0555 - mae: 0.2571 - val_loss: 0.0454 - val_mae: 0.2408\n",
            "Epoch 287/500\n",
            "64/64 [==============================] - 13s 199ms/step - loss: 0.0530 - mae: 0.2574 - val_loss: 0.0453 - val_mae: 0.2408\n",
            "Epoch 288/500\n",
            "64/64 [==============================] - 13s 199ms/step - loss: 0.0538 - mae: 0.2583 - val_loss: 0.0453 - val_mae: 0.2408\n",
            "Epoch 289/500\n",
            "64/64 [==============================] - 13s 201ms/step - loss: 0.0540 - mae: 0.2578 - val_loss: 0.0453 - val_mae: 0.2409\n",
            "Epoch 290/500\n",
            "64/64 [==============================] - 13s 200ms/step - loss: 0.0598 - mae: 0.2744 - val_loss: 0.0453 - val_mae: 0.2408\n",
            "Epoch 291/500\n",
            "64/64 [==============================] - 13s 199ms/step - loss: 0.0563 - mae: 0.2635 - val_loss: 0.0453 - val_mae: 0.2409\n",
            "Epoch 292/500\n",
            "64/64 [==============================] - 13s 202ms/step - loss: 0.0543 - mae: 0.2656 - val_loss: 0.0453 - val_mae: 0.2409\n",
            "Epoch 293/500\n",
            "64/64 [==============================] - 13s 197ms/step - loss: 0.0564 - mae: 0.2614 - val_loss: 0.0453 - val_mae: 0.2408\n",
            "Epoch 294/500\n",
            "64/64 [==============================] - 13s 199ms/step - loss: 0.0539 - mae: 0.2558 - val_loss: 0.0452 - val_mae: 0.2407\n",
            "Epoch 295/500\n",
            "64/64 [==============================] - 13s 201ms/step - loss: 0.0545 - mae: 0.2617 - val_loss: 0.0452 - val_mae: 0.2407\n",
            "Epoch 296/500\n",
            "64/64 [==============================] - 13s 199ms/step - loss: 0.0535 - mae: 0.2594 - val_loss: 0.0451 - val_mae: 0.2408\n",
            "Epoch 297/500\n",
            "64/64 [==============================] - 13s 199ms/step - loss: 0.0551 - mae: 0.2622 - val_loss: 0.0451 - val_mae: 0.2408\n",
            "Epoch 298/500\n",
            "64/64 [==============================] - 13s 198ms/step - loss: 0.0543 - mae: 0.2592 - val_loss: 0.0451 - val_mae: 0.2408\n",
            "Epoch 299/500\n",
            "64/64 [==============================] - 13s 203ms/step - loss: 0.0559 - mae: 0.2653 - val_loss: 0.0451 - val_mae: 0.2408\n",
            "Epoch 300/500\n",
            "64/64 [==============================] - 13s 199ms/step - loss: 0.0570 - mae: 0.2660 - val_loss: 0.0451 - val_mae: 0.2408\n",
            "Epoch 301/500\n",
            "64/64 [==============================] - 13s 198ms/step - loss: 0.0556 - mae: 0.2626 - val_loss: 0.0451 - val_mae: 0.2408\n",
            "Epoch 302/500\n",
            "64/64 [==============================] - 13s 200ms/step - loss: 0.0566 - mae: 0.2631 - val_loss: 0.0451 - val_mae: 0.2408\n",
            "Epoch 303/500\n",
            "64/64 [==============================] - 13s 202ms/step - loss: 0.0549 - mae: 0.2589 - val_loss: 0.0451 - val_mae: 0.2407\n",
            "Epoch 304/500\n",
            "64/64 [==============================] - 13s 201ms/step - loss: 0.0533 - mae: 0.2587 - val_loss: 0.0451 - val_mae: 0.2407\n",
            "Epoch 305/500\n",
            "64/64 [==============================] - 13s 202ms/step - loss: 0.0554 - mae: 0.2594 - val_loss: 0.0451 - val_mae: 0.2406\n",
            "Epoch 306/500\n",
            "64/64 [==============================] - 13s 198ms/step - loss: 0.0556 - mae: 0.2605 - val_loss: 0.0451 - val_mae: 0.2406\n",
            "Epoch 307/500\n",
            "64/64 [==============================] - 13s 198ms/step - loss: 0.0553 - mae: 0.2676 - val_loss: 0.0451 - val_mae: 0.2406\n",
            "Epoch 308/500\n",
            "64/64 [==============================] - 13s 202ms/step - loss: 0.0543 - mae: 0.2588 - val_loss: 0.0450 - val_mae: 0.2406\n",
            "Epoch 309/500\n",
            "64/64 [==============================] - 13s 201ms/step - loss: 0.0540 - mae: 0.2589 - val_loss: 0.0450 - val_mae: 0.2406\n",
            "Epoch 310/500\n",
            "64/64 [==============================] - 15s 231ms/step - loss: 0.0504 - mae: 0.2514 - val_loss: 0.0450 - val_mae: 0.2405\n",
            "Epoch 311/500\n",
            "64/64 [==============================] - 13s 203ms/step - loss: 0.0556 - mae: 0.2575 - val_loss: 0.0450 - val_mae: 0.2405\n",
            "Epoch 312/500\n",
            "64/64 [==============================] - 13s 200ms/step - loss: 0.0526 - mae: 0.2544 - val_loss: 0.0449 - val_mae: 0.2404\n",
            "Epoch 313/500\n",
            "64/64 [==============================] - 13s 199ms/step - loss: 0.0551 - mae: 0.2588 - val_loss: 0.0449 - val_mae: 0.2404\n",
            "Epoch 314/500\n",
            "64/64 [==============================] - 13s 199ms/step - loss: 0.0542 - mae: 0.2591 - val_loss: 0.0450 - val_mae: 0.2404\n",
            "Epoch 315/500\n",
            "64/64 [==============================] - 13s 200ms/step - loss: 0.0508 - mae: 0.2512 - val_loss: 0.0449 - val_mae: 0.2405\n",
            "Epoch 316/500\n",
            "64/64 [==============================] - 13s 197ms/step - loss: 0.0526 - mae: 0.2561 - val_loss: 0.0449 - val_mae: 0.2405\n",
            "Epoch 317/500\n",
            "64/64 [==============================] - 13s 198ms/step - loss: 0.0508 - mae: 0.2512 - val_loss: 0.0449 - val_mae: 0.2405\n",
            "Epoch 318/500\n",
            "64/64 [==============================] - 13s 201ms/step - loss: 0.0543 - mae: 0.2611 - val_loss: 0.0449 - val_mae: 0.2406\n",
            "Epoch 319/500\n",
            "64/64 [==============================] - 13s 198ms/step - loss: 0.0546 - mae: 0.2593 - val_loss: 0.0449 - val_mae: 0.2405\n",
            "Epoch 320/500\n",
            "64/64 [==============================] - 13s 199ms/step - loss: 0.0545 - mae: 0.2586 - val_loss: 0.0449 - val_mae: 0.2405\n",
            "Epoch 321/500\n",
            "64/64 [==============================] - 14s 214ms/step - loss: 0.0558 - mae: 0.2612 - val_loss: 0.0448 - val_mae: 0.2405\n",
            "Epoch 322/500\n",
            "64/64 [==============================] - 13s 200ms/step - loss: 0.0535 - mae: 0.2584 - val_loss: 0.0449 - val_mae: 0.2404\n",
            "Epoch 323/500\n",
            "64/64 [==============================] - 13s 206ms/step - loss: 0.0531 - mae: 0.2537 - val_loss: 0.0449 - val_mae: 0.2404\n",
            "Epoch 324/500\n",
            "64/64 [==============================] - 13s 199ms/step - loss: 0.0547 - mae: 0.2580 - val_loss: 0.0448 - val_mae: 0.2403\n",
            "Epoch 325/500\n",
            "64/64 [==============================] - 13s 202ms/step - loss: 0.0542 - mae: 0.2592 - val_loss: 0.0448 - val_mae: 0.2403\n",
            "Epoch 326/500\n",
            "64/64 [==============================] - 13s 202ms/step - loss: 0.0567 - mae: 0.2624 - val_loss: 0.0448 - val_mae: 0.2403\n",
            "Epoch 327/500\n",
            "64/64 [==============================] - 13s 203ms/step - loss: 0.0539 - mae: 0.2578 - val_loss: 0.0447 - val_mae: 0.2403\n",
            "Epoch 328/500\n",
            "64/64 [==============================] - 13s 200ms/step - loss: 0.0539 - mae: 0.2586 - val_loss: 0.0447 - val_mae: 0.2403\n",
            "Epoch 329/500\n",
            "64/64 [==============================] - 13s 202ms/step - loss: 0.0536 - mae: 0.2607 - val_loss: 0.0447 - val_mae: 0.2403\n",
            "Epoch 330/500\n",
            "64/64 [==============================] - 13s 200ms/step - loss: 0.0538 - mae: 0.2602 - val_loss: 0.0447 - val_mae: 0.2403\n",
            "Epoch 331/500\n",
            "64/64 [==============================] - 13s 203ms/step - loss: 0.0552 - mae: 0.2611 - val_loss: 0.0447 - val_mae: 0.2404\n",
            "Epoch 332/500\n",
            "64/64 [==============================] - 13s 201ms/step - loss: 0.0507 - mae: 0.2523 - val_loss: 0.0447 - val_mae: 0.2404\n",
            "Epoch 333/500\n",
            "64/64 [==============================] - 13s 204ms/step - loss: 0.0540 - mae: 0.2594 - val_loss: 0.0447 - val_mae: 0.2403\n",
            "Epoch 334/500\n",
            "64/64 [==============================] - 13s 201ms/step - loss: 0.0525 - mae: 0.2586 - val_loss: 0.0447 - val_mae: 0.2403\n",
            "Epoch 335/500\n",
            "64/64 [==============================] - 13s 199ms/step - loss: 0.0521 - mae: 0.2547 - val_loss: 0.0447 - val_mae: 0.2403\n",
            "Epoch 336/500\n",
            "64/64 [==============================] - 13s 202ms/step - loss: 0.0522 - mae: 0.2537 - val_loss: 0.0447 - val_mae: 0.2403\n",
            "Epoch 337/500\n",
            "64/64 [==============================] - 13s 198ms/step - loss: 0.0554 - mae: 0.2609 - val_loss: 0.0447 - val_mae: 0.2403\n",
            "Epoch 338/500\n",
            "64/64 [==============================] - 13s 201ms/step - loss: 0.0534 - mae: 0.2560 - val_loss: 0.0446 - val_mae: 0.2403\n",
            "Epoch 339/500\n",
            "64/64 [==============================] - 13s 199ms/step - loss: 0.0544 - mae: 0.2578 - val_loss: 0.0446 - val_mae: 0.2403\n",
            "Epoch 340/500\n",
            "64/64 [==============================] - 13s 197ms/step - loss: 0.0544 - mae: 0.2616 - val_loss: 0.0446 - val_mae: 0.2402\n",
            "Epoch 341/500\n",
            "64/64 [==============================] - 13s 200ms/step - loss: 0.0532 - mae: 0.2570 - val_loss: 0.0446 - val_mae: 0.2402\n",
            "Epoch 342/500\n",
            "64/64 [==============================] - 13s 200ms/step - loss: 0.0523 - mae: 0.2554 - val_loss: 0.0446 - val_mae: 0.2402\n",
            "Epoch 343/500\n",
            "64/64 [==============================] - 14s 211ms/step - loss: 0.0549 - mae: 0.2586 - val_loss: 0.0446 - val_mae: 0.2402\n",
            "Epoch 344/500\n",
            "64/64 [==============================] - 12s 182ms/step - loss: 0.0547 - mae: 0.2607 - val_loss: 0.0446 - val_mae: 0.2403\n",
            "Epoch 345/500\n",
            "64/64 [==============================] - 11s 177ms/step - loss: 0.0536 - mae: 0.2540 - val_loss: 0.0446 - val_mae: 0.2403\n",
            "Epoch 346/500\n",
            "64/64 [==============================] - 12s 189ms/step - loss: 0.0525 - mae: 0.2510 - val_loss: 0.0446 - val_mae: 0.2403\n",
            "Epoch 347/500\n",
            "64/64 [==============================] - 12s 182ms/step - loss: 0.0515 - mae: 0.2515 - val_loss: 0.0446 - val_mae: 0.2403\n",
            "Epoch 348/500\n",
            "64/64 [==============================] - 11s 179ms/step - loss: 0.0531 - mae: 0.2563 - val_loss: 0.0446 - val_mae: 0.2403\n",
            "Epoch 349/500\n",
            "64/64 [==============================] - 12s 184ms/step - loss: 0.0544 - mae: 0.2589 - val_loss: 0.0446 - val_mae: 0.2402\n",
            "Epoch 350/500\n",
            "64/64 [==============================] - 12s 182ms/step - loss: 0.0540 - mae: 0.2582 - val_loss: 0.0446 - val_mae: 0.2402\n",
            "Epoch 351/500\n",
            "64/64 [==============================] - 12s 184ms/step - loss: 0.0527 - mae: 0.2532 - val_loss: 0.0446 - val_mae: 0.2402\n",
            "Epoch 352/500\n",
            "64/64 [==============================] - 12s 190ms/step - loss: 0.0549 - mae: 0.2602 - val_loss: 0.0445 - val_mae: 0.2401\n",
            "Epoch 353/500\n",
            "64/64 [==============================] - 11s 176ms/step - loss: 0.0559 - mae: 0.2656 - val_loss: 0.0445 - val_mae: 0.2401\n",
            "Epoch 354/500\n",
            "64/64 [==============================] - 12s 184ms/step - loss: 0.0530 - mae: 0.2572 - val_loss: 0.0445 - val_mae: 0.2402\n",
            "Epoch 355/500\n",
            "64/64 [==============================] - 13s 203ms/step - loss: 0.0515 - mae: 0.2536 - val_loss: 0.0445 - val_mae: 0.2402\n",
            "Epoch 356/500\n",
            "64/64 [==============================] - 12s 187ms/step - loss: 0.0566 - mae: 0.2643 - val_loss: 0.0446 - val_mae: 0.2402\n",
            "Epoch 357/500\n",
            "64/64 [==============================] - 11s 180ms/step - loss: 0.0524 - mae: 0.2540 - val_loss: 0.0445 - val_mae: 0.2402\n",
            "Epoch 358/500\n",
            "64/64 [==============================] - 12s 181ms/step - loss: 0.0520 - mae: 0.2524 - val_loss: 0.0445 - val_mae: 0.2402\n",
            "Epoch 359/500\n",
            "64/64 [==============================] - 12s 191ms/step - loss: 0.0542 - mae: 0.2597 - val_loss: 0.0445 - val_mae: 0.2401\n",
            "Epoch 360/500\n",
            "64/64 [==============================] - 12s 179ms/step - loss: 0.0527 - mae: 0.2562 - val_loss: 0.0445 - val_mae: 0.2402\n",
            "Epoch 361/500\n",
            "64/64 [==============================] - 11s 179ms/step - loss: 0.0549 - mae: 0.2604 - val_loss: 0.0445 - val_mae: 0.2402\n",
            "Epoch 362/500\n",
            "64/64 [==============================] - 12s 181ms/step - loss: 0.0537 - mae: 0.2601 - val_loss: 0.0445 - val_mae: 0.2401\n",
            "Epoch 363/500\n",
            "64/64 [==============================] - 12s 184ms/step - loss: 0.0548 - mae: 0.2583 - val_loss: 0.0445 - val_mae: 0.2400\n",
            "Epoch 364/500\n",
            "64/64 [==============================] - 11s 177ms/step - loss: 0.0546 - mae: 0.2601 - val_loss: 0.0445 - val_mae: 0.2400\n",
            "Epoch 365/500\n",
            "64/64 [==============================] - 12s 184ms/step - loss: 0.0539 - mae: 0.2582 - val_loss: 0.0445 - val_mae: 0.2400\n",
            "Epoch 366/500\n",
            "64/64 [==============================] - 12s 189ms/step - loss: 0.0534 - mae: 0.2594 - val_loss: 0.0444 - val_mae: 0.2400\n"
          ]
        }
      ]
    },
    {
      "cell_type": "markdown",
      "source": [
        " tf.keras.layers.Bidirectional로 GRU층 감싸주면 된다."
      ],
      "metadata": {
        "id": "hsvW5VfNciIU"
      }
    },
    {
      "cell_type": "code",
      "source": [
        "forecast = model_forecast(model, series[split_time - window_size: -1], window_size)[:,0]"
      ],
      "metadata": {
        "id": "oWF-3dbQGw7L"
      },
      "execution_count": null,
      "outputs": []
    },
    {
      "cell_type": "code",
      "source": [
        "plt.figure(figsize=(10,6))\n",
        "plot_series(time_valid, x_valid)\n",
        "plot_series(time_valid, forecast)\n",
        "plt.show()"
      ],
      "metadata": {
        "id": "lHAPM6_QbfWk"
      },
      "execution_count": null,
      "outputs": []
    },
    {
      "cell_type": "code",
      "source": [
        "tf.keras.metrics.mean_absolute_error(x_valid, forecast).numpy()"
      ],
      "metadata": {
        "id": "gpG-bkzxcmvA"
      },
      "execution_count": null,
      "outputs": []
    },
    {
      "cell_type": "markdown",
      "source": [
        "보이다 싶이 큰 차이는 없고 MAE도 비슷하다.\n",
        "\n",
        "하지만 대규모 시계열 데이터셋에서는 정확도에 상당한 차이가 날 수 있으며,\n",
        "\n",
        "여러 계절이 포함되도록 window_size 같은 훈련 파라미터를 조정하여 큰 영향을 끼칠 수 있다."
      ],
      "metadata": {
        "id": "UsfKG1yWcrWQ"
      }
    },
    {
      "cell_type": "code",
      "source": [],
      "metadata": {
        "id": "oXxi3TAEcmxp"
      },
      "execution_count": null,
      "outputs": []
    }
  ]
}