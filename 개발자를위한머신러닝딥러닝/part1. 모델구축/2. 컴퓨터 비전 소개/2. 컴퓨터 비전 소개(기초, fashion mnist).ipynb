{
 "cells": [
  {
   "cell_type": "code",
   "execution_count": 1,
   "id": "e5d8429e",
   "metadata": {},
   "outputs": [],
   "source": [
    "from tensorflow import keras\n",
    "import tensorflow as tf\n",
    "\n",
    "(X_train, y_train), (X_test, y_test) = keras.datasets.fashion_mnist.load_data()\n",
    "\n",
    "train_scaled = X_train / 255.0\n",
    "test_scaled = X_test / 255.0 # 0- 255 값을 0-1 로 변환\n",
    "\n",
    "model = keras.Sequential([\n",
    "        keras.layers.Flatten(input_shape=(28, 28)),\n",
    "        keras.layers.Dense(128, activation=tf.nn.relu),\n",
    "        keras.layers.Dense(10, activation=tf.nn.softmax)\n",
    "        ])"
   ]
  },
  {
   "cell_type": "code",
   "execution_count": 2,
   "id": "27b8d6ff",
   "metadata": {},
   "outputs": [
    {
     "name": "stdout",
     "output_type": "stream",
     "text": [
      "Epoch 1/5\n",
      "1875/1875 [==============================] - 1s 488us/step - loss: 0.4954 - accuracy: 0.8260\n",
      "Epoch 2/5\n",
      "1875/1875 [==============================] - 1s 480us/step - loss: 0.3748 - accuracy: 0.8647\n",
      "Epoch 3/5\n",
      "1875/1875 [==============================] - 1s 485us/step - loss: 0.3367 - accuracy: 0.8779\n",
      "Epoch 4/5\n",
      "1875/1875 [==============================] - 1s 485us/step - loss: 0.3129 - accuracy: 0.8861\n",
      "Epoch 5/5\n",
      "1875/1875 [==============================] - 1s 498us/step - loss: 0.2945 - accuracy: 0.8904\n"
     ]
    },
    {
     "data": {
      "text/plain": [
       "<keras.src.callbacks.History at 0x2c0bead10>"
      ]
     },
     "execution_count": 2,
     "metadata": {},
     "output_type": "execute_result"
    }
   ],
   "source": [
    "model.compile(optimizer='adam', loss='sparse_categorical_crossentropy',\n",
    "             metrics=['accuracy'])\n",
    "model.fit(train_scaled, y_train, epochs=5)"
   ]
  },
  {
   "cell_type": "markdown",
   "id": "9f7794cf",
   "metadata": {},
   "source": [
    "여기서 사용한 손실함수는 ***희소한 범주형 크로스 엔트로피(sparse_categorical_crossentropy)*** 라고 부른다.\n",
    "#### 의류 아이템은 10개의 카테고리 중 하나에 속해있기 때문에 범주형 손실함수를 쓰는 것이 좋음"
   ]
  },
  {
   "cell_type": "code",
   "execution_count": 5,
   "id": "d1a26f6d",
   "metadata": {},
   "outputs": [
    {
     "name": "stdout",
     "output_type": "stream",
     "text": [
      "313/313 [==============================] - 0s 336us/step - loss: 0.3453 - accuracy: 0.8756\n"
     ]
    },
    {
     "data": {
      "text/plain": [
       "[0.34525954723358154, 0.8755999803543091]"
      ]
     },
     "execution_count": 5,
     "metadata": {},
     "output_type": "execute_result"
    }
   ],
   "source": [
    "model.evaluate(test_scaled, y_test)"
   ]
  },
  {
   "cell_type": "markdown",
   "id": "395dcc6f",
   "metadata": {},
   "source": [
    "### 모델 출력 살펴보기"
   ]
  },
  {
   "cell_type": "code",
   "execution_count": 6,
   "id": "b82f87f7",
   "metadata": {},
   "outputs": [
    {
     "name": "stdout",
     "output_type": "stream",
     "text": [
      "1875/1875 [==============================] - 1s 290us/step\n",
      "[2.7823133e-10 1.9404450e-11 1.1548439e-12 5.6054489e-14 4.4181885e-12\n",
      " 6.6701439e-05 8.3308941e-12 1.5865797e-03 1.3825446e-08 9.9834669e-01]\n",
      "9\n"
     ]
    }
   ],
   "source": [
    "classifications = model.predict(train_scaled)\n",
    "print(classifications[0])\n",
    "print(y_test[0])"
   ]
  },
  {
   "cell_type": "markdown",
   "id": "bbdec125",
   "metadata": {},
   "source": [
    "9번째 레이블을 보면 9.98 * 10^-1 으로 99프로 확률이므로 정확히 예측"
   ]
  },
  {
   "cell_type": "markdown",
   "id": "1305bf37",
   "metadata": {},
   "source": [
    "### 훈련 조기 종료"
   ]
  },
  {
   "cell_type": "code",
   "execution_count": 7,
   "id": "e7cee1bd",
   "metadata": {},
   "outputs": [],
   "source": [
    "class myCallback(tf.keras.callbacks.Callback):\n",
    "    def on_epoch_end(self, epoch, logs={}):\n",
    "        if(logs.get('accuracy') > 0.95):\n",
    "            print('\\n 정확도 95%에 도달하여 훈련을 멈춥니다!')\n",
    "            self.model.stop_training = True"
   ]
  },
  {
   "cell_type": "markdown",
   "id": "858d8856",
   "metadata": {},
   "source": [
    "1. myCallback 클래스를 만든다\n",
    "2. 이 클래스는 tf.keras.callbacks.Callback 클래스(부모) 로부터 상속받는다\n",
    "3. myCallback 클래스 안에 on_epoch_end 함수를 정의\n",
    "4. 이 함수로 에폭에 대한 자세한 로그 제공, 이 로그에는 정확도가 포함되어 있어 이 값이 95보다 큰지를 확인 가능\n",
    "5. self.model.stop_training = True로 지정해 훈련 중지"
   ]
  },
  {
   "cell_type": "code",
   "execution_count": 9,
   "id": "a7cb79e1",
   "metadata": {},
   "outputs": [],
   "source": [
    "callbacks = myCallback()\n",
    "mnist = keras.datasets.fashion_mnist\n",
    "\n",
    "(X_train, y_train), (X_test, y_test) = mnist.load_data()\n",
    "X_train = X_train / 255.0\n",
    "X_test = X_test / 255.0"
   ]
  },
  {
   "cell_type": "markdown",
   "id": "e4e8ba62",
   "metadata": {},
   "source": [
    "myCallback 클래스를 정의하고 이 클래스의 인스턴스 callbacks 객체를 만든다."
   ]
  },
  {
   "cell_type": "code",
   "execution_count": 11,
   "id": "6425232c",
   "metadata": {},
   "outputs": [],
   "source": [
    "model = keras.Sequential()\n",
    "model.add(keras.layers.Flatten(input_shape=(28, 28)))\n",
    "model.add(keras.layers.Dense(128, activation='relu'))\n",
    "model.add(keras.layers.Dense(10, activation='softmax'))          "
   ]
  },
  {
   "cell_type": "code",
   "execution_count": 12,
   "id": "24f9aa5e",
   "metadata": {},
   "outputs": [
    {
     "name": "stdout",
     "output_type": "stream",
     "text": [
      "Epoch 1/50\n",
      "1875/1875 [==============================] - 1s 586us/step - loss: 0.4990 - accuracy: 0.8234\n",
      "Epoch 2/50\n",
      "1875/1875 [==============================] - 1s 500us/step - loss: 0.3741 - accuracy: 0.8661\n",
      "Epoch 3/50\n",
      "1875/1875 [==============================] - 1s 505us/step - loss: 0.3373 - accuracy: 0.8776\n",
      "Epoch 4/50\n",
      "1875/1875 [==============================] - 1s 488us/step - loss: 0.3134 - accuracy: 0.8848\n",
      "Epoch 5/50\n",
      "1875/1875 [==============================] - 1s 492us/step - loss: 0.2973 - accuracy: 0.8902\n",
      "Epoch 6/50\n",
      "1875/1875 [==============================] - 1s 490us/step - loss: 0.2831 - accuracy: 0.8957\n",
      "Epoch 7/50\n",
      "1875/1875 [==============================] - 1s 489us/step - loss: 0.2699 - accuracy: 0.9002\n",
      "Epoch 8/50\n",
      "1875/1875 [==============================] - 1s 493us/step - loss: 0.2577 - accuracy: 0.9038\n",
      "Epoch 9/50\n",
      "1875/1875 [==============================] - 1s 491us/step - loss: 0.2476 - accuracy: 0.9079\n",
      "Epoch 10/50\n",
      "1875/1875 [==============================] - 1s 496us/step - loss: 0.2398 - accuracy: 0.9113\n",
      "Epoch 11/50\n",
      "1875/1875 [==============================] - 1s 495us/step - loss: 0.2316 - accuracy: 0.9135\n",
      "Epoch 12/50\n",
      "1875/1875 [==============================] - 1s 490us/step - loss: 0.2237 - accuracy: 0.9162\n",
      "Epoch 13/50\n",
      "1875/1875 [==============================] - 1s 488us/step - loss: 0.2179 - accuracy: 0.9176\n",
      "Epoch 14/50\n",
      "1875/1875 [==============================] - 1s 487us/step - loss: 0.2099 - accuracy: 0.9216\n",
      "Epoch 15/50\n",
      "1875/1875 [==============================] - 1s 491us/step - loss: 0.2061 - accuracy: 0.9224\n",
      "Epoch 16/50\n",
      "1875/1875 [==============================] - 1s 495us/step - loss: 0.1994 - accuracy: 0.9261\n",
      "Epoch 17/50\n",
      "1875/1875 [==============================] - 1s 495us/step - loss: 0.1955 - accuracy: 0.9265\n",
      "Epoch 18/50\n",
      "1875/1875 [==============================] - 1s 494us/step - loss: 0.1901 - accuracy: 0.9294\n",
      "Epoch 19/50\n",
      "1875/1875 [==============================] - 1s 493us/step - loss: 0.1849 - accuracy: 0.9298\n",
      "Epoch 20/50\n",
      "1875/1875 [==============================] - 1s 494us/step - loss: 0.1784 - accuracy: 0.9327\n",
      "Epoch 21/50\n",
      "1875/1875 [==============================] - 1s 481us/step - loss: 0.1743 - accuracy: 0.9333\n",
      "Epoch 22/50\n",
      "1875/1875 [==============================] - 1s 481us/step - loss: 0.1716 - accuracy: 0.9362\n",
      "Epoch 23/50\n",
      "1875/1875 [==============================] - 1s 497us/step - loss: 0.1664 - accuracy: 0.9376\n",
      "Epoch 24/50\n",
      "1875/1875 [==============================] - 1s 490us/step - loss: 0.1630 - accuracy: 0.9391\n",
      "Epoch 25/50\n",
      "1875/1875 [==============================] - 1s 493us/step - loss: 0.1589 - accuracy: 0.9399\n",
      "Epoch 26/50\n",
      "1875/1875 [==============================] - 1s 499us/step - loss: 0.1567 - accuracy: 0.9413\n",
      "Epoch 27/50\n",
      "1875/1875 [==============================] - 1s 491us/step - loss: 0.1516 - accuracy: 0.9430\n",
      "Epoch 28/50\n",
      "1875/1875 [==============================] - 1s 500us/step - loss: 0.1487 - accuracy: 0.9437\n",
      "Epoch 29/50\n",
      "1875/1875 [==============================] - 1s 497us/step - loss: 0.1445 - accuracy: 0.9458\n",
      "Epoch 30/50\n",
      "1875/1875 [==============================] - 1s 497us/step - loss: 0.1434 - accuracy: 0.9466\n",
      "Epoch 31/50\n",
      "1875/1875 [==============================] - 1s 494us/step - loss: 0.1381 - accuracy: 0.9480\n",
      "Epoch 32/50\n",
      "1875/1875 [==============================] - 1s 493us/step - loss: 0.1355 - accuracy: 0.9491\n",
      "Epoch 33/50\n",
      "1875/1875 [==============================] - 1s 493us/step - loss: 0.1347 - accuracy: 0.9495\n",
      "Epoch 34/50\n",
      "1824/1875 [============================>.] - ETA: 0s - loss: 0.1306 - accuracy: 0.9515\n",
      " 정확도 95%에 도달하여 훈련을 멈춥니다!\n",
      "1875/1875 [==============================] - 1s 498us/step - loss: 0.1305 - accuracy: 0.9515\n"
     ]
    },
    {
     "data": {
      "text/plain": [
       "<keras.src.callbacks.History at 0x2c2e2e990>"
      ]
     },
     "execution_count": 12,
     "metadata": {},
     "output_type": "execute_result"
    }
   ],
   "source": [
    "model.compile(optimizer='adam',\n",
    "             loss='sparse_categorical_crossentropy',\n",
    "             metrics=['accuracy'])\n",
    "model.fit(X_train, y_train, epochs=50, callbacks=[callbacks])"
   ]
  },
  {
   "cell_type": "markdown",
   "id": "f6683d11",
   "metadata": {},
   "source": [
    "fit 할 때 callbacks에 리스트로 전달"
   ]
  },
  {
   "cell_type": "markdown",
   "id": "692c31fe",
   "metadata": {},
   "source": [
    "이 사진 이미지는 모두 흑백이고 의류 아이템이 사진 중앙에 놓여있다. 시작하기엔 좋지만 매우 통제된 예제이다.\n",
    "\n",
    "비전 작업을 더 잘 수행하려면 컴퓨터가 원본 픽셀 대신에 이미지의 특징을 학습해야 한다.\n",
    "\n",
    "이때 ***합성곱*** 을 사용하면 된다. 다음 장에서 배워보겠다."
   ]
  },
  {
   "cell_type": "code",
   "execution_count": null,
   "id": "ff7b19b3",
   "metadata": {},
   "outputs": [],
   "source": []
  }
 ],
 "metadata": {
  "kernelspec": {
   "display_name": "Python 3 (ipykernel)",
   "language": "python",
   "name": "python3"
  },
  "language_info": {
   "codemirror_mode": {
    "name": "ipython",
    "version": 3
   },
   "file_extension": ".py",
   "mimetype": "text/x-python",
   "name": "python",
   "nbconvert_exporter": "python",
   "pygments_lexer": "ipython3",
   "version": "3.11.2"
  }
 },
 "nbformat": 4,
 "nbformat_minor": 5
}
