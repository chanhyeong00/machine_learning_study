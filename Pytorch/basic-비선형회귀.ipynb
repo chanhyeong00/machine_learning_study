{
  "nbformat": 4,
  "nbformat_minor": 0,
  "metadata": {
    "colab": {
      "provenance": [],
      "authorship_tag": "ABX9TyOOe77eITFT3NnIpO3KGIqy",
      "include_colab_link": true
    },
    "kernelspec": {
      "name": "python3",
      "display_name": "Python 3"
    },
    "language_info": {
      "name": "python"
    }
  },
  "cells": [
    {
      "cell_type": "markdown",
      "metadata": {
        "id": "view-in-github",
        "colab_type": "text"
      },
      "source": [
        "<a href=\"https://colab.research.google.com/github/chanhyeong00/machine_learning_study/blob/main/%08Pytorch/basic-%EB%B9%84%EC%84%A0%ED%98%95%ED%9A%8C%EA%B7%80.ipynb\" target=\"_parent\"><img src=\"https://colab.research.google.com/assets/colab-badge.svg\" alt=\"Open In Colab\"/></a>"
      ]
    },
    {
      "cell_type": "code",
      "execution_count": null,
      "metadata": {
        "id": "QS1dtEU_jw6J"
      },
      "outputs": [],
      "source": [
        "import torch\n",
        "import pandas as pd\n",
        "from torch import nn\n",
        "from torch import optim\n",
        "from torch.utils.data import Dataset, DataLoader"
      ]
    },
    {
      "cell_type": "markdown",
      "source": [
        "### 데이터셋 구성"
      ],
      "metadata": {
        "id": "f7F7_czVsFxz"
      }
    },
    {
      "cell_type": "code",
      "source": [
        "class CustomDataset(Dataset):\n",
        "    def __init__(self, file_path):\n",
        "        df = pd.read_csv(file_path)\n",
        "        self.x = df.iloc[:, 0].values\n",
        "        self.y = df.iloc[:, 1].values\n",
        "        self.length = len(df)\n",
        "\n",
        "    def __getitem__(self, index):\n",
        "        x = torch.FloatTensor([self.x[index] ** 2, self.x[index]]) # 결과값은 이차방정식(y=w_1*x^2 + W_2 * x + b)\n",
        "        y = torch.FloatTensor([self.y[index]])\n",
        "        return x, y\n",
        "\n",
        "    def __len__(self):\n",
        "        return self.length"
      ],
      "metadata": {
        "id": "_HcqdEjWpjii"
      },
      "execution_count": null,
      "outputs": []
    },
    {
      "cell_type": "markdown",
      "source": [
        "### 모델 구성"
      ],
      "metadata": {
        "id": "ccm84m97sHRf"
      }
    },
    {
      "cell_type": "code",
      "source": [
        "class CustomModel(nn.Module):\n",
        "    def __init__(self):\n",
        "        super().__init__()\n",
        "        self.layer = nn.Linear(2, 1) # (2차 다항식, 1개의 출력)\n",
        "\n",
        "    def forward(self, x):\n",
        "        x = self.layer(x)\n",
        "        return x"
      ],
      "metadata": {
        "id": "IqpxVaaDpUnp"
      },
      "execution_count": null,
      "outputs": []
    },
    {
      "cell_type": "markdown",
      "source": [
        "데이터셋이 없어서 그냥 코드로만 본다."
      ],
      "metadata": {
        "id": "mtAMlx65qQpk"
      }
    },
    {
      "cell_type": "code",
      "source": [
        "train_dataset = CustomDataset(\"../datasets/non_linear.csv\")\n",
        "train_dataloader = DataLoader(train_dataset, batch_size=128, shuffle=True, drop_last=True)"
      ],
      "metadata": {
        "id": "W18nOrUUpXDL"
      },
      "execution_count": null,
      "outputs": []
    },
    {
      "cell_type": "code",
      "source": [
        "device = \"cuda\" if torch.cuda.is_available() else \"cpu\" # GPU 사용 가능 환경이면 'cuda'로 gpu 사용.\n",
        "model = CustomModel().to(device) # 모델을 GPU로 장치 설정\n",
        "criterion = nn.MSELoss().to(device) # 오차 또한 GPU로 장치 설정\n",
        "optimizer = optim.SGD(model.parameters(), lr=0.0001)"
      ],
      "metadata": {
        "id": "x97RJlDzpZnq"
      },
      "execution_count": null,
      "outputs": []
    },
    {
      "cell_type": "code",
      "source": [
        "for epoch in range(10000):\n",
        "    cost = 0.0\n",
        "\n",
        "    for x, y in train_dataloader:\n",
        "        x = x.to(device) # 텐서 모두 동일 장치로 올려줌\n",
        "        y = y.to(device)\n",
        "\n",
        "        output = model(x) # 예측\n",
        "        loss = criterion(output, y) # 오차 계산\n",
        "\n",
        "        optimizer.zero_grad() # 기울기 초기화\n",
        "        loss.backward() # 역전파 수행(기울기 계산)\n",
        "        optimizer.step() # 계산된 가중치를 옵티마이저에 반영\n",
        "\n",
        "        cost += loss\n",
        "\n",
        "    cost = cost / len(train_dataloader)\n",
        "\n",
        "    if (epoch + 1) % 1000 == 0:\n",
        "        print(f\"Epoch : {epoch+1:4d}, Model : {list(model.parameters())}, Cost : {cost:.3f}\")"
      ],
      "metadata": {
        "id": "nCfoJtwOpcnb"
      },
      "execution_count": null,
      "outputs": []
    },
    {
      "cell_type": "markdown",
      "source": [
        "### 모델 평가"
      ],
      "metadata": {
        "id": "PKwtCeC4rHId"
      }
    },
    {
      "cell_type": "markdown",
      "source": [
        "테스트 데이터세트나 임의값으로 모델을 확인하거나 평가할 때는 troch.no_grad 클래스를 활용한다.\n",
        "\n",
        "troch.no_grad 클래스는 기울기 계산을 비활성화하는 클래스이다. 자동 미분 기능을 사용하지 않도록 설정해 메모리 사용량을 줄여 추론에 적합한 상태로 변경"
      ],
      "metadata": {
        "id": "19K8u6QBrqA1"
      }
    },
    {
      "cell_type": "code",
      "source": [
        "with torch.no_grad():\n",
        "    model.eval() # 평가모드로 변경\n",
        "    inputs = torch.FloatTensor(\n",
        "        [\n",
        "            [1 ** 2, 1],\n",
        "            [5 ** 2, 5],\n",
        "            [11 ** 2, 11]\n",
        "        ]\n",
        "    ).to(device)\n",
        "    outputs = model(inputs) # 예측(추론)\n",
        "    print(outputs)"
      ],
      "metadata": {
        "id": "-usEpHpnpfVe"
      },
      "execution_count": null,
      "outputs": []
    },
    {
      "cell_type": "code",
      "source": [
        "torch.save(\n",
        "    model,\n",
        "    \"../models/model.pt\"\n",
        ")\n",
        "torch.save(\n",
        "    model.state_dict(),\n",
        "    \"../models/model_state_dict.pt\"\n",
        ") # 특정 시점 모델 상태"
      ],
      "metadata": {
        "colab": {
          "base_uri": "https://localhost:8080/"
        },
        "id": "iYrrBQK9rL9E",
        "outputId": "1c792580-3d08-45cf-a659-4154e5bceb44"
      },
      "execution_count": null,
      "outputs": [
        {
          "output_type": "stream",
          "name": "stdout",
          "text": [
            "<torch.autograd.grad_mode.no_grad object at 0x7eb68ae498d0>\n"
          ]
        }
      ]
    },
    {
      "cell_type": "code",
      "source": [],
      "metadata": {
        "id": "3x-he-MarM7Y"
      },
      "execution_count": null,
      "outputs": []
    }
  ]
}