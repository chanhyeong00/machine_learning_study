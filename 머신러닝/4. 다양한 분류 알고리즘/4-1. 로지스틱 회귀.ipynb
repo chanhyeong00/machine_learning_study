{
 "cells": [
  {
   "cell_type": "markdown",
   "id": "3b351351",
   "metadata": {},
   "source": [
    "### 데이터 준비"
   ]
  },
  {
   "cell_type": "code",
   "execution_count": 1,
   "id": "3bc8b91c",
   "metadata": {},
   "outputs": [
    {
     "data": {
      "text/html": [
       "<div>\n",
       "<style scoped>\n",
       "    .dataframe tbody tr th:only-of-type {\n",
       "        vertical-align: middle;\n",
       "    }\n",
       "\n",
       "    .dataframe tbody tr th {\n",
       "        vertical-align: top;\n",
       "    }\n",
       "\n",
       "    .dataframe thead th {\n",
       "        text-align: right;\n",
       "    }\n",
       "</style>\n",
       "<table border=\"1\" class=\"dataframe\">\n",
       "  <thead>\n",
       "    <tr style=\"text-align: right;\">\n",
       "      <th></th>\n",
       "      <th>Species</th>\n",
       "      <th>Weight</th>\n",
       "      <th>Length</th>\n",
       "      <th>Diagonal</th>\n",
       "      <th>Height</th>\n",
       "      <th>Width</th>\n",
       "    </tr>\n",
       "  </thead>\n",
       "  <tbody>\n",
       "    <tr>\n",
       "      <th>0</th>\n",
       "      <td>Bream</td>\n",
       "      <td>242.0</td>\n",
       "      <td>25.4</td>\n",
       "      <td>30.0</td>\n",
       "      <td>11.5200</td>\n",
       "      <td>4.0200</td>\n",
       "    </tr>\n",
       "    <tr>\n",
       "      <th>1</th>\n",
       "      <td>Bream</td>\n",
       "      <td>290.0</td>\n",
       "      <td>26.3</td>\n",
       "      <td>31.2</td>\n",
       "      <td>12.4800</td>\n",
       "      <td>4.3056</td>\n",
       "    </tr>\n",
       "    <tr>\n",
       "      <th>2</th>\n",
       "      <td>Bream</td>\n",
       "      <td>340.0</td>\n",
       "      <td>26.5</td>\n",
       "      <td>31.1</td>\n",
       "      <td>12.3778</td>\n",
       "      <td>4.6961</td>\n",
       "    </tr>\n",
       "    <tr>\n",
       "      <th>3</th>\n",
       "      <td>Bream</td>\n",
       "      <td>363.0</td>\n",
       "      <td>29.0</td>\n",
       "      <td>33.5</td>\n",
       "      <td>12.7300</td>\n",
       "      <td>4.4555</td>\n",
       "    </tr>\n",
       "    <tr>\n",
       "      <th>4</th>\n",
       "      <td>Bream</td>\n",
       "      <td>430.0</td>\n",
       "      <td>29.0</td>\n",
       "      <td>34.0</td>\n",
       "      <td>12.4440</td>\n",
       "      <td>5.1340</td>\n",
       "    </tr>\n",
       "  </tbody>\n",
       "</table>\n",
       "</div>"
      ],
      "text/plain": [
       "  Species  Weight  Length  Diagonal   Height   Width\n",
       "0   Bream   242.0    25.4      30.0  11.5200  4.0200\n",
       "1   Bream   290.0    26.3      31.2  12.4800  4.3056\n",
       "2   Bream   340.0    26.5      31.1  12.3778  4.6961\n",
       "3   Bream   363.0    29.0      33.5  12.7300  4.4555\n",
       "4   Bream   430.0    29.0      34.0  12.4440  5.1340"
      ]
     },
     "execution_count": 1,
     "metadata": {},
     "output_type": "execute_result"
    }
   ],
   "source": [
    "import pandas as pd\n",
    "fish = pd.read_csv('https://bit.ly/fish_csv_data')\n",
    "fish.head()"
   ]
  },
  {
   "cell_type": "code",
   "execution_count": 2,
   "id": "26eb701e",
   "metadata": {},
   "outputs": [
    {
     "name": "stdout",
     "output_type": "stream",
     "text": [
      "['Bream' 'Roach' 'Whitefish' 'Parkki' 'Perch' 'Pike' 'Smelt']\n"
     ]
    }
   ],
   "source": [
    "print(pd.unique(fish['Species'])) # species 열에서 고유한 값 추출"
   ]
  },
  {
   "cell_type": "code",
   "execution_count": 3,
   "id": "d1a4bd9e",
   "metadata": {},
   "outputs": [],
   "source": [
    "fish_input = fish[['Weight', 'Length', 'Diagonal', 'Height', 'Width']].to_numpy() # 넘파이배열로 바꿈\n",
    "# 데이터 프레임에서 원하는 열 선택 ( 데이터프레임에서 원하는 열을 리스트로 나열하면 된다 ) "
   ]
  },
  {
   "cell_type": "code",
   "execution_count": 4,
   "id": "0f876d0a",
   "metadata": {},
   "outputs": [
    {
     "name": "stdout",
     "output_type": "stream",
     "text": [
      "[[242.      25.4     30.      11.52     4.02  ]\n",
      " [290.      26.3     31.2     12.48     4.3056]\n",
      " [340.      26.5     31.1     12.3778   4.6961]\n",
      " [363.      29.      33.5     12.73     4.4555]\n",
      " [430.      29.      34.      12.444    5.134 ]]\n"
     ]
    }
   ],
   "source": [
    "print(fish_input[:5])"
   ]
  },
  {
   "cell_type": "code",
   "execution_count": 5,
   "id": "d326d969",
   "metadata": {},
   "outputs": [
    {
     "data": {
      "text/plain": [
       "array(['Bream', 'Bream', 'Bream', 'Bream', 'Bream', 'Bream', 'Bream',\n",
       "       'Bream', 'Bream', 'Bream'], dtype=object)"
      ]
     },
     "execution_count": 5,
     "metadata": {},
     "output_type": "execute_result"
    }
   ],
   "source": [
    "fish_target = fish['Species'].to_numpy() \n",
    "fish_target[:10]\n",
    "# 주의 : [['Species']] 으로 하면 2차원 배열 된다"
   ]
  },
  {
   "cell_type": "code",
   "execution_count": 6,
   "id": "92ee7aa2",
   "metadata": {},
   "outputs": [],
   "source": [
    "from sklearn.model_selection import train_test_split\n",
    "X_train, X_test, y_train, y_test = train_test_split(fish_input, fish_target, random_state=42)"
   ]
  },
  {
   "cell_type": "code",
   "execution_count": 7,
   "id": "d9fc97a3",
   "metadata": {},
   "outputs": [],
   "source": [
    "from sklearn.preprocessing import StandardScaler\n",
    "ss = StandardScaler()\n",
    "ss.fit(X_train)\n",
    "train_scaled = ss.transform(X_train)\n",
    "test_scaled = ss.transform(X_test)"
   ]
  },
  {
   "cell_type": "markdown",
   "id": "4dc3d172",
   "metadata": {},
   "source": [
    "### k - 최근접 이웃 분류기의 확률 예측"
   ]
  },
  {
   "cell_type": "code",
   "execution_count": 8,
   "id": "31326ddb",
   "metadata": {},
   "outputs": [
    {
     "name": "stdout",
     "output_type": "stream",
     "text": [
      "0.8907563025210085\n",
      "0.85\n"
     ]
    }
   ],
   "source": [
    "from sklearn.neighbors import KNeighborsClassifier\n",
    "kn = KNeighborsClassifier(n_neighbors=3)\n",
    "kn.fit(train_scaled, y_train)\n",
    "print(kn.score(train_scaled, y_train))\n",
    "print(kn.score(test_scaled, y_test))"
   ]
  },
  {
   "cell_type": "markdown",
   "id": "19a6fcc8",
   "metadata": {},
   "source": [
    "타깃데이터에 2개 이상의 클래스가 포함된 문제를 **다중분류**라고 부른다"
   ]
  },
  {
   "cell_type": "markdown",
   "id": "65967f9f",
   "metadata": {},
   "source": [
    "타깃값을 그대로 사이킷런 모델에 전달하면 순서가 자동으로 알파벳 순으로 매겨진다.\n",
    "\n",
    "따라서 pd.unique(fish['Species'])로 출력했던 순서와 다르다. KNeighborsClassifier에서 정렬된 타깃값은 **classes_** 속성에 저장되어 있음"
   ]
  },
  {
   "cell_type": "code",
   "execution_count": 9,
   "id": "40537793",
   "metadata": {},
   "outputs": [
    {
     "name": "stdout",
     "output_type": "stream",
     "text": [
      "['Bream' 'Parkki' 'Perch' 'Pike' 'Roach' 'Smelt' 'Whitefish']\n"
     ]
    }
   ],
   "source": [
    "print(kn.classes_) # 이 순서대로 모델에 전달된 것"
   ]
  },
  {
   "cell_type": "code",
   "execution_count": 10,
   "id": "f43a184c",
   "metadata": {},
   "outputs": [
    {
     "name": "stdout",
     "output_type": "stream",
     "text": [
      "['Perch' 'Smelt' 'Pike' 'Perch' 'Perch']\n"
     ]
    }
   ],
   "source": [
    "print(kn.predict(test_scaled[:5]))"
   ]
  },
  {
   "cell_type": "code",
   "execution_count": 11,
   "id": "a2338a69",
   "metadata": {},
   "outputs": [
    {
     "name": "stdout",
     "output_type": "stream",
     "text": [
      "[[0.     0.     1.     0.     0.     0.     0.    ]\n",
      " [0.     0.     0.     0.     0.     1.     0.    ]\n",
      " [0.     0.     0.     1.     0.     0.     0.    ]\n",
      " [0.     0.     0.6667 0.     0.3333 0.     0.    ]\n",
      " [0.     0.     0.6667 0.     0.3333 0.     0.    ]]\n"
     ]
    }
   ],
   "source": [
    "import numpy as np\n",
    "proba = kn.predict_proba(test_scaled[:5]) # 클래스별 확률값을 반환하는 메서드\n",
    "# 처음 5개 샘플에 대한 확률값 반환\n",
    "print(np.round(proba, decimals=4)) # 소수 4번째 자리까지 표기(다섯째자리에서 반올림을 함)"
   ]
  },
  {
   "cell_type": "markdown",
   "id": "040d048f",
   "metadata": {},
   "source": [
    "- predict_proba() 메서드의 출력 순서는 앞서 보였던 classes_ 속성에서 본 순서와 같음. 측 1번쨰는 Bream, 두번째 열은 Parkki 에 대한 확률\n",
    "\n",
    "- kneigbors() 메서드의 입력은 2차원 배열이어야 한다. 그래서 넘파이 배열의 슬라이싱 연산자를 이용해 2차원 배열로 만들어줌\n",
    "\n",
    "- 슬라이싱 연산자는 하나의 샘플만 선택해도 항상 2차원 배열이 만들어짐"
   ]
  },
  {
   "cell_type": "code",
   "execution_count": 12,
   "id": "dc4d1f6e",
   "metadata": {},
   "outputs": [
    {
     "name": "stdout",
     "output_type": "stream",
     "text": [
      "[['Roach' 'Perch' 'Perch']]\n"
     ]
    }
   ],
   "source": [
    "distances, indexes = kn.kneighbors(test_scaled[3:4]) # 넘파이 배열의 슬라이싱 연산자를 이용해 2차원 배열로 전달\n",
    "print(y_train[indexes])"
   ]
  },
  {
   "cell_type": "markdown",
   "id": "ac10edf9",
   "metadata": {},
   "source": [
    "perch = 2 /3 = 0.6667 확률, roach = 1 / 3 = 0.333 확률임. 앞서 출력한 네번쨰 샘플의 확률과 같다"
   ]
  },
  {
   "cell_type": "markdown",
   "id": "5a21c4e8",
   "metadata": {},
   "source": [
    "### 로지스틱 회귀\n",
    "로지스틱 회귀 (logistic regression) 는 이름은 회귀이지만 분류 모델이다. 이 알고리즘은 선형 회귀와 동일하게 선형 방정식을 학습한다.확률이 되려면 0~1 또는 0%~ 100%가 사이의 값이 되어야한다. z가 아주 큰 음수일때 0이되고, z가 아주 큰 양수일 때 1이 되도록 바꾸는 방법이 없을까?\n",
    "- 시그모이드 함수 sigmoid function 또는 로지스틱 함수 logistic function 를 사용하면 가능하다.\n",
    "\n",
    "z가 무한하게 큰 음수일 경우 이 함수는 0에 가까워지고, z가 무한하게 큰 양수가 될 때는 1에 가까워진다. z가 0이 될 때는 0.5가 된다. z가 어떤 값이 되더라도 '파이'는 절대로 0 ~ 1사이의 범위를 벗어 날 수 없다. 그렇다면 0 ~ 1 사이 값을 0~100까지 확률로 해석할 수 있다.\n",
    "\n",
    "넘파이를 사용하면 그래프를 간단히 그릴 수 있다. -5와 5사이에 0.1 간격으로 배열 z를 만든 다음 z 위치마다 시그모이드 함수를 계산한다. 지수 함수 계산은 np.exp()함수를 사용한다."
   ]
  },
  {
   "cell_type": "code",
   "execution_count": 13,
   "id": "88975e28",
   "metadata": {},
   "outputs": [
    {
     "data": {
      "image/png": "[encoded data removed]",
      "text/plain": [
       "<Figure size 640x480 with 1 Axes>"
      ]
     },
     "metadata": {},
     "output_type": "display_data"
    }
   ],
   "source": [
    "import numpy as np\n",
    "import matplotlib.pyplot as plt\n",
    "\n",
    "z = np.arange(-5, 5, 0.1)\n",
    "phi = 1 / (1 + np.exp(-z))\n",
    "plt.plot(z, phi)\n",
    "plt.xlabel('z')\n",
    "plt.ylabel('phi')\n",
    "plt.show()"
   ]
  },
  {
   "cell_type": "markdown",
   "id": "59b69530",
   "metadata": {},
   "source": [
    "정확히 0.5일 때는 라이브러리마다 다를 수 있다. 사이킷런은 0.5일 떄는 음성 클래스로 판단해줌"
   ]
  },
  {
   "cell_type": "markdown",
   "id": "c1ac6b68",
   "metadata": {},
   "source": [
    "### 로지스틱 회귀로 이진 분류 수행\n",
    "넘파이 배열은 True, False 값을 전달하여 행을 선택 가능.(불리언 인덱싱, bollean indexing)"
   ]
  },
  {
   "cell_type": "code",
   "execution_count": 14,
   "id": "c44a54a5",
   "metadata": {},
   "outputs": [
    {
     "name": "stdout",
     "output_type": "stream",
     "text": [
      "['A' 'C']\n"
     ]
    }
   ],
   "source": [
    "char_arr = np.array(['A','B','C','D','E'])\n",
    "print(char_arr[[True, False, True, False, False]])"
   ]
  },
  {
   "cell_type": "markdown",
   "id": "315e1b8d",
   "metadata": {},
   "source": [
    "이와 같은 방식으로 훈련세트에서 도미와 빙어 행만 골라낸다"
   ]
  },
  {
   "cell_type": "code",
   "execution_count": 15,
   "id": "38ee4dd8",
   "metadata": {},
   "outputs": [],
   "source": [
    "bream_smelt_indexes = (y_train == 'Bream') | (y_train == 'Smelt') # bream과 smelt 인덱스를 받고\n",
    "train_bream_smelt = train_scaled[bream_smelt_indexes] # 그 인덱스에 해당하는 x 값들을 불러옴\n",
    "target_bream_smelt = y_train[bream_smelt_indexes]"
   ]
  },
  {
   "cell_type": "code",
   "execution_count": 16,
   "id": "2ac6bdac",
   "metadata": {},
   "outputs": [
    {
     "name": "stdout",
     "output_type": "stream",
     "text": [
      "['Bream' 'Smelt' 'Bream' 'Bream' 'Bream']\n"
     ]
    }
   ],
   "source": [
    "from sklearn.linear_model import LogisticRegression\n",
    "lr = LogisticRegression()\n",
    "lr.fit(train_bream_smelt, target_bream_smelt)\n",
    "print(lr.predict(train_bream_smelt[:5])) # 1개 뺴고 모두 도미로 예측"
   ]
  },
  {
   "cell_type": "code",
   "execution_count": 17,
   "id": "025da0ff",
   "metadata": {},
   "outputs": [
    {
     "name": "stdout",
     "output_type": "stream",
     "text": [
      "[[0.99759855 0.00240145]\n",
      " [0.02735183 0.97264817]\n",
      " [0.99486072 0.00513928]\n",
      " [0.98584202 0.01415798]\n",
      " [0.99767269 0.00232731]]\n"
     ]
    }
   ],
   "source": [
    "print(lr.predict_proba(train_bream_smelt[:5]))"
   ]
  },
  {
   "cell_type": "markdown",
   "id": "8d5898af",
   "metadata": {},
   "source": [
    "1번쨰 열이 음성 클래스(0) 에 대한 확률, 두번째가 양성 클래스(1)에 대한 확률"
   ]
  },
  {
   "cell_type": "code",
   "execution_count": 18,
   "id": "f9b924e2",
   "metadata": {},
   "outputs": [
    {
     "name": "stdout",
     "output_type": "stream",
     "text": [
      "['Bream' 'Smelt']\n"
     ]
    }
   ],
   "source": [
    "print(lr.classes_) # "
   ]
  },
  {
   "cell_type": "code",
   "execution_count": 19,
   "id": "924e6477",
   "metadata": {},
   "outputs": [
    {
     "name": "stdout",
     "output_type": "stream",
     "text": [
      "[[-0.4037798  -0.57620209 -0.66280298 -1.01290277 -0.73168947]] [-2.16155132]\n"
     ]
    }
   ],
   "source": [
    "print(lr.coef_, lr.intercept_)"
   ]
  },
  {
   "cell_type": "markdown",
   "id": "a489d506",
   "metadata": {},
   "source": [
    "z = -0.404 * weight -0.576 * length - 0.663 * diagonal - 1.013 * height - 0.732 * width - 2.161\n",
    "\n",
    "선형 회귀와 매우 비슷, logisticRegression 모델로 z값 계산 가능. (decision_function() 메서드로 )"
   ]
  },
  {
   "cell_type": "code",
   "execution_count": 20,
   "id": "b66e6980",
   "metadata": {},
   "outputs": [
    {
     "name": "stdout",
     "output_type": "stream",
     "text": [
      "[-6.02927744  3.57123907 -5.26568906 -4.24321775 -6.0607117 ]\n"
     ]
    }
   ],
   "source": [
    "decisions = lr.decision_function(train_bream_smelt[:5])\n",
    "print(decisions) "
   ]
  },
  {
   "cell_type": "markdown",
   "id": "2ac422a4",
   "metadata": {},
   "source": [
    "이 z 값을 시그모이드 함수에 통과시키면 확률을 얻을 수 있음\n",
    "\n",
    "파이썬의 사이파이 라이브러리에도 시그모이드 함수가 있음-> expit() \n",
    "\n",
    "(np.exp() 함수를 사용해 분수계산하는 거보다 훨씬 편하고 안전)"
   ]
  },
  {
   "cell_type": "code",
   "execution_count": 21,
   "id": "2f86a147",
   "metadata": {},
   "outputs": [
    {
     "name": "stdout",
     "output_type": "stream",
     "text": [
      "[0.00240145 0.97264817 0.00513928 0.01415798 0.00232731]\n"
     ]
    }
   ],
   "source": [
    "from scipy.special import expit\n",
    "print(expit(decisions)) # proba 메서드의 두번쨰 열과 같음(양성 클래스 확률을 반환해주기 떄문)"
   ]
  },
  {
   "cell_type": "markdown",
   "id": "48c09a43",
   "metadata": {},
   "source": [
    "### 로지스틱 회귀로 다중 분류 수행하기"
   ]
  },
  {
   "cell_type": "markdown",
   "id": "97d2a875",
   "metadata": {},
   "source": [
    "앞에서 이진 분류를 위해 로지스틱 회귀 모델을 훈련시켜 보았다. 다중 분류도 크게 다르지 않다. 여기에서도 LogisticRegression 클래스는 기본적으로 반복적인 알고리즘을 사용한다. max_iter 매개변수에서 반복 횟수를 지정하며 기본값은 100이다. 여기에 준비한 데이터셋을 사용해 모델을 훈련하면 반복 횟수가 부족하다는 경고가 발생한다. 충분하게 훈련시키기 위해 반복 횟수를 1,000으로 늘리겠다.\n",
    "\n",
    "또 LogisticRression은 기본적으로 릿지 회귀와 같이 계수의 제곱을 규제한다. 이런 규제를 L2 규제라고도 부른다. 릿지 회귀에서는 alpha 매개변수로 규제의 양을 조절했다. alpha가 커지면 규제도 커진다.\n",
    "\n",
    "**LogisticRergession에서 규제를 제어하는 매개변수는 C이다. 하지만 C 는 alpha와 반대로 작을수록 규제가 커진다. C의 기본값은 1이다. 여기에서는 규제를 조금 완하하기 위해 20으로 늘리겠다.**\n",
    "\n",
    "다음 코드는 LogisticRegression 클래스로 다중 분류 모델을 훈련하는 코드이다. 7개의 생선 데이터가 모두 들어 있는 train_scaled와 train_target을 사용한 점을 눈여겨 보자."
   ]
  },
  {
   "cell_type": "code",
   "execution_count": 22,
   "id": "2d749be1",
   "metadata": {},
   "outputs": [
    {
     "name": "stdout",
     "output_type": "stream",
     "text": [
      "0.9327731092436975\n",
      "0.925\n"
     ]
    }
   ],
   "source": [
    "lr = LogisticRegression(C=20, max_iter = 1000) # 규제를 완화하고 반복수를 늘림\n",
    "lr.fit(train_scaled, y_train)\n",
    "print(lr.score(train_scaled, y_train))\n",
    "print(lr.score(test_scaled, y_test)) # 적절함을 볼 수 있음"
   ]
  },
  {
   "cell_type": "code",
   "execution_count": 23,
   "id": "5f1bb11d",
   "metadata": {},
   "outputs": [
    {
     "name": "stdout",
     "output_type": "stream",
     "text": [
      "['Perch' 'Smelt' 'Pike' 'Roach' 'Perch']\n"
     ]
    }
   ],
   "source": [
    "print(lr.predict(test_scaled[:5])) # 인덱싱을 해주면 2차원 배열로"
   ]
  },
  {
   "cell_type": "code",
   "execution_count": 24,
   "id": "9c0620da",
   "metadata": {},
   "outputs": [
    {
     "name": "stdout",
     "output_type": "stream",
     "text": [
      "[[0.    0.014 0.841 0.    0.136 0.007 0.003]\n",
      " [0.    0.003 0.044 0.    0.007 0.946 0.   ]\n",
      " [0.    0.    0.034 0.935 0.015 0.016 0.   ]\n",
      " [0.011 0.034 0.306 0.007 0.567 0.    0.076]\n",
      " [0.    0.    0.904 0.002 0.089 0.002 0.001]]\n"
     ]
    }
   ],
   "source": [
    "proba = lr.predict_proba(test_scaled[:5])\n",
    "print(np.round(proba, decimals=3))\n",
    "# 5개 샘플(5행), 7개 생선(7열)\n",
    "# 이진 분류인 경우는 2개의 열만 있었음\n",
    "# 이중 가장 높은 확률을 가진 생선으로 예측"
   ]
  },
  {
   "cell_type": "code",
   "execution_count": 25,
   "id": "216d0808",
   "metadata": {},
   "outputs": [
    {
     "name": "stdout",
     "output_type": "stream",
     "text": [
      "['Bream' 'Parkki' 'Perch' 'Pike' 'Roach' 'Smelt' 'Whitefish']\n"
     ]
    }
   ],
   "source": [
    "print(lr.classes_)"
   ]
  },
  {
   "cell_type": "code",
   "execution_count": 26,
   "id": "e66f4202",
   "metadata": {},
   "outputs": [
    {
     "name": "stdout",
     "output_type": "stream",
     "text": [
      "(7, 5) (7,)\n"
     ]
    }
   ],
   "source": [
    "print(lr.coef_.shape, lr.intercept_.shape)\n",
    "# 5개의 특성을 사용하므로 coef_ 배열의 열은  5개\n",
    "# 보면 intercept_ 7개 coef의 행도 7개 \n",
    "# 이유는 7개의 생선에 대한 z 값을 모두 구하는 것임"
   ]
  },
  {
   "cell_type": "markdown",
   "id": "a9629bb4",
   "metadata": {},
   "source": [
    "5개의 특성을 사용하므로 coef_ 배열의 열은  5개\n",
    "\n",
    "보면 intercept_ 7개 coef의 행도 7개 \n",
    "\n",
    "이유는 7개의 생선에 대한 z 값을 모두 구하는 것임\n",
    "\n",
    "다중 분류는 **소프트맥스(softmax)** 함수를 사용하여 7개의 z 값을 확률로 변환해준다\n",
    "\n",
    "소프트맥스 함수란?\n",
    "\n",
    "- 시그모이드 함수는 하나의 선형 방정식의 출력값을 0-1사이로 압축한다. 이와 달리 소프트맥스 함수는 여러 개의 선형 방정식의 출력값을 0~1사이로 압축하고 전체 합이 1이 되도록 만든다. 이를 위해 지수 함수를 사용하기 때문에 정규화된 지수 함수라고도 부른다.\n",
    "\n",
    "시그모이드 함수와 소프트맥스 함수가 중요한가?\n",
    "\n",
    "- 시그모이드 함수와 소프트맥스 함수를 왜 이렇게 자세히 공부하는지 궁금할 수 있다. 사이킷런에서 자동으로 계산해 주지만 이 두함수는 나중에 신경망을 배울 때 또다시 등장한다. 여기에서 자세히 익혀두면 나중에 신경망을 배울 때 훨 씬 더 잘 이해할 수 있다."
   ]
  },
  {
   "cell_type": "markdown",
   "id": "8af20584",
   "metadata": {},
   "source": [
    "e_sum = e^z1 ~ e^z7 까지의 합 (여기서는 7개의 생선)\n",
    "\n",
    "s1 = e^z1 / e_sum , ... , e^z7 / e_sum\n",
    "\n",
    "s1~s7 까지 모두 더하면 분자 분모가 같아져 1이 됨 -> 7개 생선에 대한 확률의 합은 1이 되어야 하므로 잘 맞는다"
   ]
  },
  {
   "cell_type": "code",
   "execution_count": 30,
   "id": "f09d130a",
   "metadata": {},
   "outputs": [
    {
     "name": "stdout",
     "output_type": "stream",
     "text": [
      "[[ -6.5    1.03   5.16  -2.73   3.34   0.33  -0.63]\n",
      " [-10.86   1.93   4.77  -2.4    2.98   7.84  -4.26]\n",
      " [ -4.34  -6.23   3.17   6.49   2.36   2.42  -3.87]\n",
      " [ -0.68   0.45   2.65  -1.19   3.26  -5.75   1.26]\n",
      " [ -6.4   -1.99   5.82  -0.11   3.5   -0.11  -0.71]]\n"
     ]
    }
   ],
   "source": [
    "decisions = lr.decision_function(test_scaled[:5])\n",
    "print(np.round(decisions, decimals=2)) # 쌤플 5개에 대한 z 값을 decision_function 으로 구했음"
   ]
  },
  {
   "cell_type": "markdown",
   "id": "615eb34c",
   "metadata": {},
   "source": [
    "사이파이는 소프트 맥스 함수도 제공한다"
   ]
  },
  {
   "cell_type": "code",
   "execution_count": 33,
   "id": "d399ebee",
   "metadata": {},
   "outputs": [
    {
     "name": "stdout",
     "output_type": "stream",
     "text": [
      "[[0.    0.014 0.841 0.    0.136 0.007 0.003]\n",
      " [0.    0.003 0.044 0.    0.007 0.946 0.   ]\n",
      " [0.    0.    0.034 0.935 0.015 0.016 0.   ]\n",
      " [0.011 0.034 0.306 0.007 0.567 0.    0.076]\n",
      " [0.    0.    0.904 0.002 0.089 0.002 0.001]]\n"
     ]
    }
   ],
   "source": [
    "from scipy.special import softmax\n",
    "proba = softmax(decisions, axis=1)\n",
    "print(np.round(proba, decimals=3))"
   ]
  },
  {
   "cell_type": "markdown",
   "id": "96eae64d",
   "metadata": {},
   "source": [
    "softmax() 의 axis 는 소프트맥스를 계산학 축을 지정한다.\n",
    "\n",
    "axis = 1 이면 각 행, 즉 각 샘플에 대해 소프트맥스를 계산\n",
    "\n",
    "위에서 모델로 predict_proba 한 결과와 동일함"
   ]
  },
  {
   "cell_type": "code",
   "execution_count": null,
   "id": "9187a9be",
   "metadata": {},
   "outputs": [],
   "source": []
  }
 ],
 "metadata": {
  "kernelspec": {
   "display_name": "Python 3 (ipykernel)",
   "language": "python",
   "name": "python3"
  },
  "language_info": {
   "codemirror_mode": {
    "name": "ipython",
    "version": 3
   },
   "file_extension": ".py",
   "mimetype": "text/x-python",
   "name": "python",
   "nbconvert_exporter": "python",
   "pygments_lexer": "ipython3",
   "version": "3.11.2"
  }
 },
 "nbformat": 4,
 "nbformat_minor": 5
}
