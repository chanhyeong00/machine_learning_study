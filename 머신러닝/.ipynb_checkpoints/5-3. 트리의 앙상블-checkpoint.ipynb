{
 "cells": [
  {
   "cell_type": "markdown",
   "id": "a6a99cf8",
   "metadata": {},
   "source": [
    "### 정형 데이터와 비정형 데이터"
   ]
  },
  {
   "cell_type": "markdown",
   "id": "d8bb9146",
   "metadata": {},
   "source": [
    "랜덤 포레스트에 대해 배우기 전에 잠시 우리가 다루었던 데이터를 되돌아보겠다. 4장까지는 생선의 길이,높이,무게 등을 데이터로 사용했다.이 데이터는 CSV 파일에 가지런히 정리되어 있었다. 또 이번 장에서 사용한 와인 데이터도 CSV파일이 있었다.\n",
    "\n",
    "이런 형태의 데이터를 ***정형 데이터(structure data)*** 라고 부른다. 쉽게 말해 어떤 구조로 되어 있다는 뜻이다. 이런 데이터는 CSV나 데이터베이스 Database, 혹은 엑셀 Excel에 저장하기 쉽다.\n",
    "\n",
    "온라인 쇼핑몰에 진열된 상품과 우리가 구매한 쇼핑 정보는 모두 데이터베이스에 저장되는 정형 데이터에 속한다. 사실 프로그래머가 다루는 대부분의 데이터가 정형 데이터이다. 정형 데이터의 반대도 있겠네요? 네, 이와 반대되는 데이터를 ***비정형 데이터 (unstructured data)*** 라고 부른다.\n",
    "\n",
    "비정형 데이터는 데이터베이스나 엑셀로 표현하기 어려운 것들이다. 우리 주위에서 찾아보면 이책의 글과 같은 텍스트 데이터, 디지털 카메라로 찍은 사진, 핸드폰으로 듣느 디지털 음악 등이 있다.\n",
    "\n",
    "-텍스트나 사진을 데이터베이스에 저장할 수는 없나요?\n",
    "- 아니요. 저장할 수도 있다. 다만 여기에서는 보편적인 사례를 설명한 것이다. 데이터베이스 중에는 구조적이지 않은 데이터를 저장하는 데 편리하도록 발전한 것이 많다. 대표적으로 NoSQL 데이터베이스는 엑셀이나 CSV에 담기 어려운 텍스트나 JSON 데이터를 저장하는데 용이하다."
   ]
  },
  {
   "cell_type": "markdown",
   "id": "c8039fc9",
   "metadata": {},
   "source": [
    "지금까지 배운 머신러닝 알고리즘은 정형 데이터에 잘맞는다. 그중에 정형 데이터를 다루는 데 가장 뛰어난 성과를 내는 알고리즘이 ***앙상블 학습(ensemble learning)*** 이다. 이 알고리즘은 대부분 결정트리를 기반으로 만들어져 있다. 바로 이 절에서 배울 알고리즘들이 앙상블 학습에 속한다.\n",
    "\n",
    "그럼 비정형 데이터에는 어떤 알고리즘을 사용해야 할까? 바로 7장에서 배울 신경망 알고리즘이다. 비정형 데이터는 규칙성을 찾기 어려워 전통적인 머신러닝 방법으로는 모델을 만들기 까다롭다. 하지만 신경망 알고리즘의 놀라운 발전 덕분에 사진을 인식하고 텍스트를 이해하는 모델을 만들 수 있다.\n",
    "\n",
    "이제 사이킷런에서 제공하는 정형 데이터의 끝판왕인 앙상블 학습 알고리즘을 알아보겠다."
   ]
  },
  {
   "cell_type": "markdown",
   "id": "ece6a29c",
   "metadata": {},
   "source": [
    "### 랜덤 포레스트"
   ]
  },
  {
   "cell_type": "markdown",
   "id": "c68bdcb2",
   "metadata": {},
   "source": [
    "***랜덤 포레스트(Random Forest)*** 는 앙상블 학습의 대표 주자 중 하나로 안정적인 성능 덕분에 널리 사용되고 있다. 앙상블 학습을 적용할 때 가장 먼저 랜덤 포레스트를 시도해 보길 권한다.\n",
    "\n",
    "이름 자체로 유추할 수 있듯이 랜덤 포레스트는 결정 트리를 랜덤하게 만들어 결정 트리(나무)의 숲을 만든다.그리고 각 결정 트리의 에측을 사용해 최종 예측을 만든다. 그럼 랜덤 포레스트가 어떻게 숲을 구성하는지 관찰해 보자.(265p)\n",
    "\n",
    "먼저 랜덤 포레스트는 각 트리를 훈련하기 위한 데이터를 랜덤하게 만드는데, 이 데이터를 만드는 방법이 독특하다. 우리가 입력한 훈련 데이터에서 랜덤하게 샘플을 추출하여 훈련 데이터를 만든다. 이때 한 샘플이 중복되어 추출될 수도 있다.\n",
    "\n",
    "예를 들어 1,000개 가방에서 100개씩 샘플을 뽑는다면 먼저 1개를 뽑고, 뽑았던 1개를 다시 가방에 넣는다. 이런 식으로 계속해서 100개를 가방에서 뽑으면 중복된 샘플을 뽑을 수 있다. 이렇게 만들어진 샘플을 ***부트스트랩 샘플(bootstrap sample)*** 라고 부른다. \n",
    "##### 기본적으로 부트스트랩 샘플은 훈련 세트의 크기와 같게 만든다. 1,000개 가방에서 중복하여 1,000개의 샘플을 뽑기 때문에 부트스트랩 샘플은 훈련 세트와 크기가 같다.\n",
    "\n",
    "-부트스트랩이 뭔가요?\n",
    "- 보통 부트스트랩 방식이라고 하는데, ***데이터 세트에서 중복을 허용하여 데이터를 샘플링하는 방식을 의미한다.*** 본문에서 설명한 것처럼 1,000개의 샘플이 있을 때 먼저 1개를 뽑고, 다시 가방에 넣어 그다음 샘플을 뽑는 방식을 뜻하는 거다. 부트스트랩 샘플이란 결국 부트스트랩 방식으로 샘플링하여 분류한 데이터라는 의미이다."
   ]
  },
  {
   "cell_type": "markdown",
   "id": "ad8ca59b",
   "metadata": {},
   "source": [
    "또한 각 노드를 분할할 때 전체 특성 중에서 일부 특성을 무작위로 고른 다음 이 중에서 최선의 분할을 찾는다. \n",
    "##### \"분류 모델\"인 RandomForestClassifier는 기본적으로 전체 특성 개수의 제곱근만큼의 특성을 선택한다. 즉 4개의 특성이 있다면 노드마다 2개를 랜덤하게 선택하여 사용한다. 다만 \"회귀 모델\"인 RandomForestRegressor는 전체 특성을 사용한다.\n",
    "\n",
    "사이킷런의 랜덤 포레스트는 기본적으로 100개의 결정 트리를 이런 방식으로 훈련한다. 그다음 분류일 때는 각 트리의 클래스별 확률을 평균하여 가장 높은 확률을 가진 클래스를 예측으로 삼는다. 회귀일 때는 단순히 각 트리의 예측을 평균한다.\n",
    "\n",
    "분류와 회귀를 다시 살펴보자\n",
    "\n",
    "지도 학습 알고리즘을 다루면서 분류와 회귀를 설명했다. 분류는 샘플을 몇개의 클래스 중 하나로 분류하는 문제고, 회귀는 임의의 어떤 숫자를 예측하는 문제였다.\n",
    "\n",
    "랜덤 포레스트는 랜덤하게 선택한 샘플과 특성을 사용하기 때문에 훈련 세트에 과대적합되는 것을 막아주고 검증 세트와 테스트 세트에서 안정적인 성능을 얻을 수 있다. 종종 기본 매개변수 설정만으로도 아주 좋은 결과를 낸다.\n",
    "\n",
    "그럼 사이킷런의 RandomForestClassifier 클래스를 화이트 와인을 분류하는 문제에 적용해 보자. 먼저 이전 절에서 했던 것처럼 와인 데이터셋을 판다스로 불러오고 훈련 세트와 테스트 세트로 나눈다."
   ]
  },
  {
   "cell_type": "code",
   "execution_count": 1,
   "id": "4db3b4cf",
   "metadata": {},
   "outputs": [],
   "source": [
    "import numpy as np\n",
    "import pandas as pd\n",
    "from sklearn.model_selection import train_test_split\n",
    "\n",
    "wine = pd.read_csv('https://bit.ly/wine_csv_data')\n",
    "data = wine[['alcohol', 'sugar', 'pH']].to_numpy()\n",
    "target = wine['class'].to_numpy()\n",
    "X_train, X_test, y_train, y_test = train_test_split(data, target, test_size=0.2, random_state=42)"
   ]
  },
  {
   "cell_type": "markdown",
   "id": "ce9b38c3",
   "metadata": {},
   "source": [
    "cross_validate() 함수를 사용해 교차 검증을 수행해 보겠다. \n",
    "\n",
    "RandomForestClassifier 는 기본적으로 100개의 결정 트리를 사용하므로 n_jobs 매개변수를 -1로 지정하여 모든 CPU 코어를 사용하는 것이 좋다. cross_validate() 함수의 n_jobs 매개변수도 -1로 지정하여 최대한 병렬로 교차 검증을 수행하겠다.\n",
    "\n",
    "##### 또 return_train_score 매개변수를 True로 지정하면 검증 점수뿐만 아니라 훈련 세트에 대한 점수도 같이 반환한다. \n",
    "훈련 세트와 검증 세트의 점수를 비교하면 과대적합을 파악하는데 용이하다. (return_train_score 매개변수의 기본값은 False이다.)"
   ]
  },
  {
   "cell_type": "code",
   "execution_count": 2,
   "id": "1f9b9d16",
   "metadata": {},
   "outputs": [
    {
     "name": "stdout",
     "output_type": "stream",
     "text": [
      "0.9973541965122431 0.8905151032797809\n"
     ]
    }
   ],
   "source": [
    "from sklearn.model_selection import cross_validate\n",
    "from sklearn.ensemble import RandomForestClassifier\n",
    "\n",
    "rf = RandomForestClassifier(n_jobs=-1, random_state=42)\n",
    "scores = cross_validate(rf, X_train, y_train, return_train_score=True, n_jobs=-1)\n",
    "print(np.mean(scores['train_score']), np.mean(scores['test_score']))"
   ]
  },
  {
   "cell_type": "code",
   "execution_count": 3,
   "id": "52ebb845",
   "metadata": {},
   "outputs": [
    {
     "data": {
      "text/plain": [
       "{'fit_time': array([0.157902  , 0.15558982, 0.15451598, 0.15758681, 0.15873194]),\n",
       " 'score_time': array([0.02968693, 0.02368307, 0.02241802, 0.02709126, 0.02462196]),\n",
       " 'test_score': array([0.88461538, 0.88942308, 0.90279115, 0.88931665, 0.88642926]),\n",
       " 'train_score': array([0.9971133 , 0.99663219, 0.9978355 , 0.9973545 , 0.9978355 ])}"
      ]
     },
     "execution_count": 3,
     "metadata": {},
     "output_type": "execute_result"
    }
   ],
   "source": [
    "scores # 확인용"
   ]
  },
  {
   "cell_type": "markdown",
   "id": "fe86387d",
   "metadata": {},
   "source": [
    "출력된 결과를 보면 훈련 세트에 다소 과대적합된 것 같다. 여기에서는 알고리즘을 조사하는 것이 목적이므로 매개변수를 더 조정하지 않도록 하겠다.\n",
    "\n",
    "- 사실 이 예제는 매우 간단하고 특성이 많지 않아 그리드 서치를 사용하더라도 하이퍼파라미터 튜닝의 결과가 크게 나아지지 않는다."
   ]
  },
  {
   "cell_type": "markdown",
   "id": "28b02876",
   "metadata": {},
   "source": [
    "랜덤 포레스트 결정 트리의 앙상블이기 때문에 DecisionTreeClassifier가 제공하는 중요한 매개 변수를 모두 제공한다. \n",
    "\n",
    "criterion, max_depth, max_feature, min_samples_split, min_impurity_decrease, min_samples_leaf 등이다. \n",
    "\n",
    "또한 결정 트리의 큰 장점 중 하나인 특성 중요도를 계산한다. 랜덤 포레스트의 특성 중요도는 각 결정 트리의 특성 중요도를 취합한 것이다. 앞의 랜덤 포레스트 모델을 훈련 세트에 훈련한 후 특성 중요도를 출력해 보자."
   ]
  },
  {
   "cell_type": "code",
   "execution_count": 4,
   "id": "2799c52c",
   "metadata": {},
   "outputs": [
    {
     "name": "stdout",
     "output_type": "stream",
     "text": [
      "[0.23167441 0.50039841 0.26792718]\n"
     ]
    }
   ],
   "source": [
    "rf.fit(X_train, y_train)\n",
    "print(rf.feature_importances_) # 특성 중요도"
   ]
  },
  {
   "cell_type": "markdown",
   "id": "3e9aae2c",
   "metadata": {},
   "source": [
    "이 결과를 앞의 1절 '결정 트리'에서 만든 특성 중요도와 비교해보자. 결정트리에서 특성 중요도는 다음과 같았다.\n",
    "\n",
    "0.12345626 , 0.86862934 , 0.0079144\n",
    "\n",
    "각각 [알코올 도수, 당도, PH]였는데, 두 번째 특성인 당도의 중요도가 감소하고 알코올 도수와 PH특성의 중요도가 조금 상승했다.\n",
    "\n",
    "이런 이유는 랜덤 포레스트가 특성의 일부를 랜덤하게 선택하여 결정 트리를 훈련하기 때문이다. 그 결과 하나의 특성에 과도하게 집중하지 않고 좀 더 많은 특성이 훈련에 기여할 기회를 얻는다. 이는 과대적합을 줄이고 일반화 성능을 높이는데 도움이 된다.\n",
    "\n",
    "RandomForestClassifier에는 재미있는 기능이 하나 더 있는데, 자체적으로 모델을 평가하는 점수를 얻을 수 있다. 랜덤 포레스트는 훈련 세트에서 중복을 허용하여 부트스트랩 샘플을 만들어 결정 트리를 훈련한다고 했다. \n",
    "\n",
    "이때 부트스트랩 샘플에 포함되지 않고 남는 샘플이 있다(*랜덤으로 뽑히지 않은 샘플들). 이런 샘플을 ***OOB (out of bag) 샘플*** 이라고 한다. 이 남는 샘플을 사용하여 부트스트랩 샘플로 훈련한 결정 트리를 평가할 수 있다. 마치 검증 세트의 역할을 하는 것이다.\n",
    "\n",
    "이 점수를 얻으려면 RandomForestClassifier 클래스의 ***oob_score 매개변수를 True***로 지정해야 한다.(이 매개변수의 기본값은 False이다.) 이렇게 하면 랜덤 포레스트는 각 결정 트리의 OOB 점수를 평균하여 출력한다. oob_score = True로 지정하고 모델을 훈련하여 OOB 점수를 출력해 보겠다."
   ]
  },
  {
   "cell_type": "code",
   "execution_count": 5,
   "id": "d75e41f2",
   "metadata": {},
   "outputs": [
    {
     "name": "stdout",
     "output_type": "stream",
     "text": [
      "0.8934000384837406\n"
     ]
    }
   ],
   "source": [
    "rf = RandomForestClassifier(oob_score=True, n_jobs=-1, random_state=42)\n",
    "rf.fit(X_train, y_train)\n",
    "print(rf.oob_score_) "
   ]
  },
  {
   "cell_type": "markdown",
   "id": "f66f4ca7",
   "metadata": {},
   "source": [
    "교차 검증에서 얻은 점수와 매우 비슷한 결과를 얻었다. (테스트 세트 점수와 비슷, 두번째가 테스트세트)\n",
    "\n",
    "0.9973541965122431 0.8905151032797809\n",
    "\n",
    "OOB 점수를 사용하면 교차 검증을 대신할 수 있어서 결과적으로 훈련 세트에 더 많은 샘플을 사용할 수 있다.\n",
    "\n",
    "다음에 알아볼 앙상블 학습은 랜덤 포레스트와 아주 비슷한 엑스트라 트리 이다"
   ]
  },
  {
   "cell_type": "markdown",
   "id": "0eda898e",
   "metadata": {},
   "source": [
    "### 엑스트라 트리"
   ]
  },
  {
   "cell_type": "markdown",
   "id": "a78f68ec",
   "metadata": {},
   "source": [
    "***엑스트라 트리(Extra Tree)*** 는 랜덤 포레스트와 매우 비슷하게 동작한다. 기본적으로 100개의 결정 트리를 훈련한다. 랜덤 포레스트와 동일하게 결정 트리가 제공하는 대부분의 매개변수를 지원한다. 또한 전체 특성 중에 일부 특성을 랜덤하게 선택하여 노드를 분할하는 데 사용 한다.\n",
    "\n",
    "##### 랜덤 포레스트와 엑스트라 트리의 차이점은 부트스트랩 샘플을 사용하지 않는다는 점이다.  즉각 결정 트리를 만들 때 전체 훈련 세트를 사용한다. \n",
    "대신 노드를 분할할 때 가장 좋은 분할을 찾는 것이 아니라 무작위로 분할한다! 실은 빼먹지 않고 책의 구석구석을 따라 읽고 실습했다면 이미 여러분은 엑스트라 트리를 조금 맛보았다. 2절의 확인 문제에서 DecisionTreeClassifier의 splitter 매개변수를 'random'으로 지정했다. ***엑스트라 트리가 사용하는 결정 트리가 바로 splitter='random'인 결정 트리이다.***\n",
    "\n",
    "하나의 결정 트리에서 특성을 무작위로 분할 한다면 성능이 낮아지겠지만 많은 트리를 앙상블 하기때문에 과대적합을 막고 검증 세트의 점수를 높이는 효과가 있다. 사이킷런에서 제공하는 엑스트라 트리는 ExtraTreeClassifier 이다. 이 모델의 교차 검증 점수를 확인해 보자."
   ]
  },
  {
   "cell_type": "code",
   "execution_count": 6,
   "id": "eb0698fe",
   "metadata": {},
   "outputs": [
    {
     "name": "stdout",
     "output_type": "stream",
     "text": [
      "0.9974503966084433 0.8887848893166506\n"
     ]
    }
   ],
   "source": [
    "from sklearn.ensemble import ExtraTreesClassifier\n",
    "et = ExtraTreesClassifier(n_jobs=-1, random_state=42)\n",
    "scores = cross_validate(et, X_train, y_train, return_train_score=True, n_jobs=-1)\n",
    "print(np.mean(scores['train_score']), np.mean(scores['test_score']))"
   ]
  },
  {
   "cell_type": "markdown",
   "id": "792b7afd",
   "metadata": {},
   "source": [
    "랜덤 포레스트와 비슷한 결과를 얻었다. 이 예제는 특성이 많지 않아 두 모델의 차이가 크지 않다. 보통 엑스트라 트리가 무작위성이 좀 더 크기 때문에 랜덤 포레스트보다 더 많은 결정 트리를 훈련해야 한다. 하지만 랜덤하게 노드를 분할하기 때문에 빠른 계산 속도가 엑스트라 트리의 장점이다.\n",
    "\n",
    "- 결정 트리는 최적의 분할을 찾는 데 시간을 많이 소모한다. 특히 고려해야 할 특성의 개수가 많을 때 더 그렇다. 만약 무작위로 나눈다면 훨씬 빨리 트리를 구성할 수 있다."
   ]
  },
  {
   "cell_type": "markdown",
   "id": "81ff88dc",
   "metadata": {},
   "source": [
    "엑스트라 트리도 랜덤 포레스트와 마찬가지로 특성 중요도를 제공한다. 순서는 [알코올 도수, 당도, PH]인데, 결과를 보면 엑스트라 트리도 결정 트리보다 당도에 대한 의존성이 작다."
   ]
  },
  {
   "cell_type": "code",
   "execution_count": 7,
   "id": "3e6a2f9d",
   "metadata": {},
   "outputs": [
    {
     "name": "stdout",
     "output_type": "stream",
     "text": [
      "[0.20183568 0.52242907 0.27573525]\n"
     ]
    }
   ],
   "source": [
    "et.fit(X_train, y_train)\n",
    "print(et.feature_importances_)"
   ]
  },
  {
   "cell_type": "markdown",
   "id": "0df01334",
   "metadata": {},
   "source": [
    "엑스트라 트리의 회귀 버전은 ExtraTreeRegressor 클래스이다.\n",
    "\n",
    "지금까지 비슷하지만 조금 다른 2개의 앙상블 학습을 알아보았다. 다음에는 이 둘과 다른방식을 사용하는 앙상블 학습을 알아보겠다. 먼저 그레이디언트 부스팅이다."
   ]
  },
  {
   "cell_type": "markdown",
   "id": "60b8592f",
   "metadata": {},
   "source": [
    "### 그레이디언트 부스팅\n",
    "\n",
    "***그레이디언트 부스팅(gradient boosting)*** 은 깊이가 얕은 결정 트리를 사용하여 이전 트리의 오차를 보완하는 방식으로 앙상블 하는 방법이다. 사이킷런의 GradientBoostingClassifier 는 기본적으로 **깊이가 3인 결정트리를 100개 사용한다.** \n",
    "\n",
    "-깊이가 얕은 결정 트리를 사용하기 때문에 과대적합에 강하고 일반적으로 높은 일반화 성능을 기대할 수 있다."
   ]
  },
  {
   "cell_type": "markdown",
   "id": "ba5d1858",
   "metadata": {},
   "source": [
    "##### 그레이디언트란 이름에서 눈치챘을지 모르지만 4장에서 배웠던 경사 하강법을 사용하여 트리를 앙상블레 추가한다. 분류에서는 로지스틱 손실 함수를 사용하고 회귀에서는 평균 제곱 오차 함수를 사용한다.\n",
    "\n",
    "4장에서 경사 하강법은 손실 함수를 산으로 정의하고 가장 낮은 곳을 찾아 내려오는 과정으로 설명했다. ***이때 가장 낮은 곳을 찾아 내려오는 방법은 모델의 가중치와 절편을 조금씩 바꾸는 것이다.*** 그레이디언트 부스팅은 ***결정 트리를 계속 추가하면서 가장 낮은 곳을 찾아 이동한다.*** \n",
    "\n",
    "혹시 4장에서 손실 함수의 낮은 곳으로 천천히 조금씩 이동해야 한다고 말한 것을 기억하나요? 그레이디언트 부스팅도 마찬가지이다. 그래서 깊이가 얕은 트리를 사용하는 거다. 또 학습률 매개변수로 속도를 조절한다.\n",
    "\n",
    "그레이디언트 부스팅의 개념에 대해 살펴 보았으니 이제 사이킷런에서 제공하는 GradientBoostingClassifier를 사용해 와인 데이터셋의 교차 검증 점수를 확인해 보자."
   ]
  },
  {
   "cell_type": "code",
   "execution_count": 8,
   "id": "f2a9d8ee",
   "metadata": {},
   "outputs": [
    {
     "name": "stdout",
     "output_type": "stream",
     "text": [
      "0.8881086892152563 0.8720430147331015\n"
     ]
    }
   ],
   "source": [
    "from sklearn.ensemble import GradientBoostingClassifier\n",
    "\n",
    "gb = GradientBoostingClassifier(random_state=42)\n",
    "scores = cross_validate(gb, X_train, y_train, return_train_score=True, n_jobs=-1)\n",
    "print(np.mean(scores['train_score']), np.mean(scores['test_score']))"
   ]
  },
  {
   "cell_type": "markdown",
   "id": "68567449",
   "metadata": {},
   "source": [
    "거의 과대적합이 되지 않았다. 그레이디언트 부스팅은 결정 트리의 개수를 늘려도 과대적합에 매우 강하다. 학습률을 증가시키고 트리의 개수를 늘리면 조금 더 성능이 향상될 수 있다."
   ]
  },
  {
   "cell_type": "code",
   "execution_count": 9,
   "id": "6faf2a77",
   "metadata": {},
   "outputs": [
    {
     "name": "stdout",
     "output_type": "stream",
     "text": [
      "0.9464595437171814 0.8780082549788999\n"
     ]
    }
   ],
   "source": [
    "gb = GradientBoostingClassifier(n_estimators=500, learning_rate=0.2, random_state=42)\n",
    "scores = cross_validate(gb, X_train, y_train, return_train_score=True, n_jobs=-1)\n",
    "print(np.mean(scores['train_score']), np.mean(scores['test_score']))"
   ]
  },
  {
   "cell_type": "markdown",
   "id": "61895546",
   "metadata": {},
   "source": [
    "결정 트리 개수를 500개로 5배나 늘렸지만 과대적합을 잘 억제하고 있다. \n",
    "\n",
    "학습률 learning_rate 의 기본값은 0.1이다. 그레이디언트 부스팅도 특성 중요도를 제공한다. 결과에서 볼 수 있듯이 그레이디언트 부스팅이 랜덤 포레스트보다 일부 특성(당도)에 더 집중 한다."
   ]
  },
  {
   "cell_type": "code",
   "execution_count": 10,
   "id": "be1a7098",
   "metadata": {},
   "outputs": [
    {
     "name": "stdout",
     "output_type": "stream",
     "text": [
      "[0.15872278 0.68010884 0.16116839]\n"
     ]
    }
   ],
   "source": [
    "gb.fit(X_train, y_train)\n",
    "print(gb.feature_importances_)"
   ]
  },
  {
   "cell_type": "markdown",
   "id": "e25010f0",
   "metadata": {},
   "source": [
    "재미있는 매개변수가 하나 있다. 트리 훈련에 사용할 훈련 세트의 비율을 정하는 ***subsample***이다. 이 매개변수의 기본값은 1.0으로 전체 훈련 세트를 사용한다. 하지만 subsampledl 1보다 작으면 훈련 세트의 일부를 사용한다. ***이는 마치 경사 하강법 단계마다 일부 샘플을 랜덤하게 선택하여 진행하는 확률적 경사 하강법이나 미니배치 경사 하강법과 비슷하다.***\n",
    "\n",
    "\n",
    "##### 일반적으로 그레이디언트 부스팅 랜덤 포레스트보다 조금 더 높은 성능을 얻을 수 있다. 하지만 순서대로 트리를 추가하기 때문에 훈련 속도가 느리다. 즉 GradientBoostingClassifier에는 n_jobs 매개변수가 없다. \n",
    "그레이디언트 부스팅의 회귀 버전은 GradientBoostingRegressor이다. 그레이디언트 부스팅의 속도와 성능을 더욱 개선한 것이 다음에 살펴볼 히스토그램 기반 그레이디언트 부스팅이다."
   ]
  },
  {
   "cell_type": "markdown",
   "id": "97a8663f",
   "metadata": {},
   "source": [
    "### 히스토그램 기반 그레이디언트 부스팅\n",
    "***히스토그램 기반 그레이디언트 부스팅(Histogram based Gradient Boosting)*** 은 정형 데이터를 다루는 머신러닝 알고리즘 중에 가장 인기가 높은 알고리즘이다. 히스토그램 기반 그레이디언트 부스팅은 먼저 입력 특성을 256개의 구간으로 나눈다. 따라서 노드를 분할할 때 최적의 분할을 매우 빠르게 찾을 수 있다.\n",
    "\n",
    "히스토그램 기반 그레이디언트 부스팅은 256개의 구간 중에서 하나를 떼어 놓고 누락된 값을 위해서 사용한다. 따라서 입력에 누락된 특성이 있더라도 이를 따로 전처리할 필요가 없다."
   ]
  },
  {
   "cell_type": "markdown",
   "id": "05a9a936",
   "metadata": {},
   "source": [
    "사이킷런의 히스토그램 기반 그레이디언트 부스팅 클래스는 ***HistGradientBoostingClassifier*** 이다. \n",
    "\n",
    "일반적으로 HistGradientBoostingClassifier는 기본 매개변수에서 안정적인 성능을 얻을 수 있다. HistGradientBoostingClassifier에는 트리의 개수를 지정하는데 n_estimators 대신에 부스팅 반복 횟수를 지정하는 max_iter를 사용한다. 성능을 높이려면 max_iter 매개변수를 테스트해 보자.\n",
    "\n",
    "그럼 와인 데이터세에 HistGradientBoostingClassifier 클래스를 적용해 보자. 사이킷런의 히스토그램 기반 그레이디언트 부스팅은 아직 테스트 과정에 있다. 이 클래스를 사용하려면 sklearn.experimental 패키지 아래에 있는 enable_hist_gradient_boosting 모듈을 임포트해야 한다.\n",
    "\n"
   ]
  },
  {
   "cell_type": "code",
   "execution_count": 11,
   "id": "215fd570",
   "metadata": {},
   "outputs": [
    {
     "name": "stdout",
     "output_type": "stream",
     "text": [
      "0.9321723946453317 0.8801241948619236\n"
     ]
    }
   ],
   "source": [
    "#from sklearn.experimental import enable_hist_gradient_boosting\n",
    "# 사이킷런 1.0에서 히스토그램 기반 부스팅이 experimental 모듈 아래서 벗어낫으므로 enable_hist_gradient_boosting\n",
    "# 모듈을 임포트할 필요가 없다\n",
    "from sklearn.ensemble import HistGradientBoostingClassifier\n",
    "\n",
    "hgb = HistGradientBoostingClassifier(random_state=42)\n",
    "scores = cross_validate(hgb, X_train, y_train, return_train_score=True)\n",
    "print(np.mean(scores['train_score']), np.mean(scores['test_score']))"
   ]
  },
  {
   "cell_type": "markdown",
   "id": "8fb9d1b9",
   "metadata": {},
   "source": [
    "과대적합을 잘 억제하면서 그레이디언트 부스팅보다 조금 더 높은 성능을 제공한다. 특성 중요를 확인해 보자.\n",
    "\n",
    "히스토그램 기반 그레이디언트 부스팅의 특성 중요도를 계산하기 위해 ***permutation_importance()*** 함수를 사용하겠다. \n",
    "\n",
    "이 함수는 특성을 하나씩 랜덤하게 섞어서 모델의 성능이 변화하는지를 관찰하여 어떤 특성이 중요한지를 계산한다. 훈련 세트뿐만 아니라 테스트 세트에도 적용할 수 있고 사이킷런에서 제공하는 추정기 모델에 모두 사용할 수 있다.\n",
    "\n",
    "먼저 히스토그램 기반 그레이디언트 부스팅 모델을 훈련하고 훈련 세트에서 특성 중요도를 계산해보자. \n",
    "##### n_repeats 매개변수는 랜덤하게 섞을 횟수를 지정한다. 여기서는 10으로 지정하겠다. 기본값은 5이다."
   ]
  },
  {
   "cell_type": "code",
   "execution_count": 12,
   "id": "6b3b38cb",
   "metadata": {},
   "outputs": [
    {
     "name": "stdout",
     "output_type": "stream",
     "text": [
      "[0.08876275 0.23438522 0.08027708]\n"
     ]
    }
   ],
   "source": [
    "from sklearn.inspection import permutation_importance\n",
    "\n",
    "hgb.fit(X_train, y_train)\n",
    "result = permutation_importance(hgb, X_train, y_train, n_repeats=10, random_state=42, n_jobs=-1)\n",
    "print(result.importances_mean) # 3개 특성에 대한 중요도"
   ]
  },
  {
   "cell_type": "markdown",
   "id": "3db56ef6",
   "metadata": {},
   "source": [
    "permutation_importance() 함수가 반화하는 객체는 반복하여 얻은 \n",
    "\n",
    "특성 중요도(importances), 평균(importances_mean),표준편차(importances_std)를 담고있다. \n",
    "\n",
    "평균을 출력해 보면 랜덤 포레스트와 비슷한 비율임을 알 수 있다. 이번에는 테스트 세트에서 특성 중요도를 계산해 보겠다."
   ]
  },
  {
   "cell_type": "code",
   "execution_count": 13,
   "id": "00ca9381",
   "metadata": {},
   "outputs": [
    {
     "name": "stdout",
     "output_type": "stream",
     "text": [
      "[0.05969231 0.20238462 0.049     ]\n"
     ]
    }
   ],
   "source": [
    "result = permutation_importance(hgb, X_test, y_test, n_repeats=10, random_state=42, n_jobs=-1)\n",
    "print(result.importances_mean) # 3개 특성에 대한 중요도"
   ]
  },
  {
   "cell_type": "markdown",
   "id": "5507e509",
   "metadata": {},
   "source": [
    "테스트 세트의 결과를 보면 그레이디언트 부스팅과 비슷하게 조금 더 당도에 집중하고 있다는 것을 알 수 있다. 이런 분석을 통해 모델을 실전에 투입했을 때 어떤 특성에 관심을 둘지 예상할 수 있다.\n",
    "\n",
    "그럼 HistGradientBoostingClassifier를 사용해 테스트 세트에서의 성능을 최종적으로 확인해보자."
   ]
  },
  {
   "cell_type": "code",
   "execution_count": 14,
   "id": "1eb4240f",
   "metadata": {},
   "outputs": [
    {
     "data": {
      "text/plain": [
       "0.8723076923076923"
      ]
     },
     "execution_count": 14,
     "metadata": {},
     "output_type": "execute_result"
    }
   ],
   "source": [
    "hgb.score(X_test, y_test)"
   ]
  },
  {
   "cell_type": "markdown",
   "id": "673d2a2e",
   "metadata": {},
   "source": [
    "테스트 세트에서는 약 87% 정확도를 얻었다. 실전에 투입하면 성능은 이보다는 조금 더 낮을 것이다. 앙상블 모델은 확실히 단일 결정 트리보다 좋은 결과를 얻을 수 있다.(기억이 나지 않을 수 있는데 2절의 랜덤 서치에서 테스트 정확도는 86%였다.)\n",
    "\n",
    "***히스토그램 기반 그레이디언트 부스팅의 회귀 버전은 HistGradientBoostingRegressor 클래스에 구현되어 있다.*** 사이킷런에서 제공하는 히스토그램 기반 그레이디언트 부스팅이 비교적 새로운 기능이다. \n",
    "\n",
    "***하지만 사이킷런 말고도 히스토그램 기반 그레이디언트 부스팅 알고리즘을 구현한 라이브러리가 여럿 있다.***"
   ]
  },
  {
   "cell_type": "markdown",
   "id": "de807ba4",
   "metadata": {},
   "source": [
    "##### 가장 대표적인 라이브러리는 XGBoost 이다. \n",
    "놀랍게도 이 라이브러리도 코랩에서 사용할 수 있을 뿐만 아니라 사이킷런의 cross_validate()함수와 함께 사용할 수도 있다. ***XGBoost***는 다양한 부스팅 알고리즘을 지원한다. tree_method 매개변수를 'hist'로 지정하면 히스토그램 기반 그레이디언트 부스팅을 사용할 수 있다. 그럼 XGBoost를 사용해 와인 데이터의 교차 검증 점수를 확인해 보자."
   ]
  },
  {
   "cell_type": "code",
   "execution_count": 15,
   "id": "6ad9e59b",
   "metadata": {},
   "outputs": [],
   "source": [
    "# pip install xgboost"
   ]
  },
  {
   "cell_type": "code",
   "execution_count": 16,
   "id": "9d6ff6b8",
   "metadata": {},
   "outputs": [
    {
     "name": "stdout",
     "output_type": "stream",
     "text": [
      "0.9558403027491312 0.8782000074035686\n"
     ]
    }
   ],
   "source": [
    "from xgboost import XGBClassifier\n",
    "xgb = XGBClassifier(tree_method='hist', random_state=42)\n",
    "scores = cross_validate(xgb, X_train, y_train, return_train_score=True)\n",
    "print(np.mean(scores['train_score']), np.mean(scores['test_score']))"
   ]
  },
  {
   "cell_type": "markdown",
   "id": "8f52032d",
   "metadata": {},
   "source": [
    "##### 널리 사용하는 또 다른 히스토그램 기반 그레이디언트 부스팅 라이브러리는 마이크로소프트에서 만든 LightGBM(2)이다.\n",
    "***LightGBM***은 빠르고 최신 기술을 많이 적용하고 있어 인기가 점점 높아지고 있다."
   ]
  },
  {
   "cell_type": "code",
   "execution_count": 19,
   "id": "d4f00771",
   "metadata": {},
   "outputs": [],
   "source": [
    "#pip install lightgbm\n",
    "\n",
    "# 터미널 창에서 홈브류로 설치"
   ]
  },
  {
   "cell_type": "code",
   "execution_count": 18,
   "id": "b72c8b51",
   "metadata": {},
   "outputs": [
    {
     "name": "stdout",
     "output_type": "stream",
     "text": [
      "0.935828414851749 0.8801251203079884\n"
     ]
    }
   ],
   "source": [
    "from lightgbm import LGBMClassifier\n",
    "lgb = LGBMClassifier(random_state=42)\n",
    "scores = cross_validate(lgb, X_train, y_train, return_train_score=True, n_jobs=-1)\n",
    "print(np.mean(scores['train_score']), np.mean(scores['test_score']))"
   ]
  },
  {
   "cell_type": "markdown",
   "id": "f3f7d628",
   "metadata": {},
   "source": [
    "사실 이 사이킷런의 히스토그램 기반 그레이디언트 부스팅이 LightGBM에서 영향을 많이 받았다. 이제 히스토그램 기반 그레이디언트 부스팅까지 4개의 앙상블을 모두 다루어 보았다."
   ]
  },
  {
   "cell_type": "markdown",
   "id": "84d8f147",
   "metadata": {},
   "source": [
    "더 자세한 내용을 알고싶으면 구글로! (여기서는 많이 다루지 않았음)"
   ]
  }
 ],
 "metadata": {
  "kernelspec": {
   "display_name": "Python 3 (ipykernel)",
   "language": "python",
   "name": "python3"
  },
  "language_info": {
   "codemirror_mode": {
    "name": "ipython",
    "version": 3
   },
   "file_extension": ".py",
   "mimetype": "text/x-python",
   "name": "python",
   "nbconvert_exporter": "python",
   "pygments_lexer": "ipython3",
   "version": "3.11.2"
  }
 },
 "nbformat": 4,
 "nbformat_minor": 5
}
