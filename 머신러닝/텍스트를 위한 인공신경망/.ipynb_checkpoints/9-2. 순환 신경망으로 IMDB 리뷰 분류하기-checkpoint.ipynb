{
 "cells": [
  {
   "cell_type": "markdown",
   "id": "6223922e",
   "metadata": {},
   "source": [
    "### IMDB 리뷰 데이터셋\n",
    "IMDB 리뷰 데이터셋은 유명한 인터넷 영화 데이터베이스인 imdb.com에서 수집한 리뷰를 감상평에 따라 긍정과 부정으로 분류해 놓은 데이터셋이다. 총 50,000개의 샘플로 이루어져 있고 훈련 데이터와 테스트 데이터에 각각 25,000개씩 나누어져 있다.\n",
    "\n",
    "- 자연어 처리와 말뭉치란 무엇인가?\n",
    "    - 자연어 처리(natural language processing, NLP)는 컴퓨터를 사용해 인간의 언어를 처리하는 분야이다. 대표적인 세부 분야로는 음성 인식, 기계번역, 감성 분석등이 있다. IMDB 리뷰를 감성평에 따라 분류하는 작업은 감성 분석에 해당한다. 자연어 처리 분야에서는 훈련 데이터를 종종 말뭉치 corpus라고 부른다. 예를 들어 IMDB 리뷰 데이터셋이 하나의 말뭉치 이다."
   ]
  },
  {
   "cell_type": "markdown",
   "id": "0b0f9ebe",
   "metadata": {},
   "source": [
    "사실 텍스트 자체를 신경망에 전달하지는 않는다. 컴퓨터에서 처리하는 모든 것은 어떤 숫자 데이터이다. 앞서합성곱 신경망에서 이미지를 다룰 때는 특별한 변환을 하지 않는다. 이미지가 정수 픽셀값으로 이루어져 있기 때문이다. 텍스트 데이터의 경우 단어를 숫자 데이터로 바꾸는 일반적인 방법은 데이터에 등장하는 단어마다 고유한 정수를 부여하는 것이다.\n",
    "\n",
    "예를들어 'he'를 10으로 매핑하고 'cat'을 13에 매핑하더라고 'cat'이 'he'보다 좋거나 크다는 뜻이 아니다. 이 정숫값 사이에는 어떤 관계도 없다. 일반적으로 영어 문장은 모두 소문자로 바꾸고 구둣점을 삭제한 다음 공백을 기준으로 분리한다. 이렇게 분리된 단어를 **토큰 token** 이라고 부른다. 하나의 샘플은 여러 개의 토큰으로 이루어져 있고 1개의 토큰이 하나의 타임스탬프에 해당한다.\n",
    "\n",
    "간단한 문제라면 영어 말뭉치에서 토큰을 단어와 같게 봐도 좋다. 한국어는 조금 다르다.\n",
    "\n",
    "- 한글 문장은 어떻게 토큰을 분리하나요?\n",
    "    - 한글은 조사가 발달되어 있기 때문에 공백으로 나누는 것만으로 부족하다. 일반적으로 한글은 형태소 분석을 통해 토큰을 만든다. KoNLPy를 참고"
   ]
  },
  {
   "cell_type": "markdown",
   "id": "a5eff820",
   "metadata": {},
   "source": [
    "토큰에 할당하는 정수 중에 몇 개는 특정한 용도로 예약되어 있는 경우가 많다. 예를 들어 0은 패딩, 1은 문장의 시작, 2는 어휘 사전에 없는 토큰을 나타낸다.\n",
    "\n",
    "- 어휘 사전은 무엇인가?\n",
    "    - 훈련 세트에서 고유한 단어를 뽑아 만든 목록을 어휘 사전이라고 말한다. 예를 들어 테스트 세트 안에 어휘 사전에 없는 단어가 있다면 2로 변환하여 신경망 모델에 주입한다.\n",
    "    \n",
    "실제 IMDB 리뷰 데이터셋은 영어로 된 문장이지만 편리하게도 텐서플로에는 이미 정수로 바꾼 데이터가 포함되어있다. tensorflow.keras.datasets 패키지 아래 imdb 모듈을 임포트하여 이 데이터를 적재해 보겠다. 여기에서는 전체 데이터셋에서 가장 자주 등장하는 단어 300개만 사용하겠다. 이렇게 하기 위해 load_data() 함수의 num_words 매개변수를 300으로 지정한다."
   ]
  },
  {
   "cell_type": "code",
   "execution_count": 1,
   "id": "9d85f01d",
   "metadata": {},
   "outputs": [],
   "source": [
    "from tensorflow.keras.datasets import imdb\n",
    "(X_train, y_train), (X_test, y_test) = imdb.load_data(num_words=300)"
   ]
  },
  {
   "cell_type": "code",
   "execution_count": 2,
   "id": "89f9ad61",
   "metadata": {},
   "outputs": [
    {
     "name": "stdout",
     "output_type": "stream",
     "text": [
      "(25000,) (25000,)\n"
     ]
    }
   ],
   "source": [
    "print(X_train.shape, X_test.shape)"
   ]
  },
  {
   "cell_type": "markdown",
   "id": "19aaf2f0",
   "metadata": {},
   "source": [
    "앞서 말했듯이 이 데이터셋은 훈련 세트와 테스트 세트가 각각 25,000 개의 샘플로 이루어져 있다. \n",
    "\n",
    "그런데 배열이 1차원인 게 이상하지 않나? IMDB 리뷰 텍스트는 길이가 제각각이다. 따라서 고정 크기의 2차원 배열에 담기 보다는 리뷰마다 별도의 파이썬 리스트로 담아야 메모리르 효율적으로 사용할 수 있다. 즉 앞의 그림처럼 이 데이터는 개별 리뷰를 담은 파이썬 리스트 객체로 이루어진 넘파이 배열이다.(p.502)\n",
    "\n",
    "넘파이 배열은 정수가 실수 외에도 파이썬 객체를 담을 수 있다. 그럼 다음과 같이 첫 번째 리뷰의 길이를 출력해 보자."
   ]
  },
  {
   "cell_type": "code",
   "execution_count": 3,
   "id": "7357e63f",
   "metadata": {},
   "outputs": [
    {
     "name": "stdout",
     "output_type": "stream",
     "text": [
      "218\n"
     ]
    }
   ],
   "source": [
    "print(len(X_train[0]))"
   ]
  },
  {
   "cell_type": "markdown",
   "id": "2ed24e6d",
   "metadata": {},
   "source": [
    "첫 번째 리뷰의 길이는 218개의 토큰으로 이루어져 있다. 두 번째 리뷰의 길이를 확인해 보자."
   ]
  },
  {
   "cell_type": "code",
   "execution_count": 4,
   "id": "a0c53f16",
   "metadata": {},
   "outputs": [
    {
     "name": "stdout",
     "output_type": "stream",
     "text": [
      "189\n"
     ]
    }
   ],
   "source": [
    "print(len(X_train[1]))"
   ]
  },
  {
   "cell_type": "markdown",
   "id": "d7302b69",
   "metadata": {},
   "source": [
    "몇 개 더 해볼 수도 있겠지만 리뷰마다 각각 길이가 다르다. 여기서 하나의 리뷰가 하나의 샘플이 된다. \n",
    "\n",
    "서로 다른 길이의 샘플을 어떻게 신경망에 전달하는지 잠시 후 살펴본다. 이제 첫 번째 리뷰에 담긴 내용을 출력해 보자."
   ]
  },
  {
   "cell_type": "code",
   "execution_count": 5,
   "id": "3bcb0252",
   "metadata": {},
   "outputs": [
    {
     "name": "stdout",
     "output_type": "stream",
     "text": [
      "[1, 14, 22, 16, 43, 2, 2, 2, 2, 65, 2, 2, 66, 2, 4, 173, 36, 256, 5, 25, 100, 43, 2, 112, 50, 2, 2, 9, 35, 2, 284, 5, 150, 4, 172, 112, 167, 2, 2, 2, 39, 4, 172, 2, 2, 17, 2, 38, 13, 2, 4, 192, 50, 16, 6, 147, 2, 19, 14, 22, 4, 2, 2, 2, 4, 22, 71, 87, 12, 16, 43, 2, 38, 76, 15, 13, 2, 4, 22, 17, 2, 17, 12, 16, 2, 18, 2, 5, 62, 2, 12, 8, 2, 8, 106, 5, 4, 2, 2, 16, 2, 66, 2, 33, 4, 130, 12, 16, 38, 2, 5, 25, 124, 51, 36, 135, 48, 25, 2, 33, 6, 22, 12, 215, 28, 77, 52, 5, 14, 2, 16, 82, 2, 8, 4, 107, 117, 2, 15, 256, 4, 2, 7, 2, 5, 2, 36, 71, 43, 2, 2, 26, 2, 2, 46, 7, 4, 2, 2, 13, 104, 88, 4, 2, 15, 297, 98, 32, 2, 56, 26, 141, 6, 194, 2, 18, 4, 226, 22, 21, 134, 2, 26, 2, 5, 144, 30, 2, 18, 51, 36, 28, 224, 92, 25, 104, 4, 226, 65, 16, 38, 2, 88, 12, 16, 283, 5, 16, 2, 113, 103, 32, 15, 16, 2, 19, 178, 32]\n"
     ]
    }
   ],
   "source": [
    "print(X_train[0])"
   ]
  },
  {
   "cell_type": "markdown",
   "id": "dc920c83",
   "metadata": {},
   "source": [
    "앞서 설명했듯이 텐서플로에 있는 IMDB 리뷰 데이터는 이미 정수로 변환되어 있다. 앞서 num_words=500으로 지정했기 때문에 어휘 사전에는 500개의 단어만 들어가 있다. 따라서 어휘 사전에 없는 단어는 모두 2로 표시 되어 나타난다.\n",
    "\n",
    "- 어떤 기준으로 500개의 단어를 고른것인가?\n",
    "    - imdb.load_data() 함수는 전체 어휘 사전에 있는 단어를 등장 횟수 순서대로 나열한 다음 가장 많이 등장한 500개의 단어를 선택한다.\n",
    "    \n",
    "이번에는 타깃 데이터를 출력해 보자."
   ]
  },
  {
   "cell_type": "code",
   "execution_count": 6,
   "id": "cb0c14a7",
   "metadata": {},
   "outputs": [
    {
     "name": "stdout",
     "output_type": "stream",
     "text": [
      "[1 0 0 1 0 0 1 0 1 0 1 0 0 0 0 0 1 1 0 1]\n"
     ]
    }
   ],
   "source": [
    "print(y_train[:20])"
   ]
  },
  {
   "cell_type": "markdown",
   "id": "f3752587",
   "metadata": {},
   "source": [
    "해결할 문제는 리뷰가 긍정인지 부정인지를 판단하는 거다. 그러면 이진 분류 문제로 볼 수 있으므로 타깃값이 0(부정)과 1(긍정)로 나누어진다.\n",
    "\n",
    "데이터를 더 살펴보기 전에 훈련 세트에서 검증 세트를 떼어 놓도록 하자. 원래 훈련 세트의 크기가 25,000개였으므로 20%를 검증 세트로 떼어 놓으면 훈련 세트의 크기는 20,000개로 줄어들 것이다."
   ]
  },
  {
   "cell_type": "code",
   "execution_count": 7,
   "id": "9f940620",
   "metadata": {},
   "outputs": [],
   "source": [
    "from sklearn.model_selection import train_test_split\n",
    "X_train, X_val, y_train, y_val = train_test_split(X_train, y_train, test_size=0.2, random_state=42)"
   ]
  },
  {
   "cell_type": "markdown",
   "id": "4d04db6a",
   "metadata": {},
   "source": [
    "이제 훈련 세트에 대해 몇 가지 조사를 해 보겠다. \n",
    "\n",
    "먼저 각 리뷰의 길이를 계산해 넘파이 배열에 담자. 이렇게 하는 이유는 평균적인 리뷰의 길이와 가장 짧은 리뷰의 길이 그리고 가장 긴 리뷰의 길이를 확인하고 싶기 때문이다. \n",
    "\n",
    "이를 위해 넘파이 리스트 내포를 사용해 train_input의 원소를 순회하면서 길이를 재도록 하겠다.\n"
   ]
  },
  {
   "cell_type": "code",
   "execution_count": 8,
   "id": "26714767",
   "metadata": {},
   "outputs": [],
   "source": [
    "import numpy as np\n",
    "lengths = np.array([len(x) for x in X_train])"
   ]
  },
  {
   "cell_type": "markdown",
   "id": "3d0eb685",
   "metadata": {},
   "source": [
    "lengths 배열이 준비되었으므로 넘파이 mean() 함수와 mediad() 함수를 사용해 리뷰 길이의 평균과 중간값을 구해보자."
   ]
  },
  {
   "cell_type": "code",
   "execution_count": 9,
   "id": "89d54425",
   "metadata": {},
   "outputs": [
    {
     "name": "stdout",
     "output_type": "stream",
     "text": [
      "239.00925 178.0\n"
     ]
    }
   ],
   "source": [
    "print(np.mean(lengths), np.median(lengths))"
   ]
  },
  {
   "cell_type": "markdown",
   "id": "c14cfed3",
   "metadata": {},
   "source": [
    "리뷰의 평균 단어 개수는 239개이고 중간값이 178인 것으로 보아 이 리뷰 길이 데이터는 한쪽에 치우친 분포를 보일 것 같다. \n",
    "\n",
    "lengths 배열을 히스토그램으로 표현해 보자."
   ]
  },
  {
   "cell_type": "code",
   "execution_count": 10,
   "id": "4fad6706",
   "metadata": {},
   "outputs": [
    {
     "data": {
      "image/png": "[encoded data removed]",
      "text/plain": [
       "<Figure size 640x480 with 1 Axes>"
      ]
     },
     "metadata": {},
     "output_type": "display_data"
    }
   ],
   "source": [
    "import matplotlib.pyplot as plt\n",
    "plt.hist(lengths)\n",
    "plt.xlabel('length')\n",
    "plt.ylabel('frequency')\n",
    "plt.show()"
   ]
  },
  {
   "cell_type": "markdown",
   "id": "04d0ed5d",
   "metadata": {},
   "source": [
    "역시 한쪽으로 치우쳤다. 대부분의 리뷰 길이는 300 미만이다. 평균이 중간값보다 높은 이유는 오른쪽 끝에 아주 큰 데이터가 있기 때문이다. 어떤 리뷰는 1,000개의 단어가 넘기도 한다.\n",
    "\n",
    "리뷰는 대부분 짧아서 이 예제에서는 중간값보다 훨씬 짧은 100개의 단어만 사용하겠다. 하지만 여전히 100개의 단어보다 작은 리뷰가 있다. 이런 리뷰들의 길이를 100에 맞추기 위해 패딩이 필요하다. **보통 패딩을 나타내는 토큰으로는 0을 사용한다.**\n",
    "\n",
    "물론 수동으로 훈련 세트에 있는 20,000개의 리뷰를 순회하면서 길이가 100이 되도록 잘라내거나 0으로 패딩 할 수 있다. 하지만 자주 있는 번거로운 작업에는 항상 편리한 도구가 준비되어 있다. 케라스는 시퀀스 데이터의 길이를 맞추는 ***pad_sequences()함수*** 를 제공한다. 이 함수를 사용해 train_input의 길이를 100으로 맞추어 보겠다."
   ]
  },
  {
   "cell_type": "code",
   "execution_count": 11,
   "id": "1ecc1212",
   "metadata": {},
   "outputs": [],
   "source": [
    "from tensorflow.keras.preprocessing.sequence import pad_sequences\n",
    "train_seq = pad_sequences(X_train, maxlen=100)"
   ]
  },
  {
   "cell_type": "markdown",
   "id": "99d04102",
   "metadata": {},
   "source": [
    "사용법은 간단하다. maxlen에 원하는 길이를 지정하면 이보다 긴 경우는 잘라내고 짧은 경우는 0으로 패딩 한다. \n",
    "\n",
    "패딩 된 결과가 어떻게 나타나는지 확인해 보겠다. 먼저 train_seq의 크기를 확인해 보자"
   ]
  },
  {
   "cell_type": "code",
   "execution_count": 12,
   "id": "799beb77",
   "metadata": {},
   "outputs": [
    {
     "name": "stdout",
     "output_type": "stream",
     "text": [
      "(20000, 100)\n"
     ]
    }
   ],
   "source": [
    "print(train_seq.shape)"
   ]
  },
  {
   "cell_type": "markdown",
   "id": "58e254ac",
   "metadata": {},
   "source": [
    "train_input은 파이썬 리스트의 배열이었지만 길이를 100으로 맞춘 train_seq는 이제 (20000, 100) 크기의 2차원 배열이 되었다. \n",
    "##### (샘플 개수 20000개, 토큰(타임스탭)개수 100개(단어개수))\n",
    "\n",
    "train_seq에 있는 첫 번째 샘플을 출력해 보자."
   ]
  },
  {
   "cell_type": "code",
   "execution_count": 13,
   "id": "570f0818",
   "metadata": {},
   "outputs": [
    {
     "name": "stdout",
     "output_type": "stream",
     "text": [
      "[ 10   4  20   9   2   2   2   5  45   6   2   2  33 269   8   2 142   2\n",
      "   5   2  17  73  17 204   5   2  19  55   2   2  92  66 104  14  20  93\n",
      "  76   2 151  33   4  58  12 188   2 151  12 215  69 224 142  73 237   6\n",
      "   2   7   2   2 188   2 103  14  31  10  10   2   7   2   5   2  80  91\n",
      "   2  30   2  34  14  20 151  50  26 131  49   2  84  46  50  37  80  79\n",
      "   6   2  46   7  14  20  10  10   2 158]\n"
     ]
    }
   ],
   "source": [
    "print(train_seq[0])"
   ]
  },
  {
   "cell_type": "markdown",
   "id": "e10dc38a",
   "metadata": {},
   "source": [
    "이 샘플의 **앞뒤에 패딩값 0이 없는 것으로 보아 100보다는 길었을 것 같다.** \n",
    "\n",
    "그럼 원래 샘플의 앞부분이 잘렸을까? 뒷부분이 잘렸을까? train_input에 있는 원본 샘플의 끝을 확인해 보자."
   ]
  },
  {
   "cell_type": "code",
   "execution_count": 14,
   "id": "da44a0dd",
   "metadata": {},
   "outputs": [
    {
     "name": "stdout",
     "output_type": "stream",
     "text": [
      "[6, 2, 46, 7, 14, 20, 10, 10, 2, 158]\n"
     ]
    }
   ],
   "source": [
    "print(X_train[0][-10:])"
   ]
  },
  {
   "cell_type": "markdown",
   "id": "9085bbc9",
   "metadata": {},
   "source": [
    "음수 인덱스와 슬라이싱을 사용해 train_input[0]에 있는 마지막 10개의 토큰을 출력했다. train_seq[0]의 출력값과 비교하면 정확히 일치한다. **그렇다면 샘플의 앞부분이 잘렸다는 것을 짐작할 수 있겠다.**\n",
    "\n",
    "***pad_sequences()함수는 기본으로 maxlen보다 긴 시퀀스의 앞부분을 자른다. 이렇게 하는 이유는 일반적으로 시퀀스의 뒷부분의 정보가 더 유용하리라 기대하기 때문이다.***\n",
    "\n",
    ".\n",
    "\n",
    "\n",
    "영화 리뷰 데이터를 생각해 보면 리뷰 끝에 뭔가 결정적인 소감을 말할 가능성이 높다고 볼 수 있다. 만약 시퀀스의 뒷부분을 잘라내고 싶다면 **pad_sequences()함수의 truncating 매개변수의 값을 기본값 'pre'가 아닌 'post'로** 바꾸면 된다.\n",
    "\n",
    "이번에는 train_seq에 있는 여섯 번째 샘플을 출력해 보자."
   ]
  },
  {
   "cell_type": "code",
   "execution_count": 15,
   "id": "ce943b20",
   "metadata": {},
   "outputs": [
    {
     "name": "stdout",
     "output_type": "stream",
     "text": [
      "[  0   0   0   0   1   2 195  19  49   2   2 190   4   2   2   2 183  10\n",
      "  10  13  82  79   4   2  36  71 269   8   2  25  19  49   7   4   2   2\n",
      "   2   2   2  10  10  48  25  40   2  11   2   2  40   2   2   5   4   2\n",
      "   2  95  14 238  56 129   2  10  10  21   2  94   2   2   2   2  11 190\n",
      "  24   2   2   7  94 205   2  10  10  87   2  34  49   2   7   2   2   2\n",
      "   2   2 290   2  46  48  64  18   4   2]\n"
     ]
    }
   ],
   "source": [
    "print(train_seq[5])"
   ]
  },
  {
   "cell_type": "markdown",
   "id": "bd003ff6",
   "metadata": {},
   "source": [
    "***앞부분에 0이 있는 것으로 보아 이 샘플의 길이는 100이 안된다.*** 역시 같은 이유로 패딩 토큰은 시퀀스의 뒷부분이 아니라 앞부분에 추가된다. 시퀀스의 마지막에 있는 단어가 셀의 은닉 상태에서 가장 큰 영향을 미치게 되므로 마지막에 패딩을 추가하는 것은 일반적으로 선호하지 않는다. 하지만 원한다면 pad_sequences()함수의 padding 매개변수의 기본값인 'pre'를 'post'로 바꾸면 샘플의 뒷부분에 패딩을 추가할 수 있다.\n",
    "\n",
    "\n",
    "그럼 이런 방식대로 검증 세트의 길이도 100으로 맞추어 보자."
   ]
  },
  {
   "cell_type": "code",
   "execution_count": 16,
   "id": "a913250a",
   "metadata": {},
   "outputs": [],
   "source": [
    "val_seq = pad_sequences(X_val, maxlen=100)"
   ]
  },
  {
   "cell_type": "markdown",
   "id": "639aec48",
   "metadata": {},
   "source": [
    "이제 훈련세트와 검증세트 준비를 마쳤다. 이제 본격적으로 순환 신경망 모델을 만들어 보자."
   ]
  },
  {
   "cell_type": "markdown",
   "id": "c5f0968c",
   "metadata": {},
   "source": [
    "### 순환 신경망 만들기\n",
    "케라스는 여러 종류의 순환층 클래스를 제공한다. 그중에 가장 간단한 것은 **simpleRNN 클래스**이다. 이 클래스는 7장 1절에서 설명한 것과 거의 비슷한 기능을 수행한다. \n",
    "\n",
    "***IMDB 리뷰 분류 문제는 이진 분류이므로 마지막 출력층은 1개의 뉴런을 가지고 시그모이드 활성화 함수를 사용해야 한다.*** 먼저 케라스의 Sequential 클래스 만든 신경망 코드를 살펴보자."
   ]
  },
  {
   "cell_type": "code",
   "execution_count": 17,
   "id": "0be90615",
   "metadata": {},
   "outputs": [],
   "source": [
    "from tensorflow import keras\n",
    "model = keras.Sequential()\n",
    "model.add(keras.layers.SimpleRNN(8, input_shape=(100, 300)))\n",
    "model.add(keras.layers.Dense(1, activation='sigmoid'))"
   ]
  },
  {
   "cell_type": "markdown",
   "id": "28644858",
   "metadata": {},
   "source": [
    "이 코드는 지금까지 보았던 구성과 매우 비슷한다. 달라진 것은 Dense나 Conv2D 클래스 대신 simpleRNN 클래스를 사용했다. 첫 번째 매개변수는 사용할 뉴런의 개수로 input_shape에 입력 차원은 (100,300)으로 지정했다. ***첫 번째 차원이 100인 것은 앞에서 샘플의 길이를 100으로 지정했기 때문이다.*** 그럼 300은 어디서 온 숫자일까? 잠시후에 설명하겠다\n",
    "\n",
    "    \n",
    "순환층도 당연히 활성화 함수를 사용해야 한다. simpleRNN 클래스의 actication 매개변수의 기본값은 'tanh'로 하이퍼볼릭 탄젠트 함수를 사용한다. 여기서는 기본값을 그대로 사용한다.\n",
    "\n",
    "그럼 imput_shape의 두 번째 차원인 300은 어디서 온 숫자일까? ***이전 섹션에서 만든 train_seq와 val_seq에는 한 가지 큰 문제가 있다. 토큰을 정수로 변환한 이 데이터를 신경망에 주힙하면 큰 정수가 큰 활성화 출력을 만들기 때문이다.***\n",
    "\n",
    "분명히 이 정수 사이에는 어떤 관련이 없다. 20번 토큰을 10번 토큰보다 더 중요시해야 할 이유가 없다. 따라서 순순한 정숫값을 신경망에 입력하기 위해서는 다른 방식을 찾아야 한다."
   ]
  },
  {
   "cell_type": "markdown",
   "id": "8faca54d",
   "metadata": {},
   "source": [
    "정숫값에 있는 크기 속성을 없애고 각 정수를 고류하게 표현하는 방법은 7장에서 잠간 보았던 원-핫 인코딩이다. 예를 들어 train_seq[0]의 첫 번째 토큰인 10을 원-핫 인코딩으로 바꾸면 다음과 같다.\n",
    "\n",
    "원-핫 인코딩은 정숫값을 배열에서 해당 정수 위치의 원소만 1이고 나머지는 모두 0으로 변환한다. 7장의 다중 분류에서 출력층에서 만든 확률과 크로스 엔트로피 손실을 계산하기 위해 원-핫 인코딩을 사용할 수 있다고 배웠다.\n",
    "열한 번째 원소만 1이고 나머지는 모두 0인 배열이다. 이 배열의 길이는 얼마일까?\n",
    "\n",
    "**imbd.load_data() 함수에서 300개의 단어만 사용하도록 지정했기 때문에 고유한 단어는 모두 300개이다.** 즉 훈련 데이터에 포함될 수 있는 정숫값의 범위는 0(패딩토큰)에서 299까지이다. 따라서 **이 범위를 원-핫 인코딩으로 표현하려면 배열의 길이가 300이어야 한다.**"
   ]
  },
  {
   "cell_type": "markdown",
   "id": "aadad211",
   "metadata": {},
   "source": [
    "7장 1절에서 'I am a boy\"에 있는 각 단어를 숫자 3개를 사용해 표현한다고 예를 들었던 것을 기억하나? 여기에도 개념을 동일 하다. 토큰마다 300개의 숫자를 사용해 표현하는 것이다. 다만 300개 중에 하나만 1이고 나머지 모두 0으로 만들어 정수 사이에 있던 크기 속성을 없애는 원-핫 인코딩을 사용한다.\n",
    "\n",
    "혹시 예상했을 수 있겠지만 케라스에는 이미 원-핫 인코딩을 위한 유틸리티를 제공한다. 따라서 수동으로 위와 같은 배열을 만들 필요가 없다. 이 유틸리는 바로 keras.utils 패키지 아래에 있는 to_categorical()함수이다. 정수 배열을 입력하면 자동으로 원-핫 인코딩된 배열을 반환해 준다."
   ]
  },
  {
   "cell_type": "code",
   "execution_count": 18,
   "id": "657d8a0f",
   "metadata": {},
   "outputs": [],
   "source": [
    "train_oh = keras.utils.to_categorical(train_seq)"
   ]
  },
  {
   "cell_type": "markdown",
   "id": "6d9cf448",
   "metadata": {},
   "source": [
    "먼저 train_seq를 원-핫 인코딩으로 변환하여 train_oh 배열을 만들었다. 이 배열의 크기를 출력해 보자."
   ]
  },
  {
   "cell_type": "code",
   "execution_count": 19,
   "id": "3e26d107",
   "metadata": {},
   "outputs": [
    {
     "name": "stdout",
     "output_type": "stream",
     "text": [
      "(20000, 100, 300)\n"
     ]
    }
   ],
   "source": [
    "print(train_oh.shape)"
   ]
  },
  {
   "cell_type": "markdown",
   "id": "f95b3005",
   "metadata": {},
   "source": [
    "정수 하나마다 모두 300차원의 배열로 변경되었기 때문에 (20000, 100) 크기의 train_seq가(20000, 100, 300) 크기의 train_oh로 바뀌었다. \n",
    "\n",
    "***이렇게 샘플 데이터의 크기가 1차원 정수 배열(100,)에서 2차원 배열(100,300)로 바꿔야 하므로 SimpleRNN 클래스의 input_shape 매개변수의 값을 (100,300)으로 지정한 것이다.***\n",
    "\n",
    "train_oh의 첫 번째 샘플의 첫 번째 토큰이 10이 잘 인코딩되었는지 출력해보자.(위에서 보면 train_seq 배열의 첫번째 원소(토큰)이 10임)"
   ]
  },
  {
   "cell_type": "code",
   "execution_count": 20,
   "id": "c5574163",
   "metadata": {},
   "outputs": [
    {
     "name": "stdout",
     "output_type": "stream",
     "text": [
      "[0. 0. 0. 0. 0. 0. 0. 0. 0. 0. 1. 0.]\n"
     ]
    }
   ],
   "source": [
    "print(train_oh[0][0][:12])"
   ]
  },
  {
   "cell_type": "markdown",
   "id": "4d63ea88",
   "metadata": {},
   "source": [
    "처음 12개 원소를 출력해 보면 열한 번째 원소가 1인 것을 확인할 수 있다. 나머지 원소는 모두 0일까? 넘파이 sum()함수로 모든 원소의 값을 더해서 1이 되는지 확인해 보자."
   ]
  },
  {
   "cell_type": "code",
   "execution_count": 21,
   "id": "db71dba7",
   "metadata": {},
   "outputs": [
    {
     "name": "stdout",
     "output_type": "stream",
     "text": [
      "1.0\n"
     ]
    }
   ],
   "source": [
    "print(np.sum(train_oh[0][0]))"
   ]
  },
  {
   "cell_type": "markdown",
   "id": "2b8ea97c",
   "metadata": {},
   "source": [
    "토큰 10이 잘 인코딩 되었다. 열한 번째 원소만 1이고 나머지 모두 0이어서 원-핫 인코딩된 배열의 값을 모두 더한 결과가 1이 되었다. 같은 방식으로 val_seq도 원-핫 인코딩으로 바꾸어 놓겠다."
   ]
  },
  {
   "cell_type": "code",
   "execution_count": 22,
   "id": "b8656c6a",
   "metadata": {},
   "outputs": [],
   "source": [
    "val_oh = keras.utils.to_categorical(val_seq)"
   ]
  },
  {
   "cell_type": "markdown",
   "id": "67b4463b",
   "metadata": {},
   "source": [
    "이제 훈련에 사용할 훈련 세트와 검증 세트가 모두 준비되었다. 앞서 만든 모델의 구조를 출력해 보자."
   ]
  },
  {
   "cell_type": "code",
   "execution_count": 23,
   "id": "a7d6463b",
   "metadata": {},
   "outputs": [
    {
     "name": "stdout",
     "output_type": "stream",
     "text": [
      "Model: \"sequential\"\n",
      "_________________________________________________________________\n",
      " Layer (type)                Output Shape              Param #   \n",
      "=================================================================\n",
      " simple_rnn (SimpleRNN)      (None, 8)                 2472      \n",
      "                                                                 \n",
      " dense (Dense)               (None, 1)                 9         \n",
      "                                                                 \n",
      "=================================================================\n",
      "Total params: 2481 (9.69 KB)\n",
      "Trainable params: 2481 (9.69 KB)\n",
      "Non-trainable params: 0 (0.00 Byte)\n",
      "_________________________________________________________________\n"
     ]
    }
   ],
   "source": [
    "model.summary()"
   ]
  },
  {
   "cell_type": "markdown",
   "id": "c8bdc701",
   "metadata": {},
   "source": [
    "SimplrRNN에 전달할 샘플의 크기는 (100, 300) 이지만 이 순환층은 마지막 타임스텝의 은닉 상태만 출력한다. 이 때문에 출력 크기가 순환층의 뉴런 개수(아까 층 만들 때 지정함)와 동일한 8임을 확인 할 수 있다.\n",
    "\n",
    "\n",
    "순환층에 사용된 모델 파라미터의 개수를 계산해보자. 입력 토큰은 300차원의 원-핫 인코딩 배열이다. 이 배열의 순환층의 뉴런 8개와 완전히 연결 되기때문에 총 300 x 8 = 2400개의 가중치가 있다. 순환층의 은닉 상태는 다시 다음 타임스텝에 사용되기 위해 또 다른 가중치와 곱해진다.\n",
    "\n",
    "이 은닉 상태도 순환층의 뉴런과 완전히 연결되기 때문에 8 (은닉 상태 크기) x 8(뉴런개수) = 64개의 가중치가 필요하다. 마지막으로 뉴런마다 하나의 절편이 있다. 따라서 모두 2400 + 64 + 8 = 2472개의 모델 파라미터가 필요하다.\n",
    "\n",
    "\n",
    "케라스 API를 사용해 순환 신경망 모델을 손쉽게 만들었다. 이전에 만들었던 완전 연결 신경망에 비해 크게 바뀐 것은 없다. Dense 층 대신에 SimpleRNN 층을 사용했고 입력 데이터의 차원을 원-핫 인코딩으로 바꾸어 주었다. 다음 섹션에서 이 순환 신경망 모델을 훈련해 보자."
   ]
  },
  {
   "cell_type": "markdown",
   "id": "45f70b1f",
   "metadata": {},
   "source": [
    "### 순환 신경망 훈련하기\n",
    "순환 신경망의 훈련은 완전 연결 신경망이나 합성곱 신경망과 크게 다르지 않다. 모델을 만드는 것은 달라도 훈련하는 방법은 모두 같다. 이것이 케라스 API를 사용하는 장점이다. 다음 코드처럼 모델을 컴파일 하고 훈련하는 전체 구조가 동일하다.\n",
    "\n",
    "\n",
    "이 예에서는 기본 RMSprop의 학습률 0.001을 사용하지 않기 위해 별도의 RMSprop 객체를 만들어 학습률을 0.0001로 지정하였다. 그다음 에포크 횟수를 100으로 늘리고 배치 크기는 64개로 설정했다. 그 밖에 체크포인트와 조기 종료를 구성하는 코드는 거의 동일하다."
   ]
  },
  {
   "cell_type": "markdown",
   "id": "e038c9d5",
   "metadata": {},
   "source": [
    "맥에서는 keras.optimizers.RMSprop 가 느리게 동작하므로 keras.optimizers.legacy.RMSprop로 대체"
   ]
  },
  {
   "cell_type": "code",
   "execution_count": 24,
   "id": "4aa64389",
   "metadata": {},
   "outputs": [
    {
     "name": "stdout",
     "output_type": "stream",
     "text": [
      "Epoch 1/100\n",
      "313/313 [==============================] - 3s 7ms/step - loss: 0.6995 - accuracy: 0.5024 - val_loss: 0.6997 - val_accuracy: 0.4980\n",
      "Epoch 2/100\n",
      " 26/313 [=>............................] - ETA: 1s - loss: 0.6959 - accuracy: 0.5066"
     ]
    },
    {
     "name": "stderr",
     "output_type": "stream",
     "text": [
      "/Library/Frameworks/Python.framework/Versions/3.11/lib/python3.11/site-packages/keras/src/engine/training.py:3000: UserWarning: You are saving your model as an HDF5 file via `model.save()`. This file format is considered legacy. We recommend using instead the native Keras format, e.g. `model.save('my_model.keras')`.\n",
      "  saving_api.save_model(\n"
     ]
    },
    {
     "name": "stdout",
     "output_type": "stream",
     "text": [
      "313/313 [==============================] - 2s 7ms/step - loss: 0.6968 - accuracy: 0.5096 - val_loss: 0.6978 - val_accuracy: 0.4996\n",
      "Epoch 3/100\n",
      "313/313 [==============================] - 2s 7ms/step - loss: 0.6950 - accuracy: 0.5141 - val_loss: 0.6965 - val_accuracy: 0.5028\n",
      "Epoch 4/100\n",
      "313/313 [==============================] - 2s 7ms/step - loss: 0.6936 - accuracy: 0.5185 - val_loss: 0.6954 - val_accuracy: 0.5052\n",
      "Epoch 5/100\n",
      "313/313 [==============================] - 2s 7ms/step - loss: 0.6925 - accuracy: 0.5234 - val_loss: 0.6947 - val_accuracy: 0.5084\n",
      "Epoch 6/100\n",
      "313/313 [==============================] - 2s 7ms/step - loss: 0.6916 - accuracy: 0.5275 - val_loss: 0.6941 - val_accuracy: 0.5088\n",
      "Epoch 7/100\n",
      "313/313 [==============================] - 2s 7ms/step - loss: 0.6907 - accuracy: 0.5314 - val_loss: 0.6936 - val_accuracy: 0.5108\n",
      "Epoch 8/100\n",
      "313/313 [==============================] - 2s 7ms/step - loss: 0.6899 - accuracy: 0.5356 - val_loss: 0.6931 - val_accuracy: 0.5136\n",
      "Epoch 9/100\n",
      "313/313 [==============================] - 2s 7ms/step - loss: 0.6891 - accuracy: 0.5392 - val_loss: 0.6926 - val_accuracy: 0.5170\n",
      "Epoch 10/100\n",
      "313/313 [==============================] - 2s 7ms/step - loss: 0.6884 - accuracy: 0.5425 - val_loss: 0.6923 - val_accuracy: 0.5192\n",
      "Epoch 11/100\n",
      "313/313 [==============================] - 2s 7ms/step - loss: 0.6876 - accuracy: 0.5464 - val_loss: 0.6919 - val_accuracy: 0.5236\n",
      "Epoch 12/100\n",
      "313/313 [==============================] - 2s 7ms/step - loss: 0.6868 - accuracy: 0.5494 - val_loss: 0.6916 - val_accuracy: 0.5262\n",
      "Epoch 13/100\n",
      "313/313 [==============================] - 2s 7ms/step - loss: 0.6860 - accuracy: 0.5528 - val_loss: 0.6912 - val_accuracy: 0.5270\n",
      "Epoch 14/100\n",
      "313/313 [==============================] - 2s 7ms/step - loss: 0.6851 - accuracy: 0.5558 - val_loss: 0.6909 - val_accuracy: 0.5310\n",
      "Epoch 15/100\n",
      "313/313 [==============================] - 2s 7ms/step - loss: 0.6842 - accuracy: 0.5573 - val_loss: 0.6906 - val_accuracy: 0.5334\n",
      "Epoch 16/100\n",
      "313/313 [==============================] - 2s 7ms/step - loss: 0.6833 - accuracy: 0.5605 - val_loss: 0.6903 - val_accuracy: 0.5342\n",
      "Epoch 17/100\n",
      "313/313 [==============================] - 2s 7ms/step - loss: 0.6823 - accuracy: 0.5633 - val_loss: 0.6899 - val_accuracy: 0.5368\n",
      "Epoch 18/100\n",
      "313/313 [==============================] - 2s 7ms/step - loss: 0.6813 - accuracy: 0.5671 - val_loss: 0.6896 - val_accuracy: 0.5386\n",
      "Epoch 19/100\n",
      "313/313 [==============================] - 2s 7ms/step - loss: 0.6802 - accuracy: 0.5699 - val_loss: 0.6892 - val_accuracy: 0.5364\n",
      "Epoch 20/100\n",
      "313/313 [==============================] - 2s 8ms/step - loss: 0.6791 - accuracy: 0.5740 - val_loss: 0.6888 - val_accuracy: 0.5364\n",
      "Epoch 21/100\n",
      "313/313 [==============================] - 2s 7ms/step - loss: 0.6780 - accuracy: 0.5767 - val_loss: 0.6884 - val_accuracy: 0.5396\n",
      "Epoch 22/100\n",
      "313/313 [==============================] - 2s 7ms/step - loss: 0.6768 - accuracy: 0.5809 - val_loss: 0.6880 - val_accuracy: 0.5416\n",
      "Epoch 23/100\n",
      "313/313 [==============================] - 2s 7ms/step - loss: 0.6755 - accuracy: 0.5846 - val_loss: 0.6874 - val_accuracy: 0.5428\n",
      "Epoch 24/100\n",
      "313/313 [==============================] - 2s 7ms/step - loss: 0.6741 - accuracy: 0.5870 - val_loss: 0.6866 - val_accuracy: 0.5468\n",
      "Epoch 25/100\n",
      "313/313 [==============================] - 2s 7ms/step - loss: 0.6726 - accuracy: 0.5861 - val_loss: 0.6858 - val_accuracy: 0.5502\n",
      "Epoch 26/100\n",
      "313/313 [==============================] - 2s 7ms/step - loss: 0.6711 - accuracy: 0.5914 - val_loss: 0.6848 - val_accuracy: 0.5524\n",
      "Epoch 27/100\n",
      "313/313 [==============================] - 2s 7ms/step - loss: 0.6694 - accuracy: 0.5969 - val_loss: 0.6839 - val_accuracy: 0.5552\n",
      "Epoch 28/100\n",
      "313/313 [==============================] - 2s 7ms/step - loss: 0.6675 - accuracy: 0.6014 - val_loss: 0.6822 - val_accuracy: 0.5598\n",
      "Epoch 29/100\n",
      "313/313 [==============================] - 2s 7ms/step - loss: 0.6655 - accuracy: 0.6050 - val_loss: 0.6803 - val_accuracy: 0.5648\n",
      "Epoch 30/100\n",
      "313/313 [==============================] - 2s 7ms/step - loss: 0.6632 - accuracy: 0.6069 - val_loss: 0.6777 - val_accuracy: 0.5696\n",
      "Epoch 31/100\n",
      "313/313 [==============================] - 2s 7ms/step - loss: 0.6602 - accuracy: 0.6123 - val_loss: 0.6737 - val_accuracy: 0.5782\n",
      "Epoch 32/100\n",
      "313/313 [==============================] - 2s 7ms/step - loss: 0.6554 - accuracy: 0.6209 - val_loss: 0.6662 - val_accuracy: 0.5940\n",
      "Epoch 33/100\n",
      "313/313 [==============================] - 2s 7ms/step - loss: 0.6413 - accuracy: 0.6400 - val_loss: 0.6313 - val_accuracy: 0.6532\n",
      "Epoch 34/100\n",
      "313/313 [==============================] - 2s 7ms/step - loss: 0.6084 - accuracy: 0.6772 - val_loss: 0.6129 - val_accuracy: 0.6762\n",
      "Epoch 35/100\n",
      "313/313 [==============================] - 2s 7ms/step - loss: 0.5983 - accuracy: 0.6871 - val_loss: 0.6040 - val_accuracy: 0.6898\n",
      "Epoch 36/100\n",
      "313/313 [==============================] - 2s 7ms/step - loss: 0.5898 - accuracy: 0.6951 - val_loss: 0.5962 - val_accuracy: 0.6938\n",
      "Epoch 37/100\n",
      "313/313 [==============================] - 2s 7ms/step - loss: 0.5819 - accuracy: 0.7050 - val_loss: 0.5891 - val_accuracy: 0.6986\n",
      "Epoch 38/100\n",
      "313/313 [==============================] - 2s 7ms/step - loss: 0.5742 - accuracy: 0.7113 - val_loss: 0.5835 - val_accuracy: 0.7056\n",
      "Epoch 39/100\n",
      "313/313 [==============================] - 2s 7ms/step - loss: 0.5672 - accuracy: 0.7195 - val_loss: 0.5775 - val_accuracy: 0.7134\n",
      "Epoch 40/100\n",
      "313/313 [==============================] - 2s 7ms/step - loss: 0.5607 - accuracy: 0.7236 - val_loss: 0.5729 - val_accuracy: 0.7122\n",
      "Epoch 41/100\n",
      "313/313 [==============================] - 2s 7ms/step - loss: 0.5547 - accuracy: 0.7293 - val_loss: 0.5673 - val_accuracy: 0.7152\n",
      "Epoch 42/100\n",
      "313/313 [==============================] - 2s 7ms/step - loss: 0.5488 - accuracy: 0.7341 - val_loss: 0.5641 - val_accuracy: 0.7188\n",
      "Epoch 43/100\n",
      "313/313 [==============================] - 2s 7ms/step - loss: 0.5436 - accuracy: 0.7387 - val_loss: 0.5596 - val_accuracy: 0.7214\n",
      "Epoch 44/100\n",
      "313/313 [==============================] - 2s 7ms/step - loss: 0.5389 - accuracy: 0.7412 - val_loss: 0.5551 - val_accuracy: 0.7214\n",
      "Epoch 45/100\n",
      "313/313 [==============================] - 2s 7ms/step - loss: 0.5337 - accuracy: 0.7446 - val_loss: 0.5540 - val_accuracy: 0.7274\n",
      "Epoch 46/100\n",
      "313/313 [==============================] - 2s 8ms/step - loss: 0.5299 - accuracy: 0.7476 - val_loss: 0.5508 - val_accuracy: 0.7304\n",
      "Epoch 47/100\n",
      "313/313 [==============================] - 2s 7ms/step - loss: 0.5254 - accuracy: 0.7499 - val_loss: 0.5491 - val_accuracy: 0.7300\n",
      "Epoch 48/100\n",
      "313/313 [==============================] - 2s 7ms/step - loss: 0.5217 - accuracy: 0.7532 - val_loss: 0.5442 - val_accuracy: 0.7368\n",
      "Epoch 49/100\n",
      "313/313 [==============================] - 2s 7ms/step - loss: 0.5188 - accuracy: 0.7549 - val_loss: 0.5409 - val_accuracy: 0.7378\n",
      "Epoch 50/100\n",
      "313/313 [==============================] - 2s 8ms/step - loss: 0.5155 - accuracy: 0.7573 - val_loss: 0.5410 - val_accuracy: 0.7392\n",
      "Epoch 51/100\n",
      "313/313 [==============================] - 2s 7ms/step - loss: 0.5124 - accuracy: 0.7589 - val_loss: 0.5375 - val_accuracy: 0.7382\n",
      "Epoch 52/100\n",
      "313/313 [==============================] - 2s 7ms/step - loss: 0.5098 - accuracy: 0.7600 - val_loss: 0.5364 - val_accuracy: 0.7394\n",
      "Epoch 53/100\n",
      "313/313 [==============================] - 2s 7ms/step - loss: 0.5069 - accuracy: 0.7628 - val_loss: 0.5343 - val_accuracy: 0.7418\n",
      "Epoch 54/100\n",
      "313/313 [==============================] - 2s 7ms/step - loss: 0.5048 - accuracy: 0.7645 - val_loss: 0.5333 - val_accuracy: 0.7386\n",
      "Epoch 55/100\n",
      "313/313 [==============================] - 2s 8ms/step - loss: 0.5027 - accuracy: 0.7666 - val_loss: 0.5323 - val_accuracy: 0.7420\n",
      "Epoch 56/100\n",
      "313/313 [==============================] - 2s 7ms/step - loss: 0.5004 - accuracy: 0.7682 - val_loss: 0.5321 - val_accuracy: 0.7420\n",
      "Epoch 57/100\n",
      "313/313 [==============================] - 2s 7ms/step - loss: 0.4987 - accuracy: 0.7689 - val_loss: 0.5300 - val_accuracy: 0.7442\n",
      "Epoch 58/100\n",
      "313/313 [==============================] - 2s 7ms/step - loss: 0.4968 - accuracy: 0.7716 - val_loss: 0.5288 - val_accuracy: 0.7446\n",
      "Epoch 59/100\n"
     ]
    },
    {
     "name": "stdout",
     "output_type": "stream",
     "text": [
      "313/313 [==============================] - 2s 7ms/step - loss: 0.4946 - accuracy: 0.7723 - val_loss: 0.5288 - val_accuracy: 0.7438\n",
      "Epoch 60/100\n",
      "313/313 [==============================] - 2s 7ms/step - loss: 0.4934 - accuracy: 0.7729 - val_loss: 0.5279 - val_accuracy: 0.7452\n",
      "Epoch 61/100\n",
      "313/313 [==============================] - 2s 8ms/step - loss: 0.4919 - accuracy: 0.7728 - val_loss: 0.5267 - val_accuracy: 0.7488\n",
      "Epoch 62/100\n",
      "313/313 [==============================] - 2s 7ms/step - loss: 0.4903 - accuracy: 0.7742 - val_loss: 0.5257 - val_accuracy: 0.7470\n",
      "Epoch 63/100\n",
      "313/313 [==============================] - 2s 7ms/step - loss: 0.4890 - accuracy: 0.7760 - val_loss: 0.5257 - val_accuracy: 0.7484\n",
      "Epoch 64/100\n",
      "313/313 [==============================] - 2s 7ms/step - loss: 0.4875 - accuracy: 0.7772 - val_loss: 0.5239 - val_accuracy: 0.7492\n",
      "Epoch 65/100\n",
      "313/313 [==============================] - 2s 7ms/step - loss: 0.4862 - accuracy: 0.7778 - val_loss: 0.5237 - val_accuracy: 0.7486\n",
      "Epoch 66/100\n",
      "313/313 [==============================] - 2s 8ms/step - loss: 0.4851 - accuracy: 0.7772 - val_loss: 0.5233 - val_accuracy: 0.7504\n",
      "Epoch 67/100\n",
      "313/313 [==============================] - 2s 7ms/step - loss: 0.4841 - accuracy: 0.7789 - val_loss: 0.5235 - val_accuracy: 0.7496\n",
      "Epoch 68/100\n",
      "313/313 [==============================] - 2s 8ms/step - loss: 0.4828 - accuracy: 0.7789 - val_loss: 0.5224 - val_accuracy: 0.7470\n",
      "Epoch 69/100\n",
      "313/313 [==============================] - 2s 7ms/step - loss: 0.4816 - accuracy: 0.7808 - val_loss: 0.5221 - val_accuracy: 0.7468\n",
      "Epoch 70/100\n",
      "313/313 [==============================] - 2s 7ms/step - loss: 0.4810 - accuracy: 0.7799 - val_loss: 0.5218 - val_accuracy: 0.7474\n",
      "Epoch 71/100\n",
      "313/313 [==============================] - 2s 7ms/step - loss: 0.4797 - accuracy: 0.7793 - val_loss: 0.5211 - val_accuracy: 0.7470\n",
      "Epoch 72/100\n",
      "313/313 [==============================] - 2s 7ms/step - loss: 0.4786 - accuracy: 0.7824 - val_loss: 0.5236 - val_accuracy: 0.7492\n",
      "Epoch 73/100\n",
      "313/313 [==============================] - 2s 7ms/step - loss: 0.4779 - accuracy: 0.7830 - val_loss: 0.5208 - val_accuracy: 0.7500\n",
      "Epoch 74/100\n",
      "313/313 [==============================] - 2s 7ms/step - loss: 0.4772 - accuracy: 0.7828 - val_loss: 0.5221 - val_accuracy: 0.7486\n",
      "Epoch 75/100\n",
      "313/313 [==============================] - 2s 8ms/step - loss: 0.4761 - accuracy: 0.7820 - val_loss: 0.5222 - val_accuracy: 0.7472\n",
      "Epoch 76/100\n",
      "313/313 [==============================] - 2s 8ms/step - loss: 0.4755 - accuracy: 0.7833 - val_loss: 0.5216 - val_accuracy: 0.7492\n"
     ]
    }
   ],
   "source": [
    "rmsprop = keras.optimizers.legacy.RMSprop(learning_rate=1e-4)  \n",
    "model.compile(optimizer=rmsprop, loss='binary_crossentropy', metrics=['accuracy'])\n",
    "\n",
    "checkpoint_cb = keras.callbacks.ModelCheckpoint('best-simplernn-model.h5', save_best_only=True)\n",
    "early_stopping_cb = keras.callbacks.EarlyStopping(patience=3, restore_best_weights=True)\n",
    "\n",
    "history = model.fit(train_oh, y_train, epochs=100, batch_size=64, \\\n",
    "                    validation_data=(val_oh, y_val), \\\n",
    "                    callbacks=[checkpoint_cb, early_stopping_cb])"
   ]
  },
  {
   "cell_type": "markdown",
   "id": "786a1fc1",
   "metadata": {},
   "source": [
    "이 훈련은 76번째 에포크에서 조기 종료되었다. 검증 세트에 대한 정확도는 약 80% 정도이다. 매우 뛰어난 성능은 아니지만 감상평을 분류하는 데 어느 정도 성과를 내고 있다고 판단할 수 있다.\n",
    "\n",
    "그럼 이전 장에서처럼 훈련 손실을 그래프로 그려서 훈련 과정을 살펴보겠다."
   ]
  },
  {
   "cell_type": "code",
   "execution_count": 25,
   "id": "009deb29",
   "metadata": {},
   "outputs": [
    {
     "data": {
      "image/png": "[encoded data removed]",
      "text/plain": [
       "<Figure size 640x480 with 1 Axes>"
      ]
     },
     "metadata": {},
     "output_type": "display_data"
    }
   ],
   "source": [
    "plt.plot(history.history['loss'])\n",
    "plt.plot(history.history['val_loss'])\n",
    "plt.xlabel('epoch')\n",
    "plt.ylabel('loss')\n",
    "plt.legend(['train', 'val'])\n",
    "plt.show()"
   ]
  },
  {
   "cell_type": "markdown",
   "id": "425f2e87",
   "metadata": {},
   "source": [
    "훈련 손실은 꾸준히 감소하고 있지만 검증 손실은 대략 스무 번째 에포크에서 가소가 둔해지고 있다. 적절한 에포크에서 훈련을 멈춘 것 같다. 1절에서 배원 순환 신경망을 성공적으로 훈련시켜서 IMDB 리뷰 데이터를 긍정과 부정으로 분류하는 작업을 수행했다.\n",
    "\n",
    "\n",
    "여기서 한 가지 생각할 점이 있다. 이 작업을 하기 위해서 입력 데이터를 원-핫 인코딩으로 변환했다. **원-핫 인코딩의 단점은 입력 데이터가 엄청 커진다는 것이다.** 실제로 train_seq 배열과 train_oh 배열의 nbytes 속성을 출력하여 크기를 확인해 보자."
   ]
  },
  {
   "cell_type": "code",
   "execution_count": 26,
   "id": "d9c9aa07",
   "metadata": {},
   "outputs": [
    {
     "name": "stdout",
     "output_type": "stream",
     "text": [
      "8000000 2400000000\n"
     ]
    }
   ],
   "source": [
    "print(train_seq.nbytes, train_oh.nbytes)"
   ]
  },
  {
   "cell_type": "markdown",
   "id": "cf10f37f",
   "metadata": {},
   "source": [
    "토큰 1개를 300차원으로 늘렸기 때문에 대략 300배가 커진다. 이는 썩 좋은 방법은 아닌 것 같다. 훈련 데이터가 커질수록 더 문제가 될 것이다. 다음 섹션에서 순환 신경망에 사용하는 더 좋은 단어 표현 방법을 알아보도록 하자."
   ]
  },
  {
   "cell_type": "markdown",
   "id": "9cfc10b7",
   "metadata": {},
   "source": [
    "### 단어 임베딩을 사용하기\n",
    "순환 신경망에서 텍스트를 처리할 때 즐겨 사용하는 방법은**단어 임베딩 word embedding** 이다. 단어 임베딩은 각 단어를 고정된 크기의 실수 벡터로 바꾸어 준다.\n",
    "\n",
    "***이런 단어 임베딩으로 만들어진 벡터는 원-핫 인코딩 된 벡터보다 훨씬 의미 있는 값으로 채워져 있기 때문에 자연어 처리에서 더 좋은 성능을 내는 경우가 많다.*** 물론 이런 당어 임베딩 벡터를 만드는 층은 이미 준비되어 있다. 케라스에서는 keras.layers 패키지 아래 Embedding 클래스로 임베딩 기능을 제공한다. 이 클래스를 다른 층처럼 모델에 추가하면 처음에는 모든 벡터가 랜덤하게 초기화되지만 훈련을 통해 데이터에서 좋은 단어 임베딩을 학습한다.\n",
    "\n",
    "단어 임베딩의 장점은 입력으로 정수 데이터를 받는다는 것이다. 즉 원-핫 인코딩으로 변경된 train_oh 배열이 아니라 train_seq를 사용 할 수 있다. 이 때문에 메모리를 훨씬 효율적으로 사용할 수 있다.\n",
    "\n",
    "앞서 원-핫 인코딩은 샘플 하나를 300차원으로 늘렸기 때문에 (100,) 크기의 샘플이 (100, 300)으로 커졌다. 이와 비슷하게 임베딩도 (100,)크기의 샘플을 (100,20)과 같이 2차원 배열로 늘린다. 하지만 원-핫 인코딩과는 달리 훨씬 작은 크기로도 단어를 잘 표현할 수 있다.\n",
    "\n",
    "Embedding 클래스를 SimpleRNN 층 앞에 추가한 두 번째 순환 신경망을 만들어 보겠다."
   ]
  },
  {
   "cell_type": "code",
   "execution_count": 53,
   "id": "812a7890",
   "metadata": {},
   "outputs": [],
   "source": [
    "model2 = keras.Sequential()\n",
    "model2.add(keras.layers.Embedding(300, 16, input_length=100))\n",
    "model2.add(keras.layers.SimpleRNN(8))\n",
    "model2.add(keras.layers.Dense(1, activation='sigmoid'))"
   ]
  },
  {
   "cell_type": "markdown",
   "id": "f1e003f7",
   "metadata": {},
   "source": [
    "1. Embedding 클래스의 첫 번째 매개변수(300)는 어휘 사전의 크기이다. 앞서 IMDB 리뷰 데이터셋에서 300개의 단어만 사용하도록 imdb.load_data(num_words=300)과 같이 설정했기 때문에 이 매개변수의 값을 300으로 지정한다.\n",
    "\n",
    "2. 두 번째 매개변수(16)는 임베딩 벡터의 크기이다. 여기에서는 원-핫 인코딩보다 훨씬 작은 크기(16)의 벡터를 사용했다. \n",
    "\n",
    "3. 세 번째 input_length 매개변수는 입력 시퀀스의 길이이다. 앞서 샘플의 길이를 100으로 맞추어 train_seq를 만들었다. 따라서 이 값을 100으로 지정한다.\n",
    "\n",
    "그다음 SimpleRNN 층과 Dense층은 이전과 동일하다. 이 모델의 구조를 출력해 보자."
   ]
  },
  {
   "cell_type": "code",
   "execution_count": 54,
   "id": "d1325d63",
   "metadata": {},
   "outputs": [
    {
     "name": "stdout",
     "output_type": "stream",
     "text": [
      "Model: \"sequential_6\"\n",
      "_________________________________________________________________\n",
      " Layer (type)                Output Shape              Param #   \n",
      "=================================================================\n",
      " embedding_5 (Embedding)     (None, 100, 16)           4800      \n",
      "                                                                 \n",
      " simple_rnn_6 (SimpleRNN)    (None, 8)                 200       \n",
      "                                                                 \n",
      " dense_6 (Dense)             (None, 1)                 9         \n",
      "                                                                 \n",
      "=================================================================\n",
      "Total params: 5009 (19.57 KB)\n",
      "Trainable params: 5009 (19.57 KB)\n",
      "Non-trainable params: 0 (0.00 Byte)\n",
      "_________________________________________________________________\n"
     ]
    }
   ],
   "source": [
    "model2.summary()"
   ]
  },
  {
   "cell_type": "markdown",
   "id": "360afcc2",
   "metadata": {},
   "source": [
    "summary() 메서드의 출력에서 알 수 있듯이 이 모델은 (100,) 크기의 입력을 받아 (100,16) 크기의 출력을 만든다. 이 모델에서 사용되는 모델 파라미터 개수를 계산해 보자.\n",
    "\n",
    "Embedding 클래스는 300개의 각 토큰을 크기가 16인 벡터로 변경하기 때문에 총 300 x 16 = 4,800개의 모델 파라미터를 가진다. 그다음 SimpleRNN층은 임베딩 벡터의 크기가 16이므로 8개의 뉴런과 곱하기 위해 필요한 가중치 16 x 8 =128 개를 가진다. 또한 은닉 상태에 곱해지는 가중치 8 x 8 = 64 개가 있다. 마지막으로 8개의 절편이 있으므로 이 순환층에 있는 전체 모델 파라미터의 개수는 128+64+8 = 200개 이다.\n",
    "\n",
    "마지막 Dense 층의 가중치 개수는 이전과 동일하게 9개이다. 원-핫 인코딩보다 SimpleRNN에 주입되는 입력의 크기가 크게 줄었지만 임베딩 벡터는 단어를 잘 표현하는 능력이 있기 때문에 훈련 결과는 이전에 못지 않을 것이다. 모델 훈련 과정은 이전과 동일하다."
   ]
  },
  {
   "cell_type": "code",
   "execution_count": 55,
   "id": "b4e8e3e1",
   "metadata": {},
   "outputs": [
    {
     "name": "stdout",
     "output_type": "stream",
     "text": [
      "Epoch 1/100\n",
      "313/313 [==============================] - 2s 5ms/step - loss: 0.6805 - accuracy: 0.5627 - val_loss: 0.6583 - val_accuracy: 0.6212\n",
      "Epoch 2/100\n",
      "313/313 [==============================] - 2s 5ms/step - loss: 0.6398 - accuracy: 0.6547 - val_loss: 0.6259 - val_accuracy: 0.6740\n",
      "Epoch 3/100\n",
      "313/313 [==============================] - 2s 6ms/step - loss: 0.6165 - accuracy: 0.6944 - val_loss: 0.6121 - val_accuracy: 0.6970\n",
      "Epoch 4/100\n",
      "313/313 [==============================] - 2s 5ms/step - loss: 0.6043 - accuracy: 0.7053 - val_loss: 0.6041 - val_accuracy: 0.7038\n",
      "Epoch 5/100\n",
      "313/313 [==============================] - 2s 6ms/step - loss: 0.5940 - accuracy: 0.7154 - val_loss: 0.5931 - val_accuracy: 0.7158\n",
      "Epoch 6/100\n",
      "313/313 [==============================] - 2s 5ms/step - loss: 0.5853 - accuracy: 0.7216 - val_loss: 0.5860 - val_accuracy: 0.7150\n",
      "Epoch 7/100\n",
      "313/313 [==============================] - 2s 6ms/step - loss: 0.5771 - accuracy: 0.7291 - val_loss: 0.5848 - val_accuracy: 0.7158\n",
      "Epoch 8/100\n",
      "313/313 [==============================] - 2s 6ms/step - loss: 0.5702 - accuracy: 0.7320 - val_loss: 0.5719 - val_accuracy: 0.7246\n",
      "Epoch 9/100\n",
      "313/313 [==============================] - 2s 5ms/step - loss: 0.5623 - accuracy: 0.7370 - val_loss: 0.5643 - val_accuracy: 0.7308\n",
      "Epoch 10/100\n",
      "313/313 [==============================] - 2s 5ms/step - loss: 0.5558 - accuracy: 0.7423 - val_loss: 0.5585 - val_accuracy: 0.7310\n",
      "Epoch 11/100\n",
      "313/313 [==============================] - 2s 5ms/step - loss: 0.5495 - accuracy: 0.7460 - val_loss: 0.5548 - val_accuracy: 0.7398\n",
      "Epoch 12/100\n",
      "313/313 [==============================] - 2s 5ms/step - loss: 0.5423 - accuracy: 0.7480 - val_loss: 0.5480 - val_accuracy: 0.7358\n",
      "Epoch 13/100\n",
      "313/313 [==============================] - 2s 5ms/step - loss: 0.5361 - accuracy: 0.7536 - val_loss: 0.5445 - val_accuracy: 0.7374\n",
      "Epoch 14/100\n",
      "313/313 [==============================] - 2s 5ms/step - loss: 0.5302 - accuracy: 0.7553 - val_loss: 0.5365 - val_accuracy: 0.7444\n",
      "Epoch 15/100\n",
      "313/313 [==============================] - 2s 5ms/step - loss: 0.5248 - accuracy: 0.7582 - val_loss: 0.5337 - val_accuracy: 0.7412\n",
      "Epoch 16/100\n",
      "313/313 [==============================] - 2s 5ms/step - loss: 0.5200 - accuracy: 0.7602 - val_loss: 0.5311 - val_accuracy: 0.7440\n",
      "Epoch 17/100\n",
      "313/313 [==============================] - 2s 5ms/step - loss: 0.5144 - accuracy: 0.7632 - val_loss: 0.5344 - val_accuracy: 0.7394\n",
      "Epoch 18/100\n",
      "313/313 [==============================] - 2s 5ms/step - loss: 0.5100 - accuracy: 0.7658 - val_loss: 0.5280 - val_accuracy: 0.7386\n",
      "Epoch 19/100\n",
      "313/313 [==============================] - 2s 5ms/step - loss: 0.5069 - accuracy: 0.7650 - val_loss: 0.5192 - val_accuracy: 0.7514\n",
      "Epoch 20/100\n",
      "313/313 [==============================] - 2s 5ms/step - loss: 0.5027 - accuracy: 0.7682 - val_loss: 0.5189 - val_accuracy: 0.7454\n",
      "Epoch 21/100\n",
      "313/313 [==============================] - 2s 5ms/step - loss: 0.4993 - accuracy: 0.7700 - val_loss: 0.5228 - val_accuracy: 0.7452\n",
      "Epoch 22/100\n",
      "313/313 [==============================] - 2s 5ms/step - loss: 0.4957 - accuracy: 0.7703 - val_loss: 0.5138 - val_accuracy: 0.7512\n",
      "Epoch 23/100\n",
      "313/313 [==============================] - 2s 5ms/step - loss: 0.4934 - accuracy: 0.7724 - val_loss: 0.5132 - val_accuracy: 0.7478\n",
      "Epoch 24/100\n",
      "313/313 [==============================] - 2s 5ms/step - loss: 0.4909 - accuracy: 0.7731 - val_loss: 0.5149 - val_accuracy: 0.7454\n",
      "Epoch 25/100\n",
      "313/313 [==============================] - 2s 5ms/step - loss: 0.4886 - accuracy: 0.7754 - val_loss: 0.5122 - val_accuracy: 0.7488\n",
      "Epoch 26/100\n",
      "313/313 [==============================] - 2s 5ms/step - loss: 0.4865 - accuracy: 0.7732 - val_loss: 0.5110 - val_accuracy: 0.7502\n",
      "Epoch 27/100\n",
      "313/313 [==============================] - 2s 5ms/step - loss: 0.4842 - accuracy: 0.7756 - val_loss: 0.5120 - val_accuracy: 0.7490\n",
      "Epoch 28/100\n",
      "313/313 [==============================] - 2s 5ms/step - loss: 0.4817 - accuracy: 0.7760 - val_loss: 0.5126 - val_accuracy: 0.7484\n",
      "Epoch 29/100\n",
      "313/313 [==============================] - 2s 5ms/step - loss: 0.4801 - accuracy: 0.7778 - val_loss: 0.5105 - val_accuracy: 0.7490\n",
      "Epoch 30/100\n",
      "313/313 [==============================] - 2s 5ms/step - loss: 0.4784 - accuracy: 0.7776 - val_loss: 0.5115 - val_accuracy: 0.7498\n",
      "Epoch 31/100\n",
      "313/313 [==============================] - 2s 5ms/step - loss: 0.4766 - accuracy: 0.7774 - val_loss: 0.5118 - val_accuracy: 0.7474\n",
      "Epoch 32/100\n",
      "313/313 [==============================] - 2s 5ms/step - loss: 0.4752 - accuracy: 0.7789 - val_loss: 0.5116 - val_accuracy: 0.7466\n"
     ]
    }
   ],
   "source": [
    "rmsprop = keras.optimizers.legacy.RMSprop(learning_rate=1e-4)  \n",
    "model2.compile(optimizer=rmsprop, loss='binary_crossentropy', metrics=['accuracy'])\n",
    "\n",
    "checkpoint_cb = keras.callbacks.ModelCheckpoint('best-simplernn-model.h5', save_best_only=True)\n",
    "early_stopping_cb = keras.callbacks.EarlyStopping(patience=3, restore_best_weights=True)\n",
    "\n",
    "history = model2.fit(train_seq, y_train, epochs=100, batch_size=64, \\\n",
    "                    validation_data=(val_seq, y_val), \\\n",
    "                    callbacks=[checkpoint_cb, early_stopping_cb])"
   ]
  },
  {
   "cell_type": "markdown",
   "id": "e8f039d4",
   "metadata": {},
   "source": [
    "출력 결과를 보면 원-핫 인코딩을 사용한 모델과 비슷한 성능을 냈다. 반면에 순환층의 가중치 개수는 훨씬 작고 훈련 세트 크기도 훨씬 줄어들었다. 마지막으로 훈련 손실과 검증 손실을 그래프로 출력해 보자."
   ]
  },
  {
   "cell_type": "code",
   "execution_count": 56,
   "id": "fc801253",
   "metadata": {},
   "outputs": [
    {
     "data": {
      "image/png": "[encoded data removed]",
      "text/plain": [
       "<Figure size 640x480 with 1 Axes>"
      ]
     },
     "metadata": {},
     "output_type": "display_data"
    }
   ],
   "source": [
    "plt.plot(history.history['loss'])\n",
    "plt.plot(history.history['val_loss'])\n",
    "plt.xlabel('epoch')\n",
    "plt.ylabel('loss')\n",
    "plt.legend(['train', 'val'])\n",
    "plt.show()"
   ]
  },
  {
   "cell_type": "markdown",
   "id": "95c9ed8b",
   "metadata": {},
   "source": [
    "검증 손실이 더 감소되지 않아 훈련이 적절히 조기 종료된 것 같다. 이에 비해 훈련 손실은 계속 감소한다. 이를 더 개선할 방법이 있는지 다음 절에서 알아보자."
   ]
  }
 ],
 "metadata": {
  "kernelspec": {
   "display_name": "Python 3 (ipykernel)",
   "language": "python",
   "name": "python3"
  },
  "language_info": {
   "codemirror_mode": {
    "name": "ipython",
    "version": 3
   },
   "file_extension": ".py",
   "mimetype": "text/x-python",
   "name": "python",
   "nbconvert_exporter": "python",
   "pygments_lexer": "ipython3",
   "version": "3.11.2"
  }
 },
 "nbformat": 4,
 "nbformat_minor": 5
}
