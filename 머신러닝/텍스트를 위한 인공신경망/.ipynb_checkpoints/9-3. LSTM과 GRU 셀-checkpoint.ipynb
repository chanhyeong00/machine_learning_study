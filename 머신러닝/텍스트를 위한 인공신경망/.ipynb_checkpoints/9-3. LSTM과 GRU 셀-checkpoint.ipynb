{
 "cells": [
  {
   "cell_type": "markdown",
   "id": "a6e930e8",
   "metadata": {},
   "source": [
    "### LSTM 구조\n",
    "LSTM은 Long Short - Term Memory의 약자이다. 말 그대로 단기 기억을 오래 기억하기 위해 고안되었다. LSTM은 구조가 복잡하므로 단계적으로 설명하겠다. 하지만 기본 개념을 동일하다. LSTM에는 입력과 가중치를 곱하고 절편을 더해 활성화 함수를 통과시키는 구조를 여러 개 가지고 있다. 이런 계산 결과는 다음 타임스텝에 재사용된다.\n",
    "\n",
    "먼저 은닉 상태를 만드는 방법을 알아보자. 은닉 상태는 입력과 이전 타임스텝의 은닉 상태를 가중치에 곱한 후 활설화 함수를 통과시켜 다음 은닉 상태를 만든다. **이때 기본 순환층과는 달리 시그모이드 활성화 함수를 사용한다.** 또 tanh활성화 함수를 통과한 어떤 값과 곱해져서 은닉 상태를 만든다.\n",
    "\n",
    "LSTM에는 순환되는 상태가 2개이다. 은닉 상태 말고 셀 상태 cell state라고 부르는 값이 또 있다. 은닉 상태와 달리 셀 상태는 다음 층으로 전달되지 않고 LSTM셀에서 순환만 되는 값이다.\n",
    "\n",
    "***LSTM에는 총 4개의 셀이 있다.***\n",
    "##### 삭제게이트에 1개, 입력게이트에 2개, 출력게이트에 1개 -> 총 4개\n",
    "\n",
    "##### p.527-528에 그림과 함께 자세한 설명"
   ]
  },
  {
   "cell_type": "markdown",
   "id": "1568a3e0",
   "metadata": {},
   "source": [
    "### LSTM 신경망 훈련하기\n",
    "먼저 이전 절에서 처럼 IMDB 리뷰 데이터를 로드하고 훈련 세트와 검증 세트로 나눈다."
   ]
  },
  {
   "cell_type": "code",
   "execution_count": 1,
   "id": "0a72285b",
   "metadata": {},
   "outputs": [],
   "source": [
    "from tensorflow.keras.datasets import imdb\n",
    "from sklearn.model_selection import train_test_split\n",
    "(X_train, y_train), (X_test, y_test) = imdb.load_data(num_words=500)\n",
    "X_train, X_val, y_train, y_val = train_test_split(X_train, y_train, test_size=0.2, random_state=42)"
   ]
  },
  {
   "cell_type": "markdown",
   "id": "70bea5b8",
   "metadata": {},
   "source": [
    "그다음 케라스의 pad_sequences()함수로 각 샘플의 길이를 100에 맞추고 부족할 때는 패딩을 추가한다"
   ]
  },
  {
   "cell_type": "code",
   "execution_count": 2,
   "id": "eba490e1",
   "metadata": {},
   "outputs": [],
   "source": [
    "from tensorflow.keras.preprocessing.sequence import pad_sequences\n",
    "train_seq = pad_sequences(X_train, maxlen=100)\n",
    "val_seq = pad_sequences(X_val, maxlen=100)"
   ]
  },
  {
   "cell_type": "markdown",
   "id": "f8d248fa",
   "metadata": {},
   "source": [
    "이제 LSTM 셀을 사용한 순환층을 만들어 보겠다. 사실 SimpleRNN 클래스를 LSTM 클래스로 바꾸기만 하면 된다."
   ]
  },
  {
   "cell_type": "code",
   "execution_count": 3,
   "id": "9debfa74",
   "metadata": {},
   "outputs": [],
   "source": [
    "from tensorflow import keras\n",
    "model = keras.Sequential()\n",
    "model.add(keras.layers.Embedding(500, 16, input_length=100))\n",
    "model.add(keras.layers.LSTM(8))\n",
    "model.add(keras.layers.Dense(1, activation='sigmoid'))"
   ]
  },
  {
   "cell_type": "markdown",
   "id": "8a49c2e5",
   "metadata": {},
   "source": [
    "2절에서 임베딩을 사용했던 순환 신경망 모델과 완전히 동일하다. 여기에서는 SimpleRNN 대신 LSTM을 사용한다. 모델 구조를 출력해 보자."
   ]
  },
  {
   "cell_type": "code",
   "execution_count": 4,
   "id": "5a554d57",
   "metadata": {},
   "outputs": [
    {
     "name": "stdout",
     "output_type": "stream",
     "text": [
      "Model: \"sequential\"\n",
      "_________________________________________________________________\n",
      " Layer (type)                Output Shape              Param #   \n",
      "=================================================================\n",
      " embedding (Embedding)       (None, 100, 16)           8000      \n",
      "                                                                 \n",
      " lstm (LSTM)                 (None, 8)                 800       \n",
      "                                                                 \n",
      " dense (Dense)               (None, 1)                 9         \n",
      "                                                                 \n",
      "=================================================================\n",
      "Total params: 8809 (34.41 KB)\n",
      "Trainable params: 8809 (34.41 KB)\n",
      "Non-trainable params: 0 (0.00 Byte)\n",
      "_________________________________________________________________\n"
     ]
    }
   ],
   "source": [
    "model.summary()"
   ]
  },
  {
   "cell_type": "markdown",
   "id": "9cf01917",
   "metadata": {},
   "source": [
    "SimpleRNN 클래스의 모델 파라미터 개수는 200개였다. ***LSTM 셀에는 작은 셀이 4개 있으므로 정확히 4개가 늘어 모델 파라미터 개수는 800개가 되었다.***\n",
    "\n",
    "모델을 컴파일하고 훈련해 보겠다. 이전과 마찬가지로 배치 크기는 64개, 에포크 횟수는 100으로 지정한다. 체크포인트와 조기 종료를 위한 코드도 동일하다."
   ]
  },
  {
   "cell_type": "code",
   "execution_count": 5,
   "id": "94981753",
   "metadata": {},
   "outputs": [
    {
     "name": "stderr",
     "output_type": "stream",
     "text": [
      "WARNING:absl:At this time, the v2.11+ optimizer `tf.keras.optimizers.RMSprop` runs slowly on M1/M2 Macs, please use the legacy Keras optimizer instead, located at `tf.keras.optimizers.legacy.RMSprop`.\n",
      "WARNING:absl:There is a known slowdown when using v2.11+ Keras optimizers on M1/M2 Macs. Falling back to the legacy Keras optimizer, i.e., `tf.keras.optimizers.legacy.RMSprop`.\n"
     ]
    },
    {
     "name": "stdout",
     "output_type": "stream",
     "text": [
      "Epoch 1/100\n",
      "313/313 [==============================] - 4s 10ms/step - loss: 0.6924 - accuracy: 0.5461 - val_loss: 0.6916 - val_accuracy: 0.5714\n",
      "Epoch 2/100\n",
      " 19/313 [>.............................] - ETA: 2s - loss: 0.6915 - accuracy: 0.5502"
     ]
    },
    {
     "name": "stderr",
     "output_type": "stream",
     "text": [
      "/Library/Frameworks/Python.framework/Versions/3.11/lib/python3.11/site-packages/keras/src/engine/training.py:3000: UserWarning: You are saving your model as an HDF5 file via `model.save()`. This file format is considered legacy. We recommend using instead the native Keras format, e.g. `model.save('my_model.keras')`.\n",
      "  saving_api.save_model(\n"
     ]
    },
    {
     "name": "stdout",
     "output_type": "stream",
     "text": [
      "313/313 [==============================] - 3s 9ms/step - loss: 0.6899 - accuracy: 0.6101 - val_loss: 0.6881 - val_accuracy: 0.6286\n",
      "Epoch 3/100\n",
      "313/313 [==============================] - 3s 9ms/step - loss: 0.6839 - accuracy: 0.6406 - val_loss: 0.6770 - val_accuracy: 0.6334\n",
      "Epoch 4/100\n",
      "313/313 [==============================] - 3s 9ms/step - loss: 0.6576 - accuracy: 0.6611 - val_loss: 0.6305 - val_accuracy: 0.7200\n",
      "Epoch 5/100\n",
      "313/313 [==============================] - 3s 9ms/step - loss: 0.6099 - accuracy: 0.7365 - val_loss: 0.5935 - val_accuracy: 0.7490\n",
      "Epoch 6/100\n",
      "313/313 [==============================] - 3s 9ms/step - loss: 0.5825 - accuracy: 0.7527 - val_loss: 0.5723 - val_accuracy: 0.7572\n",
      "Epoch 7/100\n",
      "313/313 [==============================] - 3s 9ms/step - loss: 0.5609 - accuracy: 0.7643 - val_loss: 0.5564 - val_accuracy: 0.7562\n",
      "Epoch 8/100\n",
      "313/313 [==============================] - 3s 9ms/step - loss: 0.5402 - accuracy: 0.7757 - val_loss: 0.5419 - val_accuracy: 0.7720\n",
      "Epoch 9/100\n",
      "313/313 [==============================] - 3s 9ms/step - loss: 0.5213 - accuracy: 0.7805 - val_loss: 0.5255 - val_accuracy: 0.7614\n",
      "Epoch 10/100\n",
      "313/313 [==============================] - 3s 9ms/step - loss: 0.5024 - accuracy: 0.7872 - val_loss: 0.5052 - val_accuracy: 0.7788\n",
      "Epoch 11/100\n",
      "313/313 [==============================] - 3s 9ms/step - loss: 0.4869 - accuracy: 0.7929 - val_loss: 0.4924 - val_accuracy: 0.7766\n",
      "Epoch 12/100\n",
      "313/313 [==============================] - 3s 9ms/step - loss: 0.4745 - accuracy: 0.7952 - val_loss: 0.4844 - val_accuracy: 0.7814\n",
      "Epoch 13/100\n",
      "313/313 [==============================] - 3s 9ms/step - loss: 0.4654 - accuracy: 0.7962 - val_loss: 0.4762 - val_accuracy: 0.7884\n",
      "Epoch 14/100\n",
      "313/313 [==============================] - 3s 9ms/step - loss: 0.4584 - accuracy: 0.8001 - val_loss: 0.4712 - val_accuracy: 0.7796\n",
      "Epoch 15/100\n",
      "313/313 [==============================] - 3s 9ms/step - loss: 0.4519 - accuracy: 0.8018 - val_loss: 0.4665 - val_accuracy: 0.7816\n",
      "Epoch 16/100\n",
      "313/313 [==============================] - 3s 9ms/step - loss: 0.4467 - accuracy: 0.8041 - val_loss: 0.4665 - val_accuracy: 0.7836\n",
      "Epoch 17/100\n",
      "313/313 [==============================] - 3s 9ms/step - loss: 0.4418 - accuracy: 0.8055 - val_loss: 0.4600 - val_accuracy: 0.7862\n",
      "Epoch 18/100\n",
      "313/313 [==============================] - 3s 9ms/step - loss: 0.4387 - accuracy: 0.8069 - val_loss: 0.4552 - val_accuracy: 0.7916\n",
      "Epoch 19/100\n",
      "313/313 [==============================] - 3s 9ms/step - loss: 0.4347 - accuracy: 0.8087 - val_loss: 0.4544 - val_accuracy: 0.7898\n",
      "Epoch 20/100\n",
      "313/313 [==============================] - 3s 9ms/step - loss: 0.4323 - accuracy: 0.8085 - val_loss: 0.4517 - val_accuracy: 0.7912\n",
      "Epoch 21/100\n",
      "313/313 [==============================] - 3s 9ms/step - loss: 0.4295 - accuracy: 0.8102 - val_loss: 0.4501 - val_accuracy: 0.7928\n",
      "Epoch 22/100\n",
      "313/313 [==============================] - 3s 9ms/step - loss: 0.4264 - accuracy: 0.8106 - val_loss: 0.4496 - val_accuracy: 0.7920\n",
      "Epoch 23/100\n",
      "313/313 [==============================] - 3s 9ms/step - loss: 0.4246 - accuracy: 0.8113 - val_loss: 0.4455 - val_accuracy: 0.7942\n",
      "Epoch 24/100\n",
      "313/313 [==============================] - 3s 9ms/step - loss: 0.4220 - accuracy: 0.8144 - val_loss: 0.4496 - val_accuracy: 0.7920\n",
      "Epoch 25/100\n",
      "313/313 [==============================] - 3s 9ms/step - loss: 0.4199 - accuracy: 0.8151 - val_loss: 0.4421 - val_accuracy: 0.7954\n",
      "Epoch 26/100\n",
      "313/313 [==============================] - 3s 9ms/step - loss: 0.4180 - accuracy: 0.8156 - val_loss: 0.4429 - val_accuracy: 0.7936\n",
      "Epoch 27/100\n",
      "313/313 [==============================] - 3s 9ms/step - loss: 0.4162 - accuracy: 0.8155 - val_loss: 0.4398 - val_accuracy: 0.7980\n",
      "Epoch 28/100\n",
      "313/313 [==============================] - 3s 9ms/step - loss: 0.4148 - accuracy: 0.8166 - val_loss: 0.4413 - val_accuracy: 0.7978\n",
      "Epoch 29/100\n",
      "313/313 [==============================] - 3s 9ms/step - loss: 0.4127 - accuracy: 0.8181 - val_loss: 0.4390 - val_accuracy: 0.7960\n",
      "Epoch 30/100\n",
      "313/313 [==============================] - 3s 9ms/step - loss: 0.4116 - accuracy: 0.8164 - val_loss: 0.4395 - val_accuracy: 0.7988\n",
      "Epoch 31/100\n",
      "313/313 [==============================] - 3s 9ms/step - loss: 0.4097 - accuracy: 0.8175 - val_loss: 0.4361 - val_accuracy: 0.8022\n",
      "Epoch 32/100\n",
      "313/313 [==============================] - 3s 9ms/step - loss: 0.4081 - accuracy: 0.8208 - val_loss: 0.4352 - val_accuracy: 0.8032\n",
      "Epoch 33/100\n",
      "313/313 [==============================] - 3s 9ms/step - loss: 0.4073 - accuracy: 0.8203 - val_loss: 0.4355 - val_accuracy: 0.7976\n",
      "Epoch 34/100\n",
      "313/313 [==============================] - 3s 9ms/step - loss: 0.4062 - accuracy: 0.8188 - val_loss: 0.4399 - val_accuracy: 0.7948\n",
      "Epoch 35/100\n",
      "313/313 [==============================] - 3s 9ms/step - loss: 0.4051 - accuracy: 0.8220 - val_loss: 0.4329 - val_accuracy: 0.8006\n",
      "Epoch 36/100\n",
      "313/313 [==============================] - 3s 9ms/step - loss: 0.4038 - accuracy: 0.8209 - val_loss: 0.4348 - val_accuracy: 0.8040\n",
      "Epoch 37/100\n",
      "313/313 [==============================] - 3s 9ms/step - loss: 0.4025 - accuracy: 0.8202 - val_loss: 0.4328 - val_accuracy: 0.8002\n",
      "Epoch 38/100\n",
      "313/313 [==============================] - 3s 9ms/step - loss: 0.4021 - accuracy: 0.8212 - val_loss: 0.4321 - val_accuracy: 0.8036\n",
      "Epoch 39/100\n",
      "313/313 [==============================] - 3s 9ms/step - loss: 0.4004 - accuracy: 0.8212 - val_loss: 0.4361 - val_accuracy: 0.7998\n",
      "Epoch 40/100\n",
      "313/313 [==============================] - 3s 9ms/step - loss: 0.3995 - accuracy: 0.8231 - val_loss: 0.4313 - val_accuracy: 0.8038\n",
      "Epoch 41/100\n",
      "313/313 [==============================] - 3s 9ms/step - loss: 0.3989 - accuracy: 0.8248 - val_loss: 0.4303 - val_accuracy: 0.8064\n",
      "Epoch 42/100\n",
      "313/313 [==============================] - 3s 9ms/step - loss: 0.3980 - accuracy: 0.8238 - val_loss: 0.4309 - val_accuracy: 0.8014\n",
      "Epoch 43/100\n",
      "313/313 [==============================] - 3s 9ms/step - loss: 0.3968 - accuracy: 0.8253 - val_loss: 0.4314 - val_accuracy: 0.8038\n",
      "Epoch 44/100\n",
      "313/313 [==============================] - 3s 9ms/step - loss: 0.3959 - accuracy: 0.8264 - val_loss: 0.4290 - val_accuracy: 0.8026\n",
      "Epoch 45/100\n",
      "313/313 [==============================] - 3s 9ms/step - loss: 0.3953 - accuracy: 0.8249 - val_loss: 0.4302 - val_accuracy: 0.8042\n",
      "Epoch 46/100\n",
      "313/313 [==============================] - 3s 9ms/step - loss: 0.3945 - accuracy: 0.8259 - val_loss: 0.4316 - val_accuracy: 0.8012\n",
      "Epoch 47/100\n",
      "313/313 [==============================] - 3s 9ms/step - loss: 0.3942 - accuracy: 0.8248 - val_loss: 0.4327 - val_accuracy: 0.8024\n"
     ]
    }
   ],
   "source": [
    "rmsprop = keras.optimizers.RMSprop(learning_rate=1e-4)\n",
    "model.compile(optimizer=rmsprop, loss='binary_crossentropy', metrics=['accuracy'])\n",
    "checkpoint_cb = keras.callbacks.ModelCheckpoint('best-lstm-model.h5', save_best_only=True)\n",
    "early_stopping_cb = keras.callbacks.EarlyStopping(patience=3, restore_best_weights=True)\n",
    "history = model.fit(train_seq, y_train, epochs=100, batch_size=64,\n",
    "                    validation_data=(val_seq, y_val), callbacks=[checkpoint_cb, early_stopping_cb])"
   ]
  },
  {
   "cell_type": "code",
   "execution_count": 6,
   "id": "85655bbe",
   "metadata": {},
   "outputs": [
    {
     "data": {
      "image/png": "[encoded data removed]",
      "text/plain": [
       "<Figure size 640x480 with 1 Axes>"
      ]
     },
     "metadata": {},
     "output_type": "display_data"
    }
   ],
   "source": [
    "import matplotlib.pyplot as plt\n",
    "plt.plot(history.history['loss'])\n",
    "plt.plot(history.history['val_loss'])\n",
    "plt.xlabel('epoch')\n",
    "plt.ylabel('loss')\n",
    "plt.legend(['train', 'val'])\n",
    "plt.show()"
   ]
  },
  {
   "cell_type": "markdown",
   "id": "f36f74d6",
   "metadata": {},
   "source": [
    "그래프를 보면 기본 순환층보다 LSTM이 과대적합을 억제하면서 훈련을 잘 수항한 것으로 보인다. 하지만 경우에 따라서는 과대적합을 더 강하게 제어할 필요가 있다. 7장에서 배웠던 드롭아웃을 순환층에도 적용할 수 있을까? 다음 섹션에서 이에 대해 알아보자."
   ]
  },
  {
   "cell_type": "markdown",
   "id": "fe74dd39",
   "metadata": {},
   "source": [
    "### 순환층에 드롭아웃 적용하기\n",
    "완전 연결 신경망과 합성곱 신경망에서는 Dropout 클래스를 사용해 드롭아웃을 적용했다. 이를 통해 모델이 훈련 세트나 너무 과대적합되는 것을 막았다. 순환층은 자체적으로 드롭아웃 기능을 제공한다. SimpleRNN과 LSTM 클래스 모두 dropout 매개변수와 recurrent_dropout 매개변수를 가지고 있다.\n",
    "\n",
    "dropout 매개변수는 셀의 입력에 드롭아웃을 적용하고 recurrent_dropout은 순환되는 은닉 상태에 드롭아웃을 적용한다. ***하지만 기술적인 문제로 인해 recurrent_dropout을 사용하면 GPU를 사용하여 모델을 훈련하지 못한다.*** 이 대문에 모델의 훈련 속도가 크게 느려진다. 따라서 여기에서는 dropout만을 사용해 보겠다.\n",
    "\n",
    "전체적인 모델 구조는 이전과 동일하다. LSTM 클래스에 dropout 매개변수를 0.3으로 지정하여 30%의 입력을 드롭아웃 한다."
   ]
  },
  {
   "cell_type": "code",
   "execution_count": 7,
   "id": "1939e537",
   "metadata": {},
   "outputs": [],
   "source": [
    "model2 = keras.Sequential()\n",
    "model2.add(keras.layers.Embedding(500, 16, input_length=100)) # 두번째 매개변수는 임베딩벡터 크기\n",
    "model2.add(keras.layers.LSTM(8, dropout=0.3))\n",
    "model2.add(keras.layers.Dense(1, activation='sigmoid'))"
   ]
  },
  {
   "cell_type": "markdown",
   "id": "776b0a98",
   "metadata": {},
   "source": [
    "이 모델을 이전과 동일한 조건으로 훈련해 보자."
   ]
  },
  {
   "cell_type": "code",
   "execution_count": 8,
   "id": "a46f0b99",
   "metadata": {
    "scrolled": true
   },
   "outputs": [
    {
     "name": "stderr",
     "output_type": "stream",
     "text": [
      "WARNING:absl:At this time, the v2.11+ optimizer `tf.keras.optimizers.RMSprop` runs slowly on M1/M2 Macs, please use the legacy Keras optimizer instead, located at `tf.keras.optimizers.legacy.RMSprop`.\n",
      "WARNING:absl:There is a known slowdown when using v2.11+ Keras optimizers on M1/M2 Macs. Falling back to the legacy Keras optimizer, i.e., `tf.keras.optimizers.legacy.RMSprop`.\n"
     ]
    },
    {
     "name": "stdout",
     "output_type": "stream",
     "text": [
      "Epoch 1/100\n",
      "313/313 [==============================] - 4s 10ms/step - loss: 0.6926 - accuracy: 0.5279 - val_loss: 0.6918 - val_accuracy: 0.5782\n",
      "Epoch 2/100\n",
      " 19/313 [>.............................] - ETA: 2s - loss: 0.6917 - accuracy: 0.5666"
     ]
    },
    {
     "name": "stderr",
     "output_type": "stream",
     "text": [
      "/Library/Frameworks/Python.framework/Versions/3.11/lib/python3.11/site-packages/keras/src/engine/training.py:3000: UserWarning: You are saving your model as an HDF5 file via `model.save()`. This file format is considered legacy. We recommend using instead the native Keras format, e.g. `model.save('my_model.keras')`.\n",
      "  saving_api.save_model(\n"
     ]
    },
    {
     "name": "stdout",
     "output_type": "stream",
     "text": [
      "313/313 [==============================] - 3s 10ms/step - loss: 0.6896 - accuracy: 0.6069 - val_loss: 0.6864 - val_accuracy: 0.6296\n",
      "Epoch 3/100\n",
      "313/313 [==============================] - 3s 10ms/step - loss: 0.6767 - accuracy: 0.6311 - val_loss: 0.6569 - val_accuracy: 0.6882\n",
      "Epoch 4/100\n",
      "313/313 [==============================] - 3s 10ms/step - loss: 0.6364 - accuracy: 0.7102 - val_loss: 0.6181 - val_accuracy: 0.7146\n",
      "Epoch 5/100\n",
      "313/313 [==============================] - 3s 10ms/step - loss: 0.6107 - accuracy: 0.7158 - val_loss: 0.5968 - val_accuracy: 0.7310\n",
      "Epoch 6/100\n",
      "313/313 [==============================] - 3s 10ms/step - loss: 0.5889 - accuracy: 0.7321 - val_loss: 0.5757 - val_accuracy: 0.7422\n",
      "Epoch 7/100\n",
      "313/313 [==============================] - 3s 10ms/step - loss: 0.5677 - accuracy: 0.7430 - val_loss: 0.5577 - val_accuracy: 0.7514\n",
      "Epoch 8/100\n",
      "313/313 [==============================] - 3s 10ms/step - loss: 0.5479 - accuracy: 0.7559 - val_loss: 0.5382 - val_accuracy: 0.7630\n",
      "Epoch 9/100\n",
      "313/313 [==============================] - 3s 10ms/step - loss: 0.5286 - accuracy: 0.7667 - val_loss: 0.5207 - val_accuracy: 0.7724\n",
      "Epoch 10/100\n",
      "313/313 [==============================] - 3s 10ms/step - loss: 0.5098 - accuracy: 0.7763 - val_loss: 0.5041 - val_accuracy: 0.7810\n",
      "Epoch 11/100\n",
      "313/313 [==============================] - 3s 10ms/step - loss: 0.4945 - accuracy: 0.7851 - val_loss: 0.4923 - val_accuracy: 0.7864\n",
      "Epoch 12/100\n",
      "313/313 [==============================] - 3s 10ms/step - loss: 0.4856 - accuracy: 0.7871 - val_loss: 0.4857 - val_accuracy: 0.7838\n",
      "Epoch 13/100\n",
      "313/313 [==============================] - 3s 10ms/step - loss: 0.4761 - accuracy: 0.7890 - val_loss: 0.4776 - val_accuracy: 0.7878\n",
      "Epoch 14/100\n",
      "313/313 [==============================] - 3s 10ms/step - loss: 0.4711 - accuracy: 0.7931 - val_loss: 0.4790 - val_accuracy: 0.7840\n",
      "Epoch 15/100\n",
      "313/313 [==============================] - 3s 10ms/step - loss: 0.4652 - accuracy: 0.7928 - val_loss: 0.4687 - val_accuracy: 0.7918\n",
      "Epoch 16/100\n",
      "313/313 [==============================] - 3s 10ms/step - loss: 0.4606 - accuracy: 0.7944 - val_loss: 0.4642 - val_accuracy: 0.7926\n",
      "Epoch 17/100\n",
      "313/313 [==============================] - 3s 10ms/step - loss: 0.4555 - accuracy: 0.7961 - val_loss: 0.4601 - val_accuracy: 0.7904\n",
      "Epoch 18/100\n",
      "313/313 [==============================] - 3s 10ms/step - loss: 0.4523 - accuracy: 0.7983 - val_loss: 0.4566 - val_accuracy: 0.7922\n",
      "Epoch 19/100\n",
      "313/313 [==============================] - 3s 10ms/step - loss: 0.4490 - accuracy: 0.8018 - val_loss: 0.4554 - val_accuracy: 0.7942\n",
      "Epoch 20/100\n",
      "313/313 [==============================] - 3s 10ms/step - loss: 0.4441 - accuracy: 0.8016 - val_loss: 0.4512 - val_accuracy: 0.7952\n",
      "Epoch 21/100\n",
      "313/313 [==============================] - 3s 10ms/step - loss: 0.4401 - accuracy: 0.8045 - val_loss: 0.4494 - val_accuracy: 0.7940\n",
      "Epoch 22/100\n",
      "313/313 [==============================] - 3s 10ms/step - loss: 0.4394 - accuracy: 0.8022 - val_loss: 0.4483 - val_accuracy: 0.7964\n",
      "Epoch 23/100\n",
      "313/313 [==============================] - 3s 10ms/step - loss: 0.4362 - accuracy: 0.8062 - val_loss: 0.4454 - val_accuracy: 0.7968\n",
      "Epoch 24/100\n",
      "313/313 [==============================] - 3s 10ms/step - loss: 0.4340 - accuracy: 0.8037 - val_loss: 0.4447 - val_accuracy: 0.7912\n",
      "Epoch 25/100\n",
      "313/313 [==============================] - 3s 10ms/step - loss: 0.4335 - accuracy: 0.8047 - val_loss: 0.4421 - val_accuracy: 0.7994\n",
      "Epoch 26/100\n",
      "313/313 [==============================] - 3s 10ms/step - loss: 0.4302 - accuracy: 0.8059 - val_loss: 0.4440 - val_accuracy: 0.7926\n",
      "Epoch 27/100\n",
      "313/313 [==============================] - 3s 10ms/step - loss: 0.4292 - accuracy: 0.8070 - val_loss: 0.4400 - val_accuracy: 0.8008\n",
      "Epoch 28/100\n",
      "313/313 [==============================] - 3s 10ms/step - loss: 0.4266 - accuracy: 0.8088 - val_loss: 0.4434 - val_accuracy: 0.7978\n",
      "Epoch 29/100\n",
      "313/313 [==============================] - 3s 10ms/step - loss: 0.4251 - accuracy: 0.8080 - val_loss: 0.4388 - val_accuracy: 0.7988\n",
      "Epoch 30/100\n",
      "313/313 [==============================] - 3s 10ms/step - loss: 0.4255 - accuracy: 0.8084 - val_loss: 0.4384 - val_accuracy: 0.7964\n",
      "Epoch 31/100\n",
      "313/313 [==============================] - 3s 10ms/step - loss: 0.4242 - accuracy: 0.8064 - val_loss: 0.4378 - val_accuracy: 0.7966\n",
      "Epoch 32/100\n",
      "313/313 [==============================] - 3s 10ms/step - loss: 0.4222 - accuracy: 0.8087 - val_loss: 0.4359 - val_accuracy: 0.7966\n",
      "Epoch 33/100\n",
      "313/313 [==============================] - 3s 10ms/step - loss: 0.4210 - accuracy: 0.8098 - val_loss: 0.4350 - val_accuracy: 0.7990\n",
      "Epoch 34/100\n",
      "313/313 [==============================] - 3s 10ms/step - loss: 0.4219 - accuracy: 0.8105 - val_loss: 0.4350 - val_accuracy: 0.8006\n",
      "Epoch 35/100\n",
      "313/313 [==============================] - 3s 10ms/step - loss: 0.4182 - accuracy: 0.8132 - val_loss: 0.4357 - val_accuracy: 0.8016\n",
      "Epoch 36/100\n",
      "313/313 [==============================] - 3s 10ms/step - loss: 0.4186 - accuracy: 0.8113 - val_loss: 0.4335 - val_accuracy: 0.7998\n",
      "Epoch 37/100\n",
      "313/313 [==============================] - 3s 10ms/step - loss: 0.4181 - accuracy: 0.8115 - val_loss: 0.4335 - val_accuracy: 0.7998\n",
      "Epoch 38/100\n",
      "313/313 [==============================] - 3s 10ms/step - loss: 0.4168 - accuracy: 0.8101 - val_loss: 0.4337 - val_accuracy: 0.7994\n",
      "Epoch 39/100\n",
      "313/313 [==============================] - 3s 10ms/step - loss: 0.4160 - accuracy: 0.8124 - val_loss: 0.4326 - val_accuracy: 0.7986\n",
      "Epoch 40/100\n",
      "313/313 [==============================] - 3s 10ms/step - loss: 0.4149 - accuracy: 0.8124 - val_loss: 0.4330 - val_accuracy: 0.8018\n",
      "Epoch 41/100\n",
      "313/313 [==============================] - 3s 10ms/step - loss: 0.4154 - accuracy: 0.8133 - val_loss: 0.4349 - val_accuracy: 0.8040\n",
      "Epoch 42/100\n",
      "313/313 [==============================] - 3s 10ms/step - loss: 0.4157 - accuracy: 0.8112 - val_loss: 0.4334 - val_accuracy: 0.7986\n"
     ]
    }
   ],
   "source": [
    "rmsprop = keras.optimizers.RMSprop(learning_rate=1e-4)\n",
    "model2.compile(optimizer=rmsprop, loss='binary_crossentropy', metrics=['accuracy'])\n",
    "checkpoint_cb = keras.callbacks.ModelCheckpoint('best-dropout-model.h5', save_best_only=True)\n",
    "early_stopping_cb = keras.callbacks.EarlyStopping(patience=3, restore_best_weights=True)\n",
    "history = model2.fit(train_seq, y_train, epochs=100, batch_size=64,\n",
    "                    validation_data=(val_seq, y_val), callbacks=[checkpoint_cb, early_stopping_cb])"
   ]
  },
  {
   "cell_type": "markdown",
   "id": "a955140e",
   "metadata": {},
   "source": [
    "검증 손실이 약간 향상된것 같다. 훈련 손실 그래프를 그려보자."
   ]
  },
  {
   "cell_type": "code",
   "execution_count": 9,
   "id": "46d4f064",
   "metadata": {},
   "outputs": [
    {
     "data": {
      "image/png": "[encoded data removed]",
      "text/plain": [
       "<Figure size 640x480 with 1 Axes>"
      ]
     },
     "metadata": {},
     "output_type": "display_data"
    }
   ],
   "source": [
    "plt.plot(history.history['loss'])\n",
    "plt.plot(history.history['val_loss'])\n",
    "plt.xlabel('epoch')\n",
    "plt.ylabel('loss')\n",
    "plt.legend(['train', 'val'])\n",
    "plt.show()"
   ]
  },
  {
   "cell_type": "markdown",
   "id": "68e0cd50",
   "metadata": {},
   "source": [
    "LSTM 층에 적용한 드롭아웃이 효과를 발휘한 것 같다. 훈련 손실과 검증 손실 같의 차이가 좁혀진 것을 확인 할수 있었다.\n",
    "\n",
    "밀집층이나 합성곱 층처럼 순환층도 여러개를 쌓지 않을 이유가 없다. 다음 섹션에서 2개의 순환층을 연결한 모델을 훈련해 보자.\n",
    "\n"
   ]
  },
  {
   "cell_type": "markdown",
   "id": "d9432240",
   "metadata": {},
   "source": [
    "### 2개의 층을 연결하기\n",
    "순환층을 연결할 때는 한 가지 주의할 점이 있다. 앞서 언급했지만 순환층의 은닉상태는 샘플의 마지막 타임스텝에 대한 은닉 상태만 다음 층으로 전달한다. \n",
    "\n",
    "하지만 순환층을 쌓게 되면 모든 순환층에 순차데이처가 필요하다. ***따라서 앞쪽의 순환층이 모든 타입스텝에 대한 은닉 상태를 출력해야 한다. 오직 마지막 순환층만 마지막 타임스텝의 은닉 상태를 출력해야 한다.***\n",
    "\n",
    "케라스의 순환층에서 모든 타임스텝의 은닉 상태를 출력하려면 마지막을 제외한 다른 모든 순환층에서 return_sequences 매개변수를 True로 지정하면 된다. 다음의 코드를 확인해보자."
   ]
  },
  {
   "cell_type": "code",
   "execution_count": 10,
   "id": "48d62f54",
   "metadata": {},
   "outputs": [],
   "source": [
    "model3 = keras.Sequential()\n",
    "model3.add(keras.layers.Embedding(500, 16, input_length=100))\n",
    "model3.add(keras.layers.LSTM(8, dropout=0.3, return_sequences=True))\n",
    "model3.add(keras.layers.LSTM(8, dropout=0.3))\n",
    "model3.add(keras.layers.Dense(1, activation='sigmoid'))"
   ]
  },
  {
   "cell_type": "markdown",
   "id": "d2164172",
   "metadata": {},
   "source": [
    "2개의 LSTM층을 쌓았고 모두 드롭아웃을 0.3으로 지정했다. 그리고 첫 번째 LSTM 클래스에는 return_sequences 매개변수를 True로 지정한 것을 볼 수 있다. summary() 메서드의 결과를 확인해 보자."
   ]
  },
  {
   "cell_type": "code",
   "execution_count": 11,
   "id": "aa2c748d",
   "metadata": {},
   "outputs": [
    {
     "name": "stdout",
     "output_type": "stream",
     "text": [
      "Model: \"sequential_2\"\n",
      "_________________________________________________________________\n",
      " Layer (type)                Output Shape              Param #   \n",
      "=================================================================\n",
      " embedding_2 (Embedding)     (None, 100, 16)           8000      \n",
      "                                                                 \n",
      " lstm_2 (LSTM)               (None, 100, 8)            800       \n",
      "                                                                 \n",
      " lstm_3 (LSTM)               (None, 8)                 544       \n",
      "                                                                 \n",
      " dense_2 (Dense)             (None, 1)                 9         \n",
      "                                                                 \n",
      "=================================================================\n",
      "Total params: 9353 (36.54 KB)\n",
      "Trainable params: 9353 (36.54 KB)\n",
      "Non-trainable params: 0 (0.00 Byte)\n",
      "_________________________________________________________________\n"
     ]
    }
   ],
   "source": [
    "model3.summary()"
   ]
  },
  {
   "cell_type": "markdown",
   "id": "b1609427",
   "metadata": {},
   "source": [
    "첫 번째 LSTM 층이 모든 타임스텝(100개)의 은닉 상태를 출력하기 때문에 출력 크기가 (None,100,8)로 표시되었다. \n",
    "\n",
    "이에 반해 두 번째 LSTM 층의 출력 크기는 마지막 타임스텝의 은닉 상태만 출력하기 때문에 (None,8)이다.\n",
    "\n",
    "이 모델을 앞에서와 같이 훈련해 보겠다"
   ]
  },
  {
   "cell_type": "code",
   "execution_count": 12,
   "id": "b6db0e9d",
   "metadata": {},
   "outputs": [
    {
     "name": "stdout",
     "output_type": "stream",
     "text": [
      "Epoch 1/100\n",
      "313/313 [==============================] - 7s 19ms/step - loss: 0.6925 - accuracy: 0.5472 - val_loss: 0.6917 - val_accuracy: 0.6054\n",
      "Epoch 2/100\n",
      "313/313 [==============================] - 6s 18ms/step - loss: 0.6882 - accuracy: 0.6101 - val_loss: 0.6807 - val_accuracy: 0.6588\n",
      "Epoch 3/100\n",
      "313/313 [==============================] - 6s 18ms/step - loss: 0.6460 - accuracy: 0.6741 - val_loss: 0.6065 - val_accuracy: 0.7012\n",
      "Epoch 4/100\n",
      "313/313 [==============================] - 6s 18ms/step - loss: 0.5884 - accuracy: 0.7090 - val_loss: 0.5637 - val_accuracy: 0.7324\n",
      "Epoch 5/100\n",
      "313/313 [==============================] - 6s 18ms/step - loss: 0.5553 - accuracy: 0.7387 - val_loss: 0.5438 - val_accuracy: 0.7414\n",
      "Epoch 6/100\n",
      "313/313 [==============================] - 6s 18ms/step - loss: 0.5331 - accuracy: 0.7516 - val_loss: 0.5199 - val_accuracy: 0.7606\n",
      "Epoch 7/100\n",
      "313/313 [==============================] - 6s 18ms/step - loss: 0.5184 - accuracy: 0.7602 - val_loss: 0.5038 - val_accuracy: 0.7718\n",
      "Epoch 8/100\n",
      "313/313 [==============================] - 6s 18ms/step - loss: 0.5013 - accuracy: 0.7704 - val_loss: 0.4936 - val_accuracy: 0.7768\n",
      "Epoch 9/100\n",
      "313/313 [==============================] - 6s 18ms/step - loss: 0.4907 - accuracy: 0.7764 - val_loss: 0.4883 - val_accuracy: 0.7774\n",
      "Epoch 10/100\n",
      "313/313 [==============================] - 6s 18ms/step - loss: 0.4832 - accuracy: 0.7789 - val_loss: 0.4766 - val_accuracy: 0.7852\n",
      "Epoch 11/100\n",
      "313/313 [==============================] - 6s 19ms/step - loss: 0.4752 - accuracy: 0.7818 - val_loss: 0.4724 - val_accuracy: 0.7826\n",
      "Epoch 12/100\n",
      "313/313 [==============================] - 6s 18ms/step - loss: 0.4680 - accuracy: 0.7861 - val_loss: 0.4657 - val_accuracy: 0.7874\n",
      "Epoch 13/100\n",
      "313/313 [==============================] - 6s 18ms/step - loss: 0.4642 - accuracy: 0.7909 - val_loss: 0.4605 - val_accuracy: 0.7890\n",
      "Epoch 14/100\n",
      "313/313 [==============================] - 6s 18ms/step - loss: 0.4578 - accuracy: 0.7926 - val_loss: 0.4589 - val_accuracy: 0.7860\n",
      "Epoch 15/100\n",
      "313/313 [==============================] - 6s 19ms/step - loss: 0.4555 - accuracy: 0.7918 - val_loss: 0.4545 - val_accuracy: 0.7920\n",
      "Epoch 16/100\n",
      "313/313 [==============================] - 6s 18ms/step - loss: 0.4511 - accuracy: 0.7944 - val_loss: 0.4520 - val_accuracy: 0.7926\n",
      "Epoch 17/100\n",
      "313/313 [==============================] - 6s 19ms/step - loss: 0.4476 - accuracy: 0.7958 - val_loss: 0.4491 - val_accuracy: 0.7932\n",
      "Epoch 18/100\n",
      "313/313 [==============================] - 6s 19ms/step - loss: 0.4437 - accuracy: 0.7979 - val_loss: 0.4469 - val_accuracy: 0.7924\n",
      "Epoch 19/100\n",
      "313/313 [==============================] - 6s 19ms/step - loss: 0.4420 - accuracy: 0.7992 - val_loss: 0.4452 - val_accuracy: 0.7894\n",
      "Epoch 20/100\n",
      "313/313 [==============================] - 6s 19ms/step - loss: 0.4392 - accuracy: 0.8008 - val_loss: 0.4454 - val_accuracy: 0.7904\n",
      "Epoch 21/100\n",
      "313/313 [==============================] - 6s 18ms/step - loss: 0.4362 - accuracy: 0.8025 - val_loss: 0.4414 - val_accuracy: 0.7964\n",
      "Epoch 22/100\n",
      "313/313 [==============================] - 6s 18ms/step - loss: 0.4372 - accuracy: 0.8024 - val_loss: 0.4403 - val_accuracy: 0.7968\n",
      "Epoch 23/100\n",
      "313/313 [==============================] - 6s 19ms/step - loss: 0.4340 - accuracy: 0.8009 - val_loss: 0.4426 - val_accuracy: 0.7980\n",
      "Epoch 24/100\n",
      "313/313 [==============================] - 6s 18ms/step - loss: 0.4341 - accuracy: 0.8049 - val_loss: 0.4381 - val_accuracy: 0.7998\n",
      "Epoch 25/100\n",
      "313/313 [==============================] - 6s 18ms/step - loss: 0.4317 - accuracy: 0.8033 - val_loss: 0.4377 - val_accuracy: 0.7984\n",
      "Epoch 26/100\n",
      "313/313 [==============================] - 6s 18ms/step - loss: 0.4286 - accuracy: 0.8046 - val_loss: 0.4370 - val_accuracy: 0.7964\n",
      "Epoch 27/100\n",
      "313/313 [==============================] - 6s 18ms/step - loss: 0.4282 - accuracy: 0.8077 - val_loss: 0.4359 - val_accuracy: 0.8018\n",
      "Epoch 28/100\n",
      "313/313 [==============================] - 6s 18ms/step - loss: 0.4257 - accuracy: 0.8080 - val_loss: 0.4360 - val_accuracy: 0.7988\n",
      "Epoch 29/100\n",
      "313/313 [==============================] - 6s 18ms/step - loss: 0.4255 - accuracy: 0.8062 - val_loss: 0.4353 - val_accuracy: 0.8012\n",
      "Epoch 30/100\n",
      "313/313 [==============================] - 6s 18ms/step - loss: 0.4255 - accuracy: 0.8058 - val_loss: 0.4337 - val_accuracy: 0.8002\n",
      "Epoch 31/100\n",
      "313/313 [==============================] - 6s 18ms/step - loss: 0.4242 - accuracy: 0.8065 - val_loss: 0.4337 - val_accuracy: 0.8048\n",
      "Epoch 32/100\n",
      "313/313 [==============================] - 6s 18ms/step - loss: 0.4219 - accuracy: 0.8060 - val_loss: 0.4327 - val_accuracy: 0.8016\n",
      "Epoch 33/100\n",
      "313/313 [==============================] - 6s 18ms/step - loss: 0.4218 - accuracy: 0.8084 - val_loss: 0.4341 - val_accuracy: 0.8020\n",
      "Epoch 34/100\n",
      "313/313 [==============================] - 6s 18ms/step - loss: 0.4219 - accuracy: 0.8076 - val_loss: 0.4373 - val_accuracy: 0.7984\n",
      "Epoch 35/100\n",
      "313/313 [==============================] - 6s 19ms/step - loss: 0.4223 - accuracy: 0.8073 - val_loss: 0.4310 - val_accuracy: 0.8046\n",
      "Epoch 36/100\n",
      "313/313 [==============================] - 6s 18ms/step - loss: 0.4190 - accuracy: 0.8056 - val_loss: 0.4313 - val_accuracy: 0.8038\n",
      "Epoch 37/100\n",
      "313/313 [==============================] - 6s 18ms/step - loss: 0.4181 - accuracy: 0.8092 - val_loss: 0.4306 - val_accuracy: 0.8026\n",
      "Epoch 38/100\n",
      "313/313 [==============================] - 6s 18ms/step - loss: 0.4189 - accuracy: 0.8071 - val_loss: 0.4323 - val_accuracy: 0.8026\n",
      "Epoch 39/100\n",
      "313/313 [==============================] - 6s 18ms/step - loss: 0.4192 - accuracy: 0.8095 - val_loss: 0.4296 - val_accuracy: 0.8038\n",
      "Epoch 40/100\n",
      "313/313 [==============================] - 6s 18ms/step - loss: 0.4168 - accuracy: 0.8113 - val_loss: 0.4303 - val_accuracy: 0.8024\n",
      "Epoch 41/100\n",
      "313/313 [==============================] - 6s 18ms/step - loss: 0.4145 - accuracy: 0.8120 - val_loss: 0.4299 - val_accuracy: 0.8044\n",
      "Epoch 42/100\n",
      "313/313 [==============================] - 6s 18ms/step - loss: 0.4137 - accuracy: 0.8110 - val_loss: 0.4287 - val_accuracy: 0.8036\n",
      "Epoch 43/100\n",
      "313/313 [==============================] - 6s 19ms/step - loss: 0.4147 - accuracy: 0.8108 - val_loss: 0.4288 - val_accuracy: 0.8040\n",
      "Epoch 44/100\n",
      "313/313 [==============================] - 6s 19ms/step - loss: 0.4129 - accuracy: 0.8091 - val_loss: 0.4286 - val_accuracy: 0.8020\n",
      "Epoch 45/100\n",
      "313/313 [==============================] - 6s 19ms/step - loss: 0.4118 - accuracy: 0.8105 - val_loss: 0.4359 - val_accuracy: 0.8000\n",
      "Epoch 46/100\n",
      "313/313 [==============================] - 6s 19ms/step - loss: 0.4117 - accuracy: 0.8118 - val_loss: 0.4300 - val_accuracy: 0.8004\n",
      "Epoch 47/100\n",
      "313/313 [==============================] - 6s 19ms/step - loss: 0.4127 - accuracy: 0.8109 - val_loss: 0.4277 - val_accuracy: 0.8058\n",
      "Epoch 48/100\n",
      "313/313 [==============================] - 6s 18ms/step - loss: 0.4137 - accuracy: 0.8084 - val_loss: 0.4280 - val_accuracy: 0.8048\n",
      "Epoch 49/100\n",
      "313/313 [==============================] - 6s 19ms/step - loss: 0.4109 - accuracy: 0.8106 - val_loss: 0.4269 - val_accuracy: 0.8056\n",
      "Epoch 50/100\n",
      "313/313 [==============================] - 6s 19ms/step - loss: 0.4097 - accuracy: 0.8128 - val_loss: 0.4280 - val_accuracy: 0.8046\n",
      "Epoch 51/100\n",
      "313/313 [==============================] - 6s 18ms/step - loss: 0.4113 - accuracy: 0.8122 - val_loss: 0.4376 - val_accuracy: 0.7950\n",
      "Epoch 52/100\n",
      "313/313 [==============================] - 6s 19ms/step - loss: 0.4105 - accuracy: 0.8116 - val_loss: 0.4277 - val_accuracy: 0.8062\n"
     ]
    }
   ],
   "source": [
    "rmsprop = keras.optimizers.legacy.RMSprop(learning_rate=1e-4)  \n",
    "model3.compile(optimizer=rmsprop, loss='binary_crossentropy', metrics=['accuracy'])\n",
    "checkpoint_cb = keras.callbacks.ModelCheckpoint('best-2rnn-model.h5', save_best_only=True)\n",
    "early_stopping_cb = keras.callbacks.EarlyStopping(patience=3, restore_best_weights=True)\n",
    "history = model3.fit(train_seq, y_train, epochs=100, batch_size=64,\n",
    "                    validation_data=(val_seq, y_val), callbacks=[checkpoint_cb, early_stopping_cb])"
   ]
  },
  {
   "cell_type": "code",
   "execution_count": 14,
   "id": "cd1cf2ad",
   "metadata": {},
   "outputs": [
    {
     "data": {
      "image/png": "[encoded data removed]",
      "text/plain": [
       "<Figure size 640x480 with 1 Axes>"
      ]
     },
     "metadata": {},
     "output_type": "display_data"
    }
   ],
   "source": [
    "plt.plot(history.history['loss'])\n",
    "plt.plot(history.history['val_loss'])\n",
    "plt.xlabel('epoch')\n",
    "plt.ylabel('loss')\n",
    "plt.legend(['train', 'val'])\n",
    "plt.show()"
   ]
  },
  {
   "cell_type": "markdown",
   "id": "724c8aa4",
   "metadata": {},
   "source": [
    "그래프를 보면 과대적합을 제어하면서 손실을 최대한 낮춘 것 같다. 지금까지 LSTM 셀을 사용한 훈련과 드롭아웃을 적용해 보았고 2개의 층을 쌓은 순환 신경망을 만들어보았다."
   ]
  },
  {
   "cell_type": "markdown",
   "id": "2f2aaa35",
   "metadata": {},
   "source": [
    "### GRU 구조\n",
    "GTU 는 Gated Recurrent Unit의 약자이다. 뉴욕 대학교 조경현 교수가 발명한 셀로 유명하다. 이 셀은 LSTM을 간소화한 버전으로 생각할 수 있다.\n",
    "\n",
    "이셀은 LSTM 처럼 셀 상태를 계산하지 않고 은닉 상태 하나만 포함하고 있다.\n",
    "\n",
    "GRU 셀에는 은닉 상태와 입력에 가중치를 곱하고 절편을 더하는 작은 셀이 3개 들어있다. 2개는 시그모이드 활성화 함수를 사용하고 하나는 tanh 활성화 함수를 사용한다.\n",
    "\n",
    "GRU 셀은 LSTM보다 가중치가 적기 떄문에 계산량이 적지만 LSTM 못지 않은 좋은 성능을 내는 것으로 알려져있다."
   ]
  },
  {
   "cell_type": "markdown",
   "id": "c92e9e1d",
   "metadata": {},
   "source": [
    "### GRU 신경망 훈련하기"
   ]
  },
  {
   "cell_type": "code",
   "execution_count": 15,
   "id": "77eda508",
   "metadata": {},
   "outputs": [],
   "source": [
    "model4 = keras.Sequential()\n",
    "model4.add(keras.layers.Embedding(500, 16, input_length=100))\n",
    "model4.add(keras.layers.GRU(8))\n",
    "model4.add(keras.layers.Dense(1, activation='sigmoid'))"
   ]
  },
  {
   "cell_type": "markdown",
   "id": "751e54c1",
   "metadata": {},
   "source": [
    "LSTM 클래스를 GRU 클래스로 바뀐 것 외에는 이전 모델과 동일하다. 이 모델의 구조를 확인해 보자."
   ]
  },
  {
   "cell_type": "code",
   "execution_count": 16,
   "id": "8614d1ee",
   "metadata": {},
   "outputs": [
    {
     "name": "stdout",
     "output_type": "stream",
     "text": [
      "Model: \"sequential_3\"\n",
      "_________________________________________________________________\n",
      " Layer (type)                Output Shape              Param #   \n",
      "=================================================================\n",
      " embedding_3 (Embedding)     (None, 100, 16)           8000      \n",
      "                                                                 \n",
      " gru (GRU)                   (None, 8)                 624       \n",
      "                                                                 \n",
      " dense_3 (Dense)             (None, 1)                 9         \n",
      "                                                                 \n",
      "=================================================================\n",
      "Total params: 8633 (33.72 KB)\n",
      "Trainable params: 8633 (33.72 KB)\n",
      "Non-trainable params: 0 (0.00 Byte)\n",
      "_________________________________________________________________\n"
     ]
    }
   ],
   "source": [
    "model4.summary()"
   ]
  },
  {
   "cell_type": "markdown",
   "id": "bdf61976",
   "metadata": {},
   "source": [
    "GRU 층의 모델 파라미터 개수를 계산해 보겠다. GRU 셀에는 3개의 작은 셀이 있다. 작은 셀에는 입력과 은닉 상태에 곱하는 가중치와 절편이 있다. 입력에 곱하는 가중치는 16 x 8 = 128개 이고 은닉 상태에 곱하는 가중치는 8 x 8 = 64개이다. 그리고 절편은 뉴런마다 하나씩이므로 8개이다. 모두 더하면 128 + 64 + 8 = 200개 이다. \n",
    "\n",
    "이런 작은 셀이 3개이므로 모두 600개의 모델 파라미터가 필요하다. 그런데 summary()메서드의 출력은 624개이다. 무엇이 잘못 되었을까?\n",
    "\n",
    "\n",
    "\n",
    "사실 텐서플로에 기본적으로 구현된 GRU 셀의 계산은 앞의 그림과 조금 다르다. GRU 셀의 초기 버전은 다음 그림과 같이 계산된다.\n",
    "(p.540)\n",
    "\n",
    "##### 작은 셀마다 하나씩 절편이 추가되고 8개의 뉴런이 있으므로 총 24개의 모델 파라미터가 더해진다. 따라서 GRU층의 총 모델 파라미터 개수는 624개가 된다.\n",
    "\n",
    "텐서플로가 이런 계산 방식을 사용하는 이유는 GPU를 잘 활용하기 위해서이다. GRU셀을 사용한 순환 신경망을 훈련해 보자. 역시 훈련 방법은 이전과 동일하다."
   ]
  },
  {
   "cell_type": "code",
   "execution_count": 17,
   "id": "5f37b770",
   "metadata": {},
   "outputs": [
    {
     "name": "stdout",
     "output_type": "stream",
     "text": [
      "Epoch 1/100\n",
      "313/313 [==============================] - 4s 11ms/step - loss: 0.6925 - accuracy: 0.5270 - val_loss: 0.6917 - val_accuracy: 0.5480\n",
      "Epoch 2/100\n",
      " 19/313 [>.............................] - ETA: 2s - loss: 0.6924 - accuracy: 0.5214"
     ]
    },
    {
     "name": "stderr",
     "output_type": "stream",
     "text": [
      "/Library/Frameworks/Python.framework/Versions/3.11/lib/python3.11/site-packages/keras/src/engine/training.py:3000: UserWarning: You are saving your model as an HDF5 file via `model.save()`. This file format is considered legacy. We recommend using instead the native Keras format, e.g. `model.save('my_model.keras')`.\n",
      "  saving_api.save_model(\n"
     ]
    },
    {
     "name": "stdout",
     "output_type": "stream",
     "text": [
      "313/313 [==============================] - 3s 10ms/step - loss: 0.6908 - accuracy: 0.5623 - val_loss: 0.6898 - val_accuracy: 0.5924\n",
      "Epoch 3/100\n",
      "313/313 [==============================] - 3s 10ms/step - loss: 0.6877 - accuracy: 0.6055 - val_loss: 0.6860 - val_accuracy: 0.6172\n",
      "Epoch 4/100\n",
      "313/313 [==============================] - 3s 10ms/step - loss: 0.6818 - accuracy: 0.6285 - val_loss: 0.6786 - val_accuracy: 0.6326\n",
      "Epoch 5/100\n",
      "313/313 [==============================] - 3s 10ms/step - loss: 0.6702 - accuracy: 0.6465 - val_loss: 0.6637 - val_accuracy: 0.6434\n",
      "Epoch 6/100\n",
      "313/313 [==============================] - 3s 10ms/step - loss: 0.6457 - accuracy: 0.6641 - val_loss: 0.6297 - val_accuracy: 0.6714\n",
      "Epoch 7/100\n",
      "313/313 [==============================] - 3s 10ms/step - loss: 0.5920 - accuracy: 0.7023 - val_loss: 0.5724 - val_accuracy: 0.7224\n",
      "Epoch 8/100\n",
      "313/313 [==============================] - 3s 10ms/step - loss: 0.5507 - accuracy: 0.7347 - val_loss: 0.5496 - val_accuracy: 0.7362\n",
      "Epoch 9/100\n",
      "313/313 [==============================] - 3s 10ms/step - loss: 0.5310 - accuracy: 0.7497 - val_loss: 0.5370 - val_accuracy: 0.7442\n",
      "Epoch 10/100\n",
      "313/313 [==============================] - 3s 10ms/step - loss: 0.5172 - accuracy: 0.7577 - val_loss: 0.5259 - val_accuracy: 0.7510\n",
      "Epoch 11/100\n",
      "313/313 [==============================] - 3s 11ms/step - loss: 0.5058 - accuracy: 0.7634 - val_loss: 0.5161 - val_accuracy: 0.7568\n",
      "Epoch 12/100\n",
      "313/313 [==============================] - 3s 10ms/step - loss: 0.4966 - accuracy: 0.7688 - val_loss: 0.5073 - val_accuracy: 0.7616\n",
      "Epoch 13/100\n",
      "313/313 [==============================] - 3s 10ms/step - loss: 0.4880 - accuracy: 0.7721 - val_loss: 0.5007 - val_accuracy: 0.7634\n",
      "Epoch 14/100\n",
      "313/313 [==============================] - 3s 10ms/step - loss: 0.4810 - accuracy: 0.7776 - val_loss: 0.4962 - val_accuracy: 0.7642\n",
      "Epoch 15/100\n",
      "313/313 [==============================] - 3s 10ms/step - loss: 0.4746 - accuracy: 0.7805 - val_loss: 0.4896 - val_accuracy: 0.7752\n",
      "Epoch 16/100\n",
      "313/313 [==============================] - 3s 10ms/step - loss: 0.4694 - accuracy: 0.7844 - val_loss: 0.4849 - val_accuracy: 0.7754\n",
      "Epoch 17/100\n",
      "313/313 [==============================] - 3s 11ms/step - loss: 0.4638 - accuracy: 0.7882 - val_loss: 0.4815 - val_accuracy: 0.7798\n",
      "Epoch 18/100\n",
      "313/313 [==============================] - 3s 10ms/step - loss: 0.4596 - accuracy: 0.7895 - val_loss: 0.4762 - val_accuracy: 0.7776\n",
      "Epoch 19/100\n",
      "313/313 [==============================] - 3s 10ms/step - loss: 0.4555 - accuracy: 0.7916 - val_loss: 0.4732 - val_accuracy: 0.7786\n",
      "Epoch 20/100\n",
      "313/313 [==============================] - 4s 11ms/step - loss: 0.4516 - accuracy: 0.7955 - val_loss: 0.4749 - val_accuracy: 0.7716\n",
      "Epoch 21/100\n",
      "313/313 [==============================] - 3s 11ms/step - loss: 0.4482 - accuracy: 0.7958 - val_loss: 0.4689 - val_accuracy: 0.7856\n",
      "Epoch 22/100\n",
      "313/313 [==============================] - 3s 10ms/step - loss: 0.4449 - accuracy: 0.7979 - val_loss: 0.4662 - val_accuracy: 0.7790\n",
      "Epoch 23/100\n",
      "313/313 [==============================] - 3s 10ms/step - loss: 0.4421 - accuracy: 0.8002 - val_loss: 0.4626 - val_accuracy: 0.7874\n",
      "Epoch 24/100\n",
      "313/313 [==============================] - 3s 10ms/step - loss: 0.4395 - accuracy: 0.8029 - val_loss: 0.4613 - val_accuracy: 0.7830\n",
      "Epoch 25/100\n",
      "313/313 [==============================] - 3s 10ms/step - loss: 0.4372 - accuracy: 0.8029 - val_loss: 0.4594 - val_accuracy: 0.7912\n",
      "Epoch 26/100\n",
      "313/313 [==============================] - 3s 10ms/step - loss: 0.4350 - accuracy: 0.8056 - val_loss: 0.4572 - val_accuracy: 0.7888\n",
      "Epoch 27/100\n",
      "313/313 [==============================] - 3s 10ms/step - loss: 0.4330 - accuracy: 0.8059 - val_loss: 0.4565 - val_accuracy: 0.7882\n",
      "Epoch 28/100\n",
      "313/313 [==============================] - 3s 10ms/step - loss: 0.4312 - accuracy: 0.8073 - val_loss: 0.4551 - val_accuracy: 0.7886\n",
      "Epoch 29/100\n",
      "313/313 [==============================] - 3s 10ms/step - loss: 0.4301 - accuracy: 0.8076 - val_loss: 0.4545 - val_accuracy: 0.7890\n",
      "Epoch 30/100\n",
      "313/313 [==============================] - 3s 10ms/step - loss: 0.4283 - accuracy: 0.8091 - val_loss: 0.4535 - val_accuracy: 0.7912\n",
      "Epoch 31/100\n",
      "313/313 [==============================] - 3s 10ms/step - loss: 0.4272 - accuracy: 0.8088 - val_loss: 0.4544 - val_accuracy: 0.7930\n",
      "Epoch 32/100\n",
      "313/313 [==============================] - 3s 10ms/step - loss: 0.4257 - accuracy: 0.8102 - val_loss: 0.4540 - val_accuracy: 0.7928\n",
      "Epoch 33/100\n",
      "313/313 [==============================] - 3s 10ms/step - loss: 0.4245 - accuracy: 0.8122 - val_loss: 0.4515 - val_accuracy: 0.7914\n",
      "Epoch 34/100\n",
      "313/313 [==============================] - 3s 10ms/step - loss: 0.4233 - accuracy: 0.8126 - val_loss: 0.4539 - val_accuracy: 0.7924\n",
      "Epoch 35/100\n",
      "313/313 [==============================] - 3s 10ms/step - loss: 0.4220 - accuracy: 0.8131 - val_loss: 0.4555 - val_accuracy: 0.7900\n",
      "Epoch 36/100\n",
      "313/313 [==============================] - 3s 10ms/step - loss: 0.4217 - accuracy: 0.8129 - val_loss: 0.4501 - val_accuracy: 0.7910\n",
      "Epoch 37/100\n",
      "313/313 [==============================] - 3s 10ms/step - loss: 0.4207 - accuracy: 0.8137 - val_loss: 0.4504 - val_accuracy: 0.7860\n",
      "Epoch 38/100\n",
      "313/313 [==============================] - 3s 10ms/step - loss: 0.4204 - accuracy: 0.8140 - val_loss: 0.4486 - val_accuracy: 0.7912\n",
      "Epoch 39/100\n",
      "313/313 [==============================] - 3s 10ms/step - loss: 0.4190 - accuracy: 0.8129 - val_loss: 0.4495 - val_accuracy: 0.7874\n",
      "Epoch 40/100\n",
      "313/313 [==============================] - 3s 10ms/step - loss: 0.4187 - accuracy: 0.8145 - val_loss: 0.4473 - val_accuracy: 0.7930\n",
      "Epoch 41/100\n",
      "313/313 [==============================] - 3s 10ms/step - loss: 0.4181 - accuracy: 0.8150 - val_loss: 0.4468 - val_accuracy: 0.7898\n",
      "Epoch 42/100\n",
      "313/313 [==============================] - 3s 10ms/step - loss: 0.4172 - accuracy: 0.8152 - val_loss: 0.4472 - val_accuracy: 0.7878\n",
      "Epoch 43/100\n",
      "313/313 [==============================] - 3s 10ms/step - loss: 0.4165 - accuracy: 0.8156 - val_loss: 0.4464 - val_accuracy: 0.7888\n",
      "Epoch 44/100\n",
      "313/313 [==============================] - 3s 10ms/step - loss: 0.4164 - accuracy: 0.8156 - val_loss: 0.4459 - val_accuracy: 0.7888\n",
      "Epoch 45/100\n",
      "313/313 [==============================] - 3s 10ms/step - loss: 0.4156 - accuracy: 0.8163 - val_loss: 0.4440 - val_accuracy: 0.7946\n",
      "Epoch 46/100\n",
      "313/313 [==============================] - 3s 10ms/step - loss: 0.4153 - accuracy: 0.8156 - val_loss: 0.4431 - val_accuracy: 0.7930\n",
      "Epoch 47/100\n",
      "313/313 [==============================] - 3s 10ms/step - loss: 0.4147 - accuracy: 0.8163 - val_loss: 0.4437 - val_accuracy: 0.7958\n",
      "Epoch 48/100\n",
      "313/313 [==============================] - 3s 10ms/step - loss: 0.4142 - accuracy: 0.8152 - val_loss: 0.4438 - val_accuracy: 0.7944\n",
      "Epoch 49/100\n",
      "313/313 [==============================] - 3s 10ms/step - loss: 0.4138 - accuracy: 0.8156 - val_loss: 0.4438 - val_accuracy: 0.7908\n"
     ]
    }
   ],
   "source": [
    "rmsprop = keras.optimizers.legacy.RMSprop(learning_rate=1e-4)  \n",
    "model4.compile(optimizer=rmsprop, loss='binary_crossentropy', metrics=['accuracy'])\n",
    "checkpoint_cb = keras.callbacks.ModelCheckpoint('best-gru-model.h5', save_best_only=True)\n",
    "early_stopping_cb = keras.callbacks.EarlyStopping(patience=3, restore_best_weights=True)\n",
    "history = model4.fit(train_seq, y_train, epochs=100, batch_size=64,\n",
    "                    validation_data=(val_seq, y_val), callbacks=[checkpoint_cb, early_stopping_cb])"
   ]
  },
  {
   "cell_type": "code",
   "execution_count": 18,
   "id": "b60ebf6e",
   "metadata": {},
   "outputs": [
    {
     "data": {
      "image/png": "[encoded data removed]",
      "text/plain": [
       "<Figure size 640x480 with 1 Axes>"
      ]
     },
     "metadata": {},
     "output_type": "display_data"
    }
   ],
   "source": [
    "plt.plot(history.history['loss'])\n",
    "plt.plot(history.history['val_loss'])\n",
    "plt.xlabel('epoch')\n",
    "plt.ylabel('loss')\n",
    "plt.legend(['train', 'val'])\n",
    "plt.show()"
   ]
  },
  {
   "cell_type": "markdown",
   "id": "7c0f52d5",
   "metadata": {},
   "source": [
    "드롭아웃을 사용하지 않았기 때문에 이전보다 훈련 손실 차이가 있지만 훈련 과정이 잘 수렴되고 있는 것을 확인할 수 있다. 순환 신경망에서 가장 인기 있는 LSTM와 GRU셀을 사용해 성공적으로 훈련 시켰다."
   ]
  },
  {
   "cell_type": "markdown",
   "id": "c390923d",
   "metadata": {},
   "source": [
    "댓글을 긍정과 부정으로 분류할 수 있다!"
   ]
  }
 ],
 "metadata": {
  "kernelspec": {
   "display_name": "Python 3 (ipykernel)",
   "language": "python",
   "name": "python3"
  },
  "language_info": {
   "codemirror_mode": {
    "name": "ipython",
    "version": 3
   },
   "file_extension": ".py",
   "mimetype": "text/x-python",
   "name": "python",
   "nbconvert_exporter": "python",
   "pygments_lexer": "ipython3",
   "version": "3.11.2"
  }
 },
 "nbformat": 4,
 "nbformat_minor": 5
}
