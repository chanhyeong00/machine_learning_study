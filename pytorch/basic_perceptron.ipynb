{
  "nbformat": 4,
  "nbformat_minor": 0,
  "metadata": {
    "colab": {
      "provenance": [],
      "gpuType": "T4",
      "authorship_tag": "ABX9TyPJCCx0XP+d+mF1pPnF3t3O",
      "include_colab_link": true
    },
    "kernelspec": {
      "name": "python3",
      "display_name": "Python 3"
    },
    "language_info": {
      "name": "python"
    },
    "accelerator": "GPU"
  },
  "cells": [
    {
      "cell_type": "markdown",
      "metadata": {
        "id": "view-in-github",
        "colab_type": "text"
      },
      "source": [
        "<a href=\"https://colab.research.google.com/github/chanhyeong00/machine_learning_study/blob/main/pytorch/basic_perceptron.ipynb\" target=\"_parent\"><img src=\"https://colab.research.google.com/assets/colab-badge.svg\" alt=\"Open In Colab\"/></a>"
      ]
    },
    {
      "cell_type": "markdown",
      "source": [
        "### 퍼셉트론(perceptron)이란"
      ],
      "metadata": {
        "id": "OV4XSAatvcyi"
      }
    },
    {
      "cell_type": "markdown",
      "source": [
        "인공 신경망의 한 종류로, 출력이 0 또는 1인 작업을 의미하는 이진 분류 작업에 사용되는 간단한 모델이다.\n",
        "\n",
        "퍼셉트론은 신경세포(Neuron)가 신호를 전달하는 구조와 유사한 방식으로 구현됐다."
      ],
      "metadata": {
        "id": "-S_TqNEuvfgm"
      }
    },
    {
      "cell_type": "markdown",
      "source": [
        "퍼셉트론은 TLU(Thershold Logic Unit) 형태를 기반으로 하며, 계단 함수(step function)를 적용해 결과를 반환한다."
      ],
      "metadata": {
        "id": "tTLpiuvYvytY"
      }
    },
    {
      "cell_type": "markdown",
      "source": [
        "### 단층 퍼셉트론(Single Layer Perceptron)\n",
        "하나의 계층을 갖는 모델을 의미한다.\n",
        "\n",
        "- 단층 퍼셉트론 한계\n",
        "  - AND, OR, NAND 게이트와 같은 구조를 갖는 모델은 쉽게 구현 가능하다.\n",
        "  - XOR 게이트처럼 하나의 기울기로 표현하기 어려운 구조에서는 단층 퍼셉트론을 적용하기 어렵다.\n"
      ],
      "metadata": {
        "id": "cZRXPhs9wDKK"
      }
    },
    {
      "cell_type": "markdown",
      "source": [
        "#### 구조"
      ],
      "metadata": {
        "id": "yocxboBXyMsK"
      }
    },
    {
      "cell_type": "code",
      "source": [
        "import torch\n",
        "import pandas as pd\n",
        "from torch import nn\n",
        "from torch import optim\n",
        "from torch.utils.data import Dataset, DataLoader"
      ],
      "metadata": {
        "id": "kFjkj6pZyOF2"
      },
      "execution_count": 1,
      "outputs": []
    },
    {
      "cell_type": "code",
      "source": [
        "class CustomDataset(Dataset):\n",
        "    def __init__(self, file_path):\n",
        "        df = pd.read_csv(file_path)\n",
        "        self.x1 = df.iloc[:, 0].values\n",
        "        self.x2 = df.iloc[:, 1].values\n",
        "        self.y = df.iloc[:, 2].values\n",
        "        self.length = len(df)\n",
        "\n",
        "    def __getitem__(self, index):\n",
        "        x = torch.FloatTensor([self.x1[index], self.x2[index]])\n",
        "        y = torch.FloatTensor([self.y[index]])\n",
        "        return x, y\n",
        "\n",
        "    def __len__(self):\n",
        "        return self.length\n",
        "\n",
        "class CustomModel(nn.Module):\n",
        "    def __init__(self):\n",
        "        super().__init__()\n",
        "\n",
        "        self.layer = nn.Sequential(\n",
        "            nn.Linear(2, 1),\n",
        "            nn.Sigmoid()\n",
        "        )\n",
        "\n",
        "    def forward(self, x):\n",
        "        x = self.layer(x)\n",
        "        return x"
      ],
      "metadata": {
        "id": "plilG8wzyZ1f"
      },
      "execution_count": 2,
      "outputs": []
    },
    {
      "cell_type": "code",
      "source": [
        "train_dataset = CustomDataset(\"perceptron.csv\")\n",
        "train_dataloader = DataLoader(train_dataset, batch_size=64, shuffle=True, drop_last=True)"
      ],
      "metadata": {
        "id": "zSzSMjiiyga_"
      },
      "execution_count": 3,
      "outputs": []
    },
    {
      "cell_type": "markdown",
      "source": [
        "perceptron.csv 데이터셋은 XOR 문제이다."
      ],
      "metadata": {
        "id": "gEpCLZCrzog2"
      }
    },
    {
      "cell_type": "code",
      "source": [
        "\n",
        "device = \"cuda\" if torch.cuda.is_available() else \"cpu\"\n",
        "model = CustomModel().to(device)\n",
        "criterion = nn.BCELoss().to(device)\n",
        "optimizer = optim.SGD(model.parameters(), lr=0.01)"
      ],
      "metadata": {
        "id": "2A8vKazoyku1"
      },
      "execution_count": 4,
      "outputs": []
    },
    {
      "cell_type": "code",
      "source": [
        "for epoch in range(10000):\n",
        "    cost = 0.0\n",
        "\n",
        "    for x, y in train_dataloader:\n",
        "        x = x.to(device)\n",
        "        y = y.to(device)\n",
        "\n",
        "        output = model(x)\n",
        "        loss = criterion(output, y)\n",
        "\n",
        "        optimizer.zero_grad()\n",
        "        loss.backward()\n",
        "        optimizer.step()\n",
        "\n",
        "        cost += loss\n",
        "\n",
        "    cost = cost / len(train_dataloader)\n",
        "\n",
        "    if (epoch + 1) % 1000 == 0:\n",
        "        print(f\"Epoch : {epoch+1:4d}, Cost : {cost:.3f}\")"
      ],
      "metadata": {
        "colab": {
          "base_uri": "https://localhost:8080/"
        },
        "id": "RoVhc2-qyk3l",
        "outputId": "8af1847f-bd0f-4c2e-b491-4afb5ab78d33"
      },
      "execution_count": 5,
      "outputs": [
        {
          "output_type": "stream",
          "name": "stderr",
          "text": [
            "<ipython-input-2-b746038c3bc6>:10: DeprecationWarning: In future, it will be an error for 'np.bool_' scalars to be interpreted as an index\n",
            "  x = torch.FloatTensor([self.x1[index], self.x2[index]])\n",
            "<ipython-input-2-b746038c3bc6>:11: DeprecationWarning: In future, it will be an error for 'np.bool_' scalars to be interpreted as an index\n",
            "  y = torch.FloatTensor([self.y[index]])\n"
          ]
        },
        {
          "output_type": "stream",
          "name": "stdout",
          "text": [
            "Epoch : 1000, Cost : 0.692\n",
            "Epoch : 2000, Cost : 0.692\n",
            "Epoch : 3000, Cost : 0.692\n",
            "Epoch : 4000, Cost : 0.692\n",
            "Epoch : 5000, Cost : 0.692\n",
            "Epoch : 6000, Cost : 0.692\n",
            "Epoch : 7000, Cost : 0.692\n",
            "Epoch : 8000, Cost : 0.692\n",
            "Epoch : 9000, Cost : 0.692\n",
            "Epoch : 10000, Cost : 0.692\n"
          ]
        }
      ]
    },
    {
      "cell_type": "markdown",
      "source": [
        "오차가 꽤나 크고 줄지 않는 것으로 보아 하나의 계층으로는 XOR 문제를 해결할 수 없는 거 같다."
      ],
      "metadata": {
        "id": "qZTtgMBj0J8q"
      }
    },
    {
      "cell_type": "code",
      "source": [
        "with torch.no_grad():\n",
        "    model.eval()\n",
        "    inputs = torch.FloatTensor([\n",
        "        [0, 0],\n",
        "        [0, 1],\n",
        "        [1, 0],\n",
        "        [1, 1]\n",
        "    ]).to(device)\n",
        "    outputs = model(inputs)\n",
        "\n",
        "    print(\"---------\")\n",
        "    print(outputs)\n",
        "    print(outputs <= 0.5)"
      ],
      "metadata": {
        "colab": {
          "base_uri": "https://localhost:8080/"
        },
        "id": "D76IjsODyqyP",
        "outputId": "316512a2-80fd-4092-df92-cc9399e50c07"
      },
      "execution_count": 6,
      "outputs": [
        {
          "output_type": "stream",
          "name": "stdout",
          "text": [
            "---------\n",
            "tensor([[0.4677],\n",
            "        [0.5000],\n",
            "        [0.5035],\n",
            "        [0.5358]], device='cuda:0')\n",
            "tensor([[ True],\n",
            "        [ True],\n",
            "        [False],\n",
            "        [False]], device='cuda:0')\n"
          ]
        }
      ]
    },
    {
      "cell_type": "markdown",
      "source": [
        "모델에 값을 입력했을 때도 출력값이 0.5 내외로 출력돼 학습이 정상적으로 진행되지 않는 것을 볼 수 있다."
      ],
      "metadata": {
        "id": "bzgoAT2x0Xel"
      }
    },
    {
      "cell_type": "markdown",
      "source": [
        "### 다층 퍼셉트론(Multi-Layer Perceptron, **MLP**)\n",
        "\n",
        "은닉층이 하나 이상인 퍼셉트론 구조를 말한다.\n",
        "\n",
        "은닉층을 2개 이상 연결하면 심층신경망(Deep Neural Network, DNN) 이라고 부른다."
      ],
      "metadata": {
        "id": "tsgjVqcnwijN"
      }
    },
    {
      "cell_type": "markdown",
      "source": [
        "**학습 방법**\n",
        "\n",
        "1. 입력층부터 출력층까지 순전파(forward propagation) 진행\n",
        "2. 출력값(예측값)과 실젯값으로 오차 계산\n",
        "3. 오차를 퍼셉트론의 역방향으로 보내면서 입력된 노드의 기여도 측정\n",
        "    - 손실 함수를 편미분해 기울기 계산\n",
        "    - 연쇄 법칙(Chain Rule)을 통해 기울기 계산\n",
        "4. 입력층에 도달할 때까지 노드의 기여도 측정\n",
        "5. 모든 가중치에 최적화 알고리즘 수행"
      ],
      "metadata": {
        "id": "0u4DB2ctxLkc"
      }
    },
    {
      "cell_type": "markdown",
      "source": [
        "#### 구조"
      ],
      "metadata": {
        "id": "2Oaw-QWYy4vC"
      }
    },
    {
      "cell_type": "markdown",
      "source": [
        "2개 은닉층 사용"
      ],
      "metadata": {
        "id": "KXyeuo7ZzU-9"
      }
    },
    {
      "cell_type": "code",
      "execution_count": 7,
      "metadata": {
        "id": "VL6r8D-MvZJB"
      },
      "outputs": [],
      "source": [
        "class CustomModel(nn.Module):\n",
        "    def __init__(self):\n",
        "        super().__init__()\n",
        "\n",
        "        self.layer1 = nn.Sequential(\n",
        "            nn.Linear(2, 2),\n",
        "            nn.Sigmoid()\n",
        "        )\n",
        "        self.layer2 = nn.Sequential(\n",
        "            nn.Linear(2, 1),\n",
        "            nn.Sigmoid()\n",
        "        )\n",
        "\n",
        "    def forward(self, x):\n",
        "        x = self.layer1(x)\n",
        "        x = self.layer2(x)\n",
        "        return x"
      ]
    },
    {
      "cell_type": "code",
      "source": [
        "device = \"cuda\" if torch.cuda.is_available() else \"cpu\"\n",
        "model = CustomModel().to(device)\n",
        "criterion = nn.BCELoss().to(device)\n",
        "optimizer = optim.SGD(model.parameters(), lr=0.01)"
      ],
      "metadata": {
        "id": "_HoHT1Jbz3HQ"
      },
      "execution_count": 8,
      "outputs": []
    },
    {
      "cell_type": "code",
      "source": [
        "for epoch in range(10000):\n",
        "    cost = 0.0\n",
        "\n",
        "    for x, y in train_dataloader:\n",
        "        x = x.to(device)\n",
        "        y = y.to(device)\n",
        "\n",
        "        output = model(x)\n",
        "        loss = criterion(output, y)\n",
        "\n",
        "        optimizer.zero_grad()\n",
        "        loss.backward()\n",
        "        optimizer.step()\n",
        "\n",
        "        cost += loss\n",
        "\n",
        "    cost = cost / len(train_dataloader)\n",
        "\n",
        "    if (epoch + 1) % 1000 == 0:\n",
        "        print(f\"Epoch : {epoch+1:4d}, Cost : {cost:.3f}\")"
      ],
      "metadata": {
        "colab": {
          "base_uri": "https://localhost:8080/"
        },
        "id": "MyE3Ad6zz3E-",
        "outputId": "5a9c0e87-3b34-4562-9d63-dcd22bbb000e"
      },
      "execution_count": 9,
      "outputs": [
        {
          "output_type": "stream",
          "name": "stderr",
          "text": [
            "<ipython-input-2-b746038c3bc6>:10: DeprecationWarning: In future, it will be an error for 'np.bool_' scalars to be interpreted as an index\n",
            "  x = torch.FloatTensor([self.x1[index], self.x2[index]])\n",
            "<ipython-input-2-b746038c3bc6>:11: DeprecationWarning: In future, it will be an error for 'np.bool_' scalars to be interpreted as an index\n",
            "  y = torch.FloatTensor([self.y[index]])\n"
          ]
        },
        {
          "output_type": "stream",
          "name": "stdout",
          "text": [
            "Epoch : 1000, Cost : 0.693\n",
            "Epoch : 2000, Cost : 0.691\n",
            "Epoch : 3000, Cost : 0.611\n",
            "Epoch : 4000, Cost : 0.473\n",
            "Epoch : 5000, Cost : 0.172\n",
            "Epoch : 6000, Cost : 0.056\n",
            "Epoch : 7000, Cost : 0.032\n",
            "Epoch : 8000, Cost : 0.022\n",
            "Epoch : 9000, Cost : 0.016\n",
            "Epoch : 10000, Cost : 0.013\n"
          ]
        }
      ]
    },
    {
      "cell_type": "code",
      "source": [
        "with torch.no_grad():\n",
        "    model.eval()\n",
        "    inputs = torch.FloatTensor([\n",
        "        [0, 0],\n",
        "        [0, 1],\n",
        "        [1, 0],\n",
        "        [1, 1]\n",
        "    ]).to(device)\n",
        "    outputs = model(inputs)\n",
        "\n",
        "    print(\"---------\")\n",
        "    print(outputs)\n",
        "    print(outputs <= 0.5)"
      ],
      "metadata": {
        "colab": {
          "base_uri": "https://localhost:8080/"
        },
        "id": "M8BjQTFwz1Av",
        "outputId": "e903833f-aad6-4ae2-93d7-a31a5f5ae1b1"
      },
      "execution_count": 10,
      "outputs": [
        {
          "output_type": "stream",
          "name": "stdout",
          "text": [
            "---------\n",
            "tensor([[0.0098],\n",
            "        [0.9858],\n",
            "        [0.9858],\n",
            "        [0.0142]], device='cuda:0')\n",
            "tensor([[ True],\n",
            "        [False],\n",
            "        [False],\n",
            "        [ True]], device='cuda:0')\n"
          ]
        }
      ]
    },
    {
      "cell_type": "markdown",
      "source": [
        "보면 XOR 문제를 단층으론 손실이 매우 크지만 다층 퍼셉트론으론 매우 낮은 손실을 얻어내는 것을 볼 수 있다.\n",
        "\n",
        "실제 결과와 예측값도 동일한 것을 볼 수 있다."
      ],
      "metadata": {
        "id": "jAGAg7WdztCj"
      }
    },
    {
      "cell_type": "markdown",
      "source": [
        "퍼셉트론은 많은 머신러닝 애플리케이션에서 사용된다. 특히 이진 분류 작업에서 여전히 사용되는 간단하고 효율적인 모델이다.\n",
        "\n",
        "**하지만 데이터의 복잡한 패턴을 학습할 수 없으며, 선형으로 분리되지 않는 데이터를 분류할 수 없는 등 몇 가지 제한 사항이 있다.**\n",
        "\n",
        "이러한 제한으로 보다 복잡한 작업에 더 적합한 고급 신경망 모델이 개발됐다."
      ],
      "metadata": {
        "id": "BTjXFpvg0k2G"
      }
    }
  ]
}