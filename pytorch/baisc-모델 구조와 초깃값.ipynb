{
  "nbformat": 4,
  "nbformat_minor": 0,
  "metadata": {
    "colab": {
      "provenance": [],
      "authorship_tag": "ABX9TyMlNfuGWFKLof4Rmv4kjZxJ",
      "include_colab_link": true
    },
    "kernelspec": {
      "name": "python3",
      "display_name": "Python 3"
    },
    "language_info": {
      "name": "python"
    }
  },
  "cells": [
    {
      "cell_type": "markdown",
      "metadata": {
        "id": "view-in-github",
        "colab_type": "text"
      },
      "source": [
        "<a href=\"https://colab.research.google.com/github/chanhyeong00/machine_learning_study/blob/main/pytorch/baisc-%EB%AA%A8%EB%8D%B8%20%EA%B5%AC%EC%A1%B0%EC%99%80%20%EC%B4%88%EA%B9%83%EA%B0%92.ipynb\" target=\"_parent\"><img src=\"https://colab.research.google.com/assets/colab-badge.svg\" alt=\"Open In Colab\"/></a>"
      ]
    },
    {
      "cell_type": "code",
      "execution_count": null,
      "metadata": {
        "id": "k58-iZaQ3rPe"
      },
      "outputs": [],
      "source": [
        "import torch\n",
        "from torch import nn\n",
        "from torch import optim\n",
        "\n",
        "\n",
        "class CustomModel(nn.Module):\n",
        "    def __init__(self):\n",
        "        super().__init__()\n",
        "\n",
        "        self.layer1 = nn.Sequential(\n",
        "            nn.Linear(2, 2),\n",
        "            nn.Sigmoid()\n",
        "        )\n",
        "        self.layer2 = nn.Sequential(\n",
        "            nn.Linear(2, 1),\n",
        "            nn.Sigmoid()\n",
        "        )\n",
        "\n",
        "        self.layer1[0].weight.data = torch.nn.Parameter(\n",
        "            torch.Tensor([[0.4352, 0.3545],\n",
        "                         [0.1951, 0.4835]])\n",
        "        )\n",
        "\n",
        "        self.layer1[0].bias.data = torch.nn.Parameter(\n",
        "            torch.Tensor([-0.1419,  0.0439])\n",
        "        )\n",
        "\n",
        "        self.layer2[0].weight.data = torch.nn.Parameter(\n",
        "            torch.Tensor([[-0.1725,  0.1129]])\n",
        "        )\n",
        "\n",
        "        self.layer2[0].bias.data = torch.nn.Parameter(\n",
        "            torch.Tensor([-0.3043])\n",
        "        )\n",
        "\n",
        "device = \"cuda\" if torch.cuda.is_available() else \"cpu\"\n",
        "model = CustomModel().to(device)\n",
        "criterion = nn.BCELoss().to(device)\n",
        "optimizer = optim.SGD(model.parameters(), lr=1)"
      ]
    },
    {
      "cell_type": "markdown",
      "source": [
        "순전파(forward propagation)과 역전파(back propagation)를 계산하는 모델은 두 개의 계층으로 이뤄져 있으며,\n",
        "\n",
        "가중치와 편향은 임의의 값으로 초기화 했다."
      ],
      "metadata": {
        "id": "cBuXu55X4qFI"
      }
    },
    {
      "cell_type": "markdown",
      "source": [
        "**순전파, 역전파 계산식은 p 144-150"
      ],
      "metadata": {
        "id": "vfHrOZ2j45DX"
      }
    }
  ]
}