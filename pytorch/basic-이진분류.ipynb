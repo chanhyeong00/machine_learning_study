{
  "nbformat": 4,
  "nbformat_minor": 0,
  "metadata": {
    "colab": {
      "provenance": [],
      "gpuType": "T4",
      "authorship_tag": "ABX9TyMwCuNwqIp2q4r6DUaSGz0w",
      "include_colab_link": true
    },
    "kernelspec": {
      "name": "python3",
      "display_name": "Python 3"
    },
    "language_info": {
      "name": "python"
    },
    "accelerator": "GPU"
  },
  "cells": [
    {
      "cell_type": "markdown",
      "metadata": {
        "id": "view-in-github",
        "colab_type": "text"
      },
      "source": [
        "<a href=\"https://colab.research.google.com/github/chanhyeong00/machine_learning_study/blob/main/pytorch/basic-%EC%9D%B4%EC%A7%84%EB%B6%84%EB%A5%98.ipynb\" target=\"_parent\"><img src=\"https://colab.research.google.com/assets/colab-badge.svg\" alt=\"Open In Colab\"/></a>"
      ]
    },
    {
      "cell_type": "markdown",
      "source": [
        "### 이진 분류"
      ],
      "metadata": {
        "id": "II9pxE3yzzTP"
      }
    },
    {
      "cell_type": "markdown",
      "source": [
        "binary.csv 데이터셋에서\n",
        "\n",
        "x, y, z 의 pass 관계는 x,y,z 모두 40 이상이며 평균이 60 이상일 때 True 반환"
      ],
      "metadata": {
        "id": "ND--IKdnuZL_"
      }
    },
    {
      "cell_type": "code",
      "source": [
        "import torch\n",
        "import pandas as pd\n",
        "from torch import nn\n",
        "from torch import optim\n",
        "from torch.utils.data import Dataset, DataLoader, random_split"
      ],
      "metadata": {
        "id": "z-Mz38EwtvUn"
      },
      "execution_count": 1,
      "outputs": []
    },
    {
      "cell_type": "code",
      "execution_count": 2,
      "metadata": {
        "id": "d_92fp2utHX1"
      },
      "outputs": [],
      "source": [
        "class CustomDataset(Dataset):\n",
        "  def __init__(self, file_path):\n",
        "    df = pd.read_csv(file_path)\n",
        "    self.x1 = df.iloc[:, 0].values\n",
        "    self.x2 = df.iloc[:, 1].values\n",
        "    self.x3 = df.iloc[:, 2].values\n",
        "    self.y = df.iloc[:, 3].values\n",
        "    self.length = len(df)\n",
        "\n",
        "  def __getitem__(self, index):\n",
        "    x = torch.FloatTensor([self.x1[index], self.x2[index], self.x3[index]])\n",
        "    y = torch.FloatTensor([self.y[index]])\n",
        "    return x, y\n",
        "\n",
        "  def __len__(self):\n",
        "    return self.length"
      ]
    },
    {
      "cell_type": "code",
      "source": [
        "class CustomModel(nn.Module):\n",
        "  def __init__(self):\n",
        "    super().__init__()\n",
        "    self.layer = nn.Sequential(\n",
        "        nn.Linear(3, 1),\n",
        "        nn.Sigmoid()\n",
        "    )\n",
        "\n",
        "  def forward(self, x):\n",
        "    x = self.layer(x)\n",
        "    return x"
      ],
      "metadata": {
        "id": "THcBMwkHu2QX"
      },
      "execution_count": 3,
      "outputs": []
    },
    {
      "cell_type": "markdown",
      "source": [
        "데이터셋 불러오기"
      ],
      "metadata": {
        "id": "K_n6c9NOze4Y"
      }
    },
    {
      "cell_type": "code",
      "source": [
        "dataset = CustomDataset('binary.csv')\n",
        "dataset_size = len(dataset)\n",
        "train_size = int(dataset_size * 0.8)\n",
        "validation_size = int(dataset_size*0.1)\n",
        "test_size = dataset_size - train_size - validation_size"
      ],
      "metadata": {
        "id": "2GymRpdCvyKV"
      },
      "execution_count": 4,
      "outputs": []
    },
    {
      "cell_type": "markdown",
      "source": [
        "데이터셋 분리 및 데이터로더"
      ],
      "metadata": {
        "id": "nljkcdr2zglw"
      }
    },
    {
      "cell_type": "code",
      "source": [
        "train_dataset, validation_dataset, test_dataset = random_split(\n",
        "    dataset, [train_size, validation_size, test_size], torch.manual_seed(4))\n",
        "# 데이터로더\n",
        "train_dataloader = DataLoader(\n",
        "    train_dataset, batch_size=64, shuffle=True, drop_last=True\n",
        ")\n",
        "validation_dataloader = DataLoader(\n",
        "    validation_dataset, batch_size=4, shuffle=True, drop_last=True\n",
        ")\n",
        "test_dataloader = DataLoader(\n",
        "    test_dataset, batch_size=4, shuffle=True, drop_last=True\n",
        ")"
      ],
      "metadata": {
        "id": "BVp19ATSwG0D"
      },
      "execution_count": 5,
      "outputs": []
    },
    {
      "cell_type": "markdown",
      "source": [
        "장치에 올리기"
      ],
      "metadata": {
        "id": "jAo8flRFxDfA"
      }
    },
    {
      "cell_type": "code",
      "source": [
        "device = 'cuda' if torch.cuda.is_available() else 'cpu'\n",
        "model = CustomModel().to(device)\n",
        "criterion = nn.BCELoss().to(device) # 이진 교차 엔트로피(binary crossentropy)\n",
        "optimizer = optim.SGD(model.parameters(), lr=0.0001)"
      ],
      "metadata": {
        "id": "k7jYAX7DxC-i"
      },
      "execution_count": 6,
      "outputs": []
    },
    {
      "cell_type": "markdown",
      "source": [
        "훈련"
      ],
      "metadata": {
        "id": "BcQ_MHnwxZFO"
      }
    },
    {
      "cell_type": "code",
      "source": [
        "for epoch in range(10000):\n",
        "  cost = 0.0\n",
        "\n",
        "  for x, y in train_dataloader:\n",
        "    x = x.to(device)\n",
        "    y = y.to(device)\n",
        "\n",
        "    output = model(x)\n",
        "    loss = criterion(output, y)\n",
        "\n",
        "    optimizer.zero_grad() # 기울기 초기화\n",
        "    loss.backward() # 역전파 수행(기울기 계산)\n",
        "    optimizer.step() # 옵티마이저에 가중치 반영\n",
        "\n",
        "    cost += loss\n",
        "\n",
        "  cost = cost / len(train_dataloader)\n",
        "\n",
        "  if (epoch + 1) % 1000 == 0:\n",
        "    print(f\"Epoch : {epoch+1:4d}, Model : {list(model.parameters())}, Cost : {cost:.3f}\")"
      ],
      "metadata": {
        "colab": {
          "base_uri": "https://localhost:8080/"
        },
        "id": "XywowhnoxYWS",
        "outputId": "39296d1f-c4bc-4a34-f0d8-a51367b91f8e"
      },
      "execution_count": 7,
      "outputs": [
        {
          "output_type": "stream",
          "name": "stderr",
          "text": [
            "<ipython-input-2-072d5e227e06>:12: DeprecationWarning: In future, it will be an error for 'np.bool_' scalars to be interpreted as an index\n",
            "  y = torch.FloatTensor([self.y[index]])\n"
          ]
        },
        {
          "output_type": "stream",
          "name": "stdout",
          "text": [
            "Epoch : 1000, Model : [Parameter containing:\n",
            "tensor([[ 0.0028, -0.0006,  0.0036]], device='cuda:0', requires_grad=True), Parameter containing:\n",
            "tensor([0.0949], device='cuda:0', requires_grad=True)], Cost : 0.680\n",
            "Epoch : 2000, Model : [Parameter containing:\n",
            "tensor([[0.0034, 0.0005, 0.0041]], device='cuda:0', requires_grad=True), Parameter containing:\n",
            "tensor([-0.0346], device='cuda:0', requires_grad=True)], Cost : 0.666\n",
            "Epoch : 3000, Model : [Parameter containing:\n",
            "tensor([[0.0045, 0.0017, 0.0051]], device='cuda:0', requires_grad=True), Parameter containing:\n",
            "tensor([-0.1609], device='cuda:0', requires_grad=True)], Cost : 0.652\n",
            "Epoch : 4000, Model : [Parameter containing:\n",
            "tensor([[0.0052, 0.0017, 0.0053]], device='cuda:0', requires_grad=True), Parameter containing:\n",
            "tensor([-0.2843], device='cuda:0', requires_grad=True)], Cost : 0.636\n",
            "Epoch : 5000, Model : [Parameter containing:\n",
            "tensor([[0.0059, 0.0036, 0.0064]], device='cuda:0', requires_grad=True), Parameter containing:\n",
            "tensor([-0.4046], device='cuda:0', requires_grad=True)], Cost : 0.627\n",
            "Epoch : 6000, Model : [Parameter containing:\n",
            "tensor([[0.0065, 0.0034, 0.0068]], device='cuda:0', requires_grad=True), Parameter containing:\n",
            "tensor([-0.5220], device='cuda:0', requires_grad=True)], Cost : 0.613\n",
            "Epoch : 7000, Model : [Parameter containing:\n",
            "tensor([[0.0064, 0.0036, 0.0069]], device='cuda:0', requires_grad=True), Parameter containing:\n",
            "tensor([-0.6366], device='cuda:0', requires_grad=True)], Cost : 0.604\n",
            "Epoch : 8000, Model : [Parameter containing:\n",
            "tensor([[0.0073, 0.0050, 0.0079]], device='cuda:0', requires_grad=True), Parameter containing:\n",
            "tensor([-0.7485], device='cuda:0', requires_grad=True)], Cost : 0.591\n",
            "Epoch : 9000, Model : [Parameter containing:\n",
            "tensor([[0.0074, 0.0058, 0.0082]], device='cuda:0', requires_grad=True), Parameter containing:\n",
            "tensor([-0.8577], device='cuda:0', requires_grad=True)], Cost : 0.585\n",
            "Epoch : 10000, Model : [Parameter containing:\n",
            "tensor([[0.0089, 0.0070, 0.0096]], device='cuda:0', requires_grad=True), Parameter containing:\n",
            "tensor([-0.9644], device='cuda:0', requires_grad=True)], Cost : 0.576\n"
          ]
        }
      ]
    },
    {
      "cell_type": "code",
      "source": [
        "with torch.no_grad():\n",
        "  model.eval() # 평가모드\n",
        "  for x, y in validation_dataloader:\n",
        "    x = x.to(device)\n",
        "    y = y.to(device)\n",
        "\n",
        "    outputs = model(x)\n",
        "\n",
        "    print(outputs)\n",
        "    print(outputs >= torch.FloatTensor([0.5]).to(device)) # 0.5 이상은 True\n",
        "    print('--------------------')"
      ],
      "metadata": {
        "colab": {
          "base_uri": "https://localhost:8080/"
        },
        "id": "Oe5Lkjy1yQSO",
        "outputId": "394043c9-c268-4e7a-c030-9aa8a0c3ae6c"
      },
      "execution_count": 8,
      "outputs": [
        {
          "output_type": "stream",
          "name": "stdout",
          "text": [
            "tensor([[0.6707],\n",
            "        [0.7298],\n",
            "        [0.7368],\n",
            "        [0.7800]], device='cuda:0')\n",
            "tensor([[True],\n",
            "        [True],\n",
            "        [True],\n",
            "        [True]], device='cuda:0')\n",
            "--------------------\n",
            "tensor([[0.5723],\n",
            "        [0.6746],\n",
            "        [0.4676],\n",
            "        [0.3640]], device='cuda:0')\n",
            "tensor([[ True],\n",
            "        [ True],\n",
            "        [False],\n",
            "        [False]], device='cuda:0')\n",
            "--------------------\n",
            "tensor([[0.5711],\n",
            "        [0.6363],\n",
            "        [0.3985],\n",
            "        [0.6238]], device='cuda:0')\n",
            "tensor([[ True],\n",
            "        [ True],\n",
            "        [False],\n",
            "        [ True]], device='cuda:0')\n",
            "--------------------\n",
            "tensor([[0.6304],\n",
            "        [0.7174],\n",
            "        [0.5751],\n",
            "        [0.6137]], device='cuda:0')\n",
            "tensor([[True],\n",
            "        [True],\n",
            "        [True],\n",
            "        [True]], device='cuda:0')\n",
            "--------------------\n",
            "tensor([[0.7460],\n",
            "        [0.6951],\n",
            "        [0.7555],\n",
            "        [0.6498]], device='cuda:0')\n",
            "tensor([[True],\n",
            "        [True],\n",
            "        [True],\n",
            "        [True]], device='cuda:0')\n",
            "--------------------\n",
            "tensor([[0.8068],\n",
            "        [0.7557],\n",
            "        [0.6456],\n",
            "        [0.7380]], device='cuda:0')\n",
            "tensor([[True],\n",
            "        [True],\n",
            "        [True],\n",
            "        [True]], device='cuda:0')\n",
            "--------------------\n",
            "tensor([[0.4245],\n",
            "        [0.7069],\n",
            "        [0.5908],\n",
            "        [0.7803]], device='cuda:0')\n",
            "tensor([[False],\n",
            "        [ True],\n",
            "        [ True],\n",
            "        [ True]], device='cuda:0')\n",
            "--------------------\n",
            "tensor([[0.7010],\n",
            "        [0.7245],\n",
            "        [0.6922],\n",
            "        [0.3698]], device='cuda:0')\n",
            "tensor([[ True],\n",
            "        [ True],\n",
            "        [ True],\n",
            "        [False]], device='cuda:0')\n",
            "--------------------\n",
            "tensor([[0.5778],\n",
            "        [0.6604],\n",
            "        [0.5856],\n",
            "        [0.7111]], device='cuda:0')\n",
            "tensor([[True],\n",
            "        [True],\n",
            "        [True],\n",
            "        [True]], device='cuda:0')\n",
            "--------------------\n",
            "tensor([[0.4945],\n",
            "        [0.7144],\n",
            "        [0.6279],\n",
            "        [0.6441]], device='cuda:0')\n",
            "tensor([[False],\n",
            "        [ True],\n",
            "        [ True],\n",
            "        [ True]], device='cuda:0')\n",
            "--------------------\n",
            "tensor([[0.7215],\n",
            "        [0.6991],\n",
            "        [0.7697],\n",
            "        [0.5773]], device='cuda:0')\n",
            "tensor([[True],\n",
            "        [True],\n",
            "        [True],\n",
            "        [True]], device='cuda:0')\n",
            "--------------------\n",
            "tensor([[0.6765],\n",
            "        [0.4486],\n",
            "        [0.7386],\n",
            "        [0.7285]], device='cuda:0')\n",
            "tensor([[ True],\n",
            "        [False],\n",
            "        [ True],\n",
            "        [ True]], device='cuda:0')\n",
            "--------------------\n",
            "tensor([[0.6775],\n",
            "        [0.5103],\n",
            "        [0.5580],\n",
            "        [0.6634]], device='cuda:0')\n",
            "tensor([[True],\n",
            "        [True],\n",
            "        [True],\n",
            "        [True]], device='cuda:0')\n",
            "--------------------\n",
            "tensor([[0.5301],\n",
            "        [0.5563],\n",
            "        [0.3649],\n",
            "        [0.4759]], device='cuda:0')\n",
            "tensor([[ True],\n",
            "        [ True],\n",
            "        [False],\n",
            "        [False]], device='cuda:0')\n",
            "--------------------\n",
            "tensor([[0.7732],\n",
            "        [0.7340],\n",
            "        [0.7242],\n",
            "        [0.6318]], device='cuda:0')\n",
            "tensor([[True],\n",
            "        [True],\n",
            "        [True],\n",
            "        [True]], device='cuda:0')\n",
            "--------------------\n",
            "tensor([[0.6975],\n",
            "        [0.3844],\n",
            "        [0.5528],\n",
            "        [0.4122]], device='cuda:0')\n",
            "tensor([[ True],\n",
            "        [False],\n",
            "        [ True],\n",
            "        [False]], device='cuda:0')\n",
            "--------------------\n",
            "tensor([[0.4621],\n",
            "        [0.7796],\n",
            "        [0.5776],\n",
            "        [0.6426]], device='cuda:0')\n",
            "tensor([[False],\n",
            "        [ True],\n",
            "        [ True],\n",
            "        [ True]], device='cuda:0')\n",
            "--------------------\n",
            "tensor([[0.6681],\n",
            "        [0.4632],\n",
            "        [0.4959],\n",
            "        [0.4399]], device='cuda:0')\n",
            "tensor([[ True],\n",
            "        [False],\n",
            "        [False],\n",
            "        [False]], device='cuda:0')\n",
            "--------------------\n",
            "tensor([[0.7320],\n",
            "        [0.5588],\n",
            "        [0.6654],\n",
            "        [0.4713]], device='cuda:0')\n",
            "tensor([[ True],\n",
            "        [ True],\n",
            "        [ True],\n",
            "        [False]], device='cuda:0')\n",
            "--------------------\n",
            "tensor([[0.5140],\n",
            "        [0.7236],\n",
            "        [0.5794],\n",
            "        [0.5472]], device='cuda:0')\n",
            "tensor([[True],\n",
            "        [True],\n",
            "        [True],\n",
            "        [True]], device='cuda:0')\n",
            "--------------------\n",
            "tensor([[0.6813],\n",
            "        [0.5783],\n",
            "        [0.6476],\n",
            "        [0.3883]], device='cuda:0')\n",
            "tensor([[ True],\n",
            "        [ True],\n",
            "        [ True],\n",
            "        [False]], device='cuda:0')\n",
            "--------------------\n",
            "tensor([[0.3664],\n",
            "        [0.7196],\n",
            "        [0.7116],\n",
            "        [0.6520]], device='cuda:0')\n",
            "tensor([[False],\n",
            "        [ True],\n",
            "        [ True],\n",
            "        [ True]], device='cuda:0')\n",
            "--------------------\n",
            "tensor([[0.6375],\n",
            "        [0.5122],\n",
            "        [0.6827],\n",
            "        [0.6221]], device='cuda:0')\n",
            "tensor([[True],\n",
            "        [True],\n",
            "        [True],\n",
            "        [True]], device='cuda:0')\n",
            "--------------------\n",
            "tensor([[0.7563],\n",
            "        [0.6743],\n",
            "        [0.3967],\n",
            "        [0.7840]], device='cuda:0')\n",
            "tensor([[ True],\n",
            "        [ True],\n",
            "        [False],\n",
            "        [ True]], device='cuda:0')\n",
            "--------------------\n",
            "tensor([[0.5797],\n",
            "        [0.7276],\n",
            "        [0.6039],\n",
            "        [0.5545]], device='cuda:0')\n",
            "tensor([[True],\n",
            "        [True],\n",
            "        [True],\n",
            "        [True]], device='cuda:0')\n",
            "--------------------\n"
          ]
        },
        {
          "output_type": "stream",
          "name": "stderr",
          "text": [
            "<ipython-input-2-072d5e227e06>:12: DeprecationWarning: In future, it will be an error for 'np.bool_' scalars to be interpreted as an index\n",
            "  y = torch.FloatTensor([self.y[index]])\n"
          ]
        }
      ]
    },
    {
      "cell_type": "code",
      "source": [],
      "metadata": {
        "id": "OZRMrZipzldb"
      },
      "execution_count": null,
      "outputs": []
    }
  ]
}